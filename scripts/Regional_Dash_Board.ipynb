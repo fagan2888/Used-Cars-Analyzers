{
 "cells": [
  {
   "cell_type": "code",
   "execution_count": 158,
   "metadata": {},
   "outputs": [],
   "source": [
    "data = pd.read_pickle(\"listings.pkl\")\n",
    "list(data.columns.values)\n",
    "data['region_name']\n",
    "#data['region_id'].sort_values(ascending=True)\n",
    "region_data = data[['region_name','price_fs']].groupby(['region_name'],as_index=False).agg({'price_fs':['mean']})\n",
    "year_data = data[['year_is','price_fs']].groupby(['year_is'],as_index=False).agg({'price_fs':['mean','count']})\n"
   ]
  },
  {
   "cell_type": "code",
   "execution_count": 159,
   "metadata": {
    "scrolled": true
   },
   "outputs": [
    {
     "data": {
      "text/html": [
       "<div>\n",
       "<style scoped>\n",
       "    .dataframe tbody tr th:only-of-type {\n",
       "        vertical-align: middle;\n",
       "    }\n",
       "\n",
       "    .dataframe tbody tr th {\n",
       "        vertical-align: top;\n",
       "    }\n",
       "\n",
       "    .dataframe thead tr th {\n",
       "        text-align: left;\n",
       "    }\n",
       "</style>\n",
       "<table border=\"1\" class=\"dataframe\">\n",
       "  <thead>\n",
       "    <tr>\n",
       "      <th></th>\n",
       "      <th>region_name</th>\n",
       "      <th>price_fs</th>\n",
       "    </tr>\n",
       "    <tr>\n",
       "      <th></th>\n",
       "      <th></th>\n",
       "      <th>mean</th>\n",
       "    </tr>\n",
       "  </thead>\n",
       "  <tbody>\n",
       "    <tr>\n",
       "      <th>0</th>\n",
       "      <td>Far West Region</td>\n",
       "      <td>17430.435611</td>\n",
       "    </tr>\n",
       "    <tr>\n",
       "      <th>1</th>\n",
       "      <td>Great Lakes Region</td>\n",
       "      <td>16901.520779</td>\n",
       "    </tr>\n",
       "    <tr>\n",
       "      <th>2</th>\n",
       "      <td>Mideast Region</td>\n",
       "      <td>17274.605753</td>\n",
       "    </tr>\n",
       "    <tr>\n",
       "      <th>3</th>\n",
       "      <td>Plains Region</td>\n",
       "      <td>17434.872016</td>\n",
       "    </tr>\n",
       "    <tr>\n",
       "      <th>4</th>\n",
       "      <td>Rocky Mountain Region</td>\n",
       "      <td>16945.440846</td>\n",
       "    </tr>\n",
       "    <tr>\n",
       "      <th>5</th>\n",
       "      <td>Southeast Region</td>\n",
       "      <td>16981.796688</td>\n",
       "    </tr>\n",
       "    <tr>\n",
       "      <th>6</th>\n",
       "      <td>Southwest Region</td>\n",
       "      <td>16838.266901</td>\n",
       "    </tr>\n",
       "  </tbody>\n",
       "</table>\n",
       "</div>"
      ],
      "text/plain": [
       "             region_name      price_fs\n",
       "                                  mean\n",
       "0        Far West Region  17430.435611\n",
       "1     Great Lakes Region  16901.520779\n",
       "2         Mideast Region  17274.605753\n",
       "3          Plains Region  17434.872016\n",
       "4  Rocky Mountain Region  16945.440846\n",
       "5       Southeast Region  16981.796688\n",
       "6       Southwest Region  16838.266901"
      ]
     },
     "execution_count": 159,
     "metadata": {},
     "output_type": "execute_result"
    }
   ],
   "source": [
    "#list(data.columns.values)\n",
    "#data['region_name']\n",
    "region_data"
   ]
  },
  {
   "cell_type": "code",
   "execution_count": 160,
   "metadata": {},
   "outputs": [
    {
     "data": {
      "text/html": [
       "<div>\n",
       "<style scoped>\n",
       "    .dataframe tbody tr th:only-of-type {\n",
       "        vertical-align: middle;\n",
       "    }\n",
       "\n",
       "    .dataframe tbody tr th {\n",
       "        vertical-align: top;\n",
       "    }\n",
       "\n",
       "    .dataframe thead tr th {\n",
       "        text-align: left;\n",
       "    }\n",
       "</style>\n",
       "<table border=\"1\" class=\"dataframe\">\n",
       "  <thead>\n",
       "    <tr>\n",
       "      <th></th>\n",
       "      <th>region_name</th>\n",
       "      <th>price_fs</th>\n",
       "    </tr>\n",
       "    <tr>\n",
       "      <th></th>\n",
       "      <th></th>\n",
       "      <th>mean</th>\n",
       "    </tr>\n",
       "  </thead>\n",
       "  <tbody>\n",
       "    <tr>\n",
       "      <th>0</th>\n",
       "      <td>Far West Region</td>\n",
       "      <td>17430.435611</td>\n",
       "    </tr>\n",
       "    <tr>\n",
       "      <th>1</th>\n",
       "      <td>Great Lakes Region</td>\n",
       "      <td>16901.520779</td>\n",
       "    </tr>\n",
       "    <tr>\n",
       "      <th>2</th>\n",
       "      <td>Mideast Region</td>\n",
       "      <td>17274.605753</td>\n",
       "    </tr>\n",
       "    <tr>\n",
       "      <th>3</th>\n",
       "      <td>Plains Region</td>\n",
       "      <td>17434.872016</td>\n",
       "    </tr>\n",
       "    <tr>\n",
       "      <th>4</th>\n",
       "      <td>Rocky Mountain Region</td>\n",
       "      <td>16945.440846</td>\n",
       "    </tr>\n",
       "    <tr>\n",
       "      <th>5</th>\n",
       "      <td>Southeast Region</td>\n",
       "      <td>16981.796688</td>\n",
       "    </tr>\n",
       "    <tr>\n",
       "      <th>6</th>\n",
       "      <td>Southwest Region</td>\n",
       "      <td>16838.266901</td>\n",
       "    </tr>\n",
       "  </tbody>\n",
       "</table>\n",
       "</div>"
      ],
      "text/plain": [
       "             region_name      price_fs\n",
       "                                  mean\n",
       "0        Far West Region  17430.435611\n",
       "1     Great Lakes Region  16901.520779\n",
       "2         Mideast Region  17274.605753\n",
       "3          Plains Region  17434.872016\n",
       "4  Rocky Mountain Region  16945.440846\n",
       "5       Southeast Region  16981.796688\n",
       "6       Southwest Region  16838.266901"
      ]
     },
     "execution_count": 160,
     "metadata": {},
     "output_type": "execute_result"
    }
   ],
   "source": [
    "#df.rename(index=str, columns={\"A\": \"a\", \"B\": \"c\"})\n",
    "region_data.rename(columns={\"price\": \"price_fs\"})"
   ]
  },
  {
   "cell_type": "code",
   "execution_count": 161,
   "metadata": {},
   "outputs": [
    {
     "data": {
      "text/plain": [
       "0          Far West Region\n",
       "1       Great Lakes Region\n",
       "2           Mideast Region\n",
       "3            Plains Region\n",
       "4    Rocky Mountain Region\n",
       "5         Southeast Region\n",
       "6         Southwest Region\n",
       "Name: region_name, dtype: object"
      ]
     },
     "execution_count": 161,
     "metadata": {},
     "output_type": "execute_result"
    }
   ],
   "source": [
    "region_data['region_name']"
   ]
  },
  {
   "cell_type": "code",
   "execution_count": 162,
   "metadata": {},
   "outputs": [],
   "source": [
    "import plotly.offline as pyo\n",
    "import plotly.graph_objs as go\n",
    "import pandas as pd"
   ]
  },
  {
   "cell_type": "code",
   "execution_count": 163,
   "metadata": {},
   "outputs": [],
   "source": [
    "#region_data.to_csv(\"region_data.pkl\")\n",
    "#listings = pd.read_pickle(\"listings.pkl\")\n",
    "region_data.to_csv(\"region_data.csv\")"
   ]
  },
  {
   "cell_type": "code",
   "execution_count": 164,
   "metadata": {},
   "outputs": [],
   "source": [
    "#df = pd.read_pickle('region_data.pkl')"
   ]
  },
  {
   "cell_type": "code",
   "execution_count": 165,
   "metadata": {},
   "outputs": [],
   "source": [
    "df = pd.read_csv('region_data.csv')"
   ]
  },
  {
   "cell_type": "code",
   "execution_count": 166,
   "metadata": {},
   "outputs": [],
   "source": [
    "trace = go.Bar(\n",
    "    x=df['region_name'],  # Region name reprents the seven regions in the United States\n",
    "    #y = df[[col for col in df.columns if col.main()]],\n",
    "    y=df['price_fs'],\n",
    "    name = 'price_per_region',\n",
    "    marker=dict(color='rgb(51,204,53)') # set the marker color to bronze\n",
    "    #marker=dict(color='#CD7F32') # set the marker color to bronze\n",
    ")"
   ]
  },
  {
   "cell_type": "code",
   "execution_count": 167,
   "metadata": {},
   "outputs": [
    {
     "data": {
      "text/plain": [
       "'file://C:\\\\Data_Science\\\\Project_team\\\\Third_Analysis\\\\regions.html'"
      ]
     },
     "execution_count": 167,
     "metadata": {},
     "output_type": "execute_result"
    }
   ],
   "source": [
    "data = [trace]\n",
    "layout = go.Layout(\n",
    "    title='Used cars price per region in United States',\n",
    "    barmode='stack'\n",
    ")\n",
    "fig = go.Figure(data=data, layout=layout)\n",
    "pyo.plot(fig, filename='regions.html')"
   ]
  },
  {
   "cell_type": "code",
   "execution_count": null,
   "metadata": {},
   "outputs": [],
   "source": []
  }
 ],
 "metadata": {
  "kernelspec": {
   "display_name": "Python 3",
   "language": "python",
   "name": "python3"
  },
  "language_info": {
   "codemirror_mode": {
    "name": "ipython",
    "version": 3
   },
   "file_extension": ".py",
   "mimetype": "text/x-python",
   "name": "python",
   "nbconvert_exporter": "python",
   "pygments_lexer": "ipython3",
   "version": "3.6.5"
  }
 },
 "nbformat": 4,
 "nbformat_minor": 2
}
