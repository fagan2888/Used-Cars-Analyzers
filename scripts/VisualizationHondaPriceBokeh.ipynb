{
 "cells": [
  {
   "cell_type": "code",
   "execution_count": 162,
   "metadata": {},
   "outputs": [],
   "source": [
    "import numpy as np\n",
    "import pandas as pd\n",
    "\n",
    "from bokeh.layouts import layout\n",
    "from bokeh.layouts import widgetbox\n",
    "\n",
    "from bokeh.embed import file_html\n",
    "\n",
    "from bokeh.io import show\n",
    "from bokeh.io import output_notebook \n",
    "\n",
    "from bokeh.models import Text\n",
    "from bokeh.models import Plot\n",
    "from bokeh.models import Slider\n",
    "from bokeh.models import Circle\n",
    "from bokeh.models import Range1d\n",
    "from bokeh.models import CustomJS\n",
    "from bokeh.models import HoverTool\n",
    "from bokeh.models import LinearAxis\n",
    "from bokeh.models import ColumnDataSource\n",
    "from bokeh.models import SingleIntervalTicker\n",
    "\n",
    "from bokeh.palettes import Spectral7"
   ]
  },
  {
   "cell_type": "markdown",
   "metadata": {},
   "source": [
    "To display Bokeh plots inline in a Jupyter notebook, use the `output_notebook()` function from bokeh.io. When `show()` is called, the plot will be displayed inline in the next notebook output cell. To save your Bokeh plots, you can use the `output_file()` function instead (or in addition)."
   ]
  },
  {
   "cell_type": "code",
   "execution_count": 163,
   "metadata": {},
   "outputs": [
    {
     "data": {
      "text/html": [
       "\n",
       "    <div class=\"bk-root\">\n",
       "        <a href=\"https://bokeh.pydata.org\" target=\"_blank\" class=\"bk-logo bk-logo-small bk-logo-notebook\"></a>\n",
       "        <span id=\"9c0a6d76-0b8c-48fb-b2a7-f8cbd67a0753\">Loading BokehJS ...</span>\n",
       "    </div>"
      ]
     },
     "metadata": {},
     "output_type": "display_data"
    },
    {
     "data": {
      "application/javascript": [
       "\n",
       "(function(root) {\n",
       "  function now() {\n",
       "    return new Date();\n",
       "  }\n",
       "\n",
       "  var force = true;\n",
       "\n",
       "  if (typeof (root._bokeh_onload_callbacks) === \"undefined\" || force === true) {\n",
       "    root._bokeh_onload_callbacks = [];\n",
       "    root._bokeh_is_loading = undefined;\n",
       "  }\n",
       "\n",
       "  var JS_MIME_TYPE = 'application/javascript';\n",
       "  var HTML_MIME_TYPE = 'text/html';\n",
       "  var EXEC_MIME_TYPE = 'application/vnd.bokehjs_exec.v0+json';\n",
       "  var CLASS_NAME = 'output_bokeh rendered_html';\n",
       "\n",
       "  /**\n",
       "   * Render data to the DOM node\n",
       "   */\n",
       "  function render(props, node) {\n",
       "    var script = document.createElement(\"script\");\n",
       "    node.appendChild(script);\n",
       "  }\n",
       "\n",
       "  /**\n",
       "   * Handle when an output is cleared or removed\n",
       "   */\n",
       "  function handleClearOutput(event, handle) {\n",
       "    var cell = handle.cell;\n",
       "\n",
       "    var id = cell.output_area._bokeh_element_id;\n",
       "    var server_id = cell.output_area._bokeh_server_id;\n",
       "    // Clean up Bokeh references\n",
       "    if (id != null && id in Bokeh.index) {\n",
       "      Bokeh.index[id].model.document.clear();\n",
       "      delete Bokeh.index[id];\n",
       "    }\n",
       "\n",
       "    if (server_id !== undefined) {\n",
       "      // Clean up Bokeh references\n",
       "      var cmd = \"from bokeh.io.state import curstate; print(curstate().uuid_to_server['\" + server_id + \"'].get_sessions()[0].document.roots[0]._id)\";\n",
       "      cell.notebook.kernel.execute(cmd, {\n",
       "        iopub: {\n",
       "          output: function(msg) {\n",
       "            var id = msg.content.text.trim();\n",
       "            if (id in Bokeh.index) {\n",
       "              Bokeh.index[id].model.document.clear();\n",
       "              delete Bokeh.index[id];\n",
       "            }\n",
       "          }\n",
       "        }\n",
       "      });\n",
       "      // Destroy server and session\n",
       "      var cmd = \"import bokeh.io.notebook as ion; ion.destroy_server('\" + server_id + \"')\";\n",
       "      cell.notebook.kernel.execute(cmd);\n",
       "    }\n",
       "  }\n",
       "\n",
       "  /**\n",
       "   * Handle when a new output is added\n",
       "   */\n",
       "  function handleAddOutput(event, handle) {\n",
       "    var output_area = handle.output_area;\n",
       "    var output = handle.output;\n",
       "\n",
       "    // limit handleAddOutput to display_data with EXEC_MIME_TYPE content only\n",
       "    if ((output.output_type != \"display_data\") || (!output.data.hasOwnProperty(EXEC_MIME_TYPE))) {\n",
       "      return\n",
       "    }\n",
       "\n",
       "    var toinsert = output_area.element.find(\".\" + CLASS_NAME.split(' ')[0]);\n",
       "\n",
       "    if (output.metadata[EXEC_MIME_TYPE][\"id\"] !== undefined) {\n",
       "      toinsert[toinsert.length - 1].firstChild.textContent = output.data[JS_MIME_TYPE];\n",
       "      // store reference to embed id on output_area\n",
       "      output_area._bokeh_element_id = output.metadata[EXEC_MIME_TYPE][\"id\"];\n",
       "    }\n",
       "    if (output.metadata[EXEC_MIME_TYPE][\"server_id\"] !== undefined) {\n",
       "      var bk_div = document.createElement(\"div\");\n",
       "      bk_div.innerHTML = output.data[HTML_MIME_TYPE];\n",
       "      var script_attrs = bk_div.children[0].attributes;\n",
       "      for (var i = 0; i < script_attrs.length; i++) {\n",
       "        toinsert[toinsert.length - 1].firstChild.setAttribute(script_attrs[i].name, script_attrs[i].value);\n",
       "      }\n",
       "      // store reference to server id on output_area\n",
       "      output_area._bokeh_server_id = output.metadata[EXEC_MIME_TYPE][\"server_id\"];\n",
       "    }\n",
       "  }\n",
       "\n",
       "  function register_renderer(events, OutputArea) {\n",
       "\n",
       "    function append_mime(data, metadata, element) {\n",
       "      // create a DOM node to render to\n",
       "      var toinsert = this.create_output_subarea(\n",
       "        metadata,\n",
       "        CLASS_NAME,\n",
       "        EXEC_MIME_TYPE\n",
       "      );\n",
       "      this.keyboard_manager.register_events(toinsert);\n",
       "      // Render to node\n",
       "      var props = {data: data, metadata: metadata[EXEC_MIME_TYPE]};\n",
       "      render(props, toinsert[toinsert.length - 1]);\n",
       "      element.append(toinsert);\n",
       "      return toinsert\n",
       "    }\n",
       "\n",
       "    /* Handle when an output is cleared or removed */\n",
       "    events.on('clear_output.CodeCell', handleClearOutput);\n",
       "    events.on('delete.Cell', handleClearOutput);\n",
       "\n",
       "    /* Handle when a new output is added */\n",
       "    events.on('output_added.OutputArea', handleAddOutput);\n",
       "\n",
       "    /**\n",
       "     * Register the mime type and append_mime function with output_area\n",
       "     */\n",
       "    OutputArea.prototype.register_mime_type(EXEC_MIME_TYPE, append_mime, {\n",
       "      /* Is output safe? */\n",
       "      safe: true,\n",
       "      /* Index of renderer in `output_area.display_order` */\n",
       "      index: 0\n",
       "    });\n",
       "  }\n",
       "\n",
       "  // register the mime type if in Jupyter Notebook environment and previously unregistered\n",
       "  if (root.Jupyter !== undefined) {\n",
       "    var events = require('base/js/events');\n",
       "    var OutputArea = require('notebook/js/outputarea').OutputArea;\n",
       "\n",
       "    if (OutputArea.prototype.mime_types().indexOf(EXEC_MIME_TYPE) == -1) {\n",
       "      register_renderer(events, OutputArea);\n",
       "    }\n",
       "  }\n",
       "\n",
       "  \n",
       "  if (typeof (root._bokeh_timeout) === \"undefined\" || force === true) {\n",
       "    root._bokeh_timeout = Date.now() + 5000;\n",
       "    root._bokeh_failed_load = false;\n",
       "  }\n",
       "\n",
       "  var NB_LOAD_WARNING = {'data': {'text/html':\n",
       "     \"<div style='background-color: #fdd'>\\n\"+\n",
       "     \"<p>\\n\"+\n",
       "     \"BokehJS does not appear to have successfully loaded. If loading BokehJS from CDN, this \\n\"+\n",
       "     \"may be due to a slow or bad network connection. Possible fixes:\\n\"+\n",
       "     \"</p>\\n\"+\n",
       "     \"<ul>\\n\"+\n",
       "     \"<li>re-rerun `output_notebook()` to attempt to load from CDN again, or</li>\\n\"+\n",
       "     \"<li>use INLINE resources instead, as so:</li>\\n\"+\n",
       "     \"</ul>\\n\"+\n",
       "     \"<code>\\n\"+\n",
       "     \"from bokeh.resources import INLINE\\n\"+\n",
       "     \"output_notebook(resources=INLINE)\\n\"+\n",
       "     \"</code>\\n\"+\n",
       "     \"</div>\"}};\n",
       "\n",
       "  function display_loaded() {\n",
       "    var el = document.getElementById(\"9c0a6d76-0b8c-48fb-b2a7-f8cbd67a0753\");\n",
       "    if (el != null) {\n",
       "      el.textContent = \"BokehJS is loading...\";\n",
       "    }\n",
       "    if (root.Bokeh !== undefined) {\n",
       "      if (el != null) {\n",
       "        el.textContent = \"BokehJS \" + root.Bokeh.version + \" successfully loaded.\";\n",
       "      }\n",
       "    } else if (Date.now() < root._bokeh_timeout) {\n",
       "      setTimeout(display_loaded, 100)\n",
       "    }\n",
       "  }\n",
       "\n",
       "\n",
       "  function run_callbacks() {\n",
       "    try {\n",
       "      root._bokeh_onload_callbacks.forEach(function(callback) { callback() });\n",
       "    }\n",
       "    finally {\n",
       "      delete root._bokeh_onload_callbacks\n",
       "    }\n",
       "    console.info(\"Bokeh: all callbacks have finished\");\n",
       "  }\n",
       "\n",
       "  function load_libs(js_urls, callback) {\n",
       "    root._bokeh_onload_callbacks.push(callback);\n",
       "    if (root._bokeh_is_loading > 0) {\n",
       "      console.log(\"Bokeh: BokehJS is being loaded, scheduling callback at\", now());\n",
       "      return null;\n",
       "    }\n",
       "    if (js_urls == null || js_urls.length === 0) {\n",
       "      run_callbacks();\n",
       "      return null;\n",
       "    }\n",
       "    console.log(\"Bokeh: BokehJS not loaded, scheduling load and callback at\", now());\n",
       "    root._bokeh_is_loading = js_urls.length;\n",
       "    for (var i = 0; i < js_urls.length; i++) {\n",
       "      var url = js_urls[i];\n",
       "      var s = document.createElement('script');\n",
       "      s.src = url;\n",
       "      s.async = false;\n",
       "      s.onreadystatechange = s.onload = function() {\n",
       "        root._bokeh_is_loading--;\n",
       "        if (root._bokeh_is_loading === 0) {\n",
       "          console.log(\"Bokeh: all BokehJS libraries loaded\");\n",
       "          run_callbacks()\n",
       "        }\n",
       "      };\n",
       "      s.onerror = function() {\n",
       "        console.warn(\"failed to load library \" + url);\n",
       "      };\n",
       "      console.log(\"Bokeh: injecting script tag for BokehJS library: \", url);\n",
       "      document.getElementsByTagName(\"head\")[0].appendChild(s);\n",
       "    }\n",
       "  };var element = document.getElementById(\"9c0a6d76-0b8c-48fb-b2a7-f8cbd67a0753\");\n",
       "  if (element == null) {\n",
       "    console.log(\"Bokeh: ERROR: autoload.js configured with elementid '9c0a6d76-0b8c-48fb-b2a7-f8cbd67a0753' but no matching script tag was found. \")\n",
       "    return false;\n",
       "  }\n",
       "\n",
       "  var js_urls = [\"https://cdn.pydata.org/bokeh/release/bokeh-0.13.0.min.js\", \"https://cdn.pydata.org/bokeh/release/bokeh-widgets-0.13.0.min.js\", \"https://cdn.pydata.org/bokeh/release/bokeh-tables-0.13.0.min.js\", \"https://cdn.pydata.org/bokeh/release/bokeh-gl-0.13.0.min.js\"];\n",
       "\n",
       "  var inline_js = [\n",
       "    function(Bokeh) {\n",
       "      Bokeh.set_log_level(\"info\");\n",
       "    },\n",
       "    \n",
       "    function(Bokeh) {\n",
       "      \n",
       "    },\n",
       "    function(Bokeh) {\n",
       "      console.log(\"Bokeh: injecting CSS: https://cdn.pydata.org/bokeh/release/bokeh-0.13.0.min.css\");\n",
       "      Bokeh.embed.inject_css(\"https://cdn.pydata.org/bokeh/release/bokeh-0.13.0.min.css\");\n",
       "      console.log(\"Bokeh: injecting CSS: https://cdn.pydata.org/bokeh/release/bokeh-widgets-0.13.0.min.css\");\n",
       "      Bokeh.embed.inject_css(\"https://cdn.pydata.org/bokeh/release/bokeh-widgets-0.13.0.min.css\");\n",
       "      console.log(\"Bokeh: injecting CSS: https://cdn.pydata.org/bokeh/release/bokeh-tables-0.13.0.min.css\");\n",
       "      Bokeh.embed.inject_css(\"https://cdn.pydata.org/bokeh/release/bokeh-tables-0.13.0.min.css\");\n",
       "    }\n",
       "  ];\n",
       "\n",
       "  function run_inline_js() {\n",
       "    \n",
       "    if ((root.Bokeh !== undefined) || (force === true)) {\n",
       "      for (var i = 0; i < inline_js.length; i++) {\n",
       "        inline_js[i].call(root, root.Bokeh);\n",
       "      }if (force === true) {\n",
       "        display_loaded();\n",
       "      }} else if (Date.now() < root._bokeh_timeout) {\n",
       "      setTimeout(run_inline_js, 100);\n",
       "    } else if (!root._bokeh_failed_load) {\n",
       "      console.log(\"Bokeh: BokehJS failed to load within specified timeout.\");\n",
       "      root._bokeh_failed_load = true;\n",
       "    } else if (force !== true) {\n",
       "      var cell = $(document.getElementById(\"9c0a6d76-0b8c-48fb-b2a7-f8cbd67a0753\")).parents('.cell').data().cell;\n",
       "      cell.output_area.append_execute_result(NB_LOAD_WARNING)\n",
       "    }\n",
       "\n",
       "  }\n",
       "\n",
       "  if (root._bokeh_is_loading === 0) {\n",
       "    console.log(\"Bokeh: BokehJS loaded, going straight to plotting\");\n",
       "    run_inline_js();\n",
       "  } else {\n",
       "    load_libs(js_urls, function() {\n",
       "      console.log(\"Bokeh: BokehJS plotting callback run at\", now());\n",
       "      run_inline_js();\n",
       "    });\n",
       "  }\n",
       "}(window));"
      ],
      "application/vnd.bokehjs_load.v0+json": "\n(function(root) {\n  function now() {\n    return new Date();\n  }\n\n  var force = true;\n\n  if (typeof (root._bokeh_onload_callbacks) === \"undefined\" || force === true) {\n    root._bokeh_onload_callbacks = [];\n    root._bokeh_is_loading = undefined;\n  }\n\n  \n\n  \n  if (typeof (root._bokeh_timeout) === \"undefined\" || force === true) {\n    root._bokeh_timeout = Date.now() + 5000;\n    root._bokeh_failed_load = false;\n  }\n\n  var NB_LOAD_WARNING = {'data': {'text/html':\n     \"<div style='background-color: #fdd'>\\n\"+\n     \"<p>\\n\"+\n     \"BokehJS does not appear to have successfully loaded. If loading BokehJS from CDN, this \\n\"+\n     \"may be due to a slow or bad network connection. Possible fixes:\\n\"+\n     \"</p>\\n\"+\n     \"<ul>\\n\"+\n     \"<li>re-rerun `output_notebook()` to attempt to load from CDN again, or</li>\\n\"+\n     \"<li>use INLINE resources instead, as so:</li>\\n\"+\n     \"</ul>\\n\"+\n     \"<code>\\n\"+\n     \"from bokeh.resources import INLINE\\n\"+\n     \"output_notebook(resources=INLINE)\\n\"+\n     \"</code>\\n\"+\n     \"</div>\"}};\n\n  function display_loaded() {\n    var el = document.getElementById(\"9c0a6d76-0b8c-48fb-b2a7-f8cbd67a0753\");\n    if (el != null) {\n      el.textContent = \"BokehJS is loading...\";\n    }\n    if (root.Bokeh !== undefined) {\n      if (el != null) {\n        el.textContent = \"BokehJS \" + root.Bokeh.version + \" successfully loaded.\";\n      }\n    } else if (Date.now() < root._bokeh_timeout) {\n      setTimeout(display_loaded, 100)\n    }\n  }\n\n\n  function run_callbacks() {\n    try {\n      root._bokeh_onload_callbacks.forEach(function(callback) { callback() });\n    }\n    finally {\n      delete root._bokeh_onload_callbacks\n    }\n    console.info(\"Bokeh: all callbacks have finished\");\n  }\n\n  function load_libs(js_urls, callback) {\n    root._bokeh_onload_callbacks.push(callback);\n    if (root._bokeh_is_loading > 0) {\n      console.log(\"Bokeh: BokehJS is being loaded, scheduling callback at\", now());\n      return null;\n    }\n    if (js_urls == null || js_urls.length === 0) {\n      run_callbacks();\n      return null;\n    }\n    console.log(\"Bokeh: BokehJS not loaded, scheduling load and callback at\", now());\n    root._bokeh_is_loading = js_urls.length;\n    for (var i = 0; i < js_urls.length; i++) {\n      var url = js_urls[i];\n      var s = document.createElement('script');\n      s.src = url;\n      s.async = false;\n      s.onreadystatechange = s.onload = function() {\n        root._bokeh_is_loading--;\n        if (root._bokeh_is_loading === 0) {\n          console.log(\"Bokeh: all BokehJS libraries loaded\");\n          run_callbacks()\n        }\n      };\n      s.onerror = function() {\n        console.warn(\"failed to load library \" + url);\n      };\n      console.log(\"Bokeh: injecting script tag for BokehJS library: \", url);\n      document.getElementsByTagName(\"head\")[0].appendChild(s);\n    }\n  };var element = document.getElementById(\"9c0a6d76-0b8c-48fb-b2a7-f8cbd67a0753\");\n  if (element == null) {\n    console.log(\"Bokeh: ERROR: autoload.js configured with elementid '9c0a6d76-0b8c-48fb-b2a7-f8cbd67a0753' but no matching script tag was found. \")\n    return false;\n  }\n\n  var js_urls = [\"https://cdn.pydata.org/bokeh/release/bokeh-0.13.0.min.js\", \"https://cdn.pydata.org/bokeh/release/bokeh-widgets-0.13.0.min.js\", \"https://cdn.pydata.org/bokeh/release/bokeh-tables-0.13.0.min.js\", \"https://cdn.pydata.org/bokeh/release/bokeh-gl-0.13.0.min.js\"];\n\n  var inline_js = [\n    function(Bokeh) {\n      Bokeh.set_log_level(\"info\");\n    },\n    \n    function(Bokeh) {\n      \n    },\n    function(Bokeh) {\n      console.log(\"Bokeh: injecting CSS: https://cdn.pydata.org/bokeh/release/bokeh-0.13.0.min.css\");\n      Bokeh.embed.inject_css(\"https://cdn.pydata.org/bokeh/release/bokeh-0.13.0.min.css\");\n      console.log(\"Bokeh: injecting CSS: https://cdn.pydata.org/bokeh/release/bokeh-widgets-0.13.0.min.css\");\n      Bokeh.embed.inject_css(\"https://cdn.pydata.org/bokeh/release/bokeh-widgets-0.13.0.min.css\");\n      console.log(\"Bokeh: injecting CSS: https://cdn.pydata.org/bokeh/release/bokeh-tables-0.13.0.min.css\");\n      Bokeh.embed.inject_css(\"https://cdn.pydata.org/bokeh/release/bokeh-tables-0.13.0.min.css\");\n    }\n  ];\n\n  function run_inline_js() {\n    \n    if ((root.Bokeh !== undefined) || (force === true)) {\n      for (var i = 0; i < inline_js.length; i++) {\n        inline_js[i].call(root, root.Bokeh);\n      }if (force === true) {\n        display_loaded();\n      }} else if (Date.now() < root._bokeh_timeout) {\n      setTimeout(run_inline_js, 100);\n    } else if (!root._bokeh_failed_load) {\n      console.log(\"Bokeh: BokehJS failed to load within specified timeout.\");\n      root._bokeh_failed_load = true;\n    } else if (force !== true) {\n      var cell = $(document.getElementById(\"9c0a6d76-0b8c-48fb-b2a7-f8cbd67a0753\")).parents('.cell').data().cell;\n      cell.output_area.append_execute_result(NB_LOAD_WARNING)\n    }\n\n  }\n\n  if (root._bokeh_is_loading === 0) {\n    console.log(\"Bokeh: BokehJS loaded, going straight to plotting\");\n    run_inline_js();\n  } else {\n    load_libs(js_urls, function() {\n      console.log(\"Bokeh: BokehJS plotting callback run at\", now());\n      run_inline_js();\n    });\n  }\n}(window));"
     },
     "metadata": {},
     "output_type": "display_data"
    }
   ],
   "source": [
    "output_notebook()"
   ]
  },
  {
   "cell_type": "markdown",
   "metadata": {},
   "source": [
    "### Get the data\n",
    "\n",
    "#Get the data from pickle file which contains the HondaData."
   ]
  },
  {
   "cell_type": "code",
   "execution_count": 180,
   "metadata": {},
   "outputs": [
    {
     "data": {
      "text/html": [
       "<div>\n",
       "<style scoped>\n",
       "    .dataframe tbody tr th:only-of-type {\n",
       "        vertical-align: middle;\n",
       "    }\n",
       "\n",
       "    .dataframe tbody tr th {\n",
       "        vertical-align: top;\n",
       "    }\n",
       "\n",
       "    .dataframe thead tr th {\n",
       "        text-align: left;\n",
       "    }\n",
       "</style>\n",
       "<table border=\"1\" class=\"dataframe\">\n",
       "  <thead>\n",
       "    <tr>\n",
       "      <th></th>\n",
       "      <th>year_is</th>\n",
       "      <th>state_ss</th>\n",
       "      <th>region_color</th>\n",
       "      <th>price_fs</th>\n",
       "      <th>miles_fs</th>\n",
       "      <th>engine_size_ss_encoded</th>\n",
       "    </tr>\n",
       "    <tr>\n",
       "      <th></th>\n",
       "      <th></th>\n",
       "      <th></th>\n",
       "      <th></th>\n",
       "      <th>mean</th>\n",
       "      <th>mean</th>\n",
       "      <th>mean</th>\n",
       "    </tr>\n",
       "  </thead>\n",
       "  <tbody>\n",
       "    <tr>\n",
       "      <th>20</th>\n",
       "      <td>2000</td>\n",
       "      <td>NM</td>\n",
       "      <td>#d53e4f</td>\n",
       "      <td>39.990000</td>\n",
       "      <td>125.805000</td>\n",
       "      <td>15.000000</td>\n",
       "    </tr>\n",
       "    <tr>\n",
       "      <th>55</th>\n",
       "      <td>2001</td>\n",
       "      <td>NM</td>\n",
       "      <td>#d53e4f</td>\n",
       "      <td>289.000000</td>\n",
       "      <td>86.500000</td>\n",
       "      <td>19.000000</td>\n",
       "    </tr>\n",
       "    <tr>\n",
       "      <th>95</th>\n",
       "      <td>2002</td>\n",
       "      <td>NM</td>\n",
       "      <td>#d53e4f</td>\n",
       "      <td>49.950000</td>\n",
       "      <td>177.138500</td>\n",
       "      <td>18.500000</td>\n",
       "    </tr>\n",
       "    <tr>\n",
       "      <th>135</th>\n",
       "      <td>2003</td>\n",
       "      <td>NM</td>\n",
       "      <td>#d53e4f</td>\n",
       "      <td>29.950000</td>\n",
       "      <td>12.284000</td>\n",
       "      <td>0.000000</td>\n",
       "    </tr>\n",
       "    <tr>\n",
       "      <th>175</th>\n",
       "      <td>2004</td>\n",
       "      <td>NM</td>\n",
       "      <td>#d53e4f</td>\n",
       "      <td>54.633333</td>\n",
       "      <td>104.219000</td>\n",
       "      <td>16.000000</td>\n",
       "    </tr>\n",
       "    <tr>\n",
       "      <th>216</th>\n",
       "      <td>2005</td>\n",
       "      <td>NM</td>\n",
       "      <td>#d53e4f</td>\n",
       "      <td>63.024286</td>\n",
       "      <td>119.895857</td>\n",
       "      <td>19.142857</td>\n",
       "    </tr>\n",
       "    <tr>\n",
       "      <th>257</th>\n",
       "      <td>2006</td>\n",
       "      <td>NM</td>\n",
       "      <td>#d53e4f</td>\n",
       "      <td>70.461111</td>\n",
       "      <td>131.366222</td>\n",
       "      <td>22.111111</td>\n",
       "    </tr>\n",
       "    <tr>\n",
       "      <th>298</th>\n",
       "      <td>2007</td>\n",
       "      <td>NM</td>\n",
       "      <td>#d53e4f</td>\n",
       "      <td>79.004286</td>\n",
       "      <td>168.482429</td>\n",
       "      <td>24.285714</td>\n",
       "    </tr>\n",
       "    <tr>\n",
       "      <th>339</th>\n",
       "      <td>2008</td>\n",
       "      <td>NM</td>\n",
       "      <td>#d53e4f</td>\n",
       "      <td>97.574545</td>\n",
       "      <td>120.511273</td>\n",
       "      <td>22.272727</td>\n",
       "    </tr>\n",
       "    <tr>\n",
       "      <th>379</th>\n",
       "      <td>2009</td>\n",
       "      <td>NM</td>\n",
       "      <td>#d53e4f</td>\n",
       "      <td>84.195000</td>\n",
       "      <td>115.615000</td>\n",
       "      <td>21.166667</td>\n",
       "    </tr>\n",
       "    <tr>\n",
       "      <th>420</th>\n",
       "      <td>2010</td>\n",
       "      <td>NM</td>\n",
       "      <td>#d53e4f</td>\n",
       "      <td>109.428947</td>\n",
       "      <td>97.495842</td>\n",
       "      <td>20.736842</td>\n",
       "    </tr>\n",
       "    <tr>\n",
       "      <th>461</th>\n",
       "      <td>2011</td>\n",
       "      <td>NM</td>\n",
       "      <td>#d53e4f</td>\n",
       "      <td>143.870833</td>\n",
       "      <td>89.614500</td>\n",
       "      <td>22.833333</td>\n",
       "    </tr>\n",
       "    <tr>\n",
       "      <th>502</th>\n",
       "      <td>2012</td>\n",
       "      <td>NM</td>\n",
       "      <td>#d53e4f</td>\n",
       "      <td>133.931250</td>\n",
       "      <td>93.661792</td>\n",
       "      <td>22.416667</td>\n",
       "    </tr>\n",
       "    <tr>\n",
       "      <th>543</th>\n",
       "      <td>2013</td>\n",
       "      <td>NM</td>\n",
       "      <td>#d53e4f</td>\n",
       "      <td>152.079687</td>\n",
       "      <td>74.178594</td>\n",
       "      <td>21.375000</td>\n",
       "    </tr>\n",
       "    <tr>\n",
       "      <th>584</th>\n",
       "      <td>2014</td>\n",
       "      <td>NM</td>\n",
       "      <td>#d53e4f</td>\n",
       "      <td>169.909091</td>\n",
       "      <td>67.281788</td>\n",
       "      <td>22.333333</td>\n",
       "    </tr>\n",
       "    <tr>\n",
       "      <th>625</th>\n",
       "      <td>2015</td>\n",
       "      <td>NM</td>\n",
       "      <td>#d53e4f</td>\n",
       "      <td>182.209474</td>\n",
       "      <td>40.894719</td>\n",
       "      <td>20.754386</td>\n",
       "    </tr>\n",
       "    <tr>\n",
       "      <th>666</th>\n",
       "      <td>2016</td>\n",
       "      <td>NM</td>\n",
       "      <td>#d53e4f</td>\n",
       "      <td>236.534925</td>\n",
       "      <td>33.782851</td>\n",
       "      <td>22.164179</td>\n",
       "    </tr>\n",
       "    <tr>\n",
       "      <th>707</th>\n",
       "      <td>2017</td>\n",
       "      <td>NM</td>\n",
       "      <td>#d53e4f</td>\n",
       "      <td>263.102593</td>\n",
       "      <td>19.244685</td>\n",
       "      <td>20.574074</td>\n",
       "    </tr>\n",
       "    <tr>\n",
       "      <th>748</th>\n",
       "      <td>2018</td>\n",
       "      <td>NM</td>\n",
       "      <td>#d53e4f</td>\n",
       "      <td>261.433333</td>\n",
       "      <td>6.687667</td>\n",
       "      <td>8.966667</td>\n",
       "    </tr>\n",
       "  </tbody>\n",
       "</table>\n",
       "</div>"
      ],
      "text/plain": [
       "    year_is state_ss region_color    price_fs    miles_fs  \\\n",
       "                                         mean        mean   \n",
       "20     2000       NM      #d53e4f   39.990000  125.805000   \n",
       "55     2001       NM      #d53e4f  289.000000   86.500000   \n",
       "95     2002       NM      #d53e4f   49.950000  177.138500   \n",
       "135    2003       NM      #d53e4f   29.950000   12.284000   \n",
       "175    2004       NM      #d53e4f   54.633333  104.219000   \n",
       "216    2005       NM      #d53e4f   63.024286  119.895857   \n",
       "257    2006       NM      #d53e4f   70.461111  131.366222   \n",
       "298    2007       NM      #d53e4f   79.004286  168.482429   \n",
       "339    2008       NM      #d53e4f   97.574545  120.511273   \n",
       "379    2009       NM      #d53e4f   84.195000  115.615000   \n",
       "420    2010       NM      #d53e4f  109.428947   97.495842   \n",
       "461    2011       NM      #d53e4f  143.870833   89.614500   \n",
       "502    2012       NM      #d53e4f  133.931250   93.661792   \n",
       "543    2013       NM      #d53e4f  152.079687   74.178594   \n",
       "584    2014       NM      #d53e4f  169.909091   67.281788   \n",
       "625    2015       NM      #d53e4f  182.209474   40.894719   \n",
       "666    2016       NM      #d53e4f  236.534925   33.782851   \n",
       "707    2017       NM      #d53e4f  263.102593   19.244685   \n",
       "748    2018       NM      #d53e4f  261.433333    6.687667   \n",
       "\n",
       "    engine_size_ss_encoded  \n",
       "                      mean  \n",
       "20               15.000000  \n",
       "55               19.000000  \n",
       "95               18.500000  \n",
       "135               0.000000  \n",
       "175              16.000000  \n",
       "216              19.142857  \n",
       "257              22.111111  \n",
       "298              24.285714  \n",
       "339              22.272727  \n",
       "379              21.166667  \n",
       "420              20.736842  \n",
       "461              22.833333  \n",
       "502              22.416667  \n",
       "543              21.375000  \n",
       "584              22.333333  \n",
       "625              20.754386  \n",
       "666              22.164179  \n",
       "707              20.574074  \n",
       "748               8.966667  "
      ]
     },
     "execution_count": 180,
     "metadata": {},
     "output_type": "execute_result"
    }
   ],
   "source": [
    "data = pd.read_pickle(\"listings.pkl\")\n",
    "\n",
    "\n",
    "data.region_name = data.region_name.astype('category')\n",
    "regions_list = list(data.region_name.cat.categories)\n",
    "\n",
    "\n",
    "\n",
    "def get_color(r):\n",
    "        return Spectral7[regions_list.index(r.region_name)]\n",
    "    \n",
    "data['region_color'] = data.apply(get_color, axis=1)\n",
    "\n",
    "sources = {}\n",
    "\n",
    "region_color = data['region_color']\n",
    "region_color.name = 'region_color'\n",
    "\n",
    "data = data.sort_values(by='year_is', ascending=True)\n",
    "\n",
    "\n",
    "years = data['year_is'].unique()\n",
    "\n",
    "data.miles_fs = data['miles_fs'] / 1000\n",
    "data.price_fs = data['price_fs'] / 100\n",
    "\n",
    "aggregated_df = data[['year_is','state_ss','miles_fs','engine_size_ss_encoded','price_fs','region_color']].groupby(['year_is','state_ss','region_color'],as_index=False).agg({'price_fs':['mean'],'miles_fs':['mean'], 'engine_size_ss_encoded':['mean'] })\n",
    "\n",
    "\n",
    "for year in years:  \n",
    "    new_df = aggregated_df[aggregated_df['year_is']==year]      \n",
    "    new_df.columns = ['year_is','state_ss','region_color', 'price_fs','miles_fs', 'engine_size_ss_encoded']      \n",
    "    new_df.set_index('state_ss', inplace=True)\n",
    "    del new_df.index.name\n",
    "    new_df = new_df[['region_color','price_fs','miles_fs', 'engine_size_ss_encoded']]\n",
    "    sources['_' + str(year)] = ColumnDataSource(new_df)\n",
    "    \n",
    "    \n",
    "test = aggregated_df[aggregated_df['state_ss']=='NM']\n",
    "test"
   ]
  },
  {
   "cell_type": "markdown",
   "metadata": {},
   "source": [
    "Next we will add each of our sources to the `sources` dictionary, where each key is the name of the year (prefaced with an underscore) and each value is a dataframe with the aggregated values for that year.\n",
    "\n",
    "_Note that we needed the prefixing as JavaScript objects cannot begin with a number._"
   ]
  },
  {
   "cell_type": "markdown",
   "metadata": {},
   "source": [
    "Now we have an object that's storing all of our `ColumnDataSources`, so that we can look them up.\n",
    "\n",
    "### Build the plot\n",
    "\n",
    "First we need to create a `Plot` object. We'll start with a basic frame, only specifying things like plot height, width, and ranges for the axes."
   ]
  },
  {
   "cell_type": "code",
   "execution_count": 165,
   "metadata": {},
   "outputs": [],
   "source": [
    "xdr = Range1d(1, 300)\n",
    "ydr = Range1d(1, 50)\n",
    "plot = Plot(\n",
    "    x_range=xdr,\n",
    "    y_range=ydr,\n",
    "    plot_width=800,\n",
    "    plot_height=400,\n",
    "    outline_line_color=None,\n",
    "    toolbar_location=None, \n",
    "    min_border=20,\n",
    ")"
   ]
  },
  {
   "cell_type": "markdown",
   "metadata": {},
   "source": [
    "What do you expect to see when we call `show()` on the plot that we have created so far? Try it out below:"
   ]
  },
  {
   "cell_type": "markdown",
   "metadata": {},
   "source": [
    "### Build the axes\n",
    "\n",
    "Next we can make some stylistic modifications to the plot axes (e.g. by specifying the text font, size, and color, and by adding labels), to make the plot look more like the one in Hans Rosling's video."
   ]
  },
  {
   "cell_type": "code",
   "execution_count": 166,
   "metadata": {},
   "outputs": [],
   "source": [
    "AXIS_FORMATS = dict(\n",
    "    minor_tick_in=None,\n",
    "    minor_tick_out=None,\n",
    "    major_tick_in=None,\n",
    "    major_label_text_font_size=\"10pt\",\n",
    "    major_label_text_font_style=\"normal\",\n",
    "    axis_label_text_font_size=\"10pt\",\n",
    "\n",
    "    axis_line_color='#AAAAAA',\n",
    "    major_tick_line_color='#AAAAAA',\n",
    "    major_label_text_color='#666666',\n",
    "\n",
    "    major_tick_line_cap=\"round\",\n",
    "    axis_line_cap=\"round\",\n",
    "    axis_line_width=1,\n",
    "    major_tick_line_width=1,\n",
    ")\n",
    "\n",
    "xaxis = LinearAxis(ticker=SingleIntervalTicker(interval=30), axis_label=\"Miles\", **AXIS_FORMATS)\n",
    "yaxis = LinearAxis(ticker=SingleIntervalTicker(interval=5), axis_label=\"Engine Size\", **AXIS_FORMATS)   \n",
    "plot.add_layout(xaxis, 'below')\n",
    "plot.add_layout(yaxis, 'left')"
   ]
  },
  {
   "cell_type": "markdown",
   "metadata": {},
   "source": [
    "What do you expect to see when we call `show()` on the plot that we have created so far? Experiment with running the below cell, modifying some of the parameters above, and then re-running the cell below:"
   ]
  },
  {
   "cell_type": "code",
   "execution_count": 167,
   "metadata": {},
   "outputs": [
    {
     "data": {
      "text/html": [
       "\n",
       "\n",
       "\n",
       "\n",
       "\n",
       "\n",
       "  <div class=\"bk-root\" id=\"11a8aa87-8c2f-450e-9b1d-06ea95ace4e6\"></div>\n"
      ]
     },
     "metadata": {},
     "output_type": "display_data"
    },
    {
     "data": {
      "application/javascript": [
       "(function(root) {\n",
       "  function embed_document(root) {\n",
       "    \n",
       "  var docs_json = {\"aa9d9b19-6c2c-46b1-8144-ca0ce8f8f2f2\":{\"roots\":{\"references\":[{\"attributes\":{},\"id\":\"3d8a550f-4816-4d3e-a9e0-9c39d57a9cfc\",\"type\":\"LinearScale\"},{\"attributes\":{\"interval\":30},\"id\":\"4aafda9a-19cb-4c82-ad13-727e67056bf1\",\"type\":\"SingleIntervalTicker\"},{\"attributes\":{},\"id\":\"8beca1e5-9ec3-4104-b8cc-c5bbefa89965\",\"type\":\"BasicTickFormatter\"},{\"attributes\":{\"callback\":null,\"end\":50,\"start\":1},\"id\":\"9ef62068-7844-43bc-b384-3297926c9848\",\"type\":\"Range1d\"},{\"attributes\":{\"callback\":null,\"end\":300,\"start\":1},\"id\":\"2d3594d7-3648-4089-a794-b7bcb1470656\",\"type\":\"Range1d\"},{\"attributes\":{},\"id\":\"7c0f995d-68e5-4dec-853f-e56d9bd1090d\",\"type\":\"LinearScale\"},{\"attributes\":{\"interval\":5},\"id\":\"991ba057-c7ca-4cd5-8551-a3d8c2167376\",\"type\":\"SingleIntervalTicker\"},{\"attributes\":{\"below\":[{\"id\":\"ee05c7fb-e0b3-461c-bd55-b3dc0a059f65\",\"type\":\"LinearAxis\"}],\"left\":[{\"id\":\"5450d399-0403-4947-be19-4028c139ac7e\",\"type\":\"LinearAxis\"}],\"min_border\":20,\"outline_line_color\":{\"value\":null},\"plot_height\":400,\"plot_width\":800,\"renderers\":[{\"id\":\"ee05c7fb-e0b3-461c-bd55-b3dc0a059f65\",\"type\":\"LinearAxis\"},{\"id\":\"5450d399-0403-4947-be19-4028c139ac7e\",\"type\":\"LinearAxis\"}],\"title\":{\"id\":\"5598ac9f-7085-4bac-b4b6-2b078990641d\",\"type\":\"Title\"},\"toolbar\":{\"id\":\"cebb65cf-70e8-4553-b918-02d375c8b145\",\"type\":\"Toolbar\"},\"toolbar_location\":null,\"x_range\":{\"id\":\"2d3594d7-3648-4089-a794-b7bcb1470656\",\"type\":\"Range1d\"},\"x_scale\":{\"id\":\"7c0f995d-68e5-4dec-853f-e56d9bd1090d\",\"type\":\"LinearScale\"},\"y_range\":{\"id\":\"9ef62068-7844-43bc-b384-3297926c9848\",\"type\":\"Range1d\"},\"y_scale\":{\"id\":\"3d8a550f-4816-4d3e-a9e0-9c39d57a9cfc\",\"type\":\"LinearScale\"}},\"id\":\"b64bb497-abdf-4eef-b3a7-036c16e3af7b\",\"type\":\"Plot\"},{\"attributes\":{},\"id\":\"c9058639-15e9-47de-b41c-7514fa87bd20\",\"type\":\"BasicTickFormatter\"},{\"attributes\":{\"axis_label\":\"Miles\",\"axis_label_text_font_size\":{\"value\":\"10pt\"},\"axis_line_cap\":\"round\",\"axis_line_color\":{\"value\":\"#AAAAAA\"},\"formatter\":{\"id\":\"8beca1e5-9ec3-4104-b8cc-c5bbefa89965\",\"type\":\"BasicTickFormatter\"},\"major_label_text_color\":{\"value\":\"#666666\"},\"major_label_text_font_size\":{\"value\":\"10pt\"},\"major_tick_in\":null,\"major_tick_line_cap\":\"round\",\"major_tick_line_color\":{\"value\":\"#AAAAAA\"},\"minor_tick_in\":null,\"minor_tick_out\":null,\"plot\":{\"id\":\"b64bb497-abdf-4eef-b3a7-036c16e3af7b\",\"type\":\"Plot\"},\"ticker\":{\"id\":\"4aafda9a-19cb-4c82-ad13-727e67056bf1\",\"type\":\"SingleIntervalTicker\"}},\"id\":\"ee05c7fb-e0b3-461c-bd55-b3dc0a059f65\",\"type\":\"LinearAxis\"},{\"attributes\":{\"axis_label\":\"Engine Size\",\"axis_label_text_font_size\":{\"value\":\"10pt\"},\"axis_line_cap\":\"round\",\"axis_line_color\":{\"value\":\"#AAAAAA\"},\"formatter\":{\"id\":\"c9058639-15e9-47de-b41c-7514fa87bd20\",\"type\":\"BasicTickFormatter\"},\"major_label_text_color\":{\"value\":\"#666666\"},\"major_label_text_font_size\":{\"value\":\"10pt\"},\"major_tick_in\":null,\"major_tick_line_cap\":\"round\",\"major_tick_line_color\":{\"value\":\"#AAAAAA\"},\"minor_tick_in\":null,\"minor_tick_out\":null,\"plot\":{\"id\":\"b64bb497-abdf-4eef-b3a7-036c16e3af7b\",\"type\":\"Plot\"},\"ticker\":{\"id\":\"991ba057-c7ca-4cd5-8551-a3d8c2167376\",\"type\":\"SingleIntervalTicker\"}},\"id\":\"5450d399-0403-4947-be19-4028c139ac7e\",\"type\":\"LinearAxis\"},{\"attributes\":{\"active_drag\":\"auto\",\"active_inspect\":\"auto\",\"active_multi\":null,\"active_scroll\":\"auto\",\"active_tap\":\"auto\"},\"id\":\"cebb65cf-70e8-4553-b918-02d375c8b145\",\"type\":\"Toolbar\"},{\"attributes\":{\"plot\":null,\"text\":\"\"},\"id\":\"5598ac9f-7085-4bac-b4b6-2b078990641d\",\"type\":\"Title\"}],\"root_ids\":[\"b64bb497-abdf-4eef-b3a7-036c16e3af7b\"]},\"title\":\"Bokeh Application\",\"version\":\"0.13.0\"}};\n",
       "  var render_items = [{\"docid\":\"aa9d9b19-6c2c-46b1-8144-ca0ce8f8f2f2\",\"roots\":{\"b64bb497-abdf-4eef-b3a7-036c16e3af7b\":\"11a8aa87-8c2f-450e-9b1d-06ea95ace4e6\"}}];\n",
       "  root.Bokeh.embed.embed_items_notebook(docs_json, render_items);\n",
       "\n",
       "  }\n",
       "  if (root.Bokeh !== undefined) {\n",
       "    embed_document(root);\n",
       "  } else {\n",
       "    var attempts = 0;\n",
       "    var timer = setInterval(function(root) {\n",
       "      if (root.Bokeh !== undefined) {\n",
       "        embed_document(root);\n",
       "        clearInterval(timer);\n",
       "      }\n",
       "      attempts++;\n",
       "      if (attempts > 100) {\n",
       "        console.log(\"Bokeh: ERROR: Unable to run BokehJS code because BokehJS library is missing\")\n",
       "        clearInterval(timer);\n",
       "      }\n",
       "    }, 10, root)\n",
       "  }\n",
       "})(window);"
      ],
      "application/vnd.bokehjs_exec.v0+json": ""
     },
     "metadata": {
      "application/vnd.bokehjs_exec.v0+json": {
       "id": "b64bb497-abdf-4eef-b3a7-036c16e3af7b"
      }
     },
     "output_type": "display_data"
    }
   ],
   "source": [
    "show(plot)"
   ]
  },
  {
   "cell_type": "markdown",
   "metadata": {},
   "source": [
    "### Add the background year text\n",
    "\n",
    "One of the features of Rosling's animation is that the year appears as the text background of the plot. We will add this feature to our plot first so it will be layered below all the other glyphs (will will be incrementally added, layer by layer, on top of each other until we are finished)."
   ]
  },
  {
   "cell_type": "code",
   "execution_count": 168,
   "metadata": {},
   "outputs": [
    {
     "data": {
      "text/html": [
       "<div style=\"display: table;\"><div style=\"display: table-row;\"><div style=\"display: table-cell;\"><b title=\"bokeh.models.renderers.GlyphRenderer\">GlyphRenderer</b>(</div><div style=\"display: table-cell;\">id&nbsp;=&nbsp;'2de3ef90-40f6-4173-93d7-b0463cb63a19', <span id=\"5b103312-4ba1-43cc-ac54-a0ccc3d8f083\" style=\"cursor: pointer;\">&hellip;)</span></div></div><div class=\"d73a9046-ba57-4e00-9063-fa90f6682607\" style=\"display: none;\"><div style=\"display: table-cell;\"></div><div style=\"display: table-cell;\">data_source&nbsp;=&nbsp;ColumnDataSource(id='b6204c95-878f-43ce-9c3c-b3161ec00bdb', ...),</div></div><div class=\"d73a9046-ba57-4e00-9063-fa90f6682607\" style=\"display: none;\"><div style=\"display: table-cell;\"></div><div style=\"display: table-cell;\">glyph&nbsp;=&nbsp;Text(id='a34c4725-482c-4be1-a0c7-5124c45271d7', ...),</div></div><div class=\"d73a9046-ba57-4e00-9063-fa90f6682607\" style=\"display: none;\"><div style=\"display: table-cell;\"></div><div style=\"display: table-cell;\">hover_glyph&nbsp;=&nbsp;None,</div></div><div class=\"d73a9046-ba57-4e00-9063-fa90f6682607\" style=\"display: none;\"><div style=\"display: table-cell;\"></div><div style=\"display: table-cell;\">js_event_callbacks&nbsp;=&nbsp;{},</div></div><div class=\"d73a9046-ba57-4e00-9063-fa90f6682607\" style=\"display: none;\"><div style=\"display: table-cell;\"></div><div style=\"display: table-cell;\">js_property_callbacks&nbsp;=&nbsp;{},</div></div><div class=\"d73a9046-ba57-4e00-9063-fa90f6682607\" style=\"display: none;\"><div style=\"display: table-cell;\"></div><div style=\"display: table-cell;\">level&nbsp;=&nbsp;'glyph',</div></div><div class=\"d73a9046-ba57-4e00-9063-fa90f6682607\" style=\"display: none;\"><div style=\"display: table-cell;\"></div><div style=\"display: table-cell;\">muted&nbsp;=&nbsp;False,</div></div><div class=\"d73a9046-ba57-4e00-9063-fa90f6682607\" style=\"display: none;\"><div style=\"display: table-cell;\"></div><div style=\"display: table-cell;\">muted_glyph&nbsp;=&nbsp;None,</div></div><div class=\"d73a9046-ba57-4e00-9063-fa90f6682607\" style=\"display: none;\"><div style=\"display: table-cell;\"></div><div style=\"display: table-cell;\">name&nbsp;=&nbsp;None,</div></div><div class=\"d73a9046-ba57-4e00-9063-fa90f6682607\" style=\"display: none;\"><div style=\"display: table-cell;\"></div><div style=\"display: table-cell;\">nonselection_glyph&nbsp;=&nbsp;'auto',</div></div><div class=\"d73a9046-ba57-4e00-9063-fa90f6682607\" style=\"display: none;\"><div style=\"display: table-cell;\"></div><div style=\"display: table-cell;\">selection_glyph&nbsp;=&nbsp;'auto',</div></div><div class=\"d73a9046-ba57-4e00-9063-fa90f6682607\" style=\"display: none;\"><div style=\"display: table-cell;\"></div><div style=\"display: table-cell;\">subscribed_events&nbsp;=&nbsp;[],</div></div><div class=\"d73a9046-ba57-4e00-9063-fa90f6682607\" style=\"display: none;\"><div style=\"display: table-cell;\"></div><div style=\"display: table-cell;\">tags&nbsp;=&nbsp;[],</div></div><div class=\"d73a9046-ba57-4e00-9063-fa90f6682607\" style=\"display: none;\"><div style=\"display: table-cell;\"></div><div style=\"display: table-cell;\">view&nbsp;=&nbsp;CDSView(id='8921486b-196a-481c-b360-7fdeca9f3bc6', ...),</div></div><div class=\"d73a9046-ba57-4e00-9063-fa90f6682607\" style=\"display: none;\"><div style=\"display: table-cell;\"></div><div style=\"display: table-cell;\">visible&nbsp;=&nbsp;True,</div></div><div class=\"d73a9046-ba57-4e00-9063-fa90f6682607\" style=\"display: none;\"><div style=\"display: table-cell;\"></div><div style=\"display: table-cell;\">x_range_name&nbsp;=&nbsp;'default',</div></div><div class=\"d73a9046-ba57-4e00-9063-fa90f6682607\" style=\"display: none;\"><div style=\"display: table-cell;\"></div><div style=\"display: table-cell;\">y_range_name&nbsp;=&nbsp;'default')</div></div></div>\n",
       "<script>\n",
       "(function() {\n",
       "  var expanded = false;\n",
       "  var ellipsis = document.getElementById(\"5b103312-4ba1-43cc-ac54-a0ccc3d8f083\");\n",
       "  ellipsis.addEventListener(\"click\", function() {\n",
       "    var rows = document.getElementsByClassName(\"d73a9046-ba57-4e00-9063-fa90f6682607\");\n",
       "    for (var i = 0; i < rows.length; i++) {\n",
       "      var el = rows[i];\n",
       "      el.style.display = expanded ? \"none\" : \"table-row\";\n",
       "    }\n",
       "    ellipsis.innerHTML = expanded ? \"&hellip;)\" : \"&lsaquo;&lsaquo;&lsaquo;\";\n",
       "    expanded = !expanded;\n",
       "  });\n",
       "})();\n",
       "</script>\n"
      ],
      "text/plain": [
       "bokeh.models.renderers.GlyphRenderer(\n",
       "    id='2de3ef90-40f6-4173-93d7-b0463cb63a19',\n",
       "    data_source=bokeh.models.sources.ColumnDataSource(\n",
       "        id='b6204c95-878f-43ce-9c3c-b3161ec00bdb',\n",
       "        callback=None,\n",
       "        data={'year': ['2000']},\n",
       "        js_event_callbacks={},\n",
       "        js_property_callbacks={},\n",
       "        name=None,\n",
       "        selected=bokeh.models.selections.Selection(\n",
       "            id='ccf1a587-5187-4e6b-870a-85d644907f0c',\n",
       "            indices=[],\n",
       "            js_event_callbacks={},\n",
       "            js_property_callbacks={},\n",
       "            line_indices=[],\n",
       "            multiline_indices={},\n",
       "            name=None,\n",
       "            subscribed_events=[],\n",
       "            tags=[]),\n",
       "        selection_policy=bokeh.models.selections.UnionRenderers(\n",
       "            id='b03eff98-29e5-48f0-be1a-e70b7bc5e182',\n",
       "            js_event_callbacks={},\n",
       "            js_property_callbacks={},\n",
       "            name=None,\n",
       "            subscribed_events=[],\n",
       "            tags=[]),\n",
       "        subscribed_events=[],\n",
       "        tags=[]),\n",
       "    glyph=bokeh.models.glyphs.Text(\n",
       "        id='a34c4725-482c-4be1-a0c7-5124c45271d7',\n",
       "        angle={'value': 0, 'units': 'rad'},\n",
       "        js_event_callbacks={},\n",
       "        js_property_callbacks={},\n",
       "        name=None,\n",
       "        subscribed_events=[],\n",
       "        tags=[],\n",
       "        text={'field': 'year'},\n",
       "        text_align='left',\n",
       "        text_alpha={'value': 1.0},\n",
       "        text_baseline='bottom',\n",
       "        text_color={'value': '#EEEEEE'},\n",
       "        text_font='helvetica',\n",
       "        text_font_size={'value': '150pt'},\n",
       "        text_font_style='normal',\n",
       "        text_line_height=1.2,\n",
       "        x={'value': 30},\n",
       "        x_offset={'value': 0},\n",
       "        y={'value': 15},\n",
       "        y_offset={'value': 0}),\n",
       "    hover_glyph=None,\n",
       "    js_event_callbacks={},\n",
       "    js_property_callbacks={},\n",
       "    level='glyph',\n",
       "    muted=False,\n",
       "    muted_glyph=None,\n",
       "    name=None,\n",
       "    nonselection_glyph='auto',\n",
       "    selection_glyph='auto',\n",
       "    subscribed_events=[],\n",
       "    tags=[],\n",
       "    view=bokeh.models.sources.CDSView(\n",
       "        id='8921486b-196a-481c-b360-7fdeca9f3bc6',\n",
       "        filters=[],\n",
       "        js_event_callbacks={},\n",
       "        js_property_callbacks={},\n",
       "        name=None,\n",
       "        source=bokeh.models.sources.ColumnDataSource(\n",
       "            id='b6204c95-878f-43ce-9c3c-b3161ec00bdb',\n",
       "            callback=None,\n",
       "            data={'year': ['2000']},\n",
       "            js_event_callbacks={},\n",
       "            js_property_callbacks={},\n",
       "            name=None,\n",
       "            selected=bokeh.models.selections.Selection(\n",
       "                id='ccf1a587-5187-4e6b-870a-85d644907f0c',\n",
       "                indices=[],\n",
       "                js_event_callbacks={},\n",
       "                js_property_callbacks={},\n",
       "                line_indices=[],\n",
       "                multiline_indices={},\n",
       "                name=None,\n",
       "                subscribed_events=[],\n",
       "                tags=[]),\n",
       "            selection_policy=bokeh.models.selections.UnionRenderers(\n",
       "                id='b03eff98-29e5-48f0-be1a-e70b7bc5e182',\n",
       "                js_event_callbacks={},\n",
       "                js_property_callbacks={},\n",
       "                name=None,\n",
       "                subscribed_events=[],\n",
       "                tags=[]),\n",
       "            subscribed_events=[],\n",
       "            tags=[]),\n",
       "        subscribed_events=[],\n",
       "        tags=[]),\n",
       "    visible=True,\n",
       "    x_range_name='default',\n",
       "    y_range_name='default')"
      ]
     },
     "execution_count": 168,
     "metadata": {},
     "output_type": "execute_result"
    }
   ],
   "source": [
    "text_source = ColumnDataSource({'year': ['%s' % years[0]]})\n",
    "text = Text(x=30, y=15, text='year', text_font_size='150pt', text_color='#EEEEEE')\n",
    "plot.add_glyph(text_source, text)"
   ]
  },
  {
   "cell_type": "markdown",
   "metadata": {},
   "source": [
    "Test out different versions of the background text and see how it changes the plot:"
   ]
  },
  {
   "cell_type": "code",
   "execution_count": 169,
   "metadata": {},
   "outputs": [
    {
     "data": {
      "text/html": [
       "\n",
       "\n",
       "\n",
       "\n",
       "\n",
       "\n",
       "  <div class=\"bk-root\" id=\"d9008bb9-05e0-41b1-a6cf-fb82839d8da4\"></div>\n"
      ]
     },
     "metadata": {},
     "output_type": "display_data"
    },
    {
     "data": {
      "application/javascript": [
       "(function(root) {\n",
       "  function embed_document(root) {\n",
       "    \n",
       "  var docs_json = {\"06508033-2e78-4fdd-afbd-fe3a075b7b24\":{\"roots\":{\"references\":[{\"attributes\":{\"interval\":30},\"id\":\"4aafda9a-19cb-4c82-ad13-727e67056bf1\",\"type\":\"SingleIntervalTicker\"},{\"attributes\":{},\"id\":\"8beca1e5-9ec3-4104-b8cc-c5bbefa89965\",\"type\":\"BasicTickFormatter\"},{\"attributes\":{\"callback\":null,\"end\":50,\"start\":1},\"id\":\"9ef62068-7844-43bc-b384-3297926c9848\",\"type\":\"Range1d\"},{\"attributes\":{},\"id\":\"7c0f995d-68e5-4dec-853f-e56d9bd1090d\",\"type\":\"LinearScale\"},{\"attributes\":{\"below\":[{\"id\":\"ee05c7fb-e0b3-461c-bd55-b3dc0a059f65\",\"type\":\"LinearAxis\"}],\"left\":[{\"id\":\"5450d399-0403-4947-be19-4028c139ac7e\",\"type\":\"LinearAxis\"}],\"min_border\":20,\"outline_line_color\":{\"value\":null},\"plot_height\":400,\"plot_width\":800,\"renderers\":[{\"id\":\"ee05c7fb-e0b3-461c-bd55-b3dc0a059f65\",\"type\":\"LinearAxis\"},{\"id\":\"5450d399-0403-4947-be19-4028c139ac7e\",\"type\":\"LinearAxis\"},{\"id\":\"2de3ef90-40f6-4173-93d7-b0463cb63a19\",\"type\":\"GlyphRenderer\"}],\"title\":{\"id\":\"5598ac9f-7085-4bac-b4b6-2b078990641d\",\"type\":\"Title\"},\"toolbar\":{\"id\":\"cebb65cf-70e8-4553-b918-02d375c8b145\",\"type\":\"Toolbar\"},\"toolbar_location\":null,\"x_range\":{\"id\":\"2d3594d7-3648-4089-a794-b7bcb1470656\",\"type\":\"Range1d\"},\"x_scale\":{\"id\":\"7c0f995d-68e5-4dec-853f-e56d9bd1090d\",\"type\":\"LinearScale\"},\"y_range\":{\"id\":\"9ef62068-7844-43bc-b384-3297926c9848\",\"type\":\"Range1d\"},\"y_scale\":{\"id\":\"3d8a550f-4816-4d3e-a9e0-9c39d57a9cfc\",\"type\":\"LinearScale\"}},\"id\":\"b64bb497-abdf-4eef-b3a7-036c16e3af7b\",\"type\":\"Plot\"},{\"attributes\":{},\"id\":\"c9058639-15e9-47de-b41c-7514fa87bd20\",\"type\":\"BasicTickFormatter\"},{\"attributes\":{\"axis_label\":\"Miles\",\"axis_label_text_font_size\":{\"value\":\"10pt\"},\"axis_line_cap\":\"round\",\"axis_line_color\":{\"value\":\"#AAAAAA\"},\"formatter\":{\"id\":\"8beca1e5-9ec3-4104-b8cc-c5bbefa89965\",\"type\":\"BasicTickFormatter\"},\"major_label_text_color\":{\"value\":\"#666666\"},\"major_label_text_font_size\":{\"value\":\"10pt\"},\"major_tick_in\":null,\"major_tick_line_cap\":\"round\",\"major_tick_line_color\":{\"value\":\"#AAAAAA\"},\"minor_tick_in\":null,\"minor_tick_out\":null,\"plot\":{\"id\":\"b64bb497-abdf-4eef-b3a7-036c16e3af7b\",\"type\":\"Plot\"},\"ticker\":{\"id\":\"4aafda9a-19cb-4c82-ad13-727e67056bf1\",\"type\":\"SingleIntervalTicker\"}},\"id\":\"ee05c7fb-e0b3-461c-bd55-b3dc0a059f65\",\"type\":\"LinearAxis\"},{\"attributes\":{},\"id\":\"b03eff98-29e5-48f0-be1a-e70b7bc5e182\",\"type\":\"UnionRenderers\"},{\"attributes\":{\"axis_label\":\"Engine Size\",\"axis_label_text_font_size\":{\"value\":\"10pt\"},\"axis_line_cap\":\"round\",\"axis_line_color\":{\"value\":\"#AAAAAA\"},\"formatter\":{\"id\":\"c9058639-15e9-47de-b41c-7514fa87bd20\",\"type\":\"BasicTickFormatter\"},\"major_label_text_color\":{\"value\":\"#666666\"},\"major_label_text_font_size\":{\"value\":\"10pt\"},\"major_tick_in\":null,\"major_tick_line_cap\":\"round\",\"major_tick_line_color\":{\"value\":\"#AAAAAA\"},\"minor_tick_in\":null,\"minor_tick_out\":null,\"plot\":{\"id\":\"b64bb497-abdf-4eef-b3a7-036c16e3af7b\",\"type\":\"Plot\"},\"ticker\":{\"id\":\"991ba057-c7ca-4cd5-8551-a3d8c2167376\",\"type\":\"SingleIntervalTicker\"}},\"id\":\"5450d399-0403-4947-be19-4028c139ac7e\",\"type\":\"LinearAxis\"},{\"attributes\":{\"active_drag\":\"auto\",\"active_inspect\":\"auto\",\"active_multi\":null,\"active_scroll\":\"auto\",\"active_tap\":\"auto\"},\"id\":\"cebb65cf-70e8-4553-b918-02d375c8b145\",\"type\":\"Toolbar\"},{\"attributes\":{\"indices\":[],\"line_indices\":[]},\"id\":\"ccf1a587-5187-4e6b-870a-85d644907f0c\",\"type\":\"Selection\"},{\"attributes\":{\"plot\":null,\"text\":\"\"},\"id\":\"5598ac9f-7085-4bac-b4b6-2b078990641d\",\"type\":\"Title\"},{\"attributes\":{\"data_source\":{\"id\":\"b6204c95-878f-43ce-9c3c-b3161ec00bdb\",\"type\":\"ColumnDataSource\"},\"glyph\":{\"id\":\"a34c4725-482c-4be1-a0c7-5124c45271d7\",\"type\":\"Text\"},\"hover_glyph\":null,\"muted_glyph\":null,\"view\":{\"id\":\"8921486b-196a-481c-b360-7fdeca9f3bc6\",\"type\":\"CDSView\"}},\"id\":\"2de3ef90-40f6-4173-93d7-b0463cb63a19\",\"type\":\"GlyphRenderer\"},{\"attributes\":{\"callback\":null,\"data\":{\"year\":[\"2000\"]},\"selected\":{\"id\":\"ccf1a587-5187-4e6b-870a-85d644907f0c\",\"type\":\"Selection\"},\"selection_policy\":{\"id\":\"b03eff98-29e5-48f0-be1a-e70b7bc5e182\",\"type\":\"UnionRenderers\"}},\"id\":\"b6204c95-878f-43ce-9c3c-b3161ec00bdb\",\"type\":\"ColumnDataSource\"},{\"attributes\":{},\"id\":\"3d8a550f-4816-4d3e-a9e0-9c39d57a9cfc\",\"type\":\"LinearScale\"},{\"attributes\":{\"callback\":null,\"end\":300,\"start\":1},\"id\":\"2d3594d7-3648-4089-a794-b7bcb1470656\",\"type\":\"Range1d\"},{\"attributes\":{\"interval\":5},\"id\":\"991ba057-c7ca-4cd5-8551-a3d8c2167376\",\"type\":\"SingleIntervalTicker\"},{\"attributes\":{\"source\":{\"id\":\"b6204c95-878f-43ce-9c3c-b3161ec00bdb\",\"type\":\"ColumnDataSource\"}},\"id\":\"8921486b-196a-481c-b360-7fdeca9f3bc6\",\"type\":\"CDSView\"},{\"attributes\":{\"text\":{\"field\":\"year\"},\"text_color\":{\"value\":\"#EEEEEE\"},\"text_font_size\":{\"value\":\"150pt\"},\"x\":{\"value\":30},\"y\":{\"value\":15}},\"id\":\"a34c4725-482c-4be1-a0c7-5124c45271d7\",\"type\":\"Text\"}],\"root_ids\":[\"b64bb497-abdf-4eef-b3a7-036c16e3af7b\"]},\"title\":\"Bokeh Application\",\"version\":\"0.13.0\"}};\n",
       "  var render_items = [{\"docid\":\"06508033-2e78-4fdd-afbd-fe3a075b7b24\",\"roots\":{\"b64bb497-abdf-4eef-b3a7-036c16e3af7b\":\"d9008bb9-05e0-41b1-a6cf-fb82839d8da4\"}}];\n",
       "  root.Bokeh.embed.embed_items_notebook(docs_json, render_items);\n",
       "\n",
       "  }\n",
       "  if (root.Bokeh !== undefined) {\n",
       "    embed_document(root);\n",
       "  } else {\n",
       "    var attempts = 0;\n",
       "    var timer = setInterval(function(root) {\n",
       "      if (root.Bokeh !== undefined) {\n",
       "        embed_document(root);\n",
       "        clearInterval(timer);\n",
       "      }\n",
       "      attempts++;\n",
       "      if (attempts > 100) {\n",
       "        console.log(\"Bokeh: ERROR: Unable to run BokehJS code because BokehJS library is missing\")\n",
       "        clearInterval(timer);\n",
       "      }\n",
       "    }, 10, root)\n",
       "  }\n",
       "})(window);"
      ],
      "application/vnd.bokehjs_exec.v0+json": ""
     },
     "metadata": {
      "application/vnd.bokehjs_exec.v0+json": {
       "id": "b64bb497-abdf-4eef-b3a7-036c16e3af7b"
      }
     },
     "output_type": "display_data"
    }
   ],
   "source": [
    "show(plot)"
   ]
  },
  {
   "cell_type": "markdown",
   "metadata": {},
   "source": [
    "### Add the bubbles and hover\n",
    "Next we will add the bubbles using Bokeh's [`Circle`](http://bokeh.pydata.org/en/latest/docs/reference/plotting.html#bokeh.plotting.figure.Figure.circle) glyph. We start from the first year of data, which is our source that drives the circles (the other sources will be used later).    "
   ]
  },
  {
   "cell_type": "code",
   "execution_count": 170,
   "metadata": {},
   "outputs": [],
   "source": [
    "# Add the circle\n",
    "renderer_source = sources['_%s' % years[0]]\n",
    "circle_glyph = Circle(\n",
    "    x='miles_fs', y='engine_size_ss_encoded', size='price_fs',\n",
    "    fill_color='region_color', fill_alpha=0.8, \n",
    "    line_color='#7c7e71', line_width=0.5, line_alpha=0.5)\n",
    "\n",
    "circle_renderer = plot.add_glyph(renderer_source, circle_glyph)"
   ]
  },
  {
   "cell_type": "markdown",
   "metadata": {},
   "source": [
    "In the above, `plot.add_glyph` returns the renderer, which we can then pass to the `HoverTool` so that hover only happens for the bubbles on the page and not other glyph elements:"
   ]
  },
  {
   "cell_type": "code",
   "execution_count": 171,
   "metadata": {},
   "outputs": [],
   "source": [
    "# Add the hover (only against the circle and not other plot elements)\n",
    "tooltips = \"@index\"\n",
    "plot.add_tools(HoverTool(tooltips=tooltips, renderers=[circle_renderer]))"
   ]
  },
  {
   "cell_type": "markdown",
   "metadata": {},
   "source": [
    "Test out different parameters for the `Circle` glyph and see how it changes the plot:"
   ]
  },
  {
   "cell_type": "code",
   "execution_count": 172,
   "metadata": {},
   "outputs": [
    {
     "data": {
      "text/html": [
       "\n",
       "\n",
       "\n",
       "\n",
       "\n",
       "\n",
       "  <div class=\"bk-root\" id=\"0efcce60-2f10-4ebf-953b-133458365967\"></div>\n"
      ]
     },
     "metadata": {},
     "output_type": "display_data"
    },
    {
     "data": {
      "application/javascript": [
       "(function(root) {\n",
       "  function embed_document(root) {\n",
       "    \n",
       "  var docs_json = {\"823134cf-f5f8-47f8-908d-b24534b962b5\":{\"roots\":{\"references\":[{\"attributes\":{\"data_source\":{\"id\":\"a6dfa728-827e-4349-813e-2e79adcad7f2\",\"type\":\"ColumnDataSource\"},\"glyph\":{\"id\":\"6b51ee41-e199-46bb-8cef-1a51b9843d5c\",\"type\":\"Circle\"},\"hover_glyph\":null,\"muted_glyph\":null,\"view\":{\"id\":\"fa844226-43f0-4b60-9668-c3dc0ab4f8c0\",\"type\":\"CDSView\"}},\"id\":\"5b7250ea-826c-4197-bb70-cc7959d5ab6a\",\"type\":\"GlyphRenderer\"},{\"attributes\":{},\"id\":\"8beca1e5-9ec3-4104-b8cc-c5bbefa89965\",\"type\":\"BasicTickFormatter\"},{\"attributes\":{\"interval\":30},\"id\":\"4aafda9a-19cb-4c82-ad13-727e67056bf1\",\"type\":\"SingleIntervalTicker\"},{\"attributes\":{\"callback\":null,\"end\":50,\"start\":1},\"id\":\"9ef62068-7844-43bc-b384-3297926c9848\",\"type\":\"Range1d\"},{\"attributes\":{},\"id\":\"7c0f995d-68e5-4dec-853f-e56d9bd1090d\",\"type\":\"LinearScale\"},{\"attributes\":{\"below\":[{\"id\":\"ee05c7fb-e0b3-461c-bd55-b3dc0a059f65\",\"type\":\"LinearAxis\"}],\"left\":[{\"id\":\"5450d399-0403-4947-be19-4028c139ac7e\",\"type\":\"LinearAxis\"}],\"min_border\":20,\"outline_line_color\":{\"value\":null},\"plot_height\":400,\"plot_width\":800,\"renderers\":[{\"id\":\"ee05c7fb-e0b3-461c-bd55-b3dc0a059f65\",\"type\":\"LinearAxis\"},{\"id\":\"5450d399-0403-4947-be19-4028c139ac7e\",\"type\":\"LinearAxis\"},{\"id\":\"2de3ef90-40f6-4173-93d7-b0463cb63a19\",\"type\":\"GlyphRenderer\"},{\"id\":\"5b7250ea-826c-4197-bb70-cc7959d5ab6a\",\"type\":\"GlyphRenderer\"}],\"title\":{\"id\":\"5598ac9f-7085-4bac-b4b6-2b078990641d\",\"type\":\"Title\"},\"toolbar\":{\"id\":\"cebb65cf-70e8-4553-b918-02d375c8b145\",\"type\":\"Toolbar\"},\"toolbar_location\":null,\"x_range\":{\"id\":\"2d3594d7-3648-4089-a794-b7bcb1470656\",\"type\":\"Range1d\"},\"x_scale\":{\"id\":\"7c0f995d-68e5-4dec-853f-e56d9bd1090d\",\"type\":\"LinearScale\"},\"y_range\":{\"id\":\"9ef62068-7844-43bc-b384-3297926c9848\",\"type\":\"Range1d\"},\"y_scale\":{\"id\":\"3d8a550f-4816-4d3e-a9e0-9c39d57a9cfc\",\"type\":\"LinearScale\"}},\"id\":\"b64bb497-abdf-4eef-b3a7-036c16e3af7b\",\"type\":\"Plot\"},{\"attributes\":{},\"id\":\"c9058639-15e9-47de-b41c-7514fa87bd20\",\"type\":\"BasicTickFormatter\"},{\"attributes\":{\"axis_label\":\"Miles\",\"axis_label_text_font_size\":{\"value\":\"10pt\"},\"axis_line_cap\":\"round\",\"axis_line_color\":{\"value\":\"#AAAAAA\"},\"formatter\":{\"id\":\"8beca1e5-9ec3-4104-b8cc-c5bbefa89965\",\"type\":\"BasicTickFormatter\"},\"major_label_text_color\":{\"value\":\"#666666\"},\"major_label_text_font_size\":{\"value\":\"10pt\"},\"major_tick_in\":null,\"major_tick_line_cap\":\"round\",\"major_tick_line_color\":{\"value\":\"#AAAAAA\"},\"minor_tick_in\":null,\"minor_tick_out\":null,\"plot\":{\"id\":\"b64bb497-abdf-4eef-b3a7-036c16e3af7b\",\"type\":\"Plot\"},\"ticker\":{\"id\":\"4aafda9a-19cb-4c82-ad13-727e67056bf1\",\"type\":\"SingleIntervalTicker\"}},\"id\":\"ee05c7fb-e0b3-461c-bd55-b3dc0a059f65\",\"type\":\"LinearAxis\"},{\"attributes\":{},\"id\":\"b03eff98-29e5-48f0-be1a-e70b7bc5e182\",\"type\":\"UnionRenderers\"},{\"attributes\":{\"axis_label\":\"Engine Size\",\"axis_label_text_font_size\":{\"value\":\"10pt\"},\"axis_line_cap\":\"round\",\"axis_line_color\":{\"value\":\"#AAAAAA\"},\"formatter\":{\"id\":\"c9058639-15e9-47de-b41c-7514fa87bd20\",\"type\":\"BasicTickFormatter\"},\"major_label_text_color\":{\"value\":\"#666666\"},\"major_label_text_font_size\":{\"value\":\"10pt\"},\"major_tick_in\":null,\"major_tick_line_cap\":\"round\",\"major_tick_line_color\":{\"value\":\"#AAAAAA\"},\"minor_tick_in\":null,\"minor_tick_out\":null,\"plot\":{\"id\":\"b64bb497-abdf-4eef-b3a7-036c16e3af7b\",\"type\":\"Plot\"},\"ticker\":{\"id\":\"991ba057-c7ca-4cd5-8551-a3d8c2167376\",\"type\":\"SingleIntervalTicker\"}},\"id\":\"5450d399-0403-4947-be19-4028c139ac7e\",\"type\":\"LinearAxis\"},{\"attributes\":{},\"id\":\"e4db4ff0-8a66-4a7e-a91a-20e7555e309d\",\"type\":\"UnionRenderers\"},{\"attributes\":{\"active_drag\":\"auto\",\"active_inspect\":\"auto\",\"active_multi\":null,\"active_scroll\":\"auto\",\"active_tap\":\"auto\",\"tools\":[{\"id\":\"044a03cc-a19b-4035-bc9a-80698eb702a0\",\"type\":\"HoverTool\"}]},\"id\":\"cebb65cf-70e8-4553-b918-02d375c8b145\",\"type\":\"Toolbar\"},{\"attributes\":{\"indices\":[],\"line_indices\":[]},\"id\":\"ccf1a587-5187-4e6b-870a-85d644907f0c\",\"type\":\"Selection\"},{\"attributes\":{\"plot\":null,\"text\":\"\"},\"id\":\"5598ac9f-7085-4bac-b4b6-2b078990641d\",\"type\":\"Title\"},{\"attributes\":{\"data_source\":{\"id\":\"b6204c95-878f-43ce-9c3c-b3161ec00bdb\",\"type\":\"ColumnDataSource\"},\"glyph\":{\"id\":\"a34c4725-482c-4be1-a0c7-5124c45271d7\",\"type\":\"Text\"},\"hover_glyph\":null,\"muted_glyph\":null,\"view\":{\"id\":\"8921486b-196a-481c-b360-7fdeca9f3bc6\",\"type\":\"CDSView\"}},\"id\":\"2de3ef90-40f6-4173-93d7-b0463cb63a19\",\"type\":\"GlyphRenderer\"},{\"attributes\":{\"callback\":null,\"data\":{\"year\":[\"2000\"]},\"selected\":{\"id\":\"ccf1a587-5187-4e6b-870a-85d644907f0c\",\"type\":\"Selection\"},\"selection_policy\":{\"id\":\"b03eff98-29e5-48f0-be1a-e70b7bc5e182\",\"type\":\"UnionRenderers\"}},\"id\":\"b6204c95-878f-43ce-9c3c-b3161ec00bdb\",\"type\":\"ColumnDataSource\"},{\"attributes\":{},\"id\":\"3d8a550f-4816-4d3e-a9e0-9c39d57a9cfc\",\"type\":\"LinearScale\"},{\"attributes\":{},\"id\":\"815c593b-1a9d-4851-926b-c34726167e30\",\"type\":\"Selection\"},{\"attributes\":{\"interval\":5},\"id\":\"991ba057-c7ca-4cd5-8551-a3d8c2167376\",\"type\":\"SingleIntervalTicker\"},{\"attributes\":{\"callback\":null,\"end\":300,\"start\":1},\"id\":\"2d3594d7-3648-4089-a794-b7bcb1470656\",\"type\":\"Range1d\"},{\"attributes\":{\"source\":{\"id\":\"b6204c95-878f-43ce-9c3c-b3161ec00bdb\",\"type\":\"ColumnDataSource\"}},\"id\":\"8921486b-196a-481c-b360-7fdeca9f3bc6\",\"type\":\"CDSView\"},{\"attributes\":{\"text\":{\"field\":\"year\"},\"text_color\":{\"value\":\"#EEEEEE\"},\"text_font_size\":{\"value\":\"150pt\"},\"x\":{\"value\":30},\"y\":{\"value\":15}},\"id\":\"a34c4725-482c-4be1-a0c7-5124c45271d7\",\"type\":\"Text\"},{\"attributes\":{\"fill_alpha\":{\"value\":0.8},\"fill_color\":{\"field\":\"region_color\"},\"line_alpha\":{\"value\":0.5},\"line_color\":{\"value\":\"#7c7e71\"},\"line_width\":{\"value\":0.5},\"size\":{\"field\":\"price_fs\",\"units\":\"screen\"},\"x\":{\"field\":\"miles_fs\"},\"y\":{\"field\":\"engine_size_ss_encoded\"}},\"id\":\"6b51ee41-e199-46bb-8cef-1a51b9843d5c\",\"type\":\"Circle\"},{\"attributes\":{\"callback\":null,\"data\":{\"engine_size_ss_encoded\":{\"__ndarray__\":\"5DiO4ziONUAAAAAAAIA4QAAAAAAAADVAq6qqqqqqNEBVVVVVVVUyQAAAAAAA4DJA2FBeQ3kNM0AAAAAAAAAyQAAAAAAAADBAMzMzMzMzNUCSJEmSJEk0QAAAAAAAgDdAAAAAAAAANkAAAAAAAAA3QAAAAAAAAC5AAAAAAADANECamZmZmZk1QAAAAAAAAC5AHMdxHMfxM0AAAAAAAAA3QAAAAAAAAC5AAAAAAAAAOEAAAAAAAAA6QDuxEzuxEzZAAAAAAAAAM0DkOI7jOI4yQKuqqqqqKjJAZmZmZmZmNkByHMdxHMctQG7btm3btjNAq6qqqqoqNUCMLrrooos0QDMzMzMzszNAAAAAAACAOEA=\",\"dtype\":\"float64\",\"shape\":[34]},\"index\":[\"AL\",\"AR\",\"AZ\",\"CA\",\"CO\",\"FL\",\"GA\",\"HI\",\"IA\",\"IL\",\"IN\",\"KS\",\"KY\",\"MD\",\"MI\",\"MN\",\"MO\",\"MT\",\"NC\",\"NE\",\"NM\",\"NV\",\"NY\",\"OH\",\"OK\",\"OR\",\"PA\",\"SC\",\"TN\",\"TX\",\"UT\",\"VA\",\"WA\",\"WI\"],\"miles_fs\":{\"__ndarray__\":\"plScffgEZ0DIdr6fGvVpQPT91HjpBl9AvuZC0pRgYkDp3whl9IBlQF+6SQyCSmJAW2sE8ZxIYkCIFtnO92FWQPup8dJNgmdAZvfkYaF6ZkBZZDvfT51nQLpJDAIrR2xAcT0K16POZ0AAAAAAACBsQMuhRbbzyWJAsHJoke0HZkB1JJf/kPJjQJhuEoPApmZAhTccNH8JY0Ce76fGSxtpQOxRuB6Fc19AAAAAAAAAYkBmZmZmZtZRQFY8aQSESmhAXnZPHhbdZECoM1kYcRdjQLu7u7u7oWNAQFdbsb/UbUDLwogbe9NjQFK4HoXrlWdAF9nO91P/aUC/RvxrxANiQGLuWkI+DmJAqMZLN4kfbUA=\",\"dtype\":\"float64\",\"shape\":[34]},\"price_fs\":{\"__ndarray__\":\"i0YCvnmVQ0CamZmZmfk8QMlQ2WHqglRA5xdLfrGkTEBLfrHkF/tOQJuZmZmZ/UhAnlQZw6LWTECuR+F6FI5KQOm0gU4bqEBAZTvfT403Q0CbSkPOfTZCQAAAAAAA4ENANDMzMzMzPUBxPQrXo/A1QAAAAAAAAERA16NwPQoLQkCNl24Sg2BMQDMzMzMz8zNAPCsaCfh2RUAAAAAAAAA4QB+F61G4/kNAPQrXo3D9PUCPwvUoXD9QQDUZYM6yuT1A8KfGSzcJS0Bcj8L1KLxNQIwlv1jyy0pAtvP91HgpP0Bz+4MMlf1FQBpy7rMLaEFAbaDTBjqNOUDl814+7+VAQMHKoUW2c0JApHA9CtdzQ0A=\",\"dtype\":\"float64\",\"shape\":[34]},\"region_color\":[\"#fc8d59\",\"#fc8d59\",\"#d53e4f\",\"#3288bd\",\"#fee08b\",\"#fc8d59\",\"#fc8d59\",\"#3288bd\",\"#ffffbf\",\"#99d594\",\"#99d594\",\"#ffffbf\",\"#fc8d59\",\"#e6f598\",\"#99d594\",\"#ffffbf\",\"#ffffbf\",\"#fee08b\",\"#fc8d59\",\"#ffffbf\",\"#d53e4f\",\"#3288bd\",\"#e6f598\",\"#99d594\",\"#d53e4f\",\"#3288bd\",\"#e6f598\",\"#fc8d59\",\"#fc8d59\",\"#d53e4f\",\"#fee08b\",\"#fc8d59\",\"#3288bd\",\"#99d594\"]},\"selected\":{\"id\":\"815c593b-1a9d-4851-926b-c34726167e30\",\"type\":\"Selection\"},\"selection_policy\":{\"id\":\"e4db4ff0-8a66-4a7e-a91a-20e7555e309d\",\"type\":\"UnionRenderers\"}},\"id\":\"a6dfa728-827e-4349-813e-2e79adcad7f2\",\"type\":\"ColumnDataSource\"},{\"attributes\":{\"source\":{\"id\":\"a6dfa728-827e-4349-813e-2e79adcad7f2\",\"type\":\"ColumnDataSource\"}},\"id\":\"fa844226-43f0-4b60-9668-c3dc0ab4f8c0\",\"type\":\"CDSView\"},{\"attributes\":{\"callback\":null,\"renderers\":[{\"id\":\"5b7250ea-826c-4197-bb70-cc7959d5ab6a\",\"type\":\"GlyphRenderer\"}],\"tooltips\":\"@index\"},\"id\":\"044a03cc-a19b-4035-bc9a-80698eb702a0\",\"type\":\"HoverTool\"}],\"root_ids\":[\"b64bb497-abdf-4eef-b3a7-036c16e3af7b\"]},\"title\":\"Bokeh Application\",\"version\":\"0.13.0\"}};\n",
       "  var render_items = [{\"docid\":\"823134cf-f5f8-47f8-908d-b24534b962b5\",\"roots\":{\"b64bb497-abdf-4eef-b3a7-036c16e3af7b\":\"0efcce60-2f10-4ebf-953b-133458365967\"}}];\n",
       "  root.Bokeh.embed.embed_items_notebook(docs_json, render_items);\n",
       "\n",
       "  }\n",
       "  if (root.Bokeh !== undefined) {\n",
       "    embed_document(root);\n",
       "  } else {\n",
       "    var attempts = 0;\n",
       "    var timer = setInterval(function(root) {\n",
       "      if (root.Bokeh !== undefined) {\n",
       "        embed_document(root);\n",
       "        clearInterval(timer);\n",
       "      }\n",
       "      attempts++;\n",
       "      if (attempts > 100) {\n",
       "        console.log(\"Bokeh: ERROR: Unable to run BokehJS code because BokehJS library is missing\")\n",
       "        clearInterval(timer);\n",
       "      }\n",
       "    }, 10, root)\n",
       "  }\n",
       "})(window);"
      ],
      "application/vnd.bokehjs_exec.v0+json": ""
     },
     "metadata": {
      "application/vnd.bokehjs_exec.v0+json": {
       "id": "b64bb497-abdf-4eef-b3a7-036c16e3af7b"
      }
     },
     "output_type": "display_data"
    }
   ],
   "source": [
    "show(plot)"
   ]
  },
  {
   "cell_type": "markdown",
   "metadata": {},
   "source": [
    "### Add the legend\n",
    "\n",
    "Next we will manually build a legend for our plot by adding circles and texts to the upper-righthand portion:"
   ]
  },
  {
   "cell_type": "code",
   "execution_count": 173,
   "metadata": {},
   "outputs": [
    {
     "data": {
      "text/plain": [
       "['Far West Region',\n",
       " 'Great Lakes Region',\n",
       " 'Mideast Region',\n",
       " 'Plains Region',\n",
       " 'Rocky Mountain Region',\n",
       " 'Southeast Region',\n",
       " 'Southwest Region']"
      ]
     },
     "execution_count": 173,
     "metadata": {},
     "output_type": "execute_result"
    }
   ],
   "source": [
    "text_x = 250\n",
    "text_y = 40\n",
    "for i, region in enumerate(regions_list):\n",
    "    plot.add_glyph(Text(x=text_x, y=text_y, text=[region], text_font_size='10pt', text_color='#666666'))\n",
    "    plot.add_glyph(Circle(x=text_x - 0.1, y=text_y + 2, fill_color=Spectral7[i], size=10, line_color=None, fill_alpha=0.8))\n",
    "    text_y = text_y - 5\n",
    "\n",
    "regions_list"
   ]
  },
  {
   "cell_type": "markdown",
   "metadata": {},
   "source": [
    "Experiment with different parameters, and test it out by running the below cell:"
   ]
  },
  {
   "cell_type": "code",
   "execution_count": 174,
   "metadata": {},
   "outputs": [
    {
     "data": {
      "text/html": [
       "\n",
       "\n",
       "\n",
       "\n",
       "\n",
       "\n",
       "  <div class=\"bk-root\" id=\"ab649c72-366a-46f3-9243-a08bfebc6445\"></div>\n"
      ]
     },
     "metadata": {},
     "output_type": "display_data"
    },
    {
     "data": {
      "application/javascript": [
       "(function(root) {\n",
       "  function embed_document(root) {\n",
       "    \n",
       "  var docs_json = {\"0c156461-a97e-48ea-9e82-4f71b055b134\":{\"roots\":{\"references\":[{\"attributes\":{\"data_source\":{\"id\":\"a448a963-6436-4aa3-add7-d46850c913b0\",\"type\":\"ColumnDataSource\"},\"glyph\":{\"id\":\"18e00b5b-4e0c-4228-af86-8e68793756c6\",\"type\":\"Circle\"},\"hover_glyph\":null,\"muted_glyph\":null,\"view\":{\"id\":\"370515b1-19c5-49fe-984a-eadc176c623a\",\"type\":\"CDSView\"}},\"id\":\"b2c7d9f1-5f6e-43dd-a6a9-2a08eac39f0f\",\"type\":\"GlyphRenderer\"},{\"attributes\":{\"callback\":null,\"data\":{},\"selected\":{\"id\":\"0568263b-7308-4bdb-8266-8f470feb9974\",\"type\":\"Selection\"},\"selection_policy\":{\"id\":\"d8e22eb8-76e8-46a2-bacb-b7aa38b4417e\",\"type\":\"UnionRenderers\"}},\"id\":\"60f5a7b7-ac1d-49ff-bce2-3d695eade535\",\"type\":\"ColumnDataSource\"},{\"attributes\":{},\"id\":\"241f2404-7d4c-4494-a6aa-bd6463d65d62\",\"type\":\"Selection\"},{\"attributes\":{\"data_source\":{\"id\":\"cc4a3614-21f7-4763-9858-1e96c1546ba4\",\"type\":\"ColumnDataSource\"},\"glyph\":{\"id\":\"1301560b-2efb-4865-9ba4-65c27f5bc08a\",\"type\":\"Text\"},\"hover_glyph\":null,\"muted_glyph\":null,\"view\":{\"id\":\"9afb8ec1-aa8e-40a3-a99c-b8b7e60f5243\",\"type\":\"CDSView\"}},\"id\":\"e1ac78a4-fe29-4f91-b72e-ce639a015aa5\",\"type\":\"GlyphRenderer\"},{\"attributes\":{},\"id\":\"d8e22eb8-76e8-46a2-bacb-b7aa38b4417e\",\"type\":\"UnionRenderers\"},{\"attributes\":{},\"id\":\"18f9fd86-8f97-4caa-88fb-69d80b742b05\",\"type\":\"Selection\"},{\"attributes\":{\"axis_label\":\"Miles\",\"axis_label_text_font_size\":{\"value\":\"10pt\"},\"axis_line_cap\":\"round\",\"axis_line_color\":{\"value\":\"#AAAAAA\"},\"formatter\":{\"id\":\"8beca1e5-9ec3-4104-b8cc-c5bbefa89965\",\"type\":\"BasicTickFormatter\"},\"major_label_text_color\":{\"value\":\"#666666\"},\"major_label_text_font_size\":{\"value\":\"10pt\"},\"major_tick_in\":null,\"major_tick_line_cap\":\"round\",\"major_tick_line_color\":{\"value\":\"#AAAAAA\"},\"minor_tick_in\":null,\"minor_tick_out\":null,\"plot\":{\"id\":\"b64bb497-abdf-4eef-b3a7-036c16e3af7b\",\"type\":\"Plot\"},\"ticker\":{\"id\":\"4aafda9a-19cb-4c82-ad13-727e67056bf1\",\"type\":\"SingleIntervalTicker\"}},\"id\":\"ee05c7fb-e0b3-461c-bd55-b3dc0a059f65\",\"type\":\"LinearAxis\"},{\"attributes\":{},\"id\":\"efafbdd4-7c7d-4935-8809-63c0c5bc7707\",\"type\":\"UnionRenderers\"},{\"attributes\":{},\"id\":\"8223342f-e2d2-43ae-9d69-5d9c336dffba\",\"type\":\"Selection\"},{\"attributes\":{\"active_drag\":\"auto\",\"active_inspect\":\"auto\",\"active_multi\":null,\"active_scroll\":\"auto\",\"active_tap\":\"auto\",\"tools\":[{\"id\":\"044a03cc-a19b-4035-bc9a-80698eb702a0\",\"type\":\"HoverTool\"}]},\"id\":\"cebb65cf-70e8-4553-b918-02d375c8b145\",\"type\":\"Toolbar\"},{\"attributes\":{\"fill_alpha\":{\"value\":0.8},\"fill_color\":{\"value\":\"#d53e4f\"},\"line_color\":{\"value\":null},\"size\":{\"units\":\"screen\",\"value\":10},\"x\":{\"value\":249.9},\"y\":{\"value\":12}},\"id\":\"2753a413-c094-4ed0-ae81-00c55f51460e\",\"type\":\"Circle\"},{\"attributes\":{\"callback\":null,\"data\":{\"year\":[\"2000\"]},\"selected\":{\"id\":\"ccf1a587-5187-4e6b-870a-85d644907f0c\",\"type\":\"Selection\"},\"selection_policy\":{\"id\":\"b03eff98-29e5-48f0-be1a-e70b7bc5e182\",\"type\":\"UnionRenderers\"}},\"id\":\"b6204c95-878f-43ce-9c3c-b3161ec00bdb\",\"type\":\"ColumnDataSource\"},{\"attributes\":{},\"id\":\"8a12cbce-9818-4273-82c9-7fe7a556ba41\",\"type\":\"Selection\"},{\"attributes\":{\"fill_alpha\":{\"value\":0.8},\"fill_color\":{\"value\":\"#3288bd\"},\"line_color\":{\"value\":null},\"size\":{\"units\":\"screen\",\"value\":10},\"x\":{\"value\":249.9},\"y\":{\"value\":42}},\"id\":\"9250c5af-d26c-47a9-ab6b-3a09b9fbb01b\",\"type\":\"Circle\"},{\"attributes\":{},\"id\":\"815c593b-1a9d-4851-926b-c34726167e30\",\"type\":\"Selection\"},{\"attributes\":{\"source\":{\"id\":\"60f5a7b7-ac1d-49ff-bce2-3d695eade535\",\"type\":\"ColumnDataSource\"}},\"id\":\"8cb9f328-06b6-4df1-a0c7-df61983b69b8\",\"type\":\"CDSView\"},{\"attributes\":{},\"id\":\"be2a566f-a71a-4b88-89e5-7856c5339dd4\",\"type\":\"UnionRenderers\"},{\"attributes\":{\"callback\":null,\"data\":{},\"selected\":{\"id\":\"bd295d95-932a-44c4-b364-ddfca99a364d\",\"type\":\"Selection\"},\"selection_policy\":{\"id\":\"be2a566f-a71a-4b88-89e5-7856c5339dd4\",\"type\":\"UnionRenderers\"}},\"id\":\"198ac148-bb19-4982-b76a-dbe0c8f5ebff\",\"type\":\"ColumnDataSource\"},{\"attributes\":{\"source\":{\"id\":\"0b7a1973-e734-42e6-a82e-00431833b437\",\"type\":\"ColumnDataSource\"}},\"id\":\"c0464c53-7543-488f-83e8-86d155301f5b\",\"type\":\"CDSView\"},{\"attributes\":{\"callback\":null,\"data\":{\"engine_size_ss_encoded\":{\"__ndarray__\":\"5DiO4ziONUAAAAAAAIA4QAAAAAAAADVAq6qqqqqqNEBVVVVVVVUyQAAAAAAA4DJA2FBeQ3kNM0AAAAAAAAAyQAAAAAAAADBAMzMzMzMzNUCSJEmSJEk0QAAAAAAAgDdAAAAAAAAANkAAAAAAAAA3QAAAAAAAAC5AAAAAAADANECamZmZmZk1QAAAAAAAAC5AHMdxHMfxM0AAAAAAAAA3QAAAAAAAAC5AAAAAAAAAOEAAAAAAAAA6QDuxEzuxEzZAAAAAAAAAM0DkOI7jOI4yQKuqqqqqKjJAZmZmZmZmNkByHMdxHMctQG7btm3btjNAq6qqqqoqNUCMLrrooos0QDMzMzMzszNAAAAAAACAOEA=\",\"dtype\":\"float64\",\"shape\":[34]},\"index\":[\"AL\",\"AR\",\"AZ\",\"CA\",\"CO\",\"FL\",\"GA\",\"HI\",\"IA\",\"IL\",\"IN\",\"KS\",\"KY\",\"MD\",\"MI\",\"MN\",\"MO\",\"MT\",\"NC\",\"NE\",\"NM\",\"NV\",\"NY\",\"OH\",\"OK\",\"OR\",\"PA\",\"SC\",\"TN\",\"TX\",\"UT\",\"VA\",\"WA\",\"WI\"],\"miles_fs\":{\"__ndarray__\":\"plScffgEZ0DIdr6fGvVpQPT91HjpBl9AvuZC0pRgYkDp3whl9IBlQF+6SQyCSmJAW2sE8ZxIYkCIFtnO92FWQPup8dJNgmdAZvfkYaF6ZkBZZDvfT51nQLpJDAIrR2xAcT0K16POZ0AAAAAAACBsQMuhRbbzyWJAsHJoke0HZkB1JJf/kPJjQJhuEoPApmZAhTccNH8JY0Ce76fGSxtpQOxRuB6Fc19AAAAAAAAAYkBmZmZmZtZRQFY8aQSESmhAXnZPHhbdZECoM1kYcRdjQLu7u7u7oWNAQFdbsb/UbUDLwogbe9NjQFK4HoXrlWdAF9nO91P/aUC/RvxrxANiQGLuWkI+DmJAqMZLN4kfbUA=\",\"dtype\":\"float64\",\"shape\":[34]},\"price_fs\":{\"__ndarray__\":\"i0YCvnmVQ0CamZmZmfk8QMlQ2WHqglRA5xdLfrGkTEBLfrHkF/tOQJuZmZmZ/UhAnlQZw6LWTECuR+F6FI5KQOm0gU4bqEBAZTvfT403Q0CbSkPOfTZCQAAAAAAA4ENANDMzMzMzPUBxPQrXo/A1QAAAAAAAAERA16NwPQoLQkCNl24Sg2BMQDMzMzMz8zNAPCsaCfh2RUAAAAAAAAA4QB+F61G4/kNAPQrXo3D9PUCPwvUoXD9QQDUZYM6yuT1A8KfGSzcJS0Bcj8L1KLxNQIwlv1jyy0pAtvP91HgpP0Bz+4MMlf1FQBpy7rMLaEFAbaDTBjqNOUDl814+7+VAQMHKoUW2c0JApHA9CtdzQ0A=\",\"dtype\":\"float64\",\"shape\":[34]},\"region_color\":[\"#fc8d59\",\"#fc8d59\",\"#d53e4f\",\"#3288bd\",\"#fee08b\",\"#fc8d59\",\"#fc8d59\",\"#3288bd\",\"#ffffbf\",\"#99d594\",\"#99d594\",\"#ffffbf\",\"#fc8d59\",\"#e6f598\",\"#99d594\",\"#ffffbf\",\"#ffffbf\",\"#fee08b\",\"#fc8d59\",\"#ffffbf\",\"#d53e4f\",\"#3288bd\",\"#e6f598\",\"#99d594\",\"#d53e4f\",\"#3288bd\",\"#e6f598\",\"#fc8d59\",\"#fc8d59\",\"#d53e4f\",\"#fee08b\",\"#fc8d59\",\"#3288bd\",\"#99d594\"]},\"selected\":{\"id\":\"815c593b-1a9d-4851-926b-c34726167e30\",\"type\":\"Selection\"},\"selection_policy\":{\"id\":\"e4db4ff0-8a66-4a7e-a91a-20e7555e309d\",\"type\":\"UnionRenderers\"}},\"id\":\"a6dfa728-827e-4349-813e-2e79adcad7f2\",\"type\":\"ColumnDataSource\"},{\"attributes\":{\"data_source\":{\"id\":\"eec0c1a6-b0dc-4681-8b2d-75fb07bfe52e\",\"type\":\"ColumnDataSource\"},\"glyph\":{\"id\":\"207e6398-3121-4802-869f-bbf50ecae9f1\",\"type\":\"Text\"},\"hover_glyph\":null,\"muted_glyph\":null,\"view\":{\"id\":\"0f27505f-814b-44bc-b495-82dfc03726c6\",\"type\":\"CDSView\"}},\"id\":\"f632b181-3a4f-45e1-a315-2cda8a1c0c92\",\"type\":\"GlyphRenderer\"},{\"attributes\":{\"callback\":null,\"renderers\":[{\"id\":\"5b7250ea-826c-4197-bb70-cc7959d5ab6a\",\"type\":\"GlyphRenderer\"}],\"tooltips\":\"@index\"},\"id\":\"044a03cc-a19b-4035-bc9a-80698eb702a0\",\"type\":\"HoverTool\"},{\"attributes\":{\"text\":{\"value\":\"Southwest Region\"},\"text_color\":{\"value\":\"#666666\"},\"text_font_size\":{\"value\":\"10pt\"},\"x\":{\"value\":250},\"y\":{\"value\":10}},\"id\":\"207e6398-3121-4802-869f-bbf50ecae9f1\",\"type\":\"Text\"},{\"attributes\":{\"source\":{\"id\":\"eec0c1a6-b0dc-4681-8b2d-75fb07bfe52e\",\"type\":\"ColumnDataSource\"}},\"id\":\"0f27505f-814b-44bc-b495-82dfc03726c6\",\"type\":\"CDSView\"},{\"attributes\":{},\"id\":\"bb8f6a79-e8cd-4e0b-af46-929b69988eae\",\"type\":\"Selection\"},{\"attributes\":{\"text\":{\"value\":\"Mideast Region\"},\"text_color\":{\"value\":\"#666666\"},\"text_font_size\":{\"value\":\"10pt\"},\"x\":{\"value\":250},\"y\":{\"value\":30}},\"id\":\"85d200a4-91c5-4838-b2de-05db7f334a48\",\"type\":\"Text\"},{\"attributes\":{\"callback\":null,\"data\":{},\"selected\":{\"id\":\"bb8f6a79-e8cd-4e0b-af46-929b69988eae\",\"type\":\"Selection\"},\"selection_policy\":{\"id\":\"db25eed1-476f-4785-849a-74ae381799e5\",\"type\":\"UnionRenderers\"}},\"id\":\"d2bce801-7cb7-4ff2-b354-529aa58aa871\",\"type\":\"ColumnDataSource\"},{\"attributes\":{\"callback\":null,\"data\":{},\"selected\":{\"id\":\"51c3cff2-b4a1-405e-9ddc-475317022912\",\"type\":\"Selection\"},\"selection_policy\":{\"id\":\"9a9f1e4f-22ef-4013-8cac-0d4d591250ce\",\"type\":\"UnionRenderers\"}},\"id\":\"b030bd5b-1b64-4e39-a496-f9345026bcca\",\"type\":\"ColumnDataSource\"},{\"attributes\":{},\"id\":\"a3a7d1ea-66cf-43d1-84b7-0d35e94294d3\",\"type\":\"Selection\"},{\"attributes\":{\"callback\":null,\"end\":50,\"start\":1},\"id\":\"9ef62068-7844-43bc-b384-3297926c9848\",\"type\":\"Range1d\"},{\"attributes\":{},\"id\":\"bd295d95-932a-44c4-b364-ddfca99a364d\",\"type\":\"Selection\"},{\"attributes\":{\"below\":[{\"id\":\"ee05c7fb-e0b3-461c-bd55-b3dc0a059f65\",\"type\":\"LinearAxis\"}],\"left\":[{\"id\":\"5450d399-0403-4947-be19-4028c139ac7e\",\"type\":\"LinearAxis\"}],\"min_border\":20,\"outline_line_color\":{\"value\":null},\"plot_height\":400,\"plot_width\":800,\"renderers\":[{\"id\":\"ee05c7fb-e0b3-461c-bd55-b3dc0a059f65\",\"type\":\"LinearAxis\"},{\"id\":\"5450d399-0403-4947-be19-4028c139ac7e\",\"type\":\"LinearAxis\"},{\"id\":\"2de3ef90-40f6-4173-93d7-b0463cb63a19\",\"type\":\"GlyphRenderer\"},{\"id\":\"5b7250ea-826c-4197-bb70-cc7959d5ab6a\",\"type\":\"GlyphRenderer\"},{\"id\":\"4b984e69-755a-4d19-b5ed-c42ca1025f56\",\"type\":\"GlyphRenderer\"},{\"id\":\"823f5123-83e1-4c32-bf89-c4438eed52b0\",\"type\":\"GlyphRenderer\"},{\"id\":\"fdc25f1c-4bd7-4382-a3f3-3fdb30549c17\",\"type\":\"GlyphRenderer\"},{\"id\":\"495a09e1-7cf9-4663-a696-3d4660edb7f0\",\"type\":\"GlyphRenderer\"},{\"id\":\"468f6c36-4e64-4227-9953-6500cf924683\",\"type\":\"GlyphRenderer\"},{\"id\":\"6a933d84-b384-40a0-b977-43187b61906a\",\"type\":\"GlyphRenderer\"},{\"id\":\"557f1bbd-114d-4789-9a5c-9dc725bd5607\",\"type\":\"GlyphRenderer\"},{\"id\":\"b2c7d9f1-5f6e-43dd-a6a9-2a08eac39f0f\",\"type\":\"GlyphRenderer\"},{\"id\":\"e1ac78a4-fe29-4f91-b72e-ce639a015aa5\",\"type\":\"GlyphRenderer\"},{\"id\":\"db626231-04a5-42e2-8843-67cb3c62571c\",\"type\":\"GlyphRenderer\"},{\"id\":\"440cc9fb-1d3d-4f0b-bc66-5106bf50d07d\",\"type\":\"GlyphRenderer\"},{\"id\":\"4b929a3a-3f07-498b-86d0-6455494a5928\",\"type\":\"GlyphRenderer\"},{\"id\":\"f632b181-3a4f-45e1-a315-2cda8a1c0c92\",\"type\":\"GlyphRenderer\"},{\"id\":\"4d83daf3-c957-415b-97bb-a3b1925c25be\",\"type\":\"GlyphRenderer\"}],\"title\":{\"id\":\"5598ac9f-7085-4bac-b4b6-2b078990641d\",\"type\":\"Title\"},\"toolbar\":{\"id\":\"cebb65cf-70e8-4553-b918-02d375c8b145\",\"type\":\"Toolbar\"},\"toolbar_location\":null,\"x_range\":{\"id\":\"2d3594d7-3648-4089-a794-b7bcb1470656\",\"type\":\"Range1d\"},\"x_scale\":{\"id\":\"7c0f995d-68e5-4dec-853f-e56d9bd1090d\",\"type\":\"LinearScale\"},\"y_range\":{\"id\":\"9ef62068-7844-43bc-b384-3297926c9848\",\"type\":\"Range1d\"},\"y_scale\":{\"id\":\"3d8a550f-4816-4d3e-a9e0-9c39d57a9cfc\",\"type\":\"LinearScale\"}},\"id\":\"b64bb497-abdf-4eef-b3a7-036c16e3af7b\",\"type\":\"Plot\"},{\"attributes\":{},\"id\":\"c9058639-15e9-47de-b41c-7514fa87bd20\",\"type\":\"BasicTickFormatter\"},{\"attributes\":{},\"id\":\"b03eff98-29e5-48f0-be1a-e70b7bc5e182\",\"type\":\"UnionRenderers\"},{\"attributes\":{\"data_source\":{\"id\":\"0b7a1973-e734-42e6-a82e-00431833b437\",\"type\":\"ColumnDataSource\"},\"glyph\":{\"id\":\"c524ce4a-7501-419f-bb13-01df6621dcf6\",\"type\":\"Circle\"},\"hover_glyph\":null,\"muted_glyph\":null,\"view\":{\"id\":\"c0464c53-7543-488f-83e8-86d155301f5b\",\"type\":\"CDSView\"}},\"id\":\"495a09e1-7cf9-4663-a696-3d4660edb7f0\",\"type\":\"GlyphRenderer\"},{\"attributes\":{},\"id\":\"9ae434d9-86f6-4429-a57f-7f2542643d73\",\"type\":\"Selection\"},{\"attributes\":{\"data_source\":{\"id\":\"19dd40d6-33b8-45a5-b795-468638dac056\",\"type\":\"ColumnDataSource\"},\"glyph\":{\"id\":\"8ac6bf00-9817-4a61-86ae-91b0a4799dc3\",\"type\":\"Text\"},\"hover_glyph\":null,\"muted_glyph\":null,\"view\":{\"id\":\"9587e1d3-ae47-4dd6-9fbb-baa83b337fad\",\"type\":\"CDSView\"}},\"id\":\"557f1bbd-114d-4789-9a5c-9dc725bd5607\",\"type\":\"GlyphRenderer\"},{\"attributes\":{\"data_source\":{\"id\":\"b6204c95-878f-43ce-9c3c-b3161ec00bdb\",\"type\":\"ColumnDataSource\"},\"glyph\":{\"id\":\"a34c4725-482c-4be1-a0c7-5124c45271d7\",\"type\":\"Text\"},\"hover_glyph\":null,\"muted_glyph\":null,\"view\":{\"id\":\"8921486b-196a-481c-b360-7fdeca9f3bc6\",\"type\":\"CDSView\"}},\"id\":\"2de3ef90-40f6-4173-93d7-b0463cb63a19\",\"type\":\"GlyphRenderer\"},{\"attributes\":{\"callback\":null,\"data\":{},\"selected\":{\"id\":\"18f9fd86-8f97-4caa-88fb-69d80b742b05\",\"type\":\"Selection\"},\"selection_policy\":{\"id\":\"a3cf5863-275e-4a9e-b888-389e2378dde0\",\"type\":\"UnionRenderers\"}},\"id\":\"eec0c1a6-b0dc-4681-8b2d-75fb07bfe52e\",\"type\":\"ColumnDataSource\"},{\"attributes\":{},\"id\":\"387c903e-5be9-4bc2-b60a-4d528ac709f1\",\"type\":\"UnionRenderers\"},{\"attributes\":{},\"id\":\"4c1e227e-fb3c-4d46-864e-c25292a9237d\",\"type\":\"UnionRenderers\"},{\"attributes\":{},\"id\":\"51c3cff2-b4a1-405e-9ddc-475317022912\",\"type\":\"Selection\"},{\"attributes\":{\"callback\":null,\"data\":{},\"selected\":{\"id\":\"1f35d245-cb9e-4b2d-b1a7-cdcfade4db8d\",\"type\":\"Selection\"},\"selection_policy\":{\"id\":\"efafbdd4-7c7d-4935-8809-63c0c5bc7707\",\"type\":\"UnionRenderers\"}},\"id\":\"4c303417-865b-4b4b-8c31-326267927bde\",\"type\":\"ColumnDataSource\"},{\"attributes\":{\"text\":{\"value\":\"Southeast Region\"},\"text_color\":{\"value\":\"#666666\"},\"text_font_size\":{\"value\":\"10pt\"},\"x\":{\"value\":250},\"y\":{\"value\":15}},\"id\":\"01f36349-a227-446a-a79e-65e63c3b9fd8\",\"type\":\"Text\"},{\"attributes\":{\"text\":{\"field\":\"year\"},\"text_color\":{\"value\":\"#EEEEEE\"},\"text_font_size\":{\"value\":\"150pt\"},\"x\":{\"value\":30},\"y\":{\"value\":15}},\"id\":\"a34c4725-482c-4be1-a0c7-5124c45271d7\",\"type\":\"Text\"},{\"attributes\":{\"source\":{\"id\":\"a448a963-6436-4aa3-add7-d46850c913b0\",\"type\":\"ColumnDataSource\"}},\"id\":\"370515b1-19c5-49fe-984a-eadc176c623a\",\"type\":\"CDSView\"},{\"attributes\":{\"callback\":null,\"data\":{},\"selected\":{\"id\":\"8a12cbce-9818-4273-82c9-7fe7a556ba41\",\"type\":\"Selection\"},\"selection_policy\":{\"id\":\"6db71310-dfda-4745-84e2-0f71bb3e7d4a\",\"type\":\"UnionRenderers\"}},\"id\":\"b840d88e-41e4-417b-a96d-d2619475e835\",\"type\":\"ColumnDataSource\"},{\"attributes\":{\"source\":{\"id\":\"a6dfa728-827e-4349-813e-2e79adcad7f2\",\"type\":\"ColumnDataSource\"}},\"id\":\"fa844226-43f0-4b60-9668-c3dc0ab4f8c0\",\"type\":\"CDSView\"},{\"attributes\":{\"data_source\":{\"id\":\"d2bce801-7cb7-4ff2-b354-529aa58aa871\",\"type\":\"ColumnDataSource\"},\"glyph\":{\"id\":\"10cc4227-0e29-4ef7-b179-242e7825c53e\",\"type\":\"Text\"},\"hover_glyph\":null,\"muted_glyph\":null,\"view\":{\"id\":\"b7043e56-330b-4dbb-819f-46ab4d6bcb40\",\"type\":\"CDSView\"}},\"id\":\"fdc25f1c-4bd7-4382-a3f3-3fdb30549c17\",\"type\":\"GlyphRenderer\"},{\"attributes\":{\"fill_alpha\":{\"value\":0.8},\"fill_color\":{\"value\":\"#fc8d59\"},\"line_color\":{\"value\":null},\"size\":{\"units\":\"screen\",\"value\":10},\"x\":{\"value\":249.9},\"y\":{\"value\":17}},\"id\":\"350f841d-8789-4b7d-9a56-e41b93c5e5ba\",\"type\":\"Circle\"},{\"attributes\":{},\"id\":\"1bc4989b-034c-42c1-a4ab-ea87f176f73b\",\"type\":\"Selection\"},{\"attributes\":{},\"id\":\"e559640b-06d6-4cf1-b5fe-ce8b741d4b96\",\"type\":\"UnionRenderers\"},{\"attributes\":{},\"id\":\"0568263b-7308-4bdb-8266-8f470feb9974\",\"type\":\"Selection\"},{\"attributes\":{\"data_source\":{\"id\":\"980a03fe-7fed-44bb-996e-36d06e1c5d33\",\"type\":\"ColumnDataSource\"},\"glyph\":{\"id\":\"85d200a4-91c5-4838-b2de-05db7f334a48\",\"type\":\"Text\"},\"hover_glyph\":null,\"muted_glyph\":null,\"view\":{\"id\":\"14b47796-ef34-4e02-a827-a07a0a802d5f\",\"type\":\"CDSView\"}},\"id\":\"468f6c36-4e64-4227-9953-6500cf924683\",\"type\":\"GlyphRenderer\"},{\"attributes\":{\"source\":{\"id\":\"198ac148-bb19-4982-b76a-dbe0c8f5ebff\",\"type\":\"ColumnDataSource\"}},\"id\":\"01d7bae0-ab35-4d3f-ac38-c84d6d244237\",\"type\":\"CDSView\"},{\"attributes\":{},\"id\":\"8beca1e5-9ec3-4104-b8cc-c5bbefa89965\",\"type\":\"BasicTickFormatter\"},{\"attributes\":{\"fill_alpha\":{\"value\":0.8},\"fill_color\":{\"value\":\"#ffffbf\"},\"line_color\":{\"value\":null},\"size\":{\"units\":\"screen\",\"value\":10},\"x\":{\"value\":249.9},\"y\":{\"value\":27}},\"id\":\"18e00b5b-4e0c-4228-af86-8e68793756c6\",\"type\":\"Circle\"},{\"attributes\":{},\"id\":\"57821024-7de5-4f7d-82ec-6cb3ca6694c5\",\"type\":\"UnionRenderers\"},{\"attributes\":{},\"id\":\"6db71310-dfda-4745-84e2-0f71bb3e7d4a\",\"type\":\"UnionRenderers\"},{\"attributes\":{\"callback\":null,\"data\":{},\"selected\":{\"id\":\"c6ecde3a-5d73-42f7-b65e-4eb68dc6c846\",\"type\":\"Selection\"},\"selection_policy\":{\"id\":\"e559640b-06d6-4cf1-b5fe-ce8b741d4b96\",\"type\":\"UnionRenderers\"}},\"id\":\"980a03fe-7fed-44bb-996e-36d06e1c5d33\",\"type\":\"ColumnDataSource\"},{\"attributes\":{\"callback\":null,\"data\":{},\"selected\":{\"id\":\"1bc4989b-034c-42c1-a4ab-ea87f176f73b\",\"type\":\"Selection\"},\"selection_policy\":{\"id\":\"4c1e227e-fb3c-4d46-864e-c25292a9237d\",\"type\":\"UnionRenderers\"}},\"id\":\"19dd40d6-33b8-45a5-b795-468638dac056\",\"type\":\"ColumnDataSource\"},{\"attributes\":{\"data_source\":{\"id\":\"b030bd5b-1b64-4e39-a496-f9345026bcca\",\"type\":\"ColumnDataSource\"},\"glyph\":{\"id\":\"0a44dad7-846b-4003-bfe8-610a9ea29d47\",\"type\":\"Circle\"},\"hover_glyph\":null,\"muted_glyph\":null,\"view\":{\"id\":\"95b35a67-c87a-4159-92f0-9e8d16615333\",\"type\":\"CDSView\"}},\"id\":\"db626231-04a5-42e2-8843-67cb3c62571c\",\"type\":\"GlyphRenderer\"},{\"attributes\":{\"text\":{\"value\":\"Rocky Mountain Region\"},\"text_color\":{\"value\":\"#666666\"},\"text_font_size\":{\"value\":\"10pt\"},\"x\":{\"value\":250},\"y\":{\"value\":20}},\"id\":\"1301560b-2efb-4865-9ba4-65c27f5bc08a\",\"type\":\"Text\"},{\"attributes\":{\"indices\":[],\"line_indices\":[]},\"id\":\"ccf1a587-5187-4e6b-870a-85d644907f0c\",\"type\":\"Selection\"},{\"attributes\":{\"data_source\":{\"id\":\"b840d88e-41e4-417b-a96d-d2619475e835\",\"type\":\"ColumnDataSource\"},\"glyph\":{\"id\":\"01f36349-a227-446a-a79e-65e63c3b9fd8\",\"type\":\"Text\"},\"hover_glyph\":null,\"muted_glyph\":null,\"view\":{\"id\":\"913baaaf-f0dc-47f4-822f-649a8e68c620\",\"type\":\"CDSView\"}},\"id\":\"440cc9fb-1d3d-4f0b-bc66-5106bf50d07d\",\"type\":\"GlyphRenderer\"},{\"attributes\":{\"data_source\":{\"id\":\"60f5a7b7-ac1d-49ff-bce2-3d695eade535\",\"type\":\"ColumnDataSource\"},\"glyph\":{\"id\":\"2753a413-c094-4ed0-ae81-00c55f51460e\",\"type\":\"Circle\"},\"hover_glyph\":null,\"muted_glyph\":null,\"view\":{\"id\":\"8cb9f328-06b6-4df1-a0c7-df61983b69b8\",\"type\":\"CDSView\"}},\"id\":\"4d83daf3-c957-415b-97bb-a3b1925c25be\",\"type\":\"GlyphRenderer\"},{\"attributes\":{\"source\":{\"id\":\"980a03fe-7fed-44bb-996e-36d06e1c5d33\",\"type\":\"ColumnDataSource\"}},\"id\":\"14b47796-ef34-4e02-a827-a07a0a802d5f\",\"type\":\"CDSView\"},{\"attributes\":{\"callback\":null,\"data\":{},\"selected\":{\"id\":\"a3a7d1ea-66cf-43d1-84b7-0d35e94294d3\",\"type\":\"Selection\"},\"selection_policy\":{\"id\":\"d7667bc5-cb51-4cba-9163-0cd035ed11a8\",\"type\":\"UnionRenderers\"}},\"id\":\"0b7a1973-e734-42e6-a82e-00431833b437\",\"type\":\"ColumnDataSource\"},{\"attributes\":{\"data_source\":{\"id\":\"198ac148-bb19-4982-b76a-dbe0c8f5ebff\",\"type\":\"ColumnDataSource\"},\"glyph\":{\"id\":\"9b027aa2-12bb-4c9d-8846-c96c5024b546\",\"type\":\"Text\"},\"hover_glyph\":null,\"muted_glyph\":null,\"view\":{\"id\":\"01d7bae0-ab35-4d3f-ac38-c84d6d244237\",\"type\":\"CDSView\"}},\"id\":\"4b984e69-755a-4d19-b5ed-c42ca1025f56\",\"type\":\"GlyphRenderer\"},{\"attributes\":{\"data_source\":{\"id\":\"04fc630e-9d66-48ab-a4bc-1d52a23046bc\",\"type\":\"ColumnDataSource\"},\"glyph\":{\"id\":\"c732dcbb-0a37-4176-a034-31bdc7cd50e7\",\"type\":\"Circle\"},\"hover_glyph\":null,\"muted_glyph\":null,\"view\":{\"id\":\"cbbece4e-3854-41e5-8360-1fef688d43b7\",\"type\":\"CDSView\"}},\"id\":\"6a933d84-b384-40a0-b977-43187b61906a\",\"type\":\"GlyphRenderer\"},{\"attributes\":{\"interval\":5},\"id\":\"991ba057-c7ca-4cd5-8551-a3d8c2167376\",\"type\":\"SingleIntervalTicker\"},{\"attributes\":{\"callback\":null,\"data\":{},\"selected\":{\"id\":\"8223342f-e2d2-43ae-9d69-5d9c336dffba\",\"type\":\"Selection\"},\"selection_policy\":{\"id\":\"d4d3d5b0-7a3c-40d4-9630-4f9c3a20e610\",\"type\":\"UnionRenderers\"}},\"id\":\"cc4a3614-21f7-4763-9858-1e96c1546ba4\",\"type\":\"ColumnDataSource\"},{\"attributes\":{\"fill_alpha\":{\"value\":0.8},\"fill_color\":{\"field\":\"region_color\"},\"line_alpha\":{\"value\":0.5},\"line_color\":{\"value\":\"#7c7e71\"},\"line_width\":{\"value\":0.5},\"size\":{\"field\":\"price_fs\",\"units\":\"screen\"},\"x\":{\"field\":\"miles_fs\"},\"y\":{\"field\":\"engine_size_ss_encoded\"}},\"id\":\"6b51ee41-e199-46bb-8cef-1a51b9843d5c\",\"type\":\"Circle\"},{\"attributes\":{\"text\":{\"value\":\"Plains Region\"},\"text_color\":{\"value\":\"#666666\"},\"text_font_size\":{\"value\":\"10pt\"},\"x\":{\"value\":250},\"y\":{\"value\":25}},\"id\":\"8ac6bf00-9817-4a61-86ae-91b0a4799dc3\",\"type\":\"Text\"},{\"attributes\":{\"fill_alpha\":{\"value\":0.8},\"fill_color\":{\"value\":\"#fee08b\"},\"line_color\":{\"value\":null},\"size\":{\"units\":\"screen\",\"value\":10},\"x\":{\"value\":249.9},\"y\":{\"value\":22}},\"id\":\"0a44dad7-846b-4003-bfe8-610a9ea29d47\",\"type\":\"Circle\"},{\"attributes\":{\"source\":{\"id\":\"b840d88e-41e4-417b-a96d-d2619475e835\",\"type\":\"ColumnDataSource\"}},\"id\":\"913baaaf-f0dc-47f4-822f-649a8e68c620\",\"type\":\"CDSView\"},{\"attributes\":{\"source\":{\"id\":\"fac9acc0-95f9-4865-b57b-6a0e786e8152\",\"type\":\"ColumnDataSource\"}},\"id\":\"47a6e63e-daac-4990-99d3-9c0dae3d5947\",\"type\":\"CDSView\"},{\"attributes\":{\"source\":{\"id\":\"cc4a3614-21f7-4763-9858-1e96c1546ba4\",\"type\":\"ColumnDataSource\"}},\"id\":\"9afb8ec1-aa8e-40a3-a99c-b8b7e60f5243\",\"type\":\"CDSView\"},{\"attributes\":{\"text\":{\"value\":\"Far West Region\"},\"text_color\":{\"value\":\"#666666\"},\"text_font_size\":{\"value\":\"10pt\"},\"x\":{\"value\":250},\"y\":{\"value\":40}},\"id\":\"9b027aa2-12bb-4c9d-8846-c96c5024b546\",\"type\":\"Text\"},{\"attributes\":{},\"id\":\"d4d3d5b0-7a3c-40d4-9630-4f9c3a20e610\",\"type\":\"UnionRenderers\"},{\"attributes\":{\"source\":{\"id\":\"b030bd5b-1b64-4e39-a496-f9345026bcca\",\"type\":\"ColumnDataSource\"}},\"id\":\"95b35a67-c87a-4159-92f0-9e8d16615333\",\"type\":\"CDSView\"},{\"attributes\":{\"source\":{\"id\":\"04fc630e-9d66-48ab-a4bc-1d52a23046bc\",\"type\":\"ColumnDataSource\"}},\"id\":\"cbbece4e-3854-41e5-8360-1fef688d43b7\",\"type\":\"CDSView\"},{\"attributes\":{\"data_source\":{\"id\":\"a6dfa728-827e-4349-813e-2e79adcad7f2\",\"type\":\"ColumnDataSource\"},\"glyph\":{\"id\":\"6b51ee41-e199-46bb-8cef-1a51b9843d5c\",\"type\":\"Circle\"},\"hover_glyph\":null,\"muted_glyph\":null,\"view\":{\"id\":\"fa844226-43f0-4b60-9668-c3dc0ab4f8c0\",\"type\":\"CDSView\"}},\"id\":\"5b7250ea-826c-4197-bb70-cc7959d5ab6a\",\"type\":\"GlyphRenderer\"},{\"attributes\":{\"interval\":30},\"id\":\"4aafda9a-19cb-4c82-ad13-727e67056bf1\",\"type\":\"SingleIntervalTicker\"},{\"attributes\":{},\"id\":\"db25eed1-476f-4785-849a-74ae381799e5\",\"type\":\"UnionRenderers\"},{\"attributes\":{},\"id\":\"c6ecde3a-5d73-42f7-b65e-4eb68dc6c846\",\"type\":\"Selection\"},{\"attributes\":{},\"id\":\"d658e179-d54d-4d3d-90d5-12aec76346fd\",\"type\":\"UnionRenderers\"},{\"attributes\":{\"source\":{\"id\":\"d2bce801-7cb7-4ff2-b354-529aa58aa871\",\"type\":\"ColumnDataSource\"}},\"id\":\"b7043e56-330b-4dbb-819f-46ab4d6bcb40\",\"type\":\"CDSView\"},{\"attributes\":{},\"id\":\"7c0f995d-68e5-4dec-853f-e56d9bd1090d\",\"type\":\"LinearScale\"},{\"attributes\":{\"fill_alpha\":{\"value\":0.8},\"fill_color\":{\"value\":\"#99d594\"},\"line_color\":{\"value\":null},\"size\":{\"units\":\"screen\",\"value\":10},\"x\":{\"value\":249.9},\"y\":{\"value\":37}},\"id\":\"c524ce4a-7501-419f-bb13-01df6621dcf6\",\"type\":\"Circle\"},{\"attributes\":{},\"id\":\"a3cf5863-275e-4a9e-b888-389e2378dde0\",\"type\":\"UnionRenderers\"},{\"attributes\":{\"callback\":null,\"data\":{},\"selected\":{\"id\":\"fa7e952a-d4fb-48f9-be94-ed8085df2911\",\"type\":\"Selection\"},\"selection_policy\":{\"id\":\"387c903e-5be9-4bc2-b60a-4d528ac709f1\",\"type\":\"UnionRenderers\"}},\"id\":\"fac9acc0-95f9-4865-b57b-6a0e786e8152\",\"type\":\"ColumnDataSource\"},{\"attributes\":{\"axis_label\":\"Engine Size\",\"axis_label_text_font_size\":{\"value\":\"10pt\"},\"axis_line_cap\":\"round\",\"axis_line_color\":{\"value\":\"#AAAAAA\"},\"formatter\":{\"id\":\"c9058639-15e9-47de-b41c-7514fa87bd20\",\"type\":\"BasicTickFormatter\"},\"major_label_text_color\":{\"value\":\"#666666\"},\"major_label_text_font_size\":{\"value\":\"10pt\"},\"major_tick_in\":null,\"major_tick_line_cap\":\"round\",\"major_tick_line_color\":{\"value\":\"#AAAAAA\"},\"minor_tick_in\":null,\"minor_tick_out\":null,\"plot\":{\"id\":\"b64bb497-abdf-4eef-b3a7-036c16e3af7b\",\"type\":\"Plot\"},\"ticker\":{\"id\":\"991ba057-c7ca-4cd5-8551-a3d8c2167376\",\"type\":\"SingleIntervalTicker\"}},\"id\":\"5450d399-0403-4947-be19-4028c139ac7e\",\"type\":\"LinearAxis\"},{\"attributes\":{\"fill_alpha\":{\"value\":0.8},\"fill_color\":{\"value\":\"#e6f598\"},\"line_color\":{\"value\":null},\"size\":{\"units\":\"screen\",\"value\":10},\"x\":{\"value\":249.9},\"y\":{\"value\":32}},\"id\":\"c732dcbb-0a37-4176-a034-31bdc7cd50e7\",\"type\":\"Circle\"},{\"attributes\":{},\"id\":\"e4db4ff0-8a66-4a7e-a91a-20e7555e309d\",\"type\":\"UnionRenderers\"},{\"attributes\":{},\"id\":\"fa7e952a-d4fb-48f9-be94-ed8085df2911\",\"type\":\"Selection\"},{\"attributes\":{\"callback\":null,\"data\":{},\"selected\":{\"id\":\"241f2404-7d4c-4494-a6aa-bd6463d65d62\",\"type\":\"Selection\"},\"selection_policy\":{\"id\":\"57821024-7de5-4f7d-82ec-6cb3ca6694c5\",\"type\":\"UnionRenderers\"}},\"id\":\"04fc630e-9d66-48ab-a4bc-1d52a23046bc\",\"type\":\"ColumnDataSource\"},{\"attributes\":{},\"id\":\"1f35d245-cb9e-4b2d-b1a7-cdcfade4db8d\",\"type\":\"Selection\"},{\"attributes\":{},\"id\":\"9a9f1e4f-22ef-4013-8cac-0d4d591250ce\",\"type\":\"UnionRenderers\"},{\"attributes\":{\"plot\":null,\"text\":\"\"},\"id\":\"5598ac9f-7085-4bac-b4b6-2b078990641d\",\"type\":\"Title\"},{\"attributes\":{\"callback\":null,\"data\":{},\"selected\":{\"id\":\"9ae434d9-86f6-4429-a57f-7f2542643d73\",\"type\":\"Selection\"},\"selection_policy\":{\"id\":\"d658e179-d54d-4d3d-90d5-12aec76346fd\",\"type\":\"UnionRenderers\"}},\"id\":\"a448a963-6436-4aa3-add7-d46850c913b0\",\"type\":\"ColumnDataSource\"},{\"attributes\":{},\"id\":\"3d8a550f-4816-4d3e-a9e0-9c39d57a9cfc\",\"type\":\"LinearScale\"},{\"attributes\":{\"source\":{\"id\":\"4c303417-865b-4b4b-8c31-326267927bde\",\"type\":\"ColumnDataSource\"}},\"id\":\"a1baa2fd-d3de-4feb-b4f2-0b59e0290eb4\",\"type\":\"CDSView\"},{\"attributes\":{\"data_source\":{\"id\":\"4c303417-865b-4b4b-8c31-326267927bde\",\"type\":\"ColumnDataSource\"},\"glyph\":{\"id\":\"350f841d-8789-4b7d-9a56-e41b93c5e5ba\",\"type\":\"Circle\"},\"hover_glyph\":null,\"muted_glyph\":null,\"view\":{\"id\":\"a1baa2fd-d3de-4feb-b4f2-0b59e0290eb4\",\"type\":\"CDSView\"}},\"id\":\"4b929a3a-3f07-498b-86d0-6455494a5928\",\"type\":\"GlyphRenderer\"},{\"attributes\":{\"text\":{\"value\":\"Great Lakes Region\"},\"text_color\":{\"value\":\"#666666\"},\"text_font_size\":{\"value\":\"10pt\"},\"x\":{\"value\":250},\"y\":{\"value\":35}},\"id\":\"10cc4227-0e29-4ef7-b179-242e7825c53e\",\"type\":\"Text\"},{\"attributes\":{\"source\":{\"id\":\"b6204c95-878f-43ce-9c3c-b3161ec00bdb\",\"type\":\"ColumnDataSource\"}},\"id\":\"8921486b-196a-481c-b360-7fdeca9f3bc6\",\"type\":\"CDSView\"},{\"attributes\":{\"callback\":null,\"end\":300,\"start\":1},\"id\":\"2d3594d7-3648-4089-a794-b7bcb1470656\",\"type\":\"Range1d\"},{\"attributes\":{\"data_source\":{\"id\":\"fac9acc0-95f9-4865-b57b-6a0e786e8152\",\"type\":\"ColumnDataSource\"},\"glyph\":{\"id\":\"9250c5af-d26c-47a9-ab6b-3a09b9fbb01b\",\"type\":\"Circle\"},\"hover_glyph\":null,\"muted_glyph\":null,\"view\":{\"id\":\"47a6e63e-daac-4990-99d3-9c0dae3d5947\",\"type\":\"CDSView\"}},\"id\":\"823f5123-83e1-4c32-bf89-c4438eed52b0\",\"type\":\"GlyphRenderer\"},{\"attributes\":{},\"id\":\"d7667bc5-cb51-4cba-9163-0cd035ed11a8\",\"type\":\"UnionRenderers\"},{\"attributes\":{\"source\":{\"id\":\"19dd40d6-33b8-45a5-b795-468638dac056\",\"type\":\"ColumnDataSource\"}},\"id\":\"9587e1d3-ae47-4dd6-9fbb-baa83b337fad\",\"type\":\"CDSView\"}],\"root_ids\":[\"b64bb497-abdf-4eef-b3a7-036c16e3af7b\"]},\"title\":\"Bokeh Application\",\"version\":\"0.13.0\"}};\n",
       "  var render_items = [{\"docid\":\"0c156461-a97e-48ea-9e82-4f71b055b134\",\"roots\":{\"b64bb497-abdf-4eef-b3a7-036c16e3af7b\":\"ab649c72-366a-46f3-9243-a08bfebc6445\"}}];\n",
       "  root.Bokeh.embed.embed_items_notebook(docs_json, render_items);\n",
       "\n",
       "  }\n",
       "  if (root.Bokeh !== undefined) {\n",
       "    embed_document(root);\n",
       "  } else {\n",
       "    var attempts = 0;\n",
       "    var timer = setInterval(function(root) {\n",
       "      if (root.Bokeh !== undefined) {\n",
       "        embed_document(root);\n",
       "        clearInterval(timer);\n",
       "      }\n",
       "      attempts++;\n",
       "      if (attempts > 100) {\n",
       "        console.log(\"Bokeh: ERROR: Unable to run BokehJS code because BokehJS library is missing\")\n",
       "        clearInterval(timer);\n",
       "      }\n",
       "    }, 10, root)\n",
       "  }\n",
       "})(window);"
      ],
      "application/vnd.bokehjs_exec.v0+json": ""
     },
     "metadata": {
      "application/vnd.bokehjs_exec.v0+json": {
       "id": "b64bb497-abdf-4eef-b3a7-036c16e3af7b"
      }
     },
     "output_type": "display_data"
    }
   ],
   "source": [
    "show(plot)"
   ]
  },
  {
   "cell_type": "markdown",
   "metadata": {},
   "source": [
    "### Add the slider and callback\n",
    "Next we add the slider widget and the JavaScript callback code, which changes the data of the `renderer_source` (powering the bubbles / circles) and the data of the `text_source` (powering our background text). After we've `set()` the data we need to `trigger()` a change. `slider`, `renderer_source`, `text_source` are all available because we add them as args to `Callback`.    \n",
    "\n",
    "It is the combination of `sources = %s % (js_source_array)` in the JavaScript and `Callback(args=sources...)` that provides the ability to look-up, by year, the JavaScript version of our Python-made `ColumnDataSource`."
   ]
  },
  {
   "cell_type": "code",
   "execution_count": 182,
   "metadata": {},
   "outputs": [],
   "source": [
    "# Add the slider\n",
    "\n",
    "\n",
    "dictionary_of_sources = dict(zip([x for x in years], ['_%s' % x for x in years]))\n",
    "js_source_array = str(dictionary_of_sources).replace(\"'\", \"\")\n",
    "\n",
    "\n",
    "\n",
    "code = \"\"\"\n",
    "    var year = slider.value,\n",
    "        sources = %s,\n",
    "        new_source_data = sources[year].data;\n",
    "    renderer_source.data = new_source_data;\n",
    "    text_source.data = {'year': [String(year)]};\n",
    "\"\"\" % js_source_array\n",
    "\n",
    "callback = CustomJS(args=sources, code=code)\n",
    "slider = Slider(start=years[0], end=years[-1], value=1, step=1, title=\"Year\", callback=callback)\n",
    "callback.args[\"renderer_source\"] = renderer_source\n",
    "callback.args[\"slider\"] = slider\n",
    "callback.args[\"text_source\"] = text_source"
   ]
  },
  {
   "cell_type": "markdown",
   "metadata": {},
   "source": [
    "Check out what our slider looks like by itself:"
   ]
  },
  {
   "cell_type": "code",
   "execution_count": 183,
   "metadata": {},
   "outputs": [
    {
     "data": {
      "text/html": [
       "\n",
       "\n",
       "\n",
       "\n",
       "\n",
       "\n",
       "  <div class=\"bk-root\" id=\"2a77fdf3-9ba7-462a-b19b-ab57c60bd8c1\"></div>\n"
      ]
     },
     "metadata": {},
     "output_type": "display_data"
    },
    {
     "data": {
      "application/javascript": [
       "(function(root) {\n",
       "  function embed_document(root) {\n",
       "    \n",
       "  var docs_json = {\"ccd68875-eb12-4c94-8111-a3ff9cf72651\":{\"roots\":{\"references\":[{\"attributes\":{\"callback\":null,\"data\":{\"engine_size_ss_encoded\":{\"__ndarray__\":\"uuiiiy66NUDbtm3btm0tQAAAAAAAgDRAwcDAwMDANUBZyEIWspA1QAAAAAAAADVAip3YiZ3YNUBu27Zt2zY2QFVVVVVVFTdAkiRJkiRJNkAXXXTRRRc2QI7jOI7jODNAetOb3vQmNkC3bdu2bds0QM4555xzzjVAO7ETO7ETMkDP8zzP8zw1QAAAAAAAADVADw8PDw8PNUAAAAAAAAA3QGZmZmZmZjVAAAAAAABANkCrqqqqqqo2QF5DeQ3lNTVASZIkSZIkM0BVVVVVVVU0QM3MzMzMDDVASZIkSZJUNkD0MTgfg/M1QKG9hPYS2jVAg5hcQUyuNEAWX/EVX/E2QAAAAAAAQDJAdmIndmInNkAsUbsStas1QIQPPvjggzZAvLu7u7s7NkAUO7ETO7E2QJqZmZmZmTZAAAAAAAAAMEAAAAAAAIA3QA==\",\"dtype\":\"float64\",\"shape\":[41]},\"index\":[\"AL\",\"AR\",\"AZ\",\"CA\",\"CO\",\"DE\",\"FL\",\"GA\",\"HI\",\"IA\",\"ID\",\"IL\",\"IN\",\"KS\",\"KY\",\"MD\",\"MI\",\"MN\",\"MO\",\"MS\",\"MT\",\"NC\",\"ND\",\"NE\",\"NM\",\"NV\",\"NY\",\"OH\",\"OK\",\"OR\",\"PA\",\"SC\",\"SD\",\"TN\",\"TX\",\"UT\",\"VA\",\"WA\",\"WI\",\"WV\",\"WY\"],\"miles_fs\":{\"__ndarray__\":\"YSP+NeIJZEBl+M3AhzxgQPYoXI/C1WFADiX+zMQ8YkC6cEp0UsBjQIXrUbge0WBAuqWEpvf2Y0AK5//ABfRiQFG4HoXrumBAPNMKUYGKY0CfGi/dJKZkQI1QRm/LaGFAQ9noy0o6ZEBXUT5Bo8xiQCt4VxwRp2VAknrmcfWSXkClZPjNwPNlQPzHb0zJk2RAtUMG/CSBZED16i58u3dkQOELk6mCEWJAG7yw+pntY0BF/RuhjI5dQOrTHg4bG2NAZ50yuVX5XUAk2/l+atVtQIhjXdxGOmFA0FmnTC7FZEAy00xmAMBlQINpPwS48mJA59M7kdmFX0BFt9xcu4pkQAwCK4cW1mFAZfdr6OLpY0BbaiM/0ItiQPT8JJwcg2RAK4cW2c7HYkBgzrL5ZwBjQD3IrnNRjGJAf2q8dJPsZkD2KFyPwtpjQA==\",\"dtype\":\"float64\",\"shape\":[41]},\"price_fs\":{\"__ndarray__\":\"38vnvXyOTUBqeWMEE71EQOF6FK5HbUlAwZs/sO0HUEBk3K9LKn9NQLcehetR+ExA37kEsobVTEDzKFyPwvFQQAvXo3A9SlBA6xbVt+NhTkDxeS+f95JOQKVP+qRPmkZA/HVJ5cOoTECHnPvsAnJOQGXVNlZtg01A6vj0tcWBT0DoPruA2LRIQD15p5N3OkpAgBexSuT9S0DcHLvNsTtQQPp+arx0Y1BAk7rc/iDbT0BtoNMGOo1PQON6FK5HAUxA/05WyxuDT0AVrkfhevxRQDLdJAaB7U1AmayWN0baSEDQwPwMzI9KQI/Yd2y2RVFAPGlr5ZVwTECA5JlWiPpQQAAAAAAACExAMatMZN6/TEDOp2B9CrZMQN4ltl1im0ZAXWQ73099TkB/bXGwoJRQQFO4HoXrUVBAmpmZmZn5Q0AAAAAAAGZgQA==\",\"dtype\":\"float64\",\"shape\":[41]},\"region_color\":[\"#fc8d59\",\"#fc8d59\",\"#d53e4f\",\"#3288bd\",\"#fee08b\",\"#e6f598\",\"#fc8d59\",\"#fc8d59\",\"#3288bd\",\"#ffffbf\",\"#fee08b\",\"#99d594\",\"#99d594\",\"#ffffbf\",\"#fc8d59\",\"#e6f598\",\"#99d594\",\"#ffffbf\",\"#ffffbf\",\"#fc8d59\",\"#fee08b\",\"#fc8d59\",\"#ffffbf\",\"#ffffbf\",\"#d53e4f\",\"#3288bd\",\"#e6f598\",\"#99d594\",\"#d53e4f\",\"#3288bd\",\"#e6f598\",\"#fc8d59\",\"#ffffbf\",\"#fc8d59\",\"#d53e4f\",\"#fee08b\",\"#fc8d59\",\"#3288bd\",\"#99d594\",\"#fc8d59\",\"#fee08b\"]},\"selected\":{\"id\":\"96db602e-482f-47d7-81c0-54d3adf32f8b\",\"type\":\"Selection\"},\"selection_policy\":{\"id\":\"fc822608-bdbc-46eb-bbd1-62f5dee375b4\",\"type\":\"UnionRenderers\"}},\"id\":\"4dd7a857-6c5b-4899-8305-876f2111bc0e\",\"type\":\"ColumnDataSource\"},{\"attributes\":{},\"id\":\"6395e31e-650a-4aeb-88a2-0ebfcc052465\",\"type\":\"Selection\"},{\"attributes\":{},\"id\":\"e5966efb-9126-49d5-9696-83ee739f8ee1\",\"type\":\"Selection\"},{\"attributes\":{\"callback\":null,\"data\":{\"engine_size_ss_encoded\":{\"__ndarray__\":\"T+zETuzENEBmZmZmZmY1QFVVVVVVlTVAlNdQXkM5NUAaYbmnEZY1QAAAAAAAACxASZIkSZJkNUBf0Bf0BX01QAAAAAAAADZAGIZhGIZhNUAcx3Ecx3EzQLrooosuujFA2Ymd2IkdNECO4ziO4zg2QBzHcRzH8TZAKK+hvIbyNEAeHh4eHh42QAAAAAAAYDZAl5aWlpaWNEAAAAAAAAAzQNu2bdu2bTZA4ybM72pxNUAAAAAAAAA6QOmiiy666DRAAAAAAAAAMEAAAAAAAAAyQAAAAAAAADVAilCEIhShNUCSJEmSJEk1QHE9CtejcDZAAAAAAACANEAeHh4eHp42QG7btm3btjFAq6qqqqrqNUCsfcPaN6w1QDMzMzMzszdAWchCFrKQNkA8PDw8PDw2QOQ4juM4jjNAVVVVVVVVNEAAAAAAAAA4QA==\",\"dtype\":\"float64\",\"shape\":[41]},\"index\":[\"AL\",\"AR\",\"AZ\",\"CA\",\"CO\",\"DE\",\"FL\",\"GA\",\"HI\",\"IA\",\"ID\",\"IL\",\"IN\",\"KS\",\"KY\",\"MD\",\"MI\",\"MN\",\"MO\",\"MS\",\"MT\",\"NC\",\"ND\",\"NE\",\"NM\",\"NV\",\"NY\",\"OH\",\"OK\",\"OR\",\"PA\",\"SC\",\"SD\",\"TN\",\"TX\",\"UT\",\"VA\",\"WA\",\"WI\",\"WV\",\"WY\"],\"miles_fs\":{\"__ndarray__\":\"JaoI8XY5ZEBGA3gLJOBlQPt+arx0pWJA9tVJlTGrYUAtywuxLS1jQBBYObTILmRABcSm0pAcYkC37GrFMc1lQD0CjPCMnVtAMRDaRL6dZEAK16NwPYJnQGPSKiatzmJAyheRv0DZYkA0peLsw9NlQGq8dJMYdmRAi1qI+eOrYUA0MzMzMwdkQCkVZx8+kmZAq9Mvv4HDY0D6fmq89CpjQPBktbwxHmRA5hZfJIcVZEDufD81XpZiQG9Y+4a1Y2JAvHSTGAQOWkBBpw102rBhQLORqmuwX2BA/KgQ/J5/ZEAgsHJoka9kQF/q501F2mRAEhEREVEcY0ArKioqKkZmQLLgADfMXmBAfT81XropZUDggOGILGhiQLprCfmgC2ZAKh/G/brsYkDxLDcOssJiQA0oEMVGS2JAMU/UvxFiYkC8dJMYBB5jQA==\",\"dtype\":\"float64\",\"shape\":[41]},\"price_fs\":{\"__ndarray__\":\"h9F+U57LSkBSuB6F65FKQN/d3d3djUpAJXHq99yaTUDx8hCQyEhOQDMzMzMz801ACP4Tc2RSS0Bt90s73WVMQEqrmLSKWVJAlYac++ziSED2BxkqO2xJQNpSnS3VOUhAj9zIjdy4SkBERERERCRMQEGnDXTagEpAI5N9dVLFSkALPnGk14pPQEREREREeEZA8SJWibwvTUAehetRuGJMQI1gor+T1UxA47ZrR+8mTEAAAAAAAABEQModoNwBqklAERERERFRS0C1gU4b6NRQQA7qoA7qoEtAAKkz7zFuSUBTuB6F6xFLQMFbIEHxY1BAqaqqqqpiSkB4EatE3vdIQODJanljZExA3v4gQ2XvSEBj/bE8hvFLQJHC9ShcV0RA9WHcr0vqS0ANp0Dac81OQGTJL5b8Mk9AnTbQaQN9R0Bcj8L1KPxNQA==\",\"dtype\":\"float64\",\"shape\":[41]},\"region_color\":[\"#fc8d59\",\"#fc8d59\",\"#d53e4f\",\"#3288bd\",\"#fee08b\",\"#e6f598\",\"#fc8d59\",\"#fc8d59\",\"#3288bd\",\"#ffffbf\",\"#fee08b\",\"#99d594\",\"#99d594\",\"#ffffbf\",\"#fc8d59\",\"#e6f598\",\"#99d594\",\"#ffffbf\",\"#ffffbf\",\"#fc8d59\",\"#fee08b\",\"#fc8d59\",\"#ffffbf\",\"#ffffbf\",\"#d53e4f\",\"#3288bd\",\"#e6f598\",\"#99d594\",\"#d53e4f\",\"#3288bd\",\"#e6f598\",\"#fc8d59\",\"#ffffbf\",\"#fc8d59\",\"#d53e4f\",\"#fee08b\",\"#fc8d59\",\"#3288bd\",\"#99d594\",\"#fc8d59\",\"#fee08b\"]},\"selected\":{\"id\":\"86d9cf4e-2721-4f10-bea6-ff4d98086afa\",\"type\":\"Selection\"},\"selection_policy\":{\"id\":\"ea857413-b3ce-4547-bdf1-c91eab66c70a\",\"type\":\"UnionRenderers\"}},\"id\":\"e89993f2-dee6-4106-9887-647eeec2d0a7\",\"type\":\"ColumnDataSource\"},{\"attributes\":{\"callback\":null,\"data\":{\"engine_size_ss_encoded\":{\"__ndarray__\":\"XXTRRRddNkDHcRzHcRw2QGVNWVPWlDZAV6J2JWpXNkAAAAAAAIA3QM3MzMzMzDVA4yu+4iv+NUBHWO5phKU2QE/sxE7sxDNAx3Ecx3EcN0CamZmZmRk4QAAAAAAAkDRAAAAAAABANkAAAAAAAGA1QCIiIiIiIjZAq6qqqqqqNUB5DeU1lNc2QAAAAAAAoDdAAAAAAABgNkCamZmZmZk4QAAAAAAAgDNAyEIWspAFNkAAAAAAAAA6QEtLS0tLSzVAx3Ecx3EcNkBVVVVVVdU1QPc0wnJPIzZAlPHbpZ4MNkAvuuiiiy42QAAAAAAAGDdAkyFYR5v3NUD0PM/zPE81QKuqqqqqKjNAB1Pks24wNkDCck8jLHc2QLHc0wjLPTdARe1K1K5ENkB00UUXXbQ1QHD5lm/5ljZAAAAAAAAANkAAAAAAAIA1QA==\",\"dtype\":\"float64\",\"shape\":[41]},\"index\":[\"AL\",\"AR\",\"AZ\",\"CA\",\"CO\",\"DE\",\"FL\",\"GA\",\"HI\",\"IA\",\"ID\",\"IL\",\"IN\",\"KS\",\"KY\",\"MD\",\"MI\",\"MN\",\"MO\",\"MS\",\"MT\",\"NC\",\"ND\",\"NE\",\"NM\",\"NV\",\"NY\",\"OH\",\"OK\",\"OR\",\"PA\",\"SC\",\"SD\",\"TN\",\"TX\",\"UT\",\"VA\",\"WA\",\"WI\",\"WV\",\"WY\"],\"miles_fs\":{\"__ndarray__\":\"voQpf8sFY0CfrSH8PORlQNRkRbGKxGFAXFB60nF8YUACnwT4x4RjQCZTBaOSgGVAsMsx21KRYUALvjWvt5ZjQKW1l4UwfFlAlmlwqhdpZEDOqs/VVgpmQK5H4XrUD2BA+jHmriW0YkD3U+Olm2thQAy1pnnHA2RAz0MeXwbWYEBtwz2lZYtlQPcoXI9C/mJAjZduEgMAZEC9BRIUP7JpQKfoSC7/AWJAER09hacCY0CZmZmZmbpjQJwhDV8XHmRAa3CqF7hrYECXtTomeKReQFeXuVzHcVxAQHVdCJqqYkAYbroU2sZjQPhT46U7gWBA9MU4vRzcYUByYGPFGNBkQLErQO41l11ABUURSEoWY0CPPxzw+I1gQHcPndCGH2RARCGuekgxYUDvp8ZLN2piQLCLVOK+Q2NAGy/dJAY9Y0DufD81XtZfQA==\",\"dtype\":\"float64\",\"shape\":[41]},\"price_fs\":{\"__ndarray__\":\"GCeScSKdUUAepi63P4hPQKWiVzD3llJAdsqApwxYU0DPTzA4tg5SQM3MzMzMbE1AZFohKlA6UEBOsmsTJYdQQAtkDaP9VlZA4lnRSMCbUEAw3SQGgV1TQPYoXI/CG1BAVQ4tsp3PUEAfhetRuGRSQH0UrkfhekxAMJb8YsnPUkDq99wSp35MQMT1KFwPVFFAPgrXo3BwTkCF61G4HuVPQEjhehSuJ1JAjEDRVoOvUEDXo3A9Ci9PQFMf7LiFQlBA2IIt2IKdUUCtR+F6FN5XQLiV+EAoRlRATKifI4fJTkCCcgcod+BOQCpcj8L1oFZAiGLBgF0HUEA642ahSX1OQDttoNMGYlFADklYdThEUED3dnNV1r1PQODlISCRMU1Am5C9Cdk7T0CfwRAaDBFRQAuTMAmTcFBAmpmZmZl5UUDXo3A9Cs9TQA==\",\"dtype\":\"float64\",\"shape\":[41]},\"region_color\":[\"#fc8d59\",\"#fc8d59\",\"#d53e4f\",\"#3288bd\",\"#fee08b\",\"#e6f598\",\"#fc8d59\",\"#fc8d59\",\"#3288bd\",\"#ffffbf\",\"#fee08b\",\"#99d594\",\"#99d594\",\"#ffffbf\",\"#fc8d59\",\"#e6f598\",\"#99d594\",\"#ffffbf\",\"#ffffbf\",\"#fc8d59\",\"#fee08b\",\"#fc8d59\",\"#ffffbf\",\"#ffffbf\",\"#d53e4f\",\"#3288bd\",\"#e6f598\",\"#99d594\",\"#d53e4f\",\"#3288bd\",\"#e6f598\",\"#fc8d59\",\"#ffffbf\",\"#fc8d59\",\"#d53e4f\",\"#fee08b\",\"#fc8d59\",\"#3288bd\",\"#99d594\",\"#fc8d59\",\"#fee08b\"]},\"selected\":{\"id\":\"a8d01102-4cf8-461a-b532-33e4207bed6a\",\"type\":\"Selection\"},\"selection_policy\":{\"id\":\"dcf649a9-9aba-4808-bd60-c5d9008c8cdd\",\"type\":\"UnionRenderers\"}},\"id\":\"894f1cc2-23eb-40fa-8844-6a99859a21c2\",\"type\":\"ColumnDataSource\"},{\"attributes\":{},\"id\":\"13e2e778-881c-46ea-87bf-8d2320cca794\",\"type\":\"Selection\"},{\"attributes\":{\"callback\":null,\"data\":{\"year\":[\"2000\"]},\"selected\":{\"id\":\"ccf1a587-5187-4e6b-870a-85d644907f0c\",\"type\":\"Selection\"},\"selection_policy\":{\"id\":\"b03eff98-29e5-48f0-be1a-e70b7bc5e182\",\"type\":\"UnionRenderers\"}},\"id\":\"b6204c95-878f-43ce-9c3c-b3161ec00bdb\",\"type\":\"ColumnDataSource\"},{\"attributes\":{},\"id\":\"b77f7254-f182-49a1-a6fc-931e566f7594\",\"type\":\"Selection\"},{\"attributes\":{\"callback\":null,\"data\":{\"engine_size_ss_encoded\":{\"__ndarray__\":\"d/1ssTL8M0CISkf2DEQ0QK+hvIbyGjNA9QhzdNdpMkAzMzMzM3syQKuqqqqqKjJAOXxSL1CkM0CV/p5wum4zQHZiJ3ZiJzJAe3t7e3t7MkDe3d3d3R00QDZaozVaozNABS+n4OVUM0Bp0qRJkyYzQIHeqWs5uDJAfEROEO7GMkDqoA7qoA4yQCeaaKKJpjRAt23btm37M0DcEXfEHXEzQJze9KY3vTJA9EQKmgZjM0AJyz2NsNwzQNxHcB/BfTRAL6G9hPaSNEDUBjptoNMyQJ7JaPHKJzRAeX4bEcymM0Ad1EEd1IEzQKfg5RS8nDJAGqRBGqSBM0DDSk8trHQzQAAAAAAAADJA+luc1myfMkCmfzKYY/oyQNxZwm5+CzRAPvjggw/+MkCe2Imd2EkzQEMMSMdSJjNAep7neZ7nMEAAAAAAAKAxQA==\",\"dtype\":\"float64\",\"shape\":[41]},\"index\":[\"AL\",\"AR\",\"AZ\",\"CA\",\"CO\",\"DE\",\"FL\",\"GA\",\"HI\",\"IA\",\"ID\",\"IL\",\"IN\",\"KS\",\"KY\",\"MD\",\"MI\",\"MN\",\"MO\",\"MS\",\"MT\",\"NC\",\"ND\",\"NE\",\"NM\",\"NV\",\"NY\",\"OH\",\"OK\",\"OR\",\"PA\",\"SC\",\"SD\",\"TN\",\"TX\",\"UT\",\"VA\",\"WA\",\"WI\",\"WV\",\"WY\"],\"miles_fs\":{\"__ndarray__\":\"8ma7BnT2N0DTM6t8TeE4QBpJsImGOjVAMYteZ9u8NUD6y+7Jw5AyQMGDeaL+7TNAz2M11I6YM0BX689UHMQ3QE+Nl24SwytAkr9xD/+GMkDUKDdkFswzQOqc99XuzzRAyGRJNPGpNED9kJAz6rQ0QKudbR/qKDZAoZfYhHhhNUBJnYAmwsYyQJvNSKZZITRABdDrDqfdNEBCSsKaXMM4QFqCWHrGkS1A5If6A0pjNkCLTcbIXZAyQGcOMydJnDRApC80sKM+M0D9vKlIhfEyQJefQG6yBTNAaDfym3nQNEAE9aMi0D02QI8In0/ryi9ANdihohUUMUAxhuQbEYA1QMEIz1i94TNAcH2BY6quNkDkeTK800g1QGP7xoR0bTBA1r5h7RvWNUBM9eMBFJExQPz8fkfuTjRAbwY+hLRVOUBWDi2ynQctQA==\",\"dtype\":\"float64\",\"shape\":[41]},\"price_fs\":{\"__ndarray__\":\"8G9wJzckbkAMpvlWpxNwQJVuy4us+mxAZr46Q5XnbEASWDm0SEpvQClcj8L1tGxAACiWO+mTbUBbD34MvIVtQNTx6WuLQW5AnSvu4wyBbkBMUyrOPqxtQB1aZDvfo3BA1nlxWbTlbkDBFOzNxDVtQB/M6Xe5cm9AYmnwMifDbUA2xZqNVK1uQASpPZDaCXBA+Yqv+Aodb0CrCAs9V9VuQGBWQtWfr29A/8s7Yjz2bUAYWwY2S69vQNHKp7ph0HBA9V8hOKRxcEAFVg4tshVtQMieZ/dxBG9AiLQvINGpbUAwplizkbpsQFd0jnm9kG5ALmfZ/DMMb0Ds4F7hQXVuQBonknEib25ARYuPteGNbECa9jwHpmptQE+s2UjVFWxA0mAIDYbUbUA1pskAc6FvQLtS1ccrYm5AuzGCif4abkCuR+F6FMlsQA==\",\"dtype\":\"float64\",\"shape\":[41]},\"region_color\":[\"#fc8d59\",\"#fc8d59\",\"#d53e4f\",\"#3288bd\",\"#fee08b\",\"#e6f598\",\"#fc8d59\",\"#fc8d59\",\"#3288bd\",\"#ffffbf\",\"#fee08b\",\"#99d594\",\"#99d594\",\"#ffffbf\",\"#fc8d59\",\"#e6f598\",\"#99d594\",\"#ffffbf\",\"#ffffbf\",\"#fc8d59\",\"#fee08b\",\"#fc8d59\",\"#ffffbf\",\"#ffffbf\",\"#d53e4f\",\"#3288bd\",\"#e6f598\",\"#99d594\",\"#d53e4f\",\"#3288bd\",\"#e6f598\",\"#fc8d59\",\"#ffffbf\",\"#fc8d59\",\"#d53e4f\",\"#fee08b\",\"#fc8d59\",\"#3288bd\",\"#99d594\",\"#fc8d59\",\"#fee08b\"]},\"selected\":{\"id\":\"ce50f49d-59da-431b-b05c-2bed2e9b13cc\",\"type\":\"Selection\"},\"selection_policy\":{\"id\":\"35567eeb-0633-45bf-add4-6a34eafec506\",\"type\":\"UnionRenderers\"}},\"id\":\"0971a5c3-5f47-44b3-b57f-4a0c0c3106fd\",\"type\":\"ColumnDataSource\"},{\"attributes\":{},\"id\":\"96db602e-482f-47d7-81c0-54d3adf32f8b\",\"type\":\"Selection\"},{\"attributes\":{},\"id\":\"b35c8026-c3db-4dea-b7a5-f88980ec6942\",\"type\":\"Selection\"},{\"attributes\":{},\"id\":\"815c593b-1a9d-4851-926b-c34726167e30\",\"type\":\"Selection\"},{\"attributes\":{},\"id\":\"2945c1d7-837b-4056-b6e3-51d5c48b7330\",\"type\":\"UnionRenderers\"},{\"attributes\":{\"callback\":null,\"data\":{\"engine_size_ss_encoded\":{\"__ndarray__\":\"5DiO4ziONUAAAAAAAIA4QAAAAAAAADVAq6qqqqqqNEBVVVVVVVUyQAAAAAAA4DJA2FBeQ3kNM0AAAAAAAAAyQAAAAAAAADBAMzMzMzMzNUCSJEmSJEk0QAAAAAAAgDdAAAAAAAAANkAAAAAAAAA3QAAAAAAAAC5AAAAAAADANECamZmZmZk1QAAAAAAAAC5AHMdxHMfxM0AAAAAAAAA3QAAAAAAAAC5AAAAAAAAAOEAAAAAAAAA6QDuxEzuxEzZAAAAAAAAAM0DkOI7jOI4yQKuqqqqqKjJAZmZmZmZmNkByHMdxHMctQG7btm3btjNAq6qqqqoqNUCMLrrooos0QDMzMzMzszNAAAAAAACAOEA=\",\"dtype\":\"float64\",\"shape\":[34]},\"index\":[\"AL\",\"AR\",\"AZ\",\"CA\",\"CO\",\"FL\",\"GA\",\"HI\",\"IA\",\"IL\",\"IN\",\"KS\",\"KY\",\"MD\",\"MI\",\"MN\",\"MO\",\"MT\",\"NC\",\"NE\",\"NM\",\"NV\",\"NY\",\"OH\",\"OK\",\"OR\",\"PA\",\"SC\",\"TN\",\"TX\",\"UT\",\"VA\",\"WA\",\"WI\"],\"miles_fs\":{\"__ndarray__\":\"plScffgEZ0DIdr6fGvVpQPT91HjpBl9AvuZC0pRgYkDp3whl9IBlQF+6SQyCSmJAW2sE8ZxIYkCIFtnO92FWQPup8dJNgmdAZvfkYaF6ZkBZZDvfT51nQLpJDAIrR2xAcT0K16POZ0AAAAAAACBsQMuhRbbzyWJAsHJoke0HZkB1JJf/kPJjQJhuEoPApmZAhTccNH8JY0Ce76fGSxtpQOxRuB6Fc19AAAAAAAAAYkBmZmZmZtZRQFY8aQSESmhAXnZPHhbdZECoM1kYcRdjQLu7u7u7oWNAQFdbsb/UbUDLwogbe9NjQFK4HoXrlWdAF9nO91P/aUC/RvxrxANiQGLuWkI+DmJAqMZLN4kfbUA=\",\"dtype\":\"float64\",\"shape\":[34]},\"price_fs\":{\"__ndarray__\":\"i0YCvnmVQ0CamZmZmfk8QMlQ2WHqglRA5xdLfrGkTEBLfrHkF/tOQJuZmZmZ/UhAnlQZw6LWTECuR+F6FI5KQOm0gU4bqEBAZTvfT403Q0CbSkPOfTZCQAAAAAAA4ENANDMzMzMzPUBxPQrXo/A1QAAAAAAAAERA16NwPQoLQkCNl24Sg2BMQDMzMzMz8zNAPCsaCfh2RUAAAAAAAAA4QB+F61G4/kNAPQrXo3D9PUCPwvUoXD9QQDUZYM6yuT1A8KfGSzcJS0Bcj8L1KLxNQIwlv1jyy0pAtvP91HgpP0Bz+4MMlf1FQBpy7rMLaEFAbaDTBjqNOUDl814+7+VAQMHKoUW2c0JApHA9CtdzQ0A=\",\"dtype\":\"float64\",\"shape\":[34]},\"region_color\":[\"#fc8d59\",\"#fc8d59\",\"#d53e4f\",\"#3288bd\",\"#fee08b\",\"#fc8d59\",\"#fc8d59\",\"#3288bd\",\"#ffffbf\",\"#99d594\",\"#99d594\",\"#ffffbf\",\"#fc8d59\",\"#e6f598\",\"#99d594\",\"#ffffbf\",\"#ffffbf\",\"#fee08b\",\"#fc8d59\",\"#ffffbf\",\"#d53e4f\",\"#3288bd\",\"#e6f598\",\"#99d594\",\"#d53e4f\",\"#3288bd\",\"#e6f598\",\"#fc8d59\",\"#fc8d59\",\"#d53e4f\",\"#fee08b\",\"#fc8d59\",\"#3288bd\",\"#99d594\"]},\"selected\":{\"id\":\"c5be7c0c-a29d-4dae-a883-ba15467d9cfd\",\"type\":\"Selection\"},\"selection_policy\":{\"id\":\"d5072e35-422a-4b4e-8bea-b77bfcc65ff6\",\"type\":\"UnionRenderers\"}},\"id\":\"4310b64f-6f55-476e-9883-edd2091548e3\",\"type\":\"ColumnDataSource\"},{\"attributes\":{\"callback\":null,\"data\":{\"engine_size_ss_encoded\":{\"__ndarray__\":\"5DiO4ziONUAAAAAAAIA4QAAAAAAAADVAq6qqqqqqNEBVVVVVVVUyQAAAAAAA4DJA2FBeQ3kNM0AAAAAAAAAyQAAAAAAAADBAMzMzMzMzNUCSJEmSJEk0QAAAAAAAgDdAAAAAAAAANkAAAAAAAAA3QAAAAAAAAC5AAAAAAADANECamZmZmZk1QAAAAAAAAC5AHMdxHMfxM0AAAAAAAAA3QAAAAAAAAC5AAAAAAAAAOEAAAAAAAAA6QDuxEzuxEzZAAAAAAAAAM0DkOI7jOI4yQKuqqqqqKjJAZmZmZmZmNkByHMdxHMctQG7btm3btjNAq6qqqqoqNUCMLrrooos0QDMzMzMzszNAAAAAAACAOEA=\",\"dtype\":\"float64\",\"shape\":[34]},\"index\":[\"AL\",\"AR\",\"AZ\",\"CA\",\"CO\",\"FL\",\"GA\",\"HI\",\"IA\",\"IL\",\"IN\",\"KS\",\"KY\",\"MD\",\"MI\",\"MN\",\"MO\",\"MT\",\"NC\",\"NE\",\"NM\",\"NV\",\"NY\",\"OH\",\"OK\",\"OR\",\"PA\",\"SC\",\"TN\",\"TX\",\"UT\",\"VA\",\"WA\",\"WI\"],\"miles_fs\":{\"__ndarray__\":\"plScffgEZ0DIdr6fGvVpQPT91HjpBl9AvuZC0pRgYkDp3whl9IBlQF+6SQyCSmJAW2sE8ZxIYkCIFtnO92FWQPup8dJNgmdAZvfkYaF6ZkBZZDvfT51nQLpJDAIrR2xAcT0K16POZ0AAAAAAACBsQMuhRbbzyWJAsHJoke0HZkB1JJf/kPJjQJhuEoPApmZAhTccNH8JY0Ce76fGSxtpQOxRuB6Fc19AAAAAAAAAYkBmZmZmZtZRQFY8aQSESmhAXnZPHhbdZECoM1kYcRdjQLu7u7u7oWNAQFdbsb/UbUDLwogbe9NjQFK4HoXrlWdAF9nO91P/aUC/RvxrxANiQGLuWkI+DmJAqMZLN4kfbUA=\",\"dtype\":\"float64\",\"shape\":[34]},\"price_fs\":{\"__ndarray__\":\"i0YCvnmVQ0CamZmZmfk8QMlQ2WHqglRA5xdLfrGkTEBLfrHkF/tOQJuZmZmZ/UhAnlQZw6LWTECuR+F6FI5KQOm0gU4bqEBAZTvfT403Q0CbSkPOfTZCQAAAAAAA4ENANDMzMzMzPUBxPQrXo/A1QAAAAAAAAERA16NwPQoLQkCNl24Sg2BMQDMzMzMz8zNAPCsaCfh2RUAAAAAAAAA4QB+F61G4/kNAPQrXo3D9PUCPwvUoXD9QQDUZYM6yuT1A8KfGSzcJS0Bcj8L1KLxNQIwlv1jyy0pAtvP91HgpP0Bz+4MMlf1FQBpy7rMLaEFAbaDTBjqNOUDl814+7+VAQMHKoUW2c0JApHA9CtdzQ0A=\",\"dtype\":\"float64\",\"shape\":[34]},\"region_color\":[\"#fc8d59\",\"#fc8d59\",\"#d53e4f\",\"#3288bd\",\"#fee08b\",\"#fc8d59\",\"#fc8d59\",\"#3288bd\",\"#ffffbf\",\"#99d594\",\"#99d594\",\"#ffffbf\",\"#fc8d59\",\"#e6f598\",\"#99d594\",\"#ffffbf\",\"#ffffbf\",\"#fee08b\",\"#fc8d59\",\"#ffffbf\",\"#d53e4f\",\"#3288bd\",\"#e6f598\",\"#99d594\",\"#d53e4f\",\"#3288bd\",\"#e6f598\",\"#fc8d59\",\"#fc8d59\",\"#d53e4f\",\"#fee08b\",\"#fc8d59\",\"#3288bd\",\"#99d594\"]},\"selected\":{\"id\":\"815c593b-1a9d-4851-926b-c34726167e30\",\"type\":\"Selection\"},\"selection_policy\":{\"id\":\"e4db4ff0-8a66-4a7e-a91a-20e7555e309d\",\"type\":\"UnionRenderers\"}},\"id\":\"a6dfa728-827e-4349-813e-2e79adcad7f2\",\"type\":\"ColumnDataSource\"},{\"attributes\":{},\"id\":\"e83def2b-7bab-497e-ad4f-4217752dc17f\",\"type\":\"UnionRenderers\"},{\"attributes\":{},\"id\":\"dcf649a9-9aba-4808-bd60-c5d9008c8cdd\",\"type\":\"UnionRenderers\"},{\"attributes\":{\"callback\":null,\"data\":{\"engine_size_ss_encoded\":{\"__ndarray__\":\"27Zt27ZtN0AAAAAAAOA1QBCLlIGnWzZAAAAAAAAINkAcTJHPusE2QAAAAAAAADhAeqEXeqFXNkCZXEFMruA2QAAAAAAAgDdAhixkIQvZN0DNzMzMzMw2QFVVVVVV1TZAR5v3KS4ZN0DmnkZY7mk1QIX2EtpLaDdAwXgr+xxSN0CSJEmSJAk3QAzOx+B8DDdAi6/4iq/4NkBu27Zt2zY4QGZmZmZmZjhANmjyZYOmNkAAAAAAAIA2QDMzMzMzszVAVVVVVVXVNkDv7u7u7u42QF4W8QmkkjZAy6FFtvP9NkAAAAAAANA2QOU1lNdQ3jVA1PqVArX+NkDmW77lWz43QAAAAAAAsDZAjuM4juM4N0Cz9zUhKHs2QImIiIiICDVAO6iDOqgDN0DkOI7jOA42QE+35odFyjZA27Zt27ZtN0AAAAAAAAA3QA==\",\"dtype\":\"float64\",\"shape\":[41]},\"index\":[\"AL\",\"AR\",\"AZ\",\"CA\",\"CO\",\"DE\",\"FL\",\"GA\",\"HI\",\"IA\",\"ID\",\"IL\",\"IN\",\"KS\",\"KY\",\"MD\",\"MI\",\"MN\",\"MO\",\"MS\",\"MT\",\"NC\",\"ND\",\"NE\",\"NM\",\"NV\",\"NY\",\"OH\",\"OK\",\"OR\",\"PA\",\"SC\",\"SD\",\"TN\",\"TX\",\"UT\",\"VA\",\"WA\",\"WI\",\"WV\",\"WY\"],\"miles_fs\":{\"__ndarray__\":\"8o6xDhTtXEBg5dAi2xxYQJuwU9qZf1pA3noUrkeaWEBRnHitot1YQJ7vp8ZL71tAYB2MtVaeWEDPdB00XAJaQOOlm8QgoFVAXYJYesYNXUAlBoGVQwdbQAVZPOJ9GltACQqt7uPTWUAyRu6C8t5aQNuyVscE91xAcBwg4f48WECzL1cC6OtaQCnFUR/pWVlAhYcskYnHW0BjO99PjbFbQHvysFBr0lpAO93apFj9W0AQn2FXgOhUQDvfT42XEllAF9nO91NnVkAJG55eKZdXQAF3fc7tEFhAlnhA2ZS/W0DRMcGD+YJdQIK5AZD40lhAw0ScsiqoWUDpscwSDvxcQB1aZDtfMlZAyUs3iUFsWkC1+mX0t4NaQFXjpZvEyFZAhL7443jmWEAakqZUnFVXQMqd29rwEltA0haWvWg6WUCJQWDl0FtdQA==\",\"dtype\":\"float64\",\"shape\":[41]},\"price_fs\":{\"__ndarray__\":\"EOP9qnyXXUA0MzMzM75dQNd4pLP7UVxAW1bLG6O3XkCfgkjCqstfQLkehetRLGBAdtOSvIt5XEA74D28YLRdQGkDnTbQVV9AztReFTB0X0BeukkMAuteQMkvlvxiqV1AaZdSRCWqXkA6+L1OHclbQEF7Ce0ldF1Am9259u8+X0AaI5jo75BdQDv+BuRvYF5AqPHSTWJQXUBXfMVXfKleQPp+arx0m2BAYUDqbwU8XUBlZmZmZlZgQDMzMzMzJ2BA393d3d37YUAEVg4tsplgQIQgt1JAp11Aw6C+ZU4XXUDTBjptoI9bQPyeW+LUT2BA6oa4GDNeXkAmutWOIDRcQHA9CtcjR2BA9Y7NtkoBXkBZXLxlsplbQFG4HoXrqVtAVt4YwUQvXUCW/GLJL7JhQL5NMWr4+11ApSHnPrvoX0B7FK5H4dBdQA==\",\"dtype\":\"float64\",\"shape\":[41]},\"region_color\":[\"#fc8d59\",\"#fc8d59\",\"#d53e4f\",\"#3288bd\",\"#fee08b\",\"#e6f598\",\"#fc8d59\",\"#fc8d59\",\"#3288bd\",\"#ffffbf\",\"#fee08b\",\"#99d594\",\"#99d594\",\"#ffffbf\",\"#fc8d59\",\"#e6f598\",\"#99d594\",\"#ffffbf\",\"#ffffbf\",\"#fc8d59\",\"#fee08b\",\"#fc8d59\",\"#ffffbf\",\"#ffffbf\",\"#d53e4f\",\"#3288bd\",\"#e6f598\",\"#99d594\",\"#d53e4f\",\"#3288bd\",\"#e6f598\",\"#fc8d59\",\"#ffffbf\",\"#fc8d59\",\"#d53e4f\",\"#fee08b\",\"#fc8d59\",\"#3288bd\",\"#99d594\",\"#fc8d59\",\"#fee08b\"]},\"selected\":{\"id\":\"702317d6-8d4a-4b01-b986-b1b84346c1a2\",\"type\":\"Selection\"},\"selection_policy\":{\"id\":\"d74a922a-cfd6-483a-ac7a-13e7da00ea20\",\"type\":\"UnionRenderers\"}},\"id\":\"e42b6304-7b4f-41e6-8d3a-d9d7b5cd0ae8\",\"type\":\"ColumnDataSource\"},{\"attributes\":{},\"id\":\"ce50f49d-59da-431b-b05c-2bed2e9b13cc\",\"type\":\"Selection\"},{\"attributes\":{\"callback\":{\"id\":\"12c71eed-d86b-47a6-838d-11a5104a63f6\",\"type\":\"CustomJS\"},\"end\":2018,\"start\":2000,\"title\":\"Year\",\"value\":1},\"id\":\"ccd3dd66-477d-466e-bd2a-f1e0c990f40d\",\"type\":\"Slider\"},{\"attributes\":{},\"id\":\"7094253d-9bac-4083-aa53-7c587a862116\",\"type\":\"UnionRenderers\"},{\"attributes\":{},\"id\":\"0a4cb09e-e7c7-4538-82cb-8c29de2a116d\",\"type\":\"UnionRenderers\"},{\"attributes\":{},\"id\":\"c6caef64-8ac7-4bea-95c3-49196cde41c2\",\"type\":\"UnionRenderers\"},{\"attributes\":{\"callback\":null,\"data\":{\"engine_size_ss_encoded\":{\"__ndarray__\":\"AAAAAAAANUAAAAAAAAA1QM3MzMzMTDRAsdzTCMs9M0BDFrKQhSw0QAAAAAAAADBAvuVbvuVbNUDD9Shcj8IzQAAAAAAAQDNAbtu2bdu2NEDkOI7jOI4tQGZmZmZmZjFAMzMzMzMzNEAAAAAAAEA2QAAAAAAAwDFAchzHcRzHM0AAAAAAAAA1QI7jOI7jODJAAAAAAACANEAAAAAAAIA2QAAAAAAAADRAzczMzMwsMkAAAAAAAAAAAGZmZmZm5jRAAAAAAACAMkAAAAAAAAA0QAAAAAAAgDJAAAAAAADAM0BCewntJbQyQNu2bdu27TRASZIkSZKkNUDXo3A9CtczQAAAAAAAACVAx3Ecx3EcMkAUrkfhehQzQAAAAAAAADRAOY7jOI7jNECKndiJnVg1QFVVVVVV1TFAAAAAAAAANUA=\",\"dtype\":\"float64\",\"shape\":[40]},\"index\":[\"AL\",\"AR\",\"AZ\",\"CA\",\"CO\",\"DE\",\"FL\",\"GA\",\"HI\",\"IA\",\"ID\",\"IL\",\"IN\",\"KS\",\"KY\",\"MD\",\"MI\",\"MN\",\"MO\",\"MS\",\"MT\",\"NC\",\"ND\",\"NE\",\"NM\",\"NV\",\"NY\",\"OH\",\"OK\",\"OR\",\"PA\",\"SC\",\"SD\",\"TN\",\"TX\",\"UT\",\"VA\",\"WA\",\"WI\",\"WV\"],\"miles_fs\":{\"__ndarray__\":\"cD0K16OuY0Cmm8QgsMJmQAfwFkhQBmFAaUajOK7VX0CaKCjn1CNiQJduEoPAFHBArWDNy+XgYkAb2CrB4oxlQO58PzVeUFpAv5PV8sa+Y0DYXEiaUgFgQCh+jLlrSWFA8dJNYhBGZ0DIdr6fGtpmQO58PzVeVWNATmIQWDk4YkDz/dR46alnQA6av37X0WVAmG4Sg8BWaEB8PzVeuodpQANWDi2y+WJAYsPTK2VyY0AdWmQ738dYQIhjXdxGJ2VA30+Nl24kZkD5U+OlmyReQIGVQ4tsn2FAWIDca65WZECoEhaz6TFkQL2rX2vzimNA4rHgADcGYkAvnkFD//xpQN0kBoGVC2FAUf9GKKMDZEDNNjemJ3RhQAfDOoPXZGVA/tR46SYpZECMrow79u9kQI3elrU6OmNA2/l+arzcZkA=\",\"dtype\":\"float64\",\"shape\":[40]},\"price_fs\":{\"__ndarray__\":\"MzMzMzM7WkDsUbgehZNDQCUGgZVDE1BArkEuCU7nUUByAEESaUxJQDMzMzMzc0tAtvTk6Cc4R0A4+MJkqkBGQArXo3A9qk5Al4ac++ziR0C1gU4b6NRIQIpBYOXQIkFAaZHtfD91SEAUrkfhevxBQK1H4XoUKkJAh8oOU5d7TUB7FK5H4SJDQDQS8M2ryUdAzczMzMyMQkCF61G4HiVEQEVEREREJENAYLpJDAIrSkDNzMzMzPxTQCcxCKwcKkVAmpmZmZn5SEBmZmZmZtZKQJDC9Shcr0dAF65H4XoSQ0C6/UGGyo5IQL/iK77iy0dAW94YwUQfQ0B7xyk6kotDQJqZmZmZOTVAZoepy+0/TEDcG3xhMvVIQGWAOcvmH0FALtiCLdiiTED+jGkywJxHQEVERERE5ENAmpmZmZn5Q0A=\",\"dtype\":\"float64\",\"shape\":[40]},\"region_color\":[\"#fc8d59\",\"#fc8d59\",\"#d53e4f\",\"#3288bd\",\"#fee08b\",\"#e6f598\",\"#fc8d59\",\"#fc8d59\",\"#3288bd\",\"#ffffbf\",\"#fee08b\",\"#99d594\",\"#99d594\",\"#ffffbf\",\"#fc8d59\",\"#e6f598\",\"#99d594\",\"#ffffbf\",\"#ffffbf\",\"#fc8d59\",\"#fee08b\",\"#fc8d59\",\"#ffffbf\",\"#ffffbf\",\"#d53e4f\",\"#3288bd\",\"#e6f598\",\"#99d594\",\"#d53e4f\",\"#3288bd\",\"#e6f598\",\"#fc8d59\",\"#ffffbf\",\"#fc8d59\",\"#d53e4f\",\"#fee08b\",\"#fc8d59\",\"#3288bd\",\"#99d594\",\"#fc8d59\"]},\"selected\":{\"id\":\"5a345695-82c2-4bed-9d3a-3ae35d7829a6\",\"type\":\"Selection\"},\"selection_policy\":{\"id\":\"2e10fd39-e26b-4eaa-8bd1-e785472102fe\",\"type\":\"UnionRenderers\"}},\"id\":\"c1c57c2a-2f40-4205-8334-f3976ccb4df7\",\"type\":\"ColumnDataSource\"},{\"attributes\":{},\"id\":\"fdeff2d0-90ab-4562-b01a-79c9375b3de8\",\"type\":\"Selection\"},{\"attributes\":{},\"id\":\"b03eff98-29e5-48f0-be1a-e70b7bc5e182\",\"type\":\"UnionRenderers\"},{\"attributes\":{\"callback\":null,\"data\":{\"engine_size_ss_encoded\":{\"__ndarray__\":\"pqWlpaWlN0CrqqqqqqoyQDMzMzMzMzVAZmZmZmYmNUD43nvvvfc2QAAAAAAAADVAWchCFrKQNUBF7UrUrkQ2QAAAAAAAADdAAAAAAAAAOEAAAAAAAAA2QKuqqqqqajFAhixkIQtZM0Crqqqqqqo3QA8PDw8PDzdAFDuxEzuxM0AAAAAAAAA3QNu2bdu2LTVAAAAAAAAgNECrqqqqqio2QAAAAAAAgDVA9zTCck8jNkAAAAAAAAA2QEYXXXTRRTRAAAAAAAAAAABu27Zt27Y0QJIkSZIkSTZAuOGGG264NUCivIbyGso0QJIkSZIkSTVAb3rTm970NECJiIiIiIg2QAAAAAAAADRAO7ETO7GTNUB5DeU1lFc1QJqZmZmZGTdAVVVVVVVVNUBeQ3kN5TU2QNPS0tLS0jVAAAAAAAAAJkA=\",\"dtype\":\"float64\",\"shape\":[40]},\"index\":[\"AL\",\"AR\",\"AZ\",\"CA\",\"CO\",\"DE\",\"FL\",\"GA\",\"HI\",\"IA\",\"ID\",\"IL\",\"IN\",\"KS\",\"KY\",\"MD\",\"MI\",\"MN\",\"MO\",\"MS\",\"MT\",\"NC\",\"ND\",\"NE\",\"NM\",\"NV\",\"NY\",\"OH\",\"OK\",\"OR\",\"PA\",\"SC\",\"SD\",\"TN\",\"TX\",\"UT\",\"VA\",\"WA\",\"WI\",\"WV\"],\"miles_fs\":{\"__ndarray__\":\"EN2pdkMcakDTlIqzD/FgQIBIv30dmGRALM4+fIYbYkBKVQe724JlQBgEVg4tumBAlRLuG0O3YkCu5AZ+oa9kQErhehSum15Ai2zn+6ltZEAtsp3vpw5nQEW28/3UoWJA9kIwhofyZUAFyL3mQvhnQGhcheFw12RA7zQwfvclYkBI4XoUrn5jQEYkjKOzm2RAjGzn++lJZUABcq+5kCxqQClcj8L17mZAulVy5bdIZEBg5dAi2zlfQLd3o65qGWVAxSCwcmiRKEACbpil3v1jQC170Zy4i1dA/jOvDMCbZECtiJRy3+1jQNvtOS6mQ2ZA+n5qvHT9YUDQGVHaGzJnQPtm4ENIR2VAVOOlm8RkY0A+gaeijbhjQOILk6mCqWRA6ilfvXdxYUAdKxBG2r9jQF6waIcMoGFAyHa+nxrBUUA=\",\"dtype\":\"float64\",\"shape\":[40]},\"price_fs\":{\"__ndarray__\":\"5RZKfbBDSUAfhetRuN5FQKAaL90kDklAJqO3Za2+SkBTSwS1RBBNQJqZmZmZOUlA86qAYZt9R0A9DM/D8NxLQD4K16NwNVFAq5i0ikkLRkBAnhLkKeFIQFVVVVVV/URA+OuSyofRSkBERERERGxIQFVUVFRUlERAoDFNBpiTRECkcD0K1z9HQCmr5Y0RhERApHA9Ctc1T0Bcj8L1KAxGQHsUrkfhUktAtjZRsmsTTEDsUbgehStQQJQ7QLkDlEdAMzMzMzPzPUDiehSuR8FKQIhNpSHnHk1A/8xS0CwlRkA3QcVWzXlIQKCsljdGAE5AgN92ywkGSUDbFSD3motHQKfSkHOfnUNAdu+QqCJ0S0DRgIPkiAZKQCqHFtnOJ0ZA+8WSXyw5TEB2UmUMi1pLQCfyvotYBU1ArkfhehS+SEA=\",\"dtype\":\"float64\",\"shape\":[40]},\"region_color\":[\"#fc8d59\",\"#fc8d59\",\"#d53e4f\",\"#3288bd\",\"#fee08b\",\"#e6f598\",\"#fc8d59\",\"#fc8d59\",\"#3288bd\",\"#ffffbf\",\"#fee08b\",\"#99d594\",\"#99d594\",\"#ffffbf\",\"#fc8d59\",\"#e6f598\",\"#99d594\",\"#ffffbf\",\"#ffffbf\",\"#fc8d59\",\"#fee08b\",\"#fc8d59\",\"#ffffbf\",\"#ffffbf\",\"#d53e4f\",\"#3288bd\",\"#e6f598\",\"#99d594\",\"#d53e4f\",\"#3288bd\",\"#e6f598\",\"#fc8d59\",\"#ffffbf\",\"#fc8d59\",\"#d53e4f\",\"#fee08b\",\"#fc8d59\",\"#3288bd\",\"#99d594\",\"#fc8d59\"]},\"selected\":{\"id\":\"b35c8026-c3db-4dea-b7a5-f88980ec6942\",\"type\":\"Selection\"},\"selection_policy\":{\"id\":\"e83def2b-7bab-497e-ad4f-4217752dc17f\",\"type\":\"UnionRenderers\"}},\"id\":\"f43511c0-0f68-4cae-8863-3056a3cc0915\",\"type\":\"ColumnDataSource\"},{\"attributes\":{\"callback\":null,\"data\":{\"engine_size_ss_encoded\":{\"__ndarray__\":\"16NwPQrXNkBddNFFF103QOi0gU4b6DVArkfhehRuNUBWspKVrGQ2QAAAAAAAADZAep7neZ7nNUAAAAAAAEA2QM3MzMzMzDZA6aKLLrpoNkDRXkJ7Ce02QAAAAAAAwDVA8RVf8RVfNUDRRRdddFE0QEmSJEmSJDZAVVVVVVUlMEB1UAd1UAc2QK9evXr16jZAmpmZmZkZNkCSJEmSJEk1QAAAAAAAgDZASyc5sHSSNUDbtm3btm02QC+66KKLLjZAkiRJkiRJOEDHcRzHcRw2QImIiIiIyDRA42wK42wKNkC4HoXrUbg1QJqZmZmZmTVABS+n4OUUNkA7sRM7sRM3QAAAAAAAMDNACtT6lQK1NUDwC7f2xuo1QAAAAAAAgDZAYQu2YAu2NUBDeQ3lNRQ2QAnLPY2wXDVAAAAAAAAAOkAAAAAAAIAqQA==\",\"dtype\":\"float64\",\"shape\":[41]},\"index\":[\"AL\",\"AR\",\"AZ\",\"CA\",\"CO\",\"DE\",\"FL\",\"GA\",\"HI\",\"IA\",\"ID\",\"IL\",\"IN\",\"KS\",\"KY\",\"MD\",\"MI\",\"MN\",\"MO\",\"MS\",\"MT\",\"NC\",\"ND\",\"NE\",\"NM\",\"NV\",\"NY\",\"OH\",\"OK\",\"OR\",\"PA\",\"SC\",\"SD\",\"TN\",\"TX\",\"UT\",\"VA\",\"WA\",\"WI\",\"WV\",\"WY\"],\"miles_fs\":{\"__ndarray__\":\"OE91yM1IY0B3o65qHX5iQJ2iI7n8U2BAXcmOjcAkYEDTN64ZlJxhQI/C9ShcN15AREEWj3hxYEDsmTQonehgQB/ME/VvLFtALRMHZqRmYUC3A2HPTp9jQDEIrBxapmJAIvGxOcrmYED6AhCWZgNfQJ0cAZvxQWJAIbByaBF2VUBwjGCiv59jQEnpYYYCOmJA4uzDZ9jtYECuhtv1ZzZkQGX0tqzVVmNAblM+gypbYkDWr7V5IPtiQB27zbHb0GFAIx4LDnAPZUCzcesgEu9gQMQj3ic0bF1AlBAL5sj9YUDFFoIclHJjQK8dmdC6oWFA3Z1bMAeIYEAHZ8LeCvNiQCQGgZVD0VpA52a+1EzeYECMOm8m4tRgQDZE5+SLdWNAlyS8Kj1AX0BYJ1XGsFpgQKmmiAnRvGBAhetRuB59ZUDEILByaIJhQA==\",\"dtype\":\"float64\",\"shape\":[41]},\"price_fs\":{\"__ndarray__\":\"22gAb4HkU0DD2jesfbNSQPv/////71NAgki/fR2+U0AQ6M9BBFtTQM3MzMzMmFJAdHTWKZPTUUD01UmVMcpSQBYg95oLuVhAIf414l83U0CIngrM4m5UQArXo3A9hlJA3yu+4isGUkCpzpbqbClXQHtjBBP9zVBAlfxiyS8QUEBcxo5IGKdQQE9LB0yiS1FAwvUoXI+qVkCHnPvsAmJRQGoDnTbQFVJAI/qE6BJtUkBdQGwqDXlQQGvEv0b8K1NAnqyWN0bAU0APXlj9THdTQM7bslbHtFJAw+QbjrE4UUCFFtnO9yNQQCv4FbaSZFRA0Lpyg7NNUkAaLCjp+HBSQOxRuB6FtlRA4EqEA5odUkC02SFSFJlRQO4DP/ADN1BAXEiaUnEmUUB0pXcGHORUQC2MJ1Apb1NAzczMzMz8U0BI4XoUrt9NQA==\",\"dtype\":\"float64\",\"shape\":[41]},\"region_color\":[\"#fc8d59\",\"#fc8d59\",\"#d53e4f\",\"#3288bd\",\"#fee08b\",\"#e6f598\",\"#fc8d59\",\"#fc8d59\",\"#3288bd\",\"#ffffbf\",\"#fee08b\",\"#99d594\",\"#99d594\",\"#ffffbf\",\"#fc8d59\",\"#e6f598\",\"#99d594\",\"#ffffbf\",\"#ffffbf\",\"#fc8d59\",\"#fee08b\",\"#fc8d59\",\"#ffffbf\",\"#ffffbf\",\"#d53e4f\",\"#3288bd\",\"#e6f598\",\"#99d594\",\"#d53e4f\",\"#3288bd\",\"#e6f598\",\"#fc8d59\",\"#ffffbf\",\"#fc8d59\",\"#d53e4f\",\"#fee08b\",\"#fc8d59\",\"#3288bd\",\"#99d594\",\"#fc8d59\",\"#fee08b\"]},\"selected\":{\"id\":\"ab4a68c8-5bad-4167-a4d5-a897110e0fc3\",\"type\":\"Selection\"},\"selection_policy\":{\"id\":\"c6caef64-8ac7-4bea-95c3-49196cde41c2\",\"type\":\"UnionRenderers\"}},\"id\":\"bae9da19-41ec-4c51-b75f-0f76f39587ff\",\"type\":\"ColumnDataSource\"},{\"attributes\":{\"callback\":null,\"data\":{\"engine_size_ss_encoded\":{\"__ndarray__\":\"CCPtWIEwNkDkOI7jOA43QH9Hr4ztdzVA2GEJR/X3NED1pje96U02QAAAAAAA4DRADsgGZAOyNUCWQ4ts5/s1QHTRRRddNDJAaWlpaWlpNkAAAAAAAAA2QPgpLhmCdTVAaC+hvYT2NUBUgjwlyFM3QLW0tLS0tDVAZU1ZU9YUNkC+5Vu+5ds2QErdl8dWhDZAvJyCl1PwNUAq8lk3mCI2QAAAAAAAgDZAG5nqtXWXNUDRRRdddNE3QH1BX9AX9DRAAAAAAABgNUBVVVVVVdU0QH04DaGSbjVAzczMzMwwNkAfhetRuJ41QF/xFV/xlTRA9zTCck8jNkA4rH3D2jc2QAAAAAAAQDVAdw7WLDE+NkCDKfJZN/g1QCd2Yid2ojZAujU/LFIGNkAvp+DlFLw1QJBrIpBrIjVAZmZmZmbmNEAAAAAAAAA4QA==\",\"dtype\":\"float64\",\"shape\":[41]},\"index\":[\"AL\",\"AR\",\"AZ\",\"CA\",\"CO\",\"DE\",\"FL\",\"GA\",\"HI\",\"IA\",\"ID\",\"IL\",\"IN\",\"KS\",\"KY\",\"MD\",\"MI\",\"MN\",\"MO\",\"MS\",\"MT\",\"NC\",\"ND\",\"NE\",\"NM\",\"NV\",\"NY\",\"OH\",\"OK\",\"OR\",\"PA\",\"SC\",\"SD\",\"TN\",\"TX\",\"UT\",\"VA\",\"WA\",\"WI\",\"WV\",\"WY\"],\"miles_fs\":{\"__ndarray__\":\"QNr8xWD9UkBlGpzqBfhRQCHRY6pf/VNA30T4WvQNUkA2GV88bpxSQITAyqFF7ExAbv5KdJVGUUAffGEyVSRTQJGME8k4mUpAdQ+pQtyFU0DDndY5BYZUQMlnBeenX1JAtIFOG+g8VEDs/mY2UbFVQALZUTtiO1NASyYk90UpUkD8gDjk0lxUQILDAPbfSFNAsI4S1CYLVECs77anin9VQPSOU3QkT1BAJ5XFJJBFU0BZ4JUFXnlPQKaDzMZOTlNASeF6FG6LUkAb0jI+9JxQQNIn0zdS0VFAsdhfds/XU0C3BrZKsNxUQHpMY/m2Y1BAXOC/q4CpUkChugTTpzdTQH2GXQFyFFJAmxKYrdm3VEAXvBpNn2BTQBU4/Nct11JACfxQscf2UkBdSqEBHUJRQOHsdMJn+VJAku18PzUuUED6fmq8dD1TQA==\",\"dtype\":\"float64\",\"shape\":[41]},\"price_fs\":{\"__ndarray__\":\"XGsE8ZwgY0CW/GLJL9BjQIJhOb5ek2JA73VYwlH1YkB+HECQRIhkQK5H4XoUomFAxbHTx9iyYkAnUwWjkqJiQKjOlupsOWNACD1wo9ZZZECooNWXCkJjQCQTljo3E2NAArO4E8QhY0BYA9JoU5BkQLY8KHoy2WJABXjYweZFY0DKXrli+CpjQKKe+nRKKWRALvY2sTCXY0CQ7ooSoUJiQIps5/upe2VA9XAHopmSYkAoknEiGW9mQDM9BW4GJ2NAy8zMzIwCY0BLXW5/kN1iQHkzGlv9EmJAaRKDwGqKYkDa+X5qvMhhQNgdTh//JGRAOlGyaxMFY0Dzt1yy/mxjQML1KFyPtWJAUcczeUkyYkCNLCu0uVNiQAq90Au9wmNAFqOGv00xYkCwFDXyMWllQCWQayKQ42JAne+nxksTY0AAAAAAAMRmQA==\",\"dtype\":\"float64\",\"shape\":[41]},\"region_color\":[\"#fc8d59\",\"#fc8d59\",\"#d53e4f\",\"#3288bd\",\"#fee08b\",\"#e6f598\",\"#fc8d59\",\"#fc8d59\",\"#3288bd\",\"#ffffbf\",\"#fee08b\",\"#99d594\",\"#99d594\",\"#ffffbf\",\"#fc8d59\",\"#e6f598\",\"#99d594\",\"#ffffbf\",\"#ffffbf\",\"#fc8d59\",\"#fee08b\",\"#fc8d59\",\"#ffffbf\",\"#ffffbf\",\"#d53e4f\",\"#3288bd\",\"#e6f598\",\"#99d594\",\"#d53e4f\",\"#3288bd\",\"#e6f598\",\"#fc8d59\",\"#ffffbf\",\"#fc8d59\",\"#d53e4f\",\"#fee08b\",\"#fc8d59\",\"#3288bd\",\"#99d594\",\"#fc8d59\",\"#fee08b\"]},\"selected\":{\"id\":\"13e2e778-881c-46ea-87bf-8d2320cca794\",\"type\":\"Selection\"},\"selection_policy\":{\"id\":\"a2fbb9bf-f8de-44b0-9dd0-1441a6db82fe\",\"type\":\"UnionRenderers\"}},\"id\":\"2a01b774-8ccf-42b8-ae99-c7d91c7d5d45\",\"type\":\"ColumnDataSource\"},{\"attributes\":{},\"id\":\"fc822608-bdbc-46eb-bbd1-62f5dee375b4\",\"type\":\"UnionRenderers\"},{\"attributes\":{\"callback\":null,\"data\":{\"engine_size_ss_encoded\":{\"__ndarray__\":\"P/ZjP/ZjNkCx3NMIyz03QHIcx3EcxzVAetOb3vRmNUAXXXTRRXc2QAAAAAAA4DZApzQv/kTCNUD823Kmw1E2QEmSJEmS5DRA0UUXXXRRN0Crqqqqqqo2QOzETuzETjVAKH3SJ31SNkCVIE8J8pQ3QAu/GhPpgTZA6Av6gr6gNUCDKfJZNxg3QHBY+4a17zZAaJT4GSV+NkDRWB8a60M1QAAAAAAAADRABeJCzUkgNkAlSZIkSZI1QBQ7sRM7sTZAq6qqqqpqNkCe2Imd2Ik0QK+VE57pbzVAZmZmZmYKNkA5juM4jiM2QCV+RomfUTVAWsJufgsBNkDBeCv7HFI2QAAAAAAAADZANl3TNV3TNUBCHdRBHTQ2QKuqqqqqKjVANU3TNE3TNUBJkiRJkmQ2QLjhhhtuuDVAJ3ZiJ3ZiNkAAAAAAAAA4QA==\",\"dtype\":\"float64\",\"shape\":[41]},\"index\":[\"AL\",\"AR\",\"AZ\",\"CA\",\"CO\",\"DE\",\"FL\",\"GA\",\"HI\",\"IA\",\"ID\",\"IL\",\"IN\",\"KS\",\"KY\",\"MD\",\"MI\",\"MN\",\"MO\",\"MS\",\"MT\",\"NC\",\"ND\",\"NE\",\"NM\",\"NV\",\"NY\",\"OH\",\"OK\",\"OR\",\"PA\",\"SC\",\"SD\",\"TN\",\"TX\",\"UT\",\"VA\",\"WA\",\"WI\",\"WV\",\"WY\"],\"miles_fs\":{\"__ndarray__\":\"c3UyIZJUWUCYs6lViyNYQN1IHZdnOlZAixoic6lZVkCxNDt+5n1VQOtRuB6FSVZAR/+BGnd4VUD/q1+GyMNXQPV3slreTFJAo3A9CtfDVkBbODdYm/hXQMZ5c9snsVZAN4+dynzqVkDk3jppwrlUQH1j/4vEPlhAZWmlkfJZVUDfeyKBs01XQJ7hjziD8FZA6V3kkhvPVkD3bPVQS/ZYQB2ddcrk+lFAf77707xRV0Chy9gRCUtUQA/oVyKWB1ZAUEZvy1pqV0AH80T9GylUQLKfZuq9ylNAW/5D+u0NV0Bn03NHTl5ZQAJoUNsTW1VArYxAFlr/VEBwmHcJa9ZXQJrmHafoyFZAl9K0uYKvVkDL91PjpXhWQG1UCYvZXFZABJyrC3MnVUCgDuqgDuZUQDZUkHY4jFZA3Pl+arwkVkAgaUrF2QNaQA==\",\"dtype\":\"float64\",\"shape\":[41]},\"price_fs\":{\"__ndarray__\":\"2wXEptJoYEBCNLy/3SxiQENQN6i2hWBAXRHnxwFDYEDHbnPsNg5hQClcj8L1+l9AFj5E85GdX0C6rlcMLV1gQKk05NxntWBAGda+Ye19YkAnk1Rr1yBhQD59bXGwtmBAO99PjZfaYEDmxceRr9diQOJKAvOeiGBAXZmUMPx/YEBnZmZmZrphQLuiKsVDRGFAQPufkvQgYUDsLGE3v0VeQH7FV3zFn19AI+/TBMdQYEBb3hjBRBNhQC/FH8le4WBAy8zMzMy9YEA1/4xpMhBfQJ9YT0owr19Abj0K1+MhX0AslvxiyRVeQK2yPPMNQmFAqakZwszZYEAOX+Qq6ghgQLFQa5p3jGFA4CFRRYinX0BzI1XXYMtfQNcfZKjsaF1Abkra17BwX0BL9HeyWiljQGc2SmajXGBATuzETuw8YkCkcD0K1x9jQA==\",\"dtype\":\"float64\",\"shape\":[41]},\"region_color\":[\"#fc8d59\",\"#fc8d59\",\"#d53e4f\",\"#3288bd\",\"#fee08b\",\"#e6f598\",\"#fc8d59\",\"#fc8d59\",\"#3288bd\",\"#ffffbf\",\"#fee08b\",\"#99d594\",\"#99d594\",\"#ffffbf\",\"#fc8d59\",\"#e6f598\",\"#99d594\",\"#ffffbf\",\"#ffffbf\",\"#fc8d59\",\"#fee08b\",\"#fc8d59\",\"#ffffbf\",\"#ffffbf\",\"#d53e4f\",\"#3288bd\",\"#e6f598\",\"#99d594\",\"#d53e4f\",\"#3288bd\",\"#e6f598\",\"#fc8d59\",\"#ffffbf\",\"#fc8d59\",\"#d53e4f\",\"#fee08b\",\"#fc8d59\",\"#3288bd\",\"#99d594\",\"#fc8d59\",\"#fee08b\"]},\"selected\":{\"id\":\"0279c7eb-ac35-43c8-93e1-d8e53a6ac071\",\"type\":\"Selection\"},\"selection_policy\":{\"id\":\"3336fccc-2ec8-4510-8361-beaced6271a3\",\"type\":\"UnionRenderers\"}},\"id\":\"ea6afb3e-1fc2-4391-a5d3-e6a865626893\",\"type\":\"ColumnDataSource\"},{\"attributes\":{},\"id\":\"5a345695-82c2-4bed-9d3a-3ae35d7829a6\",\"type\":\"Selection\"},{\"attributes\":{},\"id\":\"ab4a68c8-5bad-4167-a4d5-a897110e0fc3\",\"type\":\"Selection\"},{\"attributes\":{\"callback\":null,\"data\":{\"engine_size_ss_encoded\":{\"__ndarray__\":\"gvsI7iO4NkB3d3d3d3c3QHIcx3EcRzVAzIBPDpcBNUCChpO6L480QLdt27ZtczVAsfYNa9+wNUAMwzAMwzA1QAAAAAAAgDVAx3Ecx3GcNkARERERERE1QKuqqqqqqjVAxU7sxE7sNkBu27Zt27Y1QB3UQR3UQTVAq6qqqqpqNkAQPvjggw82QOGDDz744DRAO7ETO7ETNkAAAAAAAAA4QNcdL7YE3zRAAAAAAABAOEBMaC+hvYQ2QKuqqqqqKjVAMzMzMzMzNkDMtQNz7cA0QH+DbtfKCTZAjuM4juO4NkBZyEIWspA0QJ1zzjnn3DVAC2JyBTG5NkBVVVVVVVU0QJ7neZ7neTZAm6u5mqu5NUC5pxGWexo2QEjhehSuxzVAIiIiIiKiNUCNjIyMjIw1QAAAAAAAwDVAAAAAAAAANEA=\",\"dtype\":\"float64\",\"shape\":[40]},\"index\":[\"AL\",\"AR\",\"AZ\",\"CA\",\"CO\",\"FL\",\"GA\",\"HI\",\"IA\",\"ID\",\"IL\",\"IN\",\"KS\",\"KY\",\"MD\",\"MI\",\"MN\",\"MO\",\"MS\",\"MT\",\"NC\",\"ND\",\"NE\",\"NM\",\"NV\",\"NY\",\"OH\",\"OK\",\"OR\",\"PA\",\"SC\",\"SD\",\"TN\",\"TX\",\"UT\",\"VA\",\"WA\",\"WI\",\"WV\",\"WY\"],\"miles_fs\":{\"__ndarray__\":\"dV+jycQDYUD1SlmGOAZgQKWtIfw8fFtAFZ2UwWa6XEAJuJbWBkVaQFUmtyrKkF1A8v80MoOmXUDloYSwbmlZQCS6thnjrF5AVehHdG0dYUC8CEDJChNcQIhadSL0dl1AtFiVLG2LX0AlrbdL3hthQJgIG55ekVlAh6QpFWd1XUCHx2V4XJ5eQN1iM5ScUWBAYRMNdcHwX0ApXI/C9ZBgQPja9CBnuF1ArkfhehTsXUDziyW/WGJdQI/C9Shc51xAutqK/WXbWECSyodxv95YQDcMx3LQEmBA6+SqPZ0uYECG75pc0HReQPOkNRwnPlxAZkERvEz1YEB8PzVeujFaQPSfmCPT0V9AI8siaqwVXkCo8nRIzhdgQDh/EwoRRFxAmTB0/2sXXkDihfYzPsVdQHWTGARWAl9AWDm0yHZAZUA=\",\"dtype\":\"float64\",\"shape\":[40]},\"price_fs\":{\"__ndarray__\":\"XGHCZoRPV0BQG+i0gV5ZQK7OlQck21hAdHQhghIVWECJdgeH0gFXQIvrUbieT1VAtXAI2FM9V0DAWPKLJf9ZQLgehetRmFZAyHEcx3HcV0CjjN6WtXpWQAczyjxmbVdAF3qhF3oRWUBNYhBYOeRTQA/eW9LT9FdAJCIiIiIOWkDwVUNfNbRWQA5r37D2fVRADjBn2fxbVkC4HoXrUZBaQDr6E8ZN/lVAKVyPwvWkV0Br+NsUo1ZZQBSuR+F6DFVAAyuHFtkeW0A8TzKxDoFWQFR5eEkBB1VAULgehevBVkBYQtWfJ5lXQCiBfxL4F1dAUpbikLHXVkArGgn45rVZQHBketnKdFZA/+Usm38GVkCrrDt7l2dVQJ8jufyHdFVAJTEIrByKW0AaUoW46x5YQJmZmZmZvVdAwvUoXI8iRkA=\",\"dtype\":\"float64\",\"shape\":[40]},\"region_color\":[\"#fc8d59\",\"#fc8d59\",\"#d53e4f\",\"#3288bd\",\"#fee08b\",\"#fc8d59\",\"#fc8d59\",\"#3288bd\",\"#ffffbf\",\"#fee08b\",\"#99d594\",\"#99d594\",\"#ffffbf\",\"#fc8d59\",\"#e6f598\",\"#99d594\",\"#ffffbf\",\"#ffffbf\",\"#fc8d59\",\"#fee08b\",\"#fc8d59\",\"#ffffbf\",\"#ffffbf\",\"#d53e4f\",\"#3288bd\",\"#e6f598\",\"#99d594\",\"#d53e4f\",\"#3288bd\",\"#e6f598\",\"#fc8d59\",\"#ffffbf\",\"#fc8d59\",\"#d53e4f\",\"#fee08b\",\"#fc8d59\",\"#3288bd\",\"#99d594\",\"#fc8d59\",\"#fee08b\"]},\"selected\":{\"id\":\"b743f36b-8d78-475e-a364-afcd6367fec1\",\"type\":\"Selection\"},\"selection_policy\":{\"id\":\"2945c1d7-837b-4056-b6e3-51d5c48b7330\",\"type\":\"UnionRenderers\"}},\"id\":\"ad1951dc-f78d-4819-8b89-e95dc8768cda\",\"type\":\"ColumnDataSource\"},{\"attributes\":{},\"id\":\"b743f36b-8d78-475e-a364-afcd6367fec1\",\"type\":\"Selection\"},{\"attributes\":{\"callback\":null,\"data\":{\"engine_size_ss_encoded\":{\"__ndarray__\":\"AAAAAAAANUAAAAAAAIAzQFVVVVVVVTZASOF6FK5HM0CrqqqqqqoyQDmO4ziO4zFAG8prKK+hM0AAAAAAAIAyQAAAAAAAQDNAAAAAAAAANUCrqqqqqqoyQNu2bdu27TJAAAAAAAAANUAAAAAAACA1QKuqqqqqqjJAx3Ecx3EcNUDbtm3btm01QAAAAAAAADVAAAAAAABAM0DNzMzMzEwzQJqZmZmZmTFAAAAAAAAAM0AAAAAAAAA1QAAAAAAAgDFAAAAAAABAMkDi4eHh4eEyQIqd2Imd2DFAt23btm1bMkDbtm3btm0yQAAAAAAAADdAMzMzMzMzMkBJkiRJkqQzQAAAAAAAADNAAAAAAAAAM0B2Yid2YiczQAAAAAAAgDJAAAAAAAAAI0A=\",\"dtype\":\"float64\",\"shape\":[37]},\"index\":[\"AL\",\"AR\",\"AZ\",\"CA\",\"CO\",\"FL\",\"GA\",\"HI\",\"IA\",\"ID\",\"IL\",\"IN\",\"KY\",\"MD\",\"MI\",\"MN\",\"MO\",\"MS\",\"MT\",\"NC\",\"NE\",\"NM\",\"NV\",\"NY\",\"OH\",\"OK\",\"OR\",\"PA\",\"SC\",\"SD\",\"TN\",\"TX\",\"UT\",\"VA\",\"WA\",\"WI\",\"WV\"],\"miles_fs\":{\"__ndarray__\":\"j8L1KFxBcUAtsp3vpyxrQOIz7AqQ+WJAg2kYPiIyYkAFVg4tsuNjQKAaL90kXmBAyFIAm44nZUAqhxbZzrtXQI/C9ShcwmNAiIiIiIi8YkDX6pjgwUBmQMlqeWMEQWRAObTIdr7VY0BmZmZmZrBcQG1Zq2OCc2ZALkoy52hnaEBu27Zt23ZlQF66SQwC22ZAd76fGi+bY0CQEqjrdiVjQL99HThntGJAAAAAAACgVUAAAAAAAMBjQHSTGARWFl5A001iENgUY0CM8Ve+JHljQLpgKiueyGRAhWUvmhMtYkAvY0ckjDNoQCD0bFZ9GmpA7J48LNQqY0DaBcSm0lhjQP0boYzeGmhAEzyYJ+pzZEBG5C9Qu7NpQKuqqqqqaGJAYOXQItttX0A=\",\"dtype\":\"float64\",\"shape\":[37]},\"price_fs\":{\"__ndarray__\":\"MzMzMzPzPUCamZmZmflIQFK4HoXrAUNA3GgAb4GkSkCF61G4HlVJQEVlh6nLjUZA+II3m6DiQ0CF61G4HjVFQKNwPQrXG01A0WkDnTbQTUDe3d3d3T1AQJ9dQGwqjUZAFK5H4XqkTkA9CtejcPFLQCW/WPKLpUJAW9FIwDdvOUCZmZmZmXlFQAAAAAAAgEFAhetRuB4tSECEeaL+jVBJQGM730+NN0dAAAAAAAAQckA9CtejcP0zQFK4HoXryVdAwFjyiyUjSkDs6urq6jpKQKEXeqEXmkpAQLuA2FSaSEA9WS1vjIBCQBWuR+F6FD1Abef7qfHyQEAnq+WNEUxPQOxRuB6FCzdAaQOdNtCJPEDnEsgaRntDQKcNdNpAN0RAXI/C9Sg8QEA=\",\"dtype\":\"float64\",\"shape\":[37]},\"region_color\":[\"#fc8d59\",\"#fc8d59\",\"#d53e4f\",\"#3288bd\",\"#fee08b\",\"#fc8d59\",\"#fc8d59\",\"#3288bd\",\"#ffffbf\",\"#fee08b\",\"#99d594\",\"#99d594\",\"#fc8d59\",\"#e6f598\",\"#99d594\",\"#ffffbf\",\"#ffffbf\",\"#fc8d59\",\"#fee08b\",\"#fc8d59\",\"#ffffbf\",\"#d53e4f\",\"#3288bd\",\"#e6f598\",\"#99d594\",\"#d53e4f\",\"#3288bd\",\"#e6f598\",\"#fc8d59\",\"#ffffbf\",\"#fc8d59\",\"#d53e4f\",\"#fee08b\",\"#fc8d59\",\"#3288bd\",\"#99d594\",\"#fc8d59\"]},\"selected\":{\"id\":\"e5966efb-9126-49d5-9696-83ee739f8ee1\",\"type\":\"Selection\"},\"selection_policy\":{\"id\":\"d4bd76af-67ff-458f-913b-4429f6d63d89\",\"type\":\"UnionRenderers\"}},\"id\":\"70c5687a-35e5-42d5-9463-eb40ec734492\",\"type\":\"ColumnDataSource\"},{\"attributes\":{\"callback\":null,\"data\":{\"engine_size_ss_encoded\":{\"__ndarray__\":\"eqEXeqEXN0AAAAAAAGA0QGuttdZaazZAq6qqqqqGNUCPwvUoXA82QKuqqqqqqjZAB3Rjnj7aNUBXi5swv6s1QGIndmIndjdAG8prKK8hN0DDMAzDMAw0QI7jOI7jODZATGcxncV0NkAvuuiii641QJnOYjqL6TVA6aKLLrroNUAY9AV9QV82QLZvWPuGtTZA+N577733NUAAAAAAALA1QAAAAAAAADVAu9e97nWvNUAAAAAAAIA1QG2yySabbDZAymsor6G8NECjiy666CI2QOpNb3rTGzZA4uHh4eHhNUB8xVd8xVc2QMdxHMdxHDVARERERERENkAzMzMzM3M2QCVJkiRJkjRAPyTw9kMCNkBws1+IFSU2QHd3d3d3dzVAymsor6E8N0B00UUXXXQ1QNu2bdu2bTZAAAAAAABANEAzMzMzMzM4QA==\",\"dtype\":\"float64\",\"shape\":[41]},\"index\":[\"AL\",\"AR\",\"AZ\",\"CA\",\"CO\",\"DE\",\"FL\",\"GA\",\"HI\",\"IA\",\"ID\",\"IL\",\"IN\",\"KS\",\"KY\",\"MD\",\"MI\",\"MN\",\"MO\",\"MS\",\"MT\",\"NC\",\"ND\",\"NE\",\"NM\",\"NV\",\"NY\",\"OH\",\"OK\",\"OR\",\"PA\",\"SC\",\"SD\",\"TN\",\"TX\",\"UT\",\"VA\",\"WA\",\"WI\",\"WV\",\"WY\"],\"miles_fs\":{\"__ndarray__\":\"TSHLpVqnXUCjRbbzfSZaQKBjNG15HlxAtQ+fYVfmWkCzmNh8XItbQFWcffgMY1dAVRxCp1iNWkDHokNVnaVcQNXXFgcLulhAk4gLQ97CWkAMjGS5041aQA6av37Xe1tAtIno2D9LXUARpvwtlyBZQIhNSjyqFl5AJYLbu1EvWkD8cESd5uJdQIi37TD6C15AaWSwRgarXEDpJjEI7LNfQF66SQwC0V9Ag/0Yem5fXUDy0k1iEG1dQHIzX2om0V1AcoWG4LtfWEA5mdfGrNBaQPZcBH1MTVlAXbqnw5lYXUB7josp1gRhQHyi/o1QrltARQ+P15a8WkBCE2HD06xcQOI3Ax9CmlhAIKhUZW3sXUDicX0aaCtbQDbufrNYM1xAffe4VKLWWUAWm6HkTFlbQAWlZPjNeVxA2/l+ary3X0B5WKg1zcdjQA==\",\"dtype\":\"float64\",\"shape\":[41]},\"price_fs\":{\"__ndarray__\":\"/URae1m4WUDD9Shcj71YQNrp5J1OZlhAS+F6FO7mWUDSK2UZ4ohaQLSBThvoxFlAAmRhku+0WECEKghHBNlYQOW5BLKGwVpAD6d+zy1RW0BxAidwAhdaQL5Y8osl+1hAZ3T4iQCNWUBTnS3V2ZpbQLMJKrZqDllAZBWTVjHJWUDVhfqMkItaQECTt5rfQVhA0TnnnHO+WUDB9ShcD2BXQHsUrkfhZldAITo3IGg3WEDsUbgehcdWQIXZW5i99VhAuMSp33NbW0D2Q00/1MRXQE93DBz/jVlAwm1kct1cV0Al7vYcF6NWQHeBuyjJHFtABxhwqV3mWUCFFtnO93lYQEhrtEZrBFlAHMD4zwEcV0CgjPFMtIxYQL3KoUW2o1dA/gbJEU2TWkC6HoXrUXBaQCq+4iu+cllApHA9CtcfWEApXI/C9VhWQA==\",\"dtype\":\"float64\",\"shape\":[41]},\"region_color\":[\"#fc8d59\",\"#fc8d59\",\"#d53e4f\",\"#3288bd\",\"#fee08b\",\"#e6f598\",\"#fc8d59\",\"#fc8d59\",\"#3288bd\",\"#ffffbf\",\"#fee08b\",\"#99d594\",\"#99d594\",\"#ffffbf\",\"#fc8d59\",\"#e6f598\",\"#99d594\",\"#ffffbf\",\"#ffffbf\",\"#fc8d59\",\"#fee08b\",\"#fc8d59\",\"#ffffbf\",\"#ffffbf\",\"#d53e4f\",\"#3288bd\",\"#e6f598\",\"#99d594\",\"#d53e4f\",\"#3288bd\",\"#e6f598\",\"#fc8d59\",\"#ffffbf\",\"#fc8d59\",\"#d53e4f\",\"#fee08b\",\"#fc8d59\",\"#3288bd\",\"#99d594\",\"#fc8d59\",\"#fee08b\"]},\"selected\":{\"id\":\"f8296af9-7a14-4efd-aafd-5b29202cca45\",\"type\":\"Selection\"},\"selection_policy\":{\"id\":\"d9d99f25-1e70-4eeb-b9b9-4a3a6b627749\",\"type\":\"UnionRenderers\"}},\"id\":\"37003067-f0e7-4514-bf5b-a8adccf6322a\",\"type\":\"ColumnDataSource\"},{\"attributes\":{},\"id\":\"d74a922a-cfd6-483a-ac7a-13e7da00ea20\",\"type\":\"UnionRenderers\"},{\"attributes\":{},\"id\":\"a20091ea-a753-4e98-82ad-682c3045550e\",\"type\":\"Selection\"},{\"attributes\":{},\"id\":\"3336fccc-2ec8-4510-8361-beaced6271a3\",\"type\":\"UnionRenderers\"},{\"attributes\":{},\"id\":\"b61f0208-e342-4d9f-ae33-ad24df00496e\",\"type\":\"UnionRenderers\"},{\"attributes\":{\"indices\":[],\"line_indices\":[]},\"id\":\"ccf1a587-5187-4e6b-870a-85d644907f0c\",\"type\":\"Selection\"},{\"attributes\":{\"callback\":null,\"data\":{\"engine_size_ss_encoded\":{\"__ndarray__\":\"7+7u7u7uNUAzMzMzM7M2QGGkHSsQRjZAAcXnTC2XNUAcx3Ecx/E1QAAAAAAAADlALk/T4yUuNkAzfCMKTDo2QIuv+IqveDNAruxzSE0wNkBJkiRJkmQ3QD4DUenInjZAsfYNa9+wNkC9hvIayms2QAAAAAAAwDZAiB7fhYPoNUBJkiRJkqQ2QCrbuw7oxjZA7UrUrkRtNkCrqqqqqio2QJ7YiZ3YCTdA5OfRGFVINkAXXXTRRRc3QCEmVxCTKzZAVVVVVVVVNkDI4HwMzsc1QNl8N/yoLjZAfO+99977NUAzMzMzM7M2QMomm2yySTVAWuiOXQ1LNkAmtJfQXkI2QKuqqqqqqjZAddf+dNf+NUDBt/krzGo2QA9Uzm7hVzZAKCgoKCgoNkAJyz2NsFw1QLjaGJruYDZArkfhehSuNkCrqqqqqqo4QA==\",\"dtype\":\"float64\",\"shape\":[41]},\"index\":[\"AL\",\"AR\",\"AZ\",\"CA\",\"CO\",\"DE\",\"FL\",\"GA\",\"HI\",\"IA\",\"ID\",\"IL\",\"IN\",\"KS\",\"KY\",\"MD\",\"MI\",\"MN\",\"MO\",\"MS\",\"MT\",\"NC\",\"ND\",\"NE\",\"NM\",\"NV\",\"NY\",\"OH\",\"OK\",\"OR\",\"PA\",\"SC\",\"SD\",\"TN\",\"TX\",\"UT\",\"VA\",\"WA\",\"WI\",\"WV\",\"WY\"],\"miles_fs\":{\"__ndarray__\":\"s9sAxDPaUUADVg4tsrdOQFkFWM86wFBAcIcIFHF5TUCoDXTaQIdNQP7UeOkm51NAXh+otkKrTEC69PV5bBVOQNXnaiv2f0dAFvkStfJ3T0D4R55phahLQJsR47OnmVBAGFCbr/w6UUDjIuFuKtdPQEjtv1DEu09APxLdWvwRT0CYavtuDp5QQNkCobBU9E5AjNeheB1aTkB0JYBedyhTQCxWJUvbyExAkuazLeiaTkC5ZP2xPIJQQF0YKxEyeVBAZvMG0AjSUEAXpWtRumZHQM47amJ7Nk1A/beGlBnITkBH4XoUrg9RQM0c8P80AktAJfMxa/vYTEBxd/00UT1RQKtjggfzVFBAw+Ong9nAUEB5Sja5TTpPQC80U5IbFlBAVLkfhuzKTUAK8BEyw4xLQOtpkEPug0tAILByaJGFUUDZFSD3mktXQA==\",\"dtype\":\"float64\",\"shape\":[41]},\"price_fs\":{\"__ndarray__\":\"a8zQ4+BmZECC61G4HrhlQFQnVcawCGVAAu8IxDzGZECaMS6RWvZkQIbrUbge/WdAzbRRxZMVZUCEjyYteFxlQFYOLbKdN2VA+hxSE4xvZkApXI/C9RJqQDYXG0mUaGVA1tlSnS0pZkB2yolxCCFmQArXo3A9DmZADZmnaC6iZEAvgon+TlplQDQZ7iBbuWVAWZamZWl+ZkDgehSuR6FkQIIf+IEf1GhAskaD7O6pZUBEF1100UVmQN/eJx83fWVAXHTRRRc9ZUD+APwPwL9lQPdqaC74OGVAvtETHD21ZEAuCKwcWhNlQF1Q5QVVrmVAG78JI+ySZUCANHQ8jdZkQNijcD0KzWZAi7er7h2iZEBdMHp1lstkQAwDRCkWJWRAXFtbW1s3ZUCRY06an6BnQFwo9mzI6GZA2s73U+OVZUCQwvUoXENqQA==\",\"dtype\":\"float64\",\"shape\":[41]},\"region_color\":[\"#fc8d59\",\"#fc8d59\",\"#d53e4f\",\"#3288bd\",\"#fee08b\",\"#e6f598\",\"#fc8d59\",\"#fc8d59\",\"#3288bd\",\"#ffffbf\",\"#fee08b\",\"#99d594\",\"#99d594\",\"#ffffbf\",\"#fc8d59\",\"#e6f598\",\"#99d594\",\"#ffffbf\",\"#ffffbf\",\"#fc8d59\",\"#fee08b\",\"#fc8d59\",\"#ffffbf\",\"#ffffbf\",\"#d53e4f\",\"#3288bd\",\"#e6f598\",\"#99d594\",\"#d53e4f\",\"#3288bd\",\"#e6f598\",\"#fc8d59\",\"#ffffbf\",\"#fc8d59\",\"#d53e4f\",\"#fee08b\",\"#fc8d59\",\"#3288bd\",\"#99d594\",\"#fc8d59\",\"#fee08b\"]},\"selected\":{\"id\":\"6395e31e-650a-4aeb-88a2-0ebfcc052465\",\"type\":\"Selection\"},\"selection_policy\":{\"id\":\"08772a8d-9d84-4b61-802c-8c61dee3c2c4\",\"type\":\"UnionRenderers\"}},\"id\":\"6e892bb7-7187-49fe-bd99-413999ea5e49\",\"type\":\"ColumnDataSource\"},{\"attributes\":{},\"id\":\"2e10fd39-e26b-4eaa-8bd1-e785472102fe\",\"type\":\"UnionRenderers\"},{\"attributes\":{},\"id\":\"21b0a677-b64f-4c1b-be2c-acfbdbc50045\",\"type\":\"UnionRenderers\"},{\"attributes\":{\"callback\":null,\"data\":{\"engine_size_ss_encoded\":{\"__ndarray__\":\"PDw8PDw8LkDJZ91ginwmQIziXMcozidAhaQzTqKsJkCrqqqqqqomQAAAAAAAACxAKf4iZ1hwK0C96U1velMoQGZmZmZmZjBATGgvob2ELECrqqqqqqoqQJqZmZmZmSZAd7M8iUzDJEAGfUFf0BcqQAAAAAAAECNAFBQUFBQUKEBddNFFF10rQFlT1pQ1ZSdABS+n4OUULEDNzMzMzMwiQM3MzMzMzCZAFSek5FlGKEBmZmZmZmYzQIfyGsprKDBA7+7u7u7uIUAAAAAAACArQI7jOI7j+CdA77333nvvJ0AffPDBBx8sQNFFF1100SdAVa47XmwJJkAiIiIiIiIkQAAAAAAAYDNAip3YiZ2YKEAs9zTCck8qQEmSJEmSJDFAiYiIiIiIKEBB5ewWfjUmQIJEK2wOJCpA27Zt27ZtL0AAAAAAAAA6QA==\",\"dtype\":\"float64\",\"shape\":[41]},\"index\":[\"AL\",\"AR\",\"AZ\",\"CA\",\"CO\",\"DE\",\"FL\",\"GA\",\"HI\",\"IA\",\"ID\",\"IL\",\"IN\",\"KS\",\"KY\",\"MD\",\"MI\",\"MN\",\"MO\",\"MS\",\"MT\",\"NC\",\"ND\",\"NE\",\"NM\",\"NV\",\"NY\",\"OH\",\"OK\",\"OR\",\"PA\",\"SC\",\"SD\",\"TN\",\"TX\",\"UT\",\"VA\",\"WA\",\"WI\",\"WV\",\"WY\"],\"miles_fs\":{\"__ndarray__\":\"KxRmHj1CIkAGrjgAPIQmQHSXpwXothlAZGtF0vt7HUC/TZdC2w8XQMP1KFyPwhNA8hWxkyjCGkDvvVGeSp4gQG1Zq2OChx5AjYcLGK0KIEBHKKO3ZS0SQHsUrkfhOhlA5GNJXNEUGkAlHWQ2drIhQKBwPQrXTR9AvVTuhyE7G0CZZsfP3AIeQO2GEXAx7hdAENAGMbfFGkBKDzDgUrsbQFYwKqkT0BRA/kNVXoIbIUAMAiuHFlkWQHCFhuC7BxRA1ofPsCvAGkAWBFYOLa4dQDwFNcvHqhZAmV122WVXGUBfsU58USsiQC1aLwlcuRNAsXk/XH7hHkBLnYAmwgYdQNEi2/l+wiJAjIBQ6Q8LIkCaX3nU2rAbQPb1plCF2SFAboQyelsWIUDYWaPgDZYTQKmUmjMJwxxAGEdnnTJ5EkD8qfHSTWKAPw==\",\"dtype\":\"float64\",\"shape\":[41]},\"price_fs\":{\"__ndarray__\":\"fn9/f38jcUB/pTKdaNJxQPonzwIZpG9A8fuibzMTb0B8+byXz/1wQFyPwvUolHRANweqlCpwcEBJnB8HEJxwQG2g0wY6sXBAT+QiDKD6cECzw9Tl9hdxQHCEMnpbYHBApgJfXP3AcEAdYgwEVbVxQJmZmZkJfnFAyzCX/WM2cED//////79xQNgDUJDW4W9Aqw+N9aHFcEC6IyfE+p5wQIXrUbge3W9A0S7bpOl1cEDm0CLb+YZyQEJre8Gbh3FA7e7u7u5WcEAK16Nw/WBuQCUB37yaaG9AEIoyoSglcUDQMyE9E6pwQEfzcDQPT3BASpUo7lPob0DPsCtA7pVwQHsUrkfhqnNA/sAP/ECacEAoyS0FLAJwQE30d7JaeXBA+35qvHSTcEBZtKyCG+hwQAEe0HPzgHFA27Zt27axcEDD9Shcj/54QA==\",\"dtype\":\"float64\",\"shape\":[41]},\"region_color\":[\"#fc8d59\",\"#fc8d59\",\"#d53e4f\",\"#3288bd\",\"#fee08b\",\"#e6f598\",\"#fc8d59\",\"#fc8d59\",\"#3288bd\",\"#ffffbf\",\"#fee08b\",\"#99d594\",\"#99d594\",\"#ffffbf\",\"#fc8d59\",\"#e6f598\",\"#99d594\",\"#ffffbf\",\"#ffffbf\",\"#fc8d59\",\"#fee08b\",\"#fc8d59\",\"#ffffbf\",\"#ffffbf\",\"#d53e4f\",\"#3288bd\",\"#e6f598\",\"#99d594\",\"#d53e4f\",\"#3288bd\",\"#e6f598\",\"#fc8d59\",\"#ffffbf\",\"#fc8d59\",\"#d53e4f\",\"#fee08b\",\"#fc8d59\",\"#3288bd\",\"#99d594\",\"#fc8d59\",\"#fee08b\"]},\"selected\":{\"id\":\"b77f7254-f182-49a1-a6fc-931e566f7594\",\"type\":\"Selection\"},\"selection_policy\":{\"id\":\"7094253d-9bac-4083-aa53-7c587a862116\",\"type\":\"UnionRenderers\"}},\"id\":\"479bd025-f705-40be-bb59-942756616901\",\"type\":\"ColumnDataSource\"},{\"attributes\":{},\"id\":\"c5be7c0c-a29d-4dae-a883-ba15467d9cfd\",\"type\":\"Selection\"},{\"attributes\":{\"callback\":null,\"data\":{\"engine_size_ss_encoded\":{\"__ndarray__\":\"AAAAAADQNkAAAAAAAAA3QMTDw8PDAzZAhixkIQvZNECxOZBohc01QDMzMzMzMzRAsyzLsiyLNUD9Gfwmejo2QDMzMzMzMzVAMzMzMzMTN0AAAAAAAAA1QEjhehSuRzVA16NwPQrXNUC4HoXrUbg2QJIkSZIkiTdAycjIyMjINUAcx3Ecx3E1QL88tiJoODZAbtu2bdu2NkDEw8PDw8M2QAAAAAAAgDVA0b0I3YvQNUAAAAAAAAA2QDw8PDw8PDZARhdddNFFNkDNzMzMzMw1QPntUk/GbzVAozpNDjIvNkDT0tLS0pI2QNjX19fX1zVAGWOMMcaYNUDdYIp81g02QKuqqqqqajVAS5z6PbfENkDRRRdddBE2QCVqV6J2JTZA7FG4HoVrNUB00UUXXXQ2QG7btm3btjVAMzMzMzMzNEAAAAAAAAAuQA==\",\"dtype\":\"float64\",\"shape\":[41]},\"index\":[\"AL\",\"AR\",\"AZ\",\"CA\",\"CO\",\"DE\",\"FL\",\"GA\",\"HI\",\"IA\",\"ID\",\"IL\",\"IN\",\"KS\",\"KY\",\"MD\",\"MI\",\"MN\",\"MO\",\"MS\",\"MT\",\"NC\",\"ND\",\"NE\",\"NM\",\"NV\",\"NY\",\"OH\",\"OK\",\"OR\",\"PA\",\"SC\",\"SD\",\"TN\",\"TX\",\"UT\",\"VA\",\"WA\",\"WI\",\"WV\",\"WY\"],\"miles_fs\":{\"__ndarray__\":\"ThvotIF6YUAehetRuAVjQHU5L1i0yV5A/DkPr9aeXUBFtvP91GhfQDbNO07RZWBACygQxUbDXkB4a88Q349gQIJzRpT2blhAiNLe4AtaYUA6tMh2vnVgQErSNZNvlmBAenvqa3BRYUDSNZNvtsVgQC31rn4tgWFAesuDoicrXkDOrf2KImFfQLVR0pvZWWFAwFDEY8FDYEBUAUkqpT1jQIj029eBs2BAU5IxTnVaYUA3iUFg5RlaQJcHRU8mzmBARr4+sbggXkCcUIiAQ+BdQA6WCrNDL1tAeRLQmpMNYkC8s9w4yLxiQO5A+RedaF9AFKmLKlRQXUCwzbzduv5hQJNfLPnFfl5AlFz+Q/pJYUAjKb34OPxeQBdzAMugSWBAG+G04EUnXkAh95oLSZdgQK4d5SgyW2FAlWWIY120WkBg5dAi2y9UQA==\",\"dtype\":\"float64\",\"shape\":[41]},\"price_fs\":{\"__ndarray__\":\"c9pApw3wVUDP91PjpWdSQKyxsbGxSVRAD9vsFO+XVUDpNH9SfK5VQKrx0k1icFFAaW0JytMTVEAnK+pzEgFVQNZ46SYxmFdA7afGSzfpVUCzne+nxlNUQKO0N/jCZFNAt5A0peKcUkAh/fZ14MxVQHHuswuIiVNAVLshiO6kVEDl9gcZKstUQMxbZejXbFNAPUW6ChLvVkA2aJvOAUVUQEa28/3U+FRAM2uGGc0+VEAehetRuNRTQOq4hVIfzFRApFVMWsVkWECmvcEXJiNWQMVDdvSvFFVApevrbLDcUUAoX5LF+KdTQKl6RxTh/VZAqLeMestMVEA7dAwvzlNUQLWBThvopFVAQsGJ7k0rVEBMdbZUZzZUQNuNyN2IHFJAQa1p3nEaU0BVH3P1MedWQAuBqkG0HVNAhutRuB4VVUDhehSuR7lOQA==\",\"dtype\":\"float64\",\"shape\":[41]},\"region_color\":[\"#fc8d59\",\"#fc8d59\",\"#d53e4f\",\"#3288bd\",\"#fee08b\",\"#e6f598\",\"#fc8d59\",\"#fc8d59\",\"#3288bd\",\"#ffffbf\",\"#fee08b\",\"#99d594\",\"#99d594\",\"#ffffbf\",\"#fc8d59\",\"#e6f598\",\"#99d594\",\"#ffffbf\",\"#ffffbf\",\"#fc8d59\",\"#fee08b\",\"#fc8d59\",\"#ffffbf\",\"#ffffbf\",\"#d53e4f\",\"#3288bd\",\"#e6f598\",\"#99d594\",\"#d53e4f\",\"#3288bd\",\"#e6f598\",\"#fc8d59\",\"#ffffbf\",\"#fc8d59\",\"#d53e4f\",\"#fee08b\",\"#fc8d59\",\"#3288bd\",\"#99d594\",\"#fc8d59\",\"#fee08b\"]},\"selected\":{\"id\":\"fdeff2d0-90ab-4562-b01a-79c9375b3de8\",\"type\":\"Selection\"},\"selection_policy\":{\"id\":\"0a4cb09e-e7c7-4538-82cb-8c29de2a116d\",\"type\":\"UnionRenderers\"}},\"id\":\"578fec81-a450-4b03-83d7-1fbca12d50c2\",\"type\":\"ColumnDataSource\"},{\"attributes\":{},\"id\":\"6189d8d4-c343-4ff6-895d-28880fe2a0b9\",\"type\":\"Selection\"},{\"attributes\":{\"args\":{\"_2000\":{\"id\":\"4310b64f-6f55-476e-9883-edd2091548e3\",\"type\":\"ColumnDataSource\"},\"_2001\":{\"id\":\"70c5687a-35e5-42d5-9463-eb40ec734492\",\"type\":\"ColumnDataSource\"},\"_2002\":{\"id\":\"c1c57c2a-2f40-4205-8334-f3976ccb4df7\",\"type\":\"ColumnDataSource\"},\"_2003\":{\"id\":\"f43511c0-0f68-4cae-8863-3056a3cc0915\",\"type\":\"ColumnDataSource\"},\"_2004\":{\"id\":\"e89993f2-dee6-4106-9887-647eeec2d0a7\",\"type\":\"ColumnDataSource\"},\"_2005\":{\"id\":\"4dd7a857-6c5b-4899-8305-876f2111bc0e\",\"type\":\"ColumnDataSource\"},\"_2006\":{\"id\":\"894f1cc2-23eb-40fa-8844-6a99859a21c2\",\"type\":\"ColumnDataSource\"},\"_2007\":{\"id\":\"bae9da19-41ec-4c51-b75f-0f76f39587ff\",\"type\":\"ColumnDataSource\"},\"_2008\":{\"id\":\"578fec81-a450-4b03-83d7-1fbca12d50c2\",\"type\":\"ColumnDataSource\"},\"_2009\":{\"id\":\"ad1951dc-f78d-4819-8b89-e95dc8768cda\",\"type\":\"ColumnDataSource\"},\"_2010\":{\"id\":\"37003067-f0e7-4514-bf5b-a8adccf6322a\",\"type\":\"ColumnDataSource\"},\"_2011\":{\"id\":\"e42b6304-7b4f-41e6-8d3a-d9d7b5cd0ae8\",\"type\":\"ColumnDataSource\"},\"_2012\":{\"id\":\"ea6afb3e-1fc2-4391-a5d3-e6a865626893\",\"type\":\"ColumnDataSource\"},\"_2013\":{\"id\":\"2a01b774-8ccf-42b8-ae99-c7d91c7d5d45\",\"type\":\"ColumnDataSource\"},\"_2014\":{\"id\":\"6e892bb7-7187-49fe-bd99-413999ea5e49\",\"type\":\"ColumnDataSource\"},\"_2015\":{\"id\":\"c967c845-389b-43bc-a2bc-3a8f5df3083d\",\"type\":\"ColumnDataSource\"},\"_2016\":{\"id\":\"ed8ba7a3-c719-4886-af41-10d340411577\",\"type\":\"ColumnDataSource\"},\"_2017\":{\"id\":\"0971a5c3-5f47-44b3-b57f-4a0c0c3106fd\",\"type\":\"ColumnDataSource\"},\"_2018\":{\"id\":\"479bd025-f705-40be-bb59-942756616901\",\"type\":\"ColumnDataSource\"},\"renderer_source\":{\"id\":\"a6dfa728-827e-4349-813e-2e79adcad7f2\",\"type\":\"ColumnDataSource\"},\"slider\":{\"id\":\"ccd3dd66-477d-466e-bd2a-f1e0c990f40d\",\"type\":\"Slider\"},\"text_source\":{\"id\":\"b6204c95-878f-43ce-9c3c-b3161ec00bdb\",\"type\":\"ColumnDataSource\"}},\"code\":\"\\n    var year = slider.value,\\n        sources = {2000: _2000, 2001: _2001, 2002: _2002, 2003: _2003, 2004: _2004, 2005: _2005, 2006: _2006, 2007: _2007, 2008: _2008, 2009: _2009, 2010: _2010, 2011: _2011, 2012: _2012, 2013: _2013, 2014: _2014, 2015: _2015, 2016: _2016, 2017: _2017, 2018: _2018},\\n        new_source_data = sources[year].data;\\n    renderer_source.data = new_source_data;\\n    text_source.data = {'year': [String(year)]};\\n\"},\"id\":\"12c71eed-d86b-47a6-838d-11a5104a63f6\",\"type\":\"CustomJS\"},{\"attributes\":{},\"id\":\"a8d01102-4cf8-461a-b532-33e4207bed6a\",\"type\":\"Selection\"},{\"attributes\":{},\"id\":\"ea857413-b3ce-4547-bdf1-c91eab66c70a\",\"type\":\"UnionRenderers\"},{\"attributes\":{},\"id\":\"a2fbb9bf-f8de-44b0-9dd0-1441a6db82fe\",\"type\":\"UnionRenderers\"},{\"attributes\":{},\"id\":\"d4bd76af-67ff-458f-913b-4429f6d63d89\",\"type\":\"UnionRenderers\"},{\"attributes\":{},\"id\":\"d5072e35-422a-4b4e-8bea-b77bfcc65ff6\",\"type\":\"UnionRenderers\"},{\"attributes\":{},\"id\":\"86d9cf4e-2721-4f10-bea6-ff4d98086afa\",\"type\":\"Selection\"},{\"attributes\":{},\"id\":\"35567eeb-0633-45bf-add4-6a34eafec506\",\"type\":\"UnionRenderers\"},{\"attributes\":{},\"id\":\"e4db4ff0-8a66-4a7e-a91a-20e7555e309d\",\"type\":\"UnionRenderers\"},{\"attributes\":{},\"id\":\"0279c7eb-ac35-43c8-93e1-d8e53a6ac071\",\"type\":\"Selection\"},{\"attributes\":{},\"id\":\"d9d99f25-1e70-4eeb-b9b9-4a3a6b627749\",\"type\":\"UnionRenderers\"},{\"attributes\":{\"callback\":null,\"data\":{\"engine_size_ss_encoded\":{\"__ndarray__\":\"7MRO7MRONUBeLW7C/K41QAE1u15kbTRANvbhOS1ENEATseWh4Eo1QL2G8hrKazRAB2Bw3YpdNUD33Um8qDo1QK5jFOc6RjRAPDw8PDw8NUCxEzuxEzs2QH8B/QX0FzVAOKcOVyP/NECx5BdLfrE0QFhggQUW2DVAPqfM/d4QNUA3+kMhuQA1QDvLJf1bKTVAAvVM5brjNECD8zE4H4M1QFo3mCKfdTVAHLmRG7kBNUBmZmZmZgY2QDTRRBNNNDZAEtxHcB/BNEApznWM4lw0QAq1gDGJwzRAY8kvlvziNEBAYgF3+iM1QInalahdSTRA6m7V1NfINEAW8QmkkvM0QNFeQnsJ7TRAKlOmTJkyNUCysM4HY2E1QDbqOxv1XTVAnUxfJYxNNUBVVVVVVVU1QOoFV7eJMzVAm7KmrClrNkAcx3Ecx3E1QA==\",\"dtype\":\"float64\",\"shape\":[41]},\"index\":[\"AL\",\"AR\",\"AZ\",\"CA\",\"CO\",\"DE\",\"FL\",\"GA\",\"HI\",\"IA\",\"ID\",\"IL\",\"IN\",\"KS\",\"KY\",\"MD\",\"MI\",\"MN\",\"MO\",\"MS\",\"MT\",\"NC\",\"ND\",\"NE\",\"NM\",\"NV\",\"NY\",\"OH\",\"OK\",\"OR\",\"PA\",\"SC\",\"SD\",\"TN\",\"TX\",\"UT\",\"VA\",\"WA\",\"WI\",\"WV\",\"WY\"],\"miles_fs\":{\"__ndarray__\":\"ixQLp5nARUAPV9b83W9JQE/xA63Bc0VA1kwwt5SrRED6ki1y7yRDQJ/SstMMr0BA8w0dc2dcREBUXbvhNuJEQKQU4ZErXEBAFoKFIlmZRkCuR+F6FE5GQIEJGn6hnERAJ0htODViRUCbIxj0y91GQFdrrbXW8kZA/9d4NxuSQkBrZ647ApNDQFLbwtksHkRALlcKn6KXRUBmwGTTGDNIQPnazNutG0VAXLiJ8SYpRUDPItv5fhZDQGBS6/KBC0ZAU4h2KYZyREBnvHSTGOREQBTWGI2KB0NA6PJk+uSOQ0BNd04QQz5IQKf9og1jPUNAqaGsGWkRQkAetgs5gYdEQLWX0F5Ci0NAiOnK6bZjRUARccyruWVHQB9vTijROENANRgpB42WREAjlNHbsl1EQIvw2cTUQ0RAVg9Ca8zUSUDkXnMhaSpEQA==\",\"dtype\":\"float64\",\"shape\":[41]},\"price_fs\":{\"__ndarray__\":\"c2eq2c26ZkBicEsWTENnQLDxNrqgz2VAOezLpnKrZUAPzNZR8jFnQJuu9M6AO2VAyWPODMntZkDv6smBXfhlQDXJtM2SzGdAQH/DB0zgZkBkJ3ZiJ7RoQMpanH8fNmdAL5Q20UwEZ0BLxdmHz0hmQKSUUkop/WZAULjh591hZkBSxM66S49mQNlOnTvKamZAmqbsm2oNZ0Bx/bTWT7NmQHgmuf+0mmhAdWtGKQomZkBkZmZmZoRoQFWgEAUKaWhAzeEnArTGZkDboVYkt9tlQPHo0jBFHWZA93ZWY98DZkAWgaQkyuxlQLJOxepUkmZAF6KDtVVKZkDjrSUr0uplQI8EfPNqbmdAiNaibjmCZkDUu+uWrlZmQFA7kCYJWGVAZCHhvMFYZkD6iyW/WCtoQEZlbd3YMWdAZWH9yHxUaEAOU5fbH2xpQA==\",\"dtype\":\"float64\",\"shape\":[41]},\"region_color\":[\"#fc8d59\",\"#fc8d59\",\"#d53e4f\",\"#3288bd\",\"#fee08b\",\"#e6f598\",\"#fc8d59\",\"#fc8d59\",\"#3288bd\",\"#ffffbf\",\"#fee08b\",\"#99d594\",\"#99d594\",\"#ffffbf\",\"#fc8d59\",\"#e6f598\",\"#99d594\",\"#ffffbf\",\"#ffffbf\",\"#fc8d59\",\"#fee08b\",\"#fc8d59\",\"#ffffbf\",\"#ffffbf\",\"#d53e4f\",\"#3288bd\",\"#e6f598\",\"#99d594\",\"#d53e4f\",\"#3288bd\",\"#e6f598\",\"#fc8d59\",\"#ffffbf\",\"#fc8d59\",\"#d53e4f\",\"#fee08b\",\"#fc8d59\",\"#3288bd\",\"#99d594\",\"#fc8d59\",\"#fee08b\"]},\"selected\":{\"id\":\"a20091ea-a753-4e98-82ad-682c3045550e\",\"type\":\"Selection\"},\"selection_policy\":{\"id\":\"21b0a677-b64f-4c1b-be2c-acfbdbc50045\",\"type\":\"UnionRenderers\"}},\"id\":\"c967c845-389b-43bc-a2bc-3a8f5df3083d\",\"type\":\"ColumnDataSource\"},{\"attributes\":{\"children\":[{\"id\":\"ccd3dd66-477d-466e-bd2a-f1e0c990f40d\",\"type\":\"Slider\"}]},\"id\":\"820cdf73-a866-47d4-aa77-fdf02d9de216\",\"type\":\"WidgetBox\"},{\"attributes\":{\"callback\":null,\"data\":{\"engine_size_ss_encoded\":{\"__ndarray__\":\"7IMhB5qYNkCOefpoNQk3QLzIrFAb9zVAQ4UKFSqUNUAAAAAAAC02QC+66KKLrjVAezykDyZlNkBEY31orF82QLdt27ZtezZAwQILLLDANkBYObTIdr42QMGBAwcOHDZAWbrl2L+CNkDEoZP2QTI2QDBFPusG0zZA3/It3/KNNkDQFivDN6I2QNPS0tLSkjZAZHUZ9kp/NkDHcRzHcQw3QKuqqqqq6jVAjv/ADaFVNkCSJEmSJIk3QAbnY3A+BjdA/GpMpAcqNkCw8Wj+YOM1QMVPzKKwVjZAnGt49KlcNkAmtJfQXiI2QFVVVVVVoTVAJ0BoSdd9NkA6pn8ymGM2QERERERERDdAhpu2w6AoNkDzoUMAh3k2QKJva4AXJDdAJTIN283yNkCHOcxhDvM1QOYUvJyCFzZAjd8u9WT8NUByHMdxHMc2QA==\",\"dtype\":\"float64\",\"shape\":[41]},\"index\":[\"AL\",\"AR\",\"AZ\",\"CA\",\"CO\",\"DE\",\"FL\",\"GA\",\"HI\",\"IA\",\"ID\",\"IL\",\"IN\",\"KS\",\"KY\",\"MD\",\"MI\",\"MN\",\"MO\",\"MS\",\"MT\",\"NC\",\"ND\",\"NE\",\"NM\",\"NV\",\"NY\",\"OH\",\"OK\",\"OR\",\"PA\",\"SC\",\"SD\",\"TN\",\"TX\",\"UT\",\"VA\",\"WA\",\"WI\",\"WV\",\"WY\"],\"miles_fs\":{\"__ndarray__\":\"Mz7E4EhbQ0AHoXLkcWJEQMkAfNmM1EBAJZozroTYQUDxfD81Xso/QJHtfD81jkNAICZPNcLWPkABUN79nn5CQPh6U6jCIDpAJCFHEnJkQUA9EFmkiUdBQBeLiTTSrkBATYLS3GrfQUDRLJcA15hCQG6Ki7dMJkRAmJ016VX6QUCzVyEZHilDQF8cEjuXKkFAgZpJ90EKQkC7thnjEtBDQB2n6Egut0BAjtOz+KfcQUAaR2edMulBQAmoLBpkLEFAv28IdDTkQEBb1/YPrcdAQGIQWDm0GEFAWRa/AMnRQUCpmkew1BBDQFsdEzwYdD9Ax1vIeFcpQEDjQURTSGZCQISuV2s7wEFAeekmMQjcQUD1lWdJcTNCQIKL5+FJeT1AsDt5uoArQkDjMmzavP08QOVb7fWU6EBAvk4CEH9hQUDNWh0TPGBEQA==\",\"dtype\":\"float64\",\"shape\":[41]},\"price_fs\":{\"__ndarray__\":\"fRUSGrJUbEDSZ+WSsgBuQD1OO0bcUWtATOyhc336akC4HoXrke9rQKqzpTpbgmpA7cRTnrFqbECrZ5BlSvBrQAJiU2nIwGxAQr8b9LtRbkBD48KBkDxuQFGynqr1Rm1AXGVk3NKUbUCM5N5s8RdtQKOncVAotWxADVoH3Cbma0AZUzwRTl5sQBO5UuyFd2xAu2aIiaXabUDeYepyexptQOvfCGX0Sm1AkdOr3kU3bECAif5OVhBvQFn6a6W/Jm9AMe3QGx6RbUChwfxKDd9qQOr0EdVg/GtAJbQo7r7Ua0CuG93zX/1qQPz///9fNG1AbTQa1s3SbECUV2OPldlsQMaiSOSoAW9Ada6AtuIVbEB/HF113gVsQO8BlixQ5GtAT661vyj6a0CbJGIbsoBtQJZOSHZ6pGxA3loW637AbUDJL5b8YoltQA==\",\"dtype\":\"float64\",\"shape\":[41]},\"region_color\":[\"#fc8d59\",\"#fc8d59\",\"#d53e4f\",\"#3288bd\",\"#fee08b\",\"#e6f598\",\"#fc8d59\",\"#fc8d59\",\"#3288bd\",\"#ffffbf\",\"#fee08b\",\"#99d594\",\"#99d594\",\"#ffffbf\",\"#fc8d59\",\"#e6f598\",\"#99d594\",\"#ffffbf\",\"#ffffbf\",\"#fc8d59\",\"#fee08b\",\"#fc8d59\",\"#ffffbf\",\"#ffffbf\",\"#d53e4f\",\"#3288bd\",\"#e6f598\",\"#99d594\",\"#d53e4f\",\"#3288bd\",\"#e6f598\",\"#fc8d59\",\"#ffffbf\",\"#fc8d59\",\"#d53e4f\",\"#fee08b\",\"#fc8d59\",\"#3288bd\",\"#99d594\",\"#fc8d59\",\"#fee08b\"]},\"selected\":{\"id\":\"6189d8d4-c343-4ff6-895d-28880fe2a0b9\",\"type\":\"Selection\"},\"selection_policy\":{\"id\":\"b61f0208-e342-4d9f-ae33-ad24df00496e\",\"type\":\"UnionRenderers\"}},\"id\":\"ed8ba7a3-c719-4886-af41-10d340411577\",\"type\":\"ColumnDataSource\"},{\"attributes\":{},\"id\":\"08772a8d-9d84-4b61-802c-8c61dee3c2c4\",\"type\":\"UnionRenderers\"},{\"attributes\":{},\"id\":\"702317d6-8d4a-4b01-b986-b1b84346c1a2\",\"type\":\"Selection\"},{\"attributes\":{},\"id\":\"f8296af9-7a14-4efd-aafd-5b29202cca45\",\"type\":\"Selection\"}],\"root_ids\":[\"820cdf73-a866-47d4-aa77-fdf02d9de216\"]},\"title\":\"Bokeh Application\",\"version\":\"0.13.0\"}};\n",
       "  var render_items = [{\"docid\":\"ccd68875-eb12-4c94-8111-a3ff9cf72651\",\"roots\":{\"820cdf73-a866-47d4-aa77-fdf02d9de216\":\"2a77fdf3-9ba7-462a-b19b-ab57c60bd8c1\"}}];\n",
       "  root.Bokeh.embed.embed_items_notebook(docs_json, render_items);\n",
       "\n",
       "  }\n",
       "  if (root.Bokeh !== undefined) {\n",
       "    embed_document(root);\n",
       "  } else {\n",
       "    var attempts = 0;\n",
       "    var timer = setInterval(function(root) {\n",
       "      if (root.Bokeh !== undefined) {\n",
       "        embed_document(root);\n",
       "        clearInterval(timer);\n",
       "      }\n",
       "      attempts++;\n",
       "      if (attempts > 100) {\n",
       "        console.log(\"Bokeh: ERROR: Unable to run BokehJS code because BokehJS library is missing\")\n",
       "        clearInterval(timer);\n",
       "      }\n",
       "    }, 10, root)\n",
       "  }\n",
       "})(window);"
      ],
      "application/vnd.bokehjs_exec.v0+json": ""
     },
     "metadata": {
      "application/vnd.bokehjs_exec.v0+json": {
       "id": "820cdf73-a866-47d4-aa77-fdf02d9de216"
      }
     },
     "output_type": "display_data"
    }
   ],
   "source": [
    "show(widgetbox(slider))"
   ]
  },
  {
   "cell_type": "markdown",
   "metadata": {},
   "source": [
    "### Putting all the pieces together\n",
    "\n",
    "Last but not least, we put the chart and the slider together in a layout and display it inline in the notebook."
   ]
  },
  {
   "cell_type": "code",
   "execution_count": 184,
   "metadata": {},
   "outputs": [
    {
     "data": {
      "text/html": [
       "\n",
       "\n",
       "\n",
       "\n",
       "\n",
       "\n",
       "  <div class=\"bk-root\" id=\"0d8e7aff-0c76-413f-b5a3-c2d844355ba8\"></div>\n"
      ]
     },
     "metadata": {},
     "output_type": "display_data"
    },
    {
     "data": {
      "application/javascript": [
       "(function(root) {\n",
       "  function embed_document(root) {\n",
       "    \n",
       "  var docs_json = {\"3b1351bc-9ae5-473a-bff0-ad8d923e61f9\":{\"roots\":{\"references\":[{\"attributes\":{},\"id\":\"241f2404-7d4c-4494-a6aa-bd6463d65d62\",\"type\":\"Selection\"},{\"attributes\":{\"callback\":null,\"data\":{\"engine_size_ss_encoded\":{\"__ndarray__\":\"uuiiiy66NUDbtm3btm0tQAAAAAAAgDRAwcDAwMDANUBZyEIWspA1QAAAAAAAADVAip3YiZ3YNUBu27Zt2zY2QFVVVVVVFTdAkiRJkiRJNkAXXXTRRRc2QI7jOI7jODNAetOb3vQmNkC3bdu2bds0QM4555xzzjVAO7ETO7ETMkDP8zzP8zw1QAAAAAAAADVADw8PDw8PNUAAAAAAAAA3QGZmZmZmZjVAAAAAAABANkCrqqqqqqo2QF5DeQ3lNTVASZIkSZIkM0BVVVVVVVU0QM3MzMzMDDVASZIkSZJUNkD0MTgfg/M1QKG9hPYS2jVAg5hcQUyuNEAWX/EVX/E2QAAAAAAAQDJAdmIndmInNkAsUbsStas1QIQPPvjggzZAvLu7u7s7NkAUO7ETO7E2QJqZmZmZmTZAAAAAAAAAMEAAAAAAAIA3QA==\",\"dtype\":\"float64\",\"shape\":[41]},\"index\":[\"AL\",\"AR\",\"AZ\",\"CA\",\"CO\",\"DE\",\"FL\",\"GA\",\"HI\",\"IA\",\"ID\",\"IL\",\"IN\",\"KS\",\"KY\",\"MD\",\"MI\",\"MN\",\"MO\",\"MS\",\"MT\",\"NC\",\"ND\",\"NE\",\"NM\",\"NV\",\"NY\",\"OH\",\"OK\",\"OR\",\"PA\",\"SC\",\"SD\",\"TN\",\"TX\",\"UT\",\"VA\",\"WA\",\"WI\",\"WV\",\"WY\"],\"miles_fs\":{\"__ndarray__\":\"YSP+NeIJZEBl+M3AhzxgQPYoXI/C1WFADiX+zMQ8YkC6cEp0UsBjQIXrUbge0WBAuqWEpvf2Y0AK5//ABfRiQFG4HoXrumBAPNMKUYGKY0CfGi/dJKZkQI1QRm/LaGFAQ9noy0o6ZEBXUT5Bo8xiQCt4VxwRp2VAknrmcfWSXkClZPjNwPNlQPzHb0zJk2RAtUMG/CSBZED16i58u3dkQOELk6mCEWJAG7yw+pntY0BF/RuhjI5dQOrTHg4bG2NAZ50yuVX5XUAk2/l+atVtQIhjXdxGOmFA0FmnTC7FZEAy00xmAMBlQINpPwS48mJA59M7kdmFX0BFt9xcu4pkQAwCK4cW1mFAZfdr6OLpY0BbaiM/0ItiQPT8JJwcg2RAK4cW2c7HYkBgzrL5ZwBjQD3IrnNRjGJAf2q8dJPsZkD2KFyPwtpjQA==\",\"dtype\":\"float64\",\"shape\":[41]},\"price_fs\":{\"__ndarray__\":\"38vnvXyOTUBqeWMEE71EQOF6FK5HbUlAwZs/sO0HUEBk3K9LKn9NQLcehetR+ExA37kEsobVTEDzKFyPwvFQQAvXo3A9SlBA6xbVt+NhTkDxeS+f95JOQKVP+qRPmkZA/HVJ5cOoTECHnPvsAnJOQGXVNlZtg01A6vj0tcWBT0DoPruA2LRIQD15p5N3OkpAgBexSuT9S0DcHLvNsTtQQPp+arx0Y1BAk7rc/iDbT0BtoNMGOo1PQON6FK5HAUxA/05WyxuDT0AVrkfhevxRQDLdJAaB7U1AmayWN0baSEDQwPwMzI9KQI/Yd2y2RVFAPGlr5ZVwTECA5JlWiPpQQAAAAAAACExAMatMZN6/TEDOp2B9CrZMQN4ltl1im0ZAXWQ73099TkB/bXGwoJRQQFO4HoXrUVBAmpmZmZn5Q0AAAAAAAGZgQA==\",\"dtype\":\"float64\",\"shape\":[41]},\"region_color\":[\"#fc8d59\",\"#fc8d59\",\"#d53e4f\",\"#3288bd\",\"#fee08b\",\"#e6f598\",\"#fc8d59\",\"#fc8d59\",\"#3288bd\",\"#ffffbf\",\"#fee08b\",\"#99d594\",\"#99d594\",\"#ffffbf\",\"#fc8d59\",\"#e6f598\",\"#99d594\",\"#ffffbf\",\"#ffffbf\",\"#fc8d59\",\"#fee08b\",\"#fc8d59\",\"#ffffbf\",\"#ffffbf\",\"#d53e4f\",\"#3288bd\",\"#e6f598\",\"#99d594\",\"#d53e4f\",\"#3288bd\",\"#e6f598\",\"#fc8d59\",\"#ffffbf\",\"#fc8d59\",\"#d53e4f\",\"#fee08b\",\"#fc8d59\",\"#3288bd\",\"#99d594\",\"#fc8d59\",\"#fee08b\"]},\"selected\":{\"id\":\"96db602e-482f-47d7-81c0-54d3adf32f8b\",\"type\":\"Selection\"},\"selection_policy\":{\"id\":\"fc822608-bdbc-46eb-bbd1-62f5dee375b4\",\"type\":\"UnionRenderers\"}},\"id\":\"4dd7a857-6c5b-4899-8305-876f2111bc0e\",\"type\":\"ColumnDataSource\"},{\"attributes\":{\"axis_label\":\"Miles\",\"axis_label_text_font_size\":{\"value\":\"10pt\"},\"axis_line_cap\":\"round\",\"axis_line_color\":{\"value\":\"#AAAAAA\"},\"formatter\":{\"id\":\"8beca1e5-9ec3-4104-b8cc-c5bbefa89965\",\"type\":\"BasicTickFormatter\"},\"major_label_text_color\":{\"value\":\"#666666\"},\"major_label_text_font_size\":{\"value\":\"10pt\"},\"major_tick_in\":null,\"major_tick_line_cap\":\"round\",\"major_tick_line_color\":{\"value\":\"#AAAAAA\"},\"minor_tick_in\":null,\"minor_tick_out\":null,\"plot\":{\"id\":\"b64bb497-abdf-4eef-b3a7-036c16e3af7b\",\"type\":\"Plot\"},\"ticker\":{\"id\":\"4aafda9a-19cb-4c82-ad13-727e67056bf1\",\"type\":\"SingleIntervalTicker\"}},\"id\":\"ee05c7fb-e0b3-461c-bd55-b3dc0a059f65\",\"type\":\"LinearAxis\"},{\"attributes\":{\"callback\":null,\"data\":{\"engine_size_ss_encoded\":{\"__ndarray__\":\"T+zETuzENEBmZmZmZmY1QFVVVVVVlTVAlNdQXkM5NUAaYbmnEZY1QAAAAAAAACxASZIkSZJkNUBf0Bf0BX01QAAAAAAAADZAGIZhGIZhNUAcx3Ecx3EzQLrooosuujFA2Ymd2IkdNECO4ziO4zg2QBzHcRzH8TZAKK+hvIbyNEAeHh4eHh42QAAAAAAAYDZAl5aWlpaWNEAAAAAAAAAzQNu2bdu2bTZA4ybM72pxNUAAAAAAAAA6QOmiiy666DRAAAAAAAAAMEAAAAAAAAAyQAAAAAAAADVAilCEIhShNUCSJEmSJEk1QHE9CtejcDZAAAAAAACANEAeHh4eHp42QG7btm3btjFAq6qqqqrqNUCsfcPaN6w1QDMzMzMzszdAWchCFrKQNkA8PDw8PDw2QOQ4juM4jjNAVVVVVVVVNEAAAAAAAAA4QA==\",\"dtype\":\"float64\",\"shape\":[41]},\"index\":[\"AL\",\"AR\",\"AZ\",\"CA\",\"CO\",\"DE\",\"FL\",\"GA\",\"HI\",\"IA\",\"ID\",\"IL\",\"IN\",\"KS\",\"KY\",\"MD\",\"MI\",\"MN\",\"MO\",\"MS\",\"MT\",\"NC\",\"ND\",\"NE\",\"NM\",\"NV\",\"NY\",\"OH\",\"OK\",\"OR\",\"PA\",\"SC\",\"SD\",\"TN\",\"TX\",\"UT\",\"VA\",\"WA\",\"WI\",\"WV\",\"WY\"],\"miles_fs\":{\"__ndarray__\":\"JaoI8XY5ZEBGA3gLJOBlQPt+arx0pWJA9tVJlTGrYUAtywuxLS1jQBBYObTILmRABcSm0pAcYkC37GrFMc1lQD0CjPCMnVtAMRDaRL6dZEAK16NwPYJnQGPSKiatzmJAyheRv0DZYkA0peLsw9NlQGq8dJMYdmRAi1qI+eOrYUA0MzMzMwdkQCkVZx8+kmZAq9Mvv4HDY0D6fmq89CpjQPBktbwxHmRA5hZfJIcVZEDufD81XpZiQG9Y+4a1Y2JAvHSTGAQOWkBBpw102rBhQLORqmuwX2BA/KgQ/J5/ZEAgsHJoka9kQF/q501F2mRAEhEREVEcY0ArKioqKkZmQLLgADfMXmBAfT81XropZUDggOGILGhiQLprCfmgC2ZAKh/G/brsYkDxLDcOssJiQA0oEMVGS2JAMU/UvxFiYkC8dJMYBB5jQA==\",\"dtype\":\"float64\",\"shape\":[41]},\"price_fs\":{\"__ndarray__\":\"h9F+U57LSkBSuB6F65FKQN/d3d3djUpAJXHq99yaTUDx8hCQyEhOQDMzMzMz801ACP4Tc2RSS0Bt90s73WVMQEqrmLSKWVJAlYac++ziSED2BxkqO2xJQNpSnS3VOUhAj9zIjdy4SkBERERERCRMQEGnDXTagEpAI5N9dVLFSkALPnGk14pPQEREREREeEZA8SJWibwvTUAehetRuGJMQI1gor+T1UxA47ZrR+8mTEAAAAAAAABEQModoNwBqklAERERERFRS0C1gU4b6NRQQA7qoA7qoEtAAKkz7zFuSUBTuB6F6xFLQMFbIEHxY1BAqaqqqqpiSkB4EatE3vdIQODJanljZExA3v4gQ2XvSEBj/bE8hvFLQJHC9ShcV0RA9WHcr0vqS0ANp0Dac81OQGTJL5b8Mk9AnTbQaQN9R0Bcj8L1KPxNQA==\",\"dtype\":\"float64\",\"shape\":[41]},\"region_color\":[\"#fc8d59\",\"#fc8d59\",\"#d53e4f\",\"#3288bd\",\"#fee08b\",\"#e6f598\",\"#fc8d59\",\"#fc8d59\",\"#3288bd\",\"#ffffbf\",\"#fee08b\",\"#99d594\",\"#99d594\",\"#ffffbf\",\"#fc8d59\",\"#e6f598\",\"#99d594\",\"#ffffbf\",\"#ffffbf\",\"#fc8d59\",\"#fee08b\",\"#fc8d59\",\"#ffffbf\",\"#ffffbf\",\"#d53e4f\",\"#3288bd\",\"#e6f598\",\"#99d594\",\"#d53e4f\",\"#3288bd\",\"#e6f598\",\"#fc8d59\",\"#ffffbf\",\"#fc8d59\",\"#d53e4f\",\"#fee08b\",\"#fc8d59\",\"#3288bd\",\"#99d594\",\"#fc8d59\",\"#fee08b\"]},\"selected\":{\"id\":\"86d9cf4e-2721-4f10-bea6-ff4d98086afa\",\"type\":\"Selection\"},\"selection_policy\":{\"id\":\"ea857413-b3ce-4547-bdf1-c91eab66c70a\",\"type\":\"UnionRenderers\"}},\"id\":\"e89993f2-dee6-4106-9887-647eeec2d0a7\",\"type\":\"ColumnDataSource\"},{\"attributes\":{\"callback\":null,\"data\":{\"engine_size_ss_encoded\":{\"__ndarray__\":\"XXTRRRddNkDHcRzHcRw2QGVNWVPWlDZAV6J2JWpXNkAAAAAAAIA3QM3MzMzMzDVA4yu+4iv+NUBHWO5phKU2QE/sxE7sxDNAx3Ecx3EcN0CamZmZmRk4QAAAAAAAkDRAAAAAAABANkAAAAAAAGA1QCIiIiIiIjZAq6qqqqqqNUB5DeU1lNc2QAAAAAAAoDdAAAAAAABgNkCamZmZmZk4QAAAAAAAgDNAyEIWspAFNkAAAAAAAAA6QEtLS0tLSzVAx3Ecx3EcNkBVVVVVVdU1QPc0wnJPIzZAlPHbpZ4MNkAvuuiiiy42QAAAAAAAGDdAkyFYR5v3NUD0PM/zPE81QKuqqqqqKjNAB1Pks24wNkDCck8jLHc2QLHc0wjLPTdARe1K1K5ENkB00UUXXbQ1QHD5lm/5ljZAAAAAAAAANkAAAAAAAIA1QA==\",\"dtype\":\"float64\",\"shape\":[41]},\"index\":[\"AL\",\"AR\",\"AZ\",\"CA\",\"CO\",\"DE\",\"FL\",\"GA\",\"HI\",\"IA\",\"ID\",\"IL\",\"IN\",\"KS\",\"KY\",\"MD\",\"MI\",\"MN\",\"MO\",\"MS\",\"MT\",\"NC\",\"ND\",\"NE\",\"NM\",\"NV\",\"NY\",\"OH\",\"OK\",\"OR\",\"PA\",\"SC\",\"SD\",\"TN\",\"TX\",\"UT\",\"VA\",\"WA\",\"WI\",\"WV\",\"WY\"],\"miles_fs\":{\"__ndarray__\":\"voQpf8sFY0CfrSH8PORlQNRkRbGKxGFAXFB60nF8YUACnwT4x4RjQCZTBaOSgGVAsMsx21KRYUALvjWvt5ZjQKW1l4UwfFlAlmlwqhdpZEDOqs/VVgpmQK5H4XrUD2BA+jHmriW0YkD3U+Olm2thQAy1pnnHA2RAz0MeXwbWYEBtwz2lZYtlQPcoXI9C/mJAjZduEgMAZEC9BRIUP7JpQKfoSC7/AWJAER09hacCY0CZmZmZmbpjQJwhDV8XHmRAa3CqF7hrYECXtTomeKReQFeXuVzHcVxAQHVdCJqqYkAYbroU2sZjQPhT46U7gWBA9MU4vRzcYUByYGPFGNBkQLErQO41l11ABUURSEoWY0CPPxzw+I1gQHcPndCGH2RARCGuekgxYUDvp8ZLN2piQLCLVOK+Q2NAGy/dJAY9Y0DufD81XtZfQA==\",\"dtype\":\"float64\",\"shape\":[41]},\"price_fs\":{\"__ndarray__\":\"GCeScSKdUUAepi63P4hPQKWiVzD3llJAdsqApwxYU0DPTzA4tg5SQM3MzMzMbE1AZFohKlA6UEBOsmsTJYdQQAtkDaP9VlZA4lnRSMCbUEAw3SQGgV1TQPYoXI/CG1BAVQ4tsp3PUEAfhetRuGRSQH0UrkfhekxAMJb8YsnPUkDq99wSp35MQMT1KFwPVFFAPgrXo3BwTkCF61G4HuVPQEjhehSuJ1JAjEDRVoOvUEDXo3A9Ci9PQFMf7LiFQlBA2IIt2IKdUUCtR+F6FN5XQLiV+EAoRlRATKifI4fJTkCCcgcod+BOQCpcj8L1oFZAiGLBgF0HUEA642ahSX1OQDttoNMGYlFADklYdThEUED3dnNV1r1PQODlISCRMU1Am5C9Cdk7T0CfwRAaDBFRQAuTMAmTcFBAmpmZmZl5UUDXo3A9Cs9TQA==\",\"dtype\":\"float64\",\"shape\":[41]},\"region_color\":[\"#fc8d59\",\"#fc8d59\",\"#d53e4f\",\"#3288bd\",\"#fee08b\",\"#e6f598\",\"#fc8d59\",\"#fc8d59\",\"#3288bd\",\"#ffffbf\",\"#fee08b\",\"#99d594\",\"#99d594\",\"#ffffbf\",\"#fc8d59\",\"#e6f598\",\"#99d594\",\"#ffffbf\",\"#ffffbf\",\"#fc8d59\",\"#fee08b\",\"#fc8d59\",\"#ffffbf\",\"#ffffbf\",\"#d53e4f\",\"#3288bd\",\"#e6f598\",\"#99d594\",\"#d53e4f\",\"#3288bd\",\"#e6f598\",\"#fc8d59\",\"#ffffbf\",\"#fc8d59\",\"#d53e4f\",\"#fee08b\",\"#fc8d59\",\"#3288bd\",\"#99d594\",\"#fc8d59\",\"#fee08b\"]},\"selected\":{\"id\":\"a8d01102-4cf8-461a-b532-33e4207bed6a\",\"type\":\"Selection\"},\"selection_policy\":{\"id\":\"dcf649a9-9aba-4808-bd60-c5d9008c8cdd\",\"type\":\"UnionRenderers\"}},\"id\":\"894f1cc2-23eb-40fa-8844-6a99859a21c2\",\"type\":\"ColumnDataSource\"},{\"attributes\":{\"children\":[{\"id\":\"ccd3dd66-477d-466e-bd2a-f1e0c990f40d\",\"type\":\"Slider\"}],\"sizing_mode\":\"scale_width\"},\"id\":\"eca70f9c-adbd-48a4-884f-904ad049aa36\",\"type\":\"WidgetBox\"},{\"attributes\":{\"callback\":null,\"data\":{\"year\":[\"2000\"]},\"selected\":{\"id\":\"ccf1a587-5187-4e6b-870a-85d644907f0c\",\"type\":\"Selection\"},\"selection_policy\":{\"id\":\"b03eff98-29e5-48f0-be1a-e70b7bc5e182\",\"type\":\"UnionRenderers\"}},\"id\":\"b6204c95-878f-43ce-9c3c-b3161ec00bdb\",\"type\":\"ColumnDataSource\"},{\"attributes\":{\"callback\":null,\"data\":{\"engine_size_ss_encoded\":{\"__ndarray__\":\"d/1ssTL8M0CISkf2DEQ0QK+hvIbyGjNA9QhzdNdpMkAzMzMzM3syQKuqqqqqKjJAOXxSL1CkM0CV/p5wum4zQHZiJ3ZiJzJAe3t7e3t7MkDe3d3d3R00QDZaozVaozNABS+n4OVUM0Bp0qRJkyYzQIHeqWs5uDJAfEROEO7GMkDqoA7qoA4yQCeaaKKJpjRAt23btm37M0DcEXfEHXEzQJze9KY3vTJA9EQKmgZjM0AJyz2NsNwzQNxHcB/BfTRAL6G9hPaSNEDUBjptoNMyQJ7JaPHKJzRAeX4bEcymM0Ad1EEd1IEzQKfg5RS8nDJAGqRBGqSBM0DDSk8trHQzQAAAAAAAADJA+luc1myfMkCmfzKYY/oyQNxZwm5+CzRAPvjggw/+MkCe2Imd2EkzQEMMSMdSJjNAep7neZ7nMEAAAAAAAKAxQA==\",\"dtype\":\"float64\",\"shape\":[41]},\"index\":[\"AL\",\"AR\",\"AZ\",\"CA\",\"CO\",\"DE\",\"FL\",\"GA\",\"HI\",\"IA\",\"ID\",\"IL\",\"IN\",\"KS\",\"KY\",\"MD\",\"MI\",\"MN\",\"MO\",\"MS\",\"MT\",\"NC\",\"ND\",\"NE\",\"NM\",\"NV\",\"NY\",\"OH\",\"OK\",\"OR\",\"PA\",\"SC\",\"SD\",\"TN\",\"TX\",\"UT\",\"VA\",\"WA\",\"WI\",\"WV\",\"WY\"],\"miles_fs\":{\"__ndarray__\":\"8ma7BnT2N0DTM6t8TeE4QBpJsImGOjVAMYteZ9u8NUD6y+7Jw5AyQMGDeaL+7TNAz2M11I6YM0BX689UHMQ3QE+Nl24SwytAkr9xD/+GMkDUKDdkFswzQOqc99XuzzRAyGRJNPGpNED9kJAz6rQ0QKudbR/qKDZAoZfYhHhhNUBJnYAmwsYyQJvNSKZZITRABdDrDqfdNEBCSsKaXMM4QFqCWHrGkS1A5If6A0pjNkCLTcbIXZAyQGcOMydJnDRApC80sKM+M0D9vKlIhfEyQJefQG6yBTNAaDfym3nQNEAE9aMi0D02QI8In0/ryi9ANdihohUUMUAxhuQbEYA1QMEIz1i94TNAcH2BY6quNkDkeTK800g1QGP7xoR0bTBA1r5h7RvWNUBM9eMBFJExQPz8fkfuTjRAbwY+hLRVOUBWDi2ynQctQA==\",\"dtype\":\"float64\",\"shape\":[41]},\"price_fs\":{\"__ndarray__\":\"8G9wJzckbkAMpvlWpxNwQJVuy4us+mxAZr46Q5XnbEASWDm0SEpvQClcj8L1tGxAACiWO+mTbUBbD34MvIVtQNTx6WuLQW5AnSvu4wyBbkBMUyrOPqxtQB1aZDvfo3BA1nlxWbTlbkDBFOzNxDVtQB/M6Xe5cm9AYmnwMifDbUA2xZqNVK1uQASpPZDaCXBA+Yqv+Aodb0CrCAs9V9VuQGBWQtWfr29A/8s7Yjz2bUAYWwY2S69vQNHKp7ph0HBA9V8hOKRxcEAFVg4tshVtQMieZ/dxBG9AiLQvINGpbUAwplizkbpsQFd0jnm9kG5ALmfZ/DMMb0Ds4F7hQXVuQBonknEib25ARYuPteGNbECa9jwHpmptQE+s2UjVFWxA0mAIDYbUbUA1pskAc6FvQLtS1ccrYm5AuzGCif4abkCuR+F6FMlsQA==\",\"dtype\":\"float64\",\"shape\":[41]},\"region_color\":[\"#fc8d59\",\"#fc8d59\",\"#d53e4f\",\"#3288bd\",\"#fee08b\",\"#e6f598\",\"#fc8d59\",\"#fc8d59\",\"#3288bd\",\"#ffffbf\",\"#fee08b\",\"#99d594\",\"#99d594\",\"#ffffbf\",\"#fc8d59\",\"#e6f598\",\"#99d594\",\"#ffffbf\",\"#ffffbf\",\"#fc8d59\",\"#fee08b\",\"#fc8d59\",\"#ffffbf\",\"#ffffbf\",\"#d53e4f\",\"#3288bd\",\"#e6f598\",\"#99d594\",\"#d53e4f\",\"#3288bd\",\"#e6f598\",\"#fc8d59\",\"#ffffbf\",\"#fc8d59\",\"#d53e4f\",\"#fee08b\",\"#fc8d59\",\"#3288bd\",\"#99d594\",\"#fc8d59\",\"#fee08b\"]},\"selected\":{\"id\":\"ce50f49d-59da-431b-b05c-2bed2e9b13cc\",\"type\":\"Selection\"},\"selection_policy\":{\"id\":\"35567eeb-0633-45bf-add4-6a34eafec506\",\"type\":\"UnionRenderers\"}},\"id\":\"0971a5c3-5f47-44b3-b57f-4a0c0c3106fd\",\"type\":\"ColumnDataSource\"},{\"attributes\":{},\"id\":\"815c593b-1a9d-4851-926b-c34726167e30\",\"type\":\"Selection\"},{\"attributes\":{\"children\":[{\"id\":\"eca70f9c-adbd-48a4-884f-904ad049aa36\",\"type\":\"WidgetBox\"}],\"sizing_mode\":\"scale_width\"},\"id\":\"b2a99e8a-f040-442b-9856-da7174dc206e\",\"type\":\"Row\"},{\"attributes\":{\"source\":{\"id\":\"0b7a1973-e734-42e6-a82e-00431833b437\",\"type\":\"ColumnDataSource\"}},\"id\":\"c0464c53-7543-488f-83e8-86d155301f5b\",\"type\":\"CDSView\"},{\"attributes\":{\"callback\":null,\"renderers\":[{\"id\":\"5b7250ea-826c-4197-bb70-cc7959d5ab6a\",\"type\":\"GlyphRenderer\"}],\"tooltips\":\"@index\"},\"id\":\"044a03cc-a19b-4035-bc9a-80698eb702a0\",\"type\":\"HoverTool\"},{\"attributes\":{\"callback\":null,\"data\":{\"engine_size_ss_encoded\":{\"__ndarray__\":\"27Zt27ZtN0AAAAAAAOA1QBCLlIGnWzZAAAAAAAAINkAcTJHPusE2QAAAAAAAADhAeqEXeqFXNkCZXEFMruA2QAAAAAAAgDdAhixkIQvZN0DNzMzMzMw2QFVVVVVV1TZAR5v3KS4ZN0DmnkZY7mk1QIX2EtpLaDdAwXgr+xxSN0CSJEmSJAk3QAzOx+B8DDdAi6/4iq/4NkBu27Zt2zY4QGZmZmZmZjhANmjyZYOmNkAAAAAAAIA2QDMzMzMzszVAVVVVVVXVNkDv7u7u7u42QF4W8QmkkjZAy6FFtvP9NkAAAAAAANA2QOU1lNdQ3jVA1PqVArX+NkDmW77lWz43QAAAAAAAsDZAjuM4juM4N0Cz9zUhKHs2QImIiIiICDVAO6iDOqgDN0DkOI7jOA42QE+35odFyjZA27Zt27ZtN0AAAAAAAAA3QA==\",\"dtype\":\"float64\",\"shape\":[41]},\"index\":[\"AL\",\"AR\",\"AZ\",\"CA\",\"CO\",\"DE\",\"FL\",\"GA\",\"HI\",\"IA\",\"ID\",\"IL\",\"IN\",\"KS\",\"KY\",\"MD\",\"MI\",\"MN\",\"MO\",\"MS\",\"MT\",\"NC\",\"ND\",\"NE\",\"NM\",\"NV\",\"NY\",\"OH\",\"OK\",\"OR\",\"PA\",\"SC\",\"SD\",\"TN\",\"TX\",\"UT\",\"VA\",\"WA\",\"WI\",\"WV\",\"WY\"],\"miles_fs\":{\"__ndarray__\":\"8o6xDhTtXEBg5dAi2xxYQJuwU9qZf1pA3noUrkeaWEBRnHitot1YQJ7vp8ZL71tAYB2MtVaeWEDPdB00XAJaQOOlm8QgoFVAXYJYesYNXUAlBoGVQwdbQAVZPOJ9GltACQqt7uPTWUAyRu6C8t5aQNuyVscE91xAcBwg4f48WECzL1cC6OtaQCnFUR/pWVlAhYcskYnHW0BjO99PjbFbQHvysFBr0lpAO93apFj9W0AQn2FXgOhUQDvfT42XEllAF9nO91NnVkAJG55eKZdXQAF3fc7tEFhAlnhA2ZS/W0DRMcGD+YJdQIK5AZD40lhAw0ScsiqoWUDpscwSDvxcQB1aZDtfMlZAyUs3iUFsWkC1+mX0t4NaQFXjpZvEyFZAhL7443jmWEAakqZUnFVXQMqd29rwEltA0haWvWg6WUCJQWDl0FtdQA==\",\"dtype\":\"float64\",\"shape\":[41]},\"price_fs\":{\"__ndarray__\":\"EOP9qnyXXUA0MzMzM75dQNd4pLP7UVxAW1bLG6O3XkCfgkjCqstfQLkehetRLGBAdtOSvIt5XEA74D28YLRdQGkDnTbQVV9AztReFTB0X0BeukkMAuteQMkvlvxiqV1AaZdSRCWqXkA6+L1OHclbQEF7Ce0ldF1Am9259u8+X0AaI5jo75BdQDv+BuRvYF5AqPHSTWJQXUBXfMVXfKleQPp+arx0m2BAYUDqbwU8XUBlZmZmZlZgQDMzMzMzJ2BA393d3d37YUAEVg4tsplgQIQgt1JAp11Aw6C+ZU4XXUDTBjptoI9bQPyeW+LUT2BA6oa4GDNeXkAmutWOIDRcQHA9CtcjR2BA9Y7NtkoBXkBZXLxlsplbQFG4HoXrqVtAVt4YwUQvXUCW/GLJL7JhQL5NMWr4+11ApSHnPrvoX0B7FK5H4dBdQA==\",\"dtype\":\"float64\",\"shape\":[41]},\"region_color\":[\"#fc8d59\",\"#fc8d59\",\"#d53e4f\",\"#3288bd\",\"#fee08b\",\"#e6f598\",\"#fc8d59\",\"#fc8d59\",\"#3288bd\",\"#ffffbf\",\"#fee08b\",\"#99d594\",\"#99d594\",\"#ffffbf\",\"#fc8d59\",\"#e6f598\",\"#99d594\",\"#ffffbf\",\"#ffffbf\",\"#fc8d59\",\"#fee08b\",\"#fc8d59\",\"#ffffbf\",\"#ffffbf\",\"#d53e4f\",\"#3288bd\",\"#e6f598\",\"#99d594\",\"#d53e4f\",\"#3288bd\",\"#e6f598\",\"#fc8d59\",\"#ffffbf\",\"#fc8d59\",\"#d53e4f\",\"#fee08b\",\"#fc8d59\",\"#3288bd\",\"#99d594\",\"#fc8d59\",\"#fee08b\"]},\"selected\":{\"id\":\"702317d6-8d4a-4b01-b986-b1b84346c1a2\",\"type\":\"Selection\"},\"selection_policy\":{\"id\":\"d74a922a-cfd6-483a-ac7a-13e7da00ea20\",\"type\":\"UnionRenderers\"}},\"id\":\"e42b6304-7b4f-41e6-8d3a-d9d7b5cd0ae8\",\"type\":\"ColumnDataSource\"},{\"attributes\":{},\"id\":\"f8296af9-7a14-4efd-aafd-5b29202cca45\",\"type\":\"Selection\"},{\"attributes\":{},\"id\":\"a3a7d1ea-66cf-43d1-84b7-0d35e94294d3\",\"type\":\"Selection\"},{\"attributes\":{},\"id\":\"bd295d95-932a-44c4-b364-ddfca99a364d\",\"type\":\"Selection\"},{\"attributes\":{\"callback\":null,\"data\":{\"engine_size_ss_encoded\":{\"__ndarray__\":\"AAAAAAAANUAAAAAAAAA1QM3MzMzMTDRAsdzTCMs9M0BDFrKQhSw0QAAAAAAAADBAvuVbvuVbNUDD9Shcj8IzQAAAAAAAQDNAbtu2bdu2NEDkOI7jOI4tQGZmZmZmZjFAMzMzMzMzNEAAAAAAAEA2QAAAAAAAwDFAchzHcRzHM0AAAAAAAAA1QI7jOI7jODJAAAAAAACANEAAAAAAAIA2QAAAAAAAADRAzczMzMwsMkAAAAAAAAAAAGZmZmZm5jRAAAAAAACAMkAAAAAAAAA0QAAAAAAAgDJAAAAAAADAM0BCewntJbQyQNu2bdu27TRASZIkSZKkNUDXo3A9CtczQAAAAAAAACVAx3Ecx3EcMkAUrkfhehQzQAAAAAAAADRAOY7jOI7jNECKndiJnVg1QFVVVVVV1TFAAAAAAAAANUA=\",\"dtype\":\"float64\",\"shape\":[40]},\"index\":[\"AL\",\"AR\",\"AZ\",\"CA\",\"CO\",\"DE\",\"FL\",\"GA\",\"HI\",\"IA\",\"ID\",\"IL\",\"IN\",\"KS\",\"KY\",\"MD\",\"MI\",\"MN\",\"MO\",\"MS\",\"MT\",\"NC\",\"ND\",\"NE\",\"NM\",\"NV\",\"NY\",\"OH\",\"OK\",\"OR\",\"PA\",\"SC\",\"SD\",\"TN\",\"TX\",\"UT\",\"VA\",\"WA\",\"WI\",\"WV\"],\"miles_fs\":{\"__ndarray__\":\"cD0K16OuY0Cmm8QgsMJmQAfwFkhQBmFAaUajOK7VX0CaKCjn1CNiQJduEoPAFHBArWDNy+XgYkAb2CrB4oxlQO58PzVeUFpAv5PV8sa+Y0DYXEiaUgFgQCh+jLlrSWFA8dJNYhBGZ0DIdr6fGtpmQO58PzVeVWNATmIQWDk4YkDz/dR46alnQA6av37X0WVAmG4Sg8BWaEB8PzVeuodpQANWDi2y+WJAYsPTK2VyY0AdWmQ738dYQIhjXdxGJ2VA30+Nl24kZkD5U+OlmyReQIGVQ4tsn2FAWIDca65WZECoEhaz6TFkQL2rX2vzimNA4rHgADcGYkAvnkFD//xpQN0kBoGVC2FAUf9GKKMDZEDNNjemJ3RhQAfDOoPXZGVA/tR46SYpZECMrow79u9kQI3elrU6OmNA2/l+arzcZkA=\",\"dtype\":\"float64\",\"shape\":[40]},\"price_fs\":{\"__ndarray__\":\"MzMzMzM7WkDsUbgehZNDQCUGgZVDE1BArkEuCU7nUUByAEESaUxJQDMzMzMzc0tAtvTk6Cc4R0A4+MJkqkBGQArXo3A9qk5Al4ac++ziR0C1gU4b6NRIQIpBYOXQIkFAaZHtfD91SEAUrkfhevxBQK1H4XoUKkJAh8oOU5d7TUB7FK5H4SJDQDQS8M2ryUdAzczMzMyMQkCF61G4HiVEQEVEREREJENAYLpJDAIrSkDNzMzMzPxTQCcxCKwcKkVAmpmZmZn5SEBmZmZmZtZKQJDC9Shcr0dAF65H4XoSQ0C6/UGGyo5IQL/iK77iy0dAW94YwUQfQ0B7xyk6kotDQJqZmZmZOTVAZoepy+0/TEDcG3xhMvVIQGWAOcvmH0FALtiCLdiiTED+jGkywJxHQEVERERE5ENAmpmZmZn5Q0A=\",\"dtype\":\"float64\",\"shape\":[40]},\"region_color\":[\"#fc8d59\",\"#fc8d59\",\"#d53e4f\",\"#3288bd\",\"#fee08b\",\"#e6f598\",\"#fc8d59\",\"#fc8d59\",\"#3288bd\",\"#ffffbf\",\"#fee08b\",\"#99d594\",\"#99d594\",\"#ffffbf\",\"#fc8d59\",\"#e6f598\",\"#99d594\",\"#ffffbf\",\"#ffffbf\",\"#fc8d59\",\"#fee08b\",\"#fc8d59\",\"#ffffbf\",\"#ffffbf\",\"#d53e4f\",\"#3288bd\",\"#e6f598\",\"#99d594\",\"#d53e4f\",\"#3288bd\",\"#e6f598\",\"#fc8d59\",\"#ffffbf\",\"#fc8d59\",\"#d53e4f\",\"#fee08b\",\"#fc8d59\",\"#3288bd\",\"#99d594\",\"#fc8d59\"]},\"selected\":{\"id\":\"5a345695-82c2-4bed-9d3a-3ae35d7829a6\",\"type\":\"Selection\"},\"selection_policy\":{\"id\":\"2e10fd39-e26b-4eaa-8bd1-e785472102fe\",\"type\":\"UnionRenderers\"}},\"id\":\"c1c57c2a-2f40-4205-8334-f3976ccb4df7\",\"type\":\"ColumnDataSource\"},{\"attributes\":{\"data_source\":{\"id\":\"0b7a1973-e734-42e6-a82e-00431833b437\",\"type\":\"ColumnDataSource\"},\"glyph\":{\"id\":\"c524ce4a-7501-419f-bb13-01df6621dcf6\",\"type\":\"Circle\"},\"hover_glyph\":null,\"muted_glyph\":null,\"view\":{\"id\":\"c0464c53-7543-488f-83e8-86d155301f5b\",\"type\":\"CDSView\"}},\"id\":\"495a09e1-7cf9-4663-a696-3d4660edb7f0\",\"type\":\"GlyphRenderer\"},{\"attributes\":{\"data_source\":{\"id\":\"b6204c95-878f-43ce-9c3c-b3161ec00bdb\",\"type\":\"ColumnDataSource\"},\"glyph\":{\"id\":\"a34c4725-482c-4be1-a0c7-5124c45271d7\",\"type\":\"Text\"},\"hover_glyph\":null,\"muted_glyph\":null,\"view\":{\"id\":\"8921486b-196a-481c-b360-7fdeca9f3bc6\",\"type\":\"CDSView\"}},\"id\":\"2de3ef90-40f6-4173-93d7-b0463cb63a19\",\"type\":\"GlyphRenderer\"},{\"attributes\":{\"data_source\":{\"id\":\"19dd40d6-33b8-45a5-b795-468638dac056\",\"type\":\"ColumnDataSource\"},\"glyph\":{\"id\":\"8ac6bf00-9817-4a61-86ae-91b0a4799dc3\",\"type\":\"Text\"},\"hover_glyph\":null,\"muted_glyph\":null,\"view\":{\"id\":\"9587e1d3-ae47-4dd6-9fbb-baa83b337fad\",\"type\":\"CDSView\"}},\"id\":\"557f1bbd-114d-4789-9a5c-9dc725bd5607\",\"type\":\"GlyphRenderer\"},{\"attributes\":{\"callback\":null,\"data\":{\"engine_size_ss_encoded\":{\"__ndarray__\":\"pqWlpaWlN0CrqqqqqqoyQDMzMzMzMzVAZmZmZmYmNUD43nvvvfc2QAAAAAAAADVAWchCFrKQNUBF7UrUrkQ2QAAAAAAAADdAAAAAAAAAOEAAAAAAAAA2QKuqqqqqajFAhixkIQtZM0Crqqqqqqo3QA8PDw8PDzdAFDuxEzuxM0AAAAAAAAA3QNu2bdu2LTVAAAAAAAAgNECrqqqqqio2QAAAAAAAgDVA9zTCck8jNkAAAAAAAAA2QEYXXXTRRTRAAAAAAAAAAABu27Zt27Y0QJIkSZIkSTZAuOGGG264NUCivIbyGso0QJIkSZIkSTVAb3rTm970NECJiIiIiIg2QAAAAAAAADRAO7ETO7GTNUB5DeU1lFc1QJqZmZmZGTdAVVVVVVVVNUBeQ3kN5TU2QNPS0tLS0jVAAAAAAAAAJkA=\",\"dtype\":\"float64\",\"shape\":[40]},\"index\":[\"AL\",\"AR\",\"AZ\",\"CA\",\"CO\",\"DE\",\"FL\",\"GA\",\"HI\",\"IA\",\"ID\",\"IL\",\"IN\",\"KS\",\"KY\",\"MD\",\"MI\",\"MN\",\"MO\",\"MS\",\"MT\",\"NC\",\"ND\",\"NE\",\"NM\",\"NV\",\"NY\",\"OH\",\"OK\",\"OR\",\"PA\",\"SC\",\"SD\",\"TN\",\"TX\",\"UT\",\"VA\",\"WA\",\"WI\",\"WV\"],\"miles_fs\":{\"__ndarray__\":\"EN2pdkMcakDTlIqzD/FgQIBIv30dmGRALM4+fIYbYkBKVQe724JlQBgEVg4tumBAlRLuG0O3YkCu5AZ+oa9kQErhehSum15Ai2zn+6ltZEAtsp3vpw5nQEW28/3UoWJA9kIwhofyZUAFyL3mQvhnQGhcheFw12RA7zQwfvclYkBI4XoUrn5jQEYkjKOzm2RAjGzn++lJZUABcq+5kCxqQClcj8L17mZAulVy5bdIZEBg5dAi2zlfQLd3o65qGWVAxSCwcmiRKEACbpil3v1jQC170Zy4i1dA/jOvDMCbZECtiJRy3+1jQNvtOS6mQ2ZA+n5qvHT9YUDQGVHaGzJnQPtm4ENIR2VAVOOlm8RkY0A+gaeijbhjQOILk6mCqWRA6ilfvXdxYUAdKxBG2r9jQF6waIcMoGFAyHa+nxrBUUA=\",\"dtype\":\"float64\",\"shape\":[40]},\"price_fs\":{\"__ndarray__\":\"5RZKfbBDSUAfhetRuN5FQKAaL90kDklAJqO3Za2+SkBTSwS1RBBNQJqZmZmZOUlA86qAYZt9R0A9DM/D8NxLQD4K16NwNVFAq5i0ikkLRkBAnhLkKeFIQFVVVVVV/URA+OuSyofRSkBERERERGxIQFVUVFRUlERAoDFNBpiTRECkcD0K1z9HQCmr5Y0RhERApHA9Ctc1T0Bcj8L1KAxGQHsUrkfhUktAtjZRsmsTTEDsUbgehStQQJQ7QLkDlEdAMzMzMzPzPUDiehSuR8FKQIhNpSHnHk1A/8xS0CwlRkA3QcVWzXlIQKCsljdGAE5AgN92ywkGSUDbFSD3motHQKfSkHOfnUNAdu+QqCJ0S0DRgIPkiAZKQCqHFtnOJ0ZA+8WSXyw5TEB2UmUMi1pLQCfyvotYBU1ArkfhehS+SEA=\",\"dtype\":\"float64\",\"shape\":[40]},\"region_color\":[\"#fc8d59\",\"#fc8d59\",\"#d53e4f\",\"#3288bd\",\"#fee08b\",\"#e6f598\",\"#fc8d59\",\"#fc8d59\",\"#3288bd\",\"#ffffbf\",\"#fee08b\",\"#99d594\",\"#99d594\",\"#ffffbf\",\"#fc8d59\",\"#e6f598\",\"#99d594\",\"#ffffbf\",\"#ffffbf\",\"#fc8d59\",\"#fee08b\",\"#fc8d59\",\"#ffffbf\",\"#ffffbf\",\"#d53e4f\",\"#3288bd\",\"#e6f598\",\"#99d594\",\"#d53e4f\",\"#3288bd\",\"#e6f598\",\"#fc8d59\",\"#ffffbf\",\"#fc8d59\",\"#d53e4f\",\"#fee08b\",\"#fc8d59\",\"#3288bd\",\"#99d594\",\"#fc8d59\"]},\"selected\":{\"id\":\"b35c8026-c3db-4dea-b7a5-f88980ec6942\",\"type\":\"Selection\"},\"selection_policy\":{\"id\":\"e83def2b-7bab-497e-ad4f-4217752dc17f\",\"type\":\"UnionRenderers\"}},\"id\":\"f43511c0-0f68-4cae-8863-3056a3cc0915\",\"type\":\"ColumnDataSource\"},{\"attributes\":{\"callback\":null,\"data\":{\"engine_size_ss_encoded\":{\"__ndarray__\":\"16NwPQrXNkBddNFFF103QOi0gU4b6DVArkfhehRuNUBWspKVrGQ2QAAAAAAAADZAep7neZ7nNUAAAAAAAEA2QM3MzMzMzDZA6aKLLrpoNkDRXkJ7Ce02QAAAAAAAwDVA8RVf8RVfNUDRRRdddFE0QEmSJEmSJDZAVVVVVVUlMEB1UAd1UAc2QK9evXr16jZAmpmZmZkZNkCSJEmSJEk1QAAAAAAAgDZASyc5sHSSNUDbtm3btm02QC+66KKLLjZAkiRJkiRJOEDHcRzHcRw2QImIiIiIyDRA42wK42wKNkC4HoXrUbg1QJqZmZmZmTVABS+n4OUUNkA7sRM7sRM3QAAAAAAAMDNACtT6lQK1NUDwC7f2xuo1QAAAAAAAgDZAYQu2YAu2NUBDeQ3lNRQ2QAnLPY2wXDVAAAAAAAAAOkAAAAAAAIAqQA==\",\"dtype\":\"float64\",\"shape\":[41]},\"index\":[\"AL\",\"AR\",\"AZ\",\"CA\",\"CO\",\"DE\",\"FL\",\"GA\",\"HI\",\"IA\",\"ID\",\"IL\",\"IN\",\"KS\",\"KY\",\"MD\",\"MI\",\"MN\",\"MO\",\"MS\",\"MT\",\"NC\",\"ND\",\"NE\",\"NM\",\"NV\",\"NY\",\"OH\",\"OK\",\"OR\",\"PA\",\"SC\",\"SD\",\"TN\",\"TX\",\"UT\",\"VA\",\"WA\",\"WI\",\"WV\",\"WY\"],\"miles_fs\":{\"__ndarray__\":\"OE91yM1IY0B3o65qHX5iQJ2iI7n8U2BAXcmOjcAkYEDTN64ZlJxhQI/C9ShcN15AREEWj3hxYEDsmTQonehgQB/ME/VvLFtALRMHZqRmYUC3A2HPTp9jQDEIrBxapmJAIvGxOcrmYED6AhCWZgNfQJ0cAZvxQWJAIbByaBF2VUBwjGCiv59jQEnpYYYCOmJA4uzDZ9jtYECuhtv1ZzZkQGX0tqzVVmNAblM+gypbYkDWr7V5IPtiQB27zbHb0GFAIx4LDnAPZUCzcesgEu9gQMQj3ic0bF1AlBAL5sj9YUDFFoIclHJjQK8dmdC6oWFA3Z1bMAeIYEAHZ8LeCvNiQCQGgZVD0VpA52a+1EzeYECMOm8m4tRgQDZE5+SLdWNAlyS8Kj1AX0BYJ1XGsFpgQKmmiAnRvGBAhetRuB59ZUDEILByaIJhQA==\",\"dtype\":\"float64\",\"shape\":[41]},\"price_fs\":{\"__ndarray__\":\"22gAb4HkU0DD2jesfbNSQPv/////71NAgki/fR2+U0AQ6M9BBFtTQM3MzMzMmFJAdHTWKZPTUUD01UmVMcpSQBYg95oLuVhAIf414l83U0CIngrM4m5UQArXo3A9hlJA3yu+4isGUkCpzpbqbClXQHtjBBP9zVBAlfxiyS8QUEBcxo5IGKdQQE9LB0yiS1FAwvUoXI+qVkCHnPvsAmJRQGoDnTbQFVJAI/qE6BJtUkBdQGwqDXlQQGvEv0b8K1NAnqyWN0bAU0APXlj9THdTQM7bslbHtFJAw+QbjrE4UUCFFtnO9yNQQCv4FbaSZFRA0Lpyg7NNUkAaLCjp+HBSQOxRuB6FtlRA4EqEA5odUkC02SFSFJlRQO4DP/ADN1BAXEiaUnEmUUB0pXcGHORUQC2MJ1Apb1NAzczMzMz8U0BI4XoUrt9NQA==\",\"dtype\":\"float64\",\"shape\":[41]},\"region_color\":[\"#fc8d59\",\"#fc8d59\",\"#d53e4f\",\"#3288bd\",\"#fee08b\",\"#e6f598\",\"#fc8d59\",\"#fc8d59\",\"#3288bd\",\"#ffffbf\",\"#fee08b\",\"#99d594\",\"#99d594\",\"#ffffbf\",\"#fc8d59\",\"#e6f598\",\"#99d594\",\"#ffffbf\",\"#ffffbf\",\"#fc8d59\",\"#fee08b\",\"#fc8d59\",\"#ffffbf\",\"#ffffbf\",\"#d53e4f\",\"#3288bd\",\"#e6f598\",\"#99d594\",\"#d53e4f\",\"#3288bd\",\"#e6f598\",\"#fc8d59\",\"#ffffbf\",\"#fc8d59\",\"#d53e4f\",\"#fee08b\",\"#fc8d59\",\"#3288bd\",\"#99d594\",\"#fc8d59\",\"#fee08b\"]},\"selected\":{\"id\":\"ab4a68c8-5bad-4167-a4d5-a897110e0fc3\",\"type\":\"Selection\"},\"selection_policy\":{\"id\":\"c6caef64-8ac7-4bea-95c3-49196cde41c2\",\"type\":\"UnionRenderers\"}},\"id\":\"bae9da19-41ec-4c51-b75f-0f76f39587ff\",\"type\":\"ColumnDataSource\"},{\"attributes\":{\"callback\":null,\"data\":{\"engine_size_ss_encoded\":{\"__ndarray__\":\"P/ZjP/ZjNkCx3NMIyz03QHIcx3EcxzVAetOb3vRmNUAXXXTRRXc2QAAAAAAA4DZApzQv/kTCNUD823Kmw1E2QEmSJEmS5DRA0UUXXXRRN0Crqqqqqqo2QOzETuzETjVAKH3SJ31SNkCVIE8J8pQ3QAu/GhPpgTZA6Av6gr6gNUCDKfJZNxg3QHBY+4a17zZAaJT4GSV+NkDRWB8a60M1QAAAAAAAADRABeJCzUkgNkAlSZIkSZI1QBQ7sRM7sTZAq6qqqqpqNkCe2Imd2Ik0QK+VE57pbzVAZmZmZmYKNkA5juM4jiM2QCV+RomfUTVAWsJufgsBNkDBeCv7HFI2QAAAAAAAADZANl3TNV3TNUBCHdRBHTQ2QKuqqqqqKjVANU3TNE3TNUBJkiRJkmQ2QLjhhhtuuDVAJ3ZiJ3ZiNkAAAAAAAAA4QA==\",\"dtype\":\"float64\",\"shape\":[41]},\"index\":[\"AL\",\"AR\",\"AZ\",\"CA\",\"CO\",\"DE\",\"FL\",\"GA\",\"HI\",\"IA\",\"ID\",\"IL\",\"IN\",\"KS\",\"KY\",\"MD\",\"MI\",\"MN\",\"MO\",\"MS\",\"MT\",\"NC\",\"ND\",\"NE\",\"NM\",\"NV\",\"NY\",\"OH\",\"OK\",\"OR\",\"PA\",\"SC\",\"SD\",\"TN\",\"TX\",\"UT\",\"VA\",\"WA\",\"WI\",\"WV\",\"WY\"],\"miles_fs\":{\"__ndarray__\":\"c3UyIZJUWUCYs6lViyNYQN1IHZdnOlZAixoic6lZVkCxNDt+5n1VQOtRuB6FSVZAR/+BGnd4VUD/q1+GyMNXQPV3slreTFJAo3A9CtfDVkBbODdYm/hXQMZ5c9snsVZAN4+dynzqVkDk3jppwrlUQH1j/4vEPlhAZWmlkfJZVUDfeyKBs01XQJ7hjziD8FZA6V3kkhvPVkD3bPVQS/ZYQB2ddcrk+lFAf77707xRV0Chy9gRCUtUQA/oVyKWB1ZAUEZvy1pqV0AH80T9GylUQLKfZuq9ylNAW/5D+u0NV0Bn03NHTl5ZQAJoUNsTW1VArYxAFlr/VEBwmHcJa9ZXQJrmHafoyFZAl9K0uYKvVkDL91PjpXhWQG1UCYvZXFZABJyrC3MnVUCgDuqgDuZUQDZUkHY4jFZA3Pl+arwkVkAgaUrF2QNaQA==\",\"dtype\":\"float64\",\"shape\":[41]},\"price_fs\":{\"__ndarray__\":\"2wXEptJoYEBCNLy/3SxiQENQN6i2hWBAXRHnxwFDYEDHbnPsNg5hQClcj8L1+l9AFj5E85GdX0C6rlcMLV1gQKk05NxntWBAGda+Ye19YkAnk1Rr1yBhQD59bXGwtmBAO99PjZfaYEDmxceRr9diQOJKAvOeiGBAXZmUMPx/YEBnZmZmZrphQLuiKsVDRGFAQPufkvQgYUDsLGE3v0VeQH7FV3zFn19AI+/TBMdQYEBb3hjBRBNhQC/FH8le4WBAy8zMzMy9YEA1/4xpMhBfQJ9YT0owr19Abj0K1+MhX0AslvxiyRVeQK2yPPMNQmFAqakZwszZYEAOX+Qq6ghgQLFQa5p3jGFA4CFRRYinX0BzI1XXYMtfQNcfZKjsaF1Abkra17BwX0BL9HeyWiljQGc2SmajXGBATuzETuw8YkCkcD0K1x9jQA==\",\"dtype\":\"float64\",\"shape\":[41]},\"region_color\":[\"#fc8d59\",\"#fc8d59\",\"#d53e4f\",\"#3288bd\",\"#fee08b\",\"#e6f598\",\"#fc8d59\",\"#fc8d59\",\"#3288bd\",\"#ffffbf\",\"#fee08b\",\"#99d594\",\"#99d594\",\"#ffffbf\",\"#fc8d59\",\"#e6f598\",\"#99d594\",\"#ffffbf\",\"#ffffbf\",\"#fc8d59\",\"#fee08b\",\"#fc8d59\",\"#ffffbf\",\"#ffffbf\",\"#d53e4f\",\"#3288bd\",\"#e6f598\",\"#99d594\",\"#d53e4f\",\"#3288bd\",\"#e6f598\",\"#fc8d59\",\"#ffffbf\",\"#fc8d59\",\"#d53e4f\",\"#fee08b\",\"#fc8d59\",\"#3288bd\",\"#99d594\",\"#fc8d59\",\"#fee08b\"]},\"selected\":{\"id\":\"0279c7eb-ac35-43c8-93e1-d8e53a6ac071\",\"type\":\"Selection\"},\"selection_policy\":{\"id\":\"3336fccc-2ec8-4510-8361-beaced6271a3\",\"type\":\"UnionRenderers\"}},\"id\":\"ea6afb3e-1fc2-4391-a5d3-e6a865626893\",\"type\":\"ColumnDataSource\"},{\"attributes\":{\"text\":{\"field\":\"year\"},\"text_color\":{\"value\":\"#EEEEEE\"},\"text_font_size\":{\"value\":\"150pt\"},\"x\":{\"value\":30},\"y\":{\"value\":15}},\"id\":\"a34c4725-482c-4be1-a0c7-5124c45271d7\",\"type\":\"Text\"},{\"attributes\":{\"callback\":null,\"data\":{\"engine_size_ss_encoded\":{\"__ndarray__\":\"gvsI7iO4NkB3d3d3d3c3QHIcx3EcRzVAzIBPDpcBNUCChpO6L480QLdt27ZtczVAsfYNa9+wNUAMwzAMwzA1QAAAAAAAgDVAx3Ecx3GcNkARERERERE1QKuqqqqqqjVAxU7sxE7sNkBu27Zt27Y1QB3UQR3UQTVAq6qqqqpqNkAQPvjggw82QOGDDz744DRAO7ETO7ETNkAAAAAAAAA4QNcdL7YE3zRAAAAAAABAOEBMaC+hvYQ2QKuqqqqqKjVAMzMzMzMzNkDMtQNz7cA0QH+DbtfKCTZAjuM4juO4NkBZyEIWspA0QJ1zzjnn3DVAC2JyBTG5NkBVVVVVVVU0QJ7neZ7neTZAm6u5mqu5NUC5pxGWexo2QEjhehSuxzVAIiIiIiKiNUCNjIyMjIw1QAAAAAAAwDVAAAAAAAAANEA=\",\"dtype\":\"float64\",\"shape\":[40]},\"index\":[\"AL\",\"AR\",\"AZ\",\"CA\",\"CO\",\"FL\",\"GA\",\"HI\",\"IA\",\"ID\",\"IL\",\"IN\",\"KS\",\"KY\",\"MD\",\"MI\",\"MN\",\"MO\",\"MS\",\"MT\",\"NC\",\"ND\",\"NE\",\"NM\",\"NV\",\"NY\",\"OH\",\"OK\",\"OR\",\"PA\",\"SC\",\"SD\",\"TN\",\"TX\",\"UT\",\"VA\",\"WA\",\"WI\",\"WV\",\"WY\"],\"miles_fs\":{\"__ndarray__\":\"dV+jycQDYUD1SlmGOAZgQKWtIfw8fFtAFZ2UwWa6XEAJuJbWBkVaQFUmtyrKkF1A8v80MoOmXUDloYSwbmlZQCS6thnjrF5AVehHdG0dYUC8CEDJChNcQIhadSL0dl1AtFiVLG2LX0AlrbdL3hthQJgIG55ekVlAh6QpFWd1XUCHx2V4XJ5eQN1iM5ScUWBAYRMNdcHwX0ApXI/C9ZBgQPja9CBnuF1ArkfhehTsXUDziyW/WGJdQI/C9Shc51xAutqK/WXbWECSyodxv95YQDcMx3LQEmBA6+SqPZ0uYECG75pc0HReQPOkNRwnPlxAZkERvEz1YEB8PzVeujFaQPSfmCPT0V9AI8siaqwVXkCo8nRIzhdgQDh/EwoRRFxAmTB0/2sXXkDihfYzPsVdQHWTGARWAl9AWDm0yHZAZUA=\",\"dtype\":\"float64\",\"shape\":[40]},\"price_fs\":{\"__ndarray__\":\"XGHCZoRPV0BQG+i0gV5ZQK7OlQck21hAdHQhghIVWECJdgeH0gFXQIvrUbieT1VAtXAI2FM9V0DAWPKLJf9ZQLgehetRmFZAyHEcx3HcV0CjjN6WtXpWQAczyjxmbVdAF3qhF3oRWUBNYhBYOeRTQA/eW9LT9FdAJCIiIiIOWkDwVUNfNbRWQA5r37D2fVRADjBn2fxbVkC4HoXrUZBaQDr6E8ZN/lVAKVyPwvWkV0Br+NsUo1ZZQBSuR+F6DFVAAyuHFtkeW0A8TzKxDoFWQFR5eEkBB1VAULgehevBVkBYQtWfJ5lXQCiBfxL4F1dAUpbikLHXVkArGgn45rVZQHBketnKdFZA/+Usm38GVkCrrDt7l2dVQJ8jufyHdFVAJTEIrByKW0AaUoW46x5YQJmZmZmZvVdAwvUoXI8iRkA=\",\"dtype\":\"float64\",\"shape\":[40]},\"region_color\":[\"#fc8d59\",\"#fc8d59\",\"#d53e4f\",\"#3288bd\",\"#fee08b\",\"#fc8d59\",\"#fc8d59\",\"#3288bd\",\"#ffffbf\",\"#fee08b\",\"#99d594\",\"#99d594\",\"#ffffbf\",\"#fc8d59\",\"#e6f598\",\"#99d594\",\"#ffffbf\",\"#ffffbf\",\"#fc8d59\",\"#fee08b\",\"#fc8d59\",\"#ffffbf\",\"#ffffbf\",\"#d53e4f\",\"#3288bd\",\"#e6f598\",\"#99d594\",\"#d53e4f\",\"#3288bd\",\"#e6f598\",\"#fc8d59\",\"#ffffbf\",\"#fc8d59\",\"#d53e4f\",\"#fee08b\",\"#fc8d59\",\"#3288bd\",\"#99d594\",\"#fc8d59\",\"#fee08b\"]},\"selected\":{\"id\":\"b743f36b-8d78-475e-a364-afcd6367fec1\",\"type\":\"Selection\"},\"selection_policy\":{\"id\":\"2945c1d7-837b-4056-b6e3-51d5c48b7330\",\"type\":\"UnionRenderers\"}},\"id\":\"ad1951dc-f78d-4819-8b89-e95dc8768cda\",\"type\":\"ColumnDataSource\"},{\"attributes\":{\"source\":{\"id\":\"a6dfa728-827e-4349-813e-2e79adcad7f2\",\"type\":\"ColumnDataSource\"}},\"id\":\"fa844226-43f0-4b60-9668-c3dc0ab4f8c0\",\"type\":\"CDSView\"},{\"attributes\":{},\"id\":\"e559640b-06d6-4cf1-b5fe-ce8b741d4b96\",\"type\":\"UnionRenderers\"},{\"attributes\":{\"data_source\":{\"id\":\"980a03fe-7fed-44bb-996e-36d06e1c5d33\",\"type\":\"ColumnDataSource\"},\"glyph\":{\"id\":\"85d200a4-91c5-4838-b2de-05db7f334a48\",\"type\":\"Text\"},\"hover_glyph\":null,\"muted_glyph\":null,\"view\":{\"id\":\"14b47796-ef34-4e02-a827-a07a0a802d5f\",\"type\":\"CDSView\"}},\"id\":\"468f6c36-4e64-4227-9953-6500cf924683\",\"type\":\"GlyphRenderer\"},{\"attributes\":{\"callback\":null,\"data\":{\"engine_size_ss_encoded\":{\"__ndarray__\":\"eqEXeqEXN0AAAAAAAGA0QGuttdZaazZAq6qqqqqGNUCPwvUoXA82QKuqqqqqqjZAB3Rjnj7aNUBXi5swv6s1QGIndmIndjdAG8prKK8hN0DDMAzDMAw0QI7jOI7jODZATGcxncV0NkAvuuiii641QJnOYjqL6TVA6aKLLrroNUAY9AV9QV82QLZvWPuGtTZA+N577733NUAAAAAAALA1QAAAAAAAADVAu9e97nWvNUAAAAAAAIA1QG2yySabbDZAymsor6G8NECjiy666CI2QOpNb3rTGzZA4uHh4eHhNUB8xVd8xVc2QMdxHMdxHDVARERERERENkAzMzMzM3M2QCVJkiRJkjRAPyTw9kMCNkBws1+IFSU2QHd3d3d3dzVAymsor6E8N0B00UUXXXQ1QNu2bdu2bTZAAAAAAABANEAzMzMzMzM4QA==\",\"dtype\":\"float64\",\"shape\":[41]},\"index\":[\"AL\",\"AR\",\"AZ\",\"CA\",\"CO\",\"DE\",\"FL\",\"GA\",\"HI\",\"IA\",\"ID\",\"IL\",\"IN\",\"KS\",\"KY\",\"MD\",\"MI\",\"MN\",\"MO\",\"MS\",\"MT\",\"NC\",\"ND\",\"NE\",\"NM\",\"NV\",\"NY\",\"OH\",\"OK\",\"OR\",\"PA\",\"SC\",\"SD\",\"TN\",\"TX\",\"UT\",\"VA\",\"WA\",\"WI\",\"WV\",\"WY\"],\"miles_fs\":{\"__ndarray__\":\"TSHLpVqnXUCjRbbzfSZaQKBjNG15HlxAtQ+fYVfmWkCzmNh8XItbQFWcffgMY1dAVRxCp1iNWkDHokNVnaVcQNXXFgcLulhAk4gLQ97CWkAMjGS5041aQA6av37Xe1tAtIno2D9LXUARpvwtlyBZQIhNSjyqFl5AJYLbu1EvWkD8cESd5uJdQIi37TD6C15AaWSwRgarXEDpJjEI7LNfQF66SQwC0V9Ag/0Yem5fXUDy0k1iEG1dQHIzX2om0V1AcoWG4LtfWEA5mdfGrNBaQPZcBH1MTVlAXbqnw5lYXUB7josp1gRhQHyi/o1QrltARQ+P15a8WkBCE2HD06xcQOI3Ax9CmlhAIKhUZW3sXUDicX0aaCtbQDbufrNYM1xAffe4VKLWWUAWm6HkTFlbQAWlZPjNeVxA2/l+ary3X0B5WKg1zcdjQA==\",\"dtype\":\"float64\",\"shape\":[41]},\"price_fs\":{\"__ndarray__\":\"/URae1m4WUDD9Shcj71YQNrp5J1OZlhAS+F6FO7mWUDSK2UZ4ohaQLSBThvoxFlAAmRhku+0WECEKghHBNlYQOW5BLKGwVpAD6d+zy1RW0BxAidwAhdaQL5Y8osl+1hAZ3T4iQCNWUBTnS3V2ZpbQLMJKrZqDllAZBWTVjHJWUDVhfqMkItaQECTt5rfQVhA0TnnnHO+WUDB9ShcD2BXQHsUrkfhZldAITo3IGg3WEDsUbgehcdWQIXZW5i99VhAuMSp33NbW0D2Q00/1MRXQE93DBz/jVlAwm1kct1cV0Al7vYcF6NWQHeBuyjJHFtABxhwqV3mWUCFFtnO93lYQEhrtEZrBFlAHMD4zwEcV0CgjPFMtIxYQL3KoUW2o1dA/gbJEU2TWkC6HoXrUXBaQCq+4iu+cllApHA9CtcfWEApXI/C9VhWQA==\",\"dtype\":\"float64\",\"shape\":[41]},\"region_color\":[\"#fc8d59\",\"#fc8d59\",\"#d53e4f\",\"#3288bd\",\"#fee08b\",\"#e6f598\",\"#fc8d59\",\"#fc8d59\",\"#3288bd\",\"#ffffbf\",\"#fee08b\",\"#99d594\",\"#99d594\",\"#ffffbf\",\"#fc8d59\",\"#e6f598\",\"#99d594\",\"#ffffbf\",\"#ffffbf\",\"#fc8d59\",\"#fee08b\",\"#fc8d59\",\"#ffffbf\",\"#ffffbf\",\"#d53e4f\",\"#3288bd\",\"#e6f598\",\"#99d594\",\"#d53e4f\",\"#3288bd\",\"#e6f598\",\"#fc8d59\",\"#ffffbf\",\"#fc8d59\",\"#d53e4f\",\"#fee08b\",\"#fc8d59\",\"#3288bd\",\"#99d594\",\"#fc8d59\",\"#fee08b\"]},\"selected\":{\"id\":\"f8296af9-7a14-4efd-aafd-5b29202cca45\",\"type\":\"Selection\"},\"selection_policy\":{\"id\":\"d9d99f25-1e70-4eeb-b9b9-4a3a6b627749\",\"type\":\"UnionRenderers\"}},\"id\":\"37003067-f0e7-4514-bf5b-a8adccf6322a\",\"type\":\"ColumnDataSource\"},{\"attributes\":{\"fill_alpha\":{\"value\":0.8},\"fill_color\":{\"value\":\"#ffffbf\"},\"line_color\":{\"value\":null},\"size\":{\"units\":\"screen\",\"value\":10},\"x\":{\"value\":249.9},\"y\":{\"value\":27}},\"id\":\"18e00b5b-4e0c-4228-af86-8e68793756c6\",\"type\":\"Circle\"},{\"attributes\":{},\"id\":\"57821024-7de5-4f7d-82ec-6cb3ca6694c5\",\"type\":\"UnionRenderers\"},{\"attributes\":{\"callback\":null,\"data\":{},\"selected\":{\"id\":\"c6ecde3a-5d73-42f7-b65e-4eb68dc6c846\",\"type\":\"Selection\"},\"selection_policy\":{\"id\":\"e559640b-06d6-4cf1-b5fe-ce8b741d4b96\",\"type\":\"UnionRenderers\"}},\"id\":\"980a03fe-7fed-44bb-996e-36d06e1c5d33\",\"type\":\"ColumnDataSource\"},{\"attributes\":{\"callback\":null,\"data\":{},\"selected\":{\"id\":\"1bc4989b-034c-42c1-a4ab-ea87f176f73b\",\"type\":\"Selection\"},\"selection_policy\":{\"id\":\"4c1e227e-fb3c-4d46-864e-c25292a9237d\",\"type\":\"UnionRenderers\"}},\"id\":\"19dd40d6-33b8-45a5-b795-468638dac056\",\"type\":\"ColumnDataSource\"},{\"attributes\":{\"source\":{\"id\":\"980a03fe-7fed-44bb-996e-36d06e1c5d33\",\"type\":\"ColumnDataSource\"}},\"id\":\"14b47796-ef34-4e02-a827-a07a0a802d5f\",\"type\":\"CDSView\"},{\"attributes\":{\"children\":[{\"id\":\"a94fcab3-ff12-446d-af6b-8bc8b6f42e7b\",\"type\":\"Row\"},{\"id\":\"b2a99e8a-f040-442b-9856-da7174dc206e\",\"type\":\"Row\"}],\"sizing_mode\":\"scale_width\"},\"id\":\"f7084783-5d08-4d74-93b1-031f3f8ef27f\",\"type\":\"Column\"},{\"attributes\":{\"callback\":null,\"data\":{},\"selected\":{\"id\":\"a3a7d1ea-66cf-43d1-84b7-0d35e94294d3\",\"type\":\"Selection\"},\"selection_policy\":{\"id\":\"d7667bc5-cb51-4cba-9163-0cd035ed11a8\",\"type\":\"UnionRenderers\"}},\"id\":\"0b7a1973-e734-42e6-a82e-00431833b437\",\"type\":\"ColumnDataSource\"},{\"attributes\":{\"data_source\":{\"id\":\"04fc630e-9d66-48ab-a4bc-1d52a23046bc\",\"type\":\"ColumnDataSource\"},\"glyph\":{\"id\":\"c732dcbb-0a37-4176-a034-31bdc7cd50e7\",\"type\":\"Circle\"},\"hover_glyph\":null,\"muted_glyph\":null,\"view\":{\"id\":\"cbbece4e-3854-41e5-8360-1fef688d43b7\",\"type\":\"CDSView\"}},\"id\":\"6a933d84-b384-40a0-b977-43187b61906a\",\"type\":\"GlyphRenderer\"},{\"attributes\":{\"interval\":5},\"id\":\"991ba057-c7ca-4cd5-8551-a3d8c2167376\",\"type\":\"SingleIntervalTicker\"},{\"attributes\":{\"callback\":null,\"data\":{\"engine_size_ss_encoded\":{\"__ndarray__\":\"PDw8PDw8LkDJZ91ginwmQIziXMcozidAhaQzTqKsJkCrqqqqqqomQAAAAAAAACxAKf4iZ1hwK0C96U1velMoQGZmZmZmZjBATGgvob2ELECrqqqqqqoqQJqZmZmZmSZAd7M8iUzDJEAGfUFf0BcqQAAAAAAAECNAFBQUFBQUKEBddNFFF10rQFlT1pQ1ZSdABS+n4OUULEDNzMzMzMwiQM3MzMzMzCZAFSek5FlGKEBmZmZmZmYzQIfyGsprKDBA7+7u7u7uIUAAAAAAACArQI7jOI7j+CdA77333nvvJ0AffPDBBx8sQNFFF1100SdAVa47XmwJJkAiIiIiIiIkQAAAAAAAYDNAip3YiZ2YKEAs9zTCck8qQEmSJEmSJDFAiYiIiIiIKEBB5ewWfjUmQIJEK2wOJCpA27Zt27ZtL0AAAAAAAAA6QA==\",\"dtype\":\"float64\",\"shape\":[41]},\"index\":[\"AL\",\"AR\",\"AZ\",\"CA\",\"CO\",\"DE\",\"FL\",\"GA\",\"HI\",\"IA\",\"ID\",\"IL\",\"IN\",\"KS\",\"KY\",\"MD\",\"MI\",\"MN\",\"MO\",\"MS\",\"MT\",\"NC\",\"ND\",\"NE\",\"NM\",\"NV\",\"NY\",\"OH\",\"OK\",\"OR\",\"PA\",\"SC\",\"SD\",\"TN\",\"TX\",\"UT\",\"VA\",\"WA\",\"WI\",\"WV\",\"WY\"],\"miles_fs\":{\"__ndarray__\":\"KxRmHj1CIkAGrjgAPIQmQHSXpwXothlAZGtF0vt7HUC/TZdC2w8XQMP1KFyPwhNA8hWxkyjCGkDvvVGeSp4gQG1Zq2OChx5AjYcLGK0KIEBHKKO3ZS0SQHsUrkfhOhlA5GNJXNEUGkAlHWQ2drIhQKBwPQrXTR9AvVTuhyE7G0CZZsfP3AIeQO2GEXAx7hdAENAGMbfFGkBKDzDgUrsbQFYwKqkT0BRA/kNVXoIbIUAMAiuHFlkWQHCFhuC7BxRA1ofPsCvAGkAWBFYOLa4dQDwFNcvHqhZAmV122WVXGUBfsU58USsiQC1aLwlcuRNAsXk/XH7hHkBLnYAmwgYdQNEi2/l+wiJAjIBQ6Q8LIkCaX3nU2rAbQPb1plCF2SFAboQyelsWIUDYWaPgDZYTQKmUmjMJwxxAGEdnnTJ5EkD8qfHSTWKAPw==\",\"dtype\":\"float64\",\"shape\":[41]},\"price_fs\":{\"__ndarray__\":\"fn9/f38jcUB/pTKdaNJxQPonzwIZpG9A8fuibzMTb0B8+byXz/1wQFyPwvUolHRANweqlCpwcEBJnB8HEJxwQG2g0wY6sXBAT+QiDKD6cECzw9Tl9hdxQHCEMnpbYHBApgJfXP3AcEAdYgwEVbVxQJmZmZkJfnFAyzCX/WM2cED//////79xQNgDUJDW4W9Aqw+N9aHFcEC6IyfE+p5wQIXrUbge3W9A0S7bpOl1cEDm0CLb+YZyQEJre8Gbh3FA7e7u7u5WcEAK16Nw/WBuQCUB37yaaG9AEIoyoSglcUDQMyE9E6pwQEfzcDQPT3BASpUo7lPob0DPsCtA7pVwQHsUrkfhqnNA/sAP/ECacEAoyS0FLAJwQE30d7JaeXBA+35qvHSTcEBZtKyCG+hwQAEe0HPzgHFA27Zt27axcEDD9Shcj/54QA==\",\"dtype\":\"float64\",\"shape\":[41]},\"region_color\":[\"#fc8d59\",\"#fc8d59\",\"#d53e4f\",\"#3288bd\",\"#fee08b\",\"#e6f598\",\"#fc8d59\",\"#fc8d59\",\"#3288bd\",\"#ffffbf\",\"#fee08b\",\"#99d594\",\"#99d594\",\"#ffffbf\",\"#fc8d59\",\"#e6f598\",\"#99d594\",\"#ffffbf\",\"#ffffbf\",\"#fc8d59\",\"#fee08b\",\"#fc8d59\",\"#ffffbf\",\"#ffffbf\",\"#d53e4f\",\"#3288bd\",\"#e6f598\",\"#99d594\",\"#d53e4f\",\"#3288bd\",\"#e6f598\",\"#fc8d59\",\"#ffffbf\",\"#fc8d59\",\"#d53e4f\",\"#fee08b\",\"#fc8d59\",\"#3288bd\",\"#99d594\",\"#fc8d59\",\"#fee08b\"]},\"selected\":{\"id\":\"b77f7254-f182-49a1-a6fc-931e566f7594\",\"type\":\"Selection\"},\"selection_policy\":{\"id\":\"7094253d-9bac-4083-aa53-7c587a862116\",\"type\":\"UnionRenderers\"}},\"id\":\"479bd025-f705-40be-bb59-942756616901\",\"type\":\"ColumnDataSource\"},{\"attributes\":{\"fill_alpha\":{\"value\":0.8},\"fill_color\":{\"field\":\"region_color\"},\"line_alpha\":{\"value\":0.5},\"line_color\":{\"value\":\"#7c7e71\"},\"line_width\":{\"value\":0.5},\"size\":{\"field\":\"price_fs\",\"units\":\"screen\"},\"x\":{\"field\":\"miles_fs\"},\"y\":{\"field\":\"engine_size_ss_encoded\"}},\"id\":\"6b51ee41-e199-46bb-8cef-1a51b9843d5c\",\"type\":\"Circle\"},{\"attributes\":{\"text\":{\"value\":\"Plains Region\"},\"text_color\":{\"value\":\"#666666\"},\"text_font_size\":{\"value\":\"10pt\"},\"x\":{\"value\":250},\"y\":{\"value\":25}},\"id\":\"8ac6bf00-9817-4a61-86ae-91b0a4799dc3\",\"type\":\"Text\"},{\"attributes\":{\"fill_alpha\":{\"value\":0.8},\"fill_color\":{\"value\":\"#fee08b\"},\"line_color\":{\"value\":null},\"size\":{\"units\":\"screen\",\"value\":10},\"x\":{\"value\":249.9},\"y\":{\"value\":22}},\"id\":\"0a44dad7-846b-4003-bfe8-610a9ea29d47\",\"type\":\"Circle\"},{\"attributes\":{\"callback\":null,\"data\":{\"engine_size_ss_encoded\":{\"__ndarray__\":\"AAAAAADQNkAAAAAAAAA3QMTDw8PDAzZAhixkIQvZNECxOZBohc01QDMzMzMzMzRAsyzLsiyLNUD9Gfwmejo2QDMzMzMzMzVAMzMzMzMTN0AAAAAAAAA1QEjhehSuRzVA16NwPQrXNUC4HoXrUbg2QJIkSZIkiTdAycjIyMjINUAcx3Ecx3E1QL88tiJoODZAbtu2bdu2NkDEw8PDw8M2QAAAAAAAgDVA0b0I3YvQNUAAAAAAAAA2QDw8PDw8PDZARhdddNFFNkDNzMzMzMw1QPntUk/GbzVAozpNDjIvNkDT0tLS0pI2QNjX19fX1zVAGWOMMcaYNUDdYIp81g02QKuqqqqqajVAS5z6PbfENkDRRRdddBE2QCVqV6J2JTZA7FG4HoVrNUB00UUXXXQ2QG7btm3btjVAMzMzMzMzNEAAAAAAAAAuQA==\",\"dtype\":\"float64\",\"shape\":[41]},\"index\":[\"AL\",\"AR\",\"AZ\",\"CA\",\"CO\",\"DE\",\"FL\",\"GA\",\"HI\",\"IA\",\"ID\",\"IL\",\"IN\",\"KS\",\"KY\",\"MD\",\"MI\",\"MN\",\"MO\",\"MS\",\"MT\",\"NC\",\"ND\",\"NE\",\"NM\",\"NV\",\"NY\",\"OH\",\"OK\",\"OR\",\"PA\",\"SC\",\"SD\",\"TN\",\"TX\",\"UT\",\"VA\",\"WA\",\"WI\",\"WV\",\"WY\"],\"miles_fs\":{\"__ndarray__\":\"ThvotIF6YUAehetRuAVjQHU5L1i0yV5A/DkPr9aeXUBFtvP91GhfQDbNO07RZWBACygQxUbDXkB4a88Q349gQIJzRpT2blhAiNLe4AtaYUA6tMh2vnVgQErSNZNvlmBAenvqa3BRYUDSNZNvtsVgQC31rn4tgWFAesuDoicrXkDOrf2KImFfQLVR0pvZWWFAwFDEY8FDYEBUAUkqpT1jQIj029eBs2BAU5IxTnVaYUA3iUFg5RlaQJcHRU8mzmBARr4+sbggXkCcUIiAQ+BdQA6WCrNDL1tAeRLQmpMNYkC8s9w4yLxiQO5A+RedaF9AFKmLKlRQXUCwzbzduv5hQJNfLPnFfl5AlFz+Q/pJYUAjKb34OPxeQBdzAMugSWBAG+G04EUnXkAh95oLSZdgQK4d5SgyW2FAlWWIY120WkBg5dAi2y9UQA==\",\"dtype\":\"float64\",\"shape\":[41]},\"price_fs\":{\"__ndarray__\":\"c9pApw3wVUDP91PjpWdSQKyxsbGxSVRAD9vsFO+XVUDpNH9SfK5VQKrx0k1icFFAaW0JytMTVEAnK+pzEgFVQNZ46SYxmFdA7afGSzfpVUCzne+nxlNUQKO0N/jCZFNAt5A0peKcUkAh/fZ14MxVQHHuswuIiVNAVLshiO6kVEDl9gcZKstUQMxbZejXbFNAPUW6ChLvVkA2aJvOAUVUQEa28/3U+FRAM2uGGc0+VEAehetRuNRTQOq4hVIfzFRApFVMWsVkWECmvcEXJiNWQMVDdvSvFFVApevrbLDcUUAoX5LF+KdTQKl6RxTh/VZAqLeMestMVEA7dAwvzlNUQLWBThvopFVAQsGJ7k0rVEBMdbZUZzZUQNuNyN2IHFJAQa1p3nEaU0BVH3P1MedWQAuBqkG0HVNAhutRuB4VVUDhehSuR7lOQA==\",\"dtype\":\"float64\",\"shape\":[41]},\"region_color\":[\"#fc8d59\",\"#fc8d59\",\"#d53e4f\",\"#3288bd\",\"#fee08b\",\"#e6f598\",\"#fc8d59\",\"#fc8d59\",\"#3288bd\",\"#ffffbf\",\"#fee08b\",\"#99d594\",\"#99d594\",\"#ffffbf\",\"#fc8d59\",\"#e6f598\",\"#99d594\",\"#ffffbf\",\"#ffffbf\",\"#fc8d59\",\"#fee08b\",\"#fc8d59\",\"#ffffbf\",\"#ffffbf\",\"#d53e4f\",\"#3288bd\",\"#e6f598\",\"#99d594\",\"#d53e4f\",\"#3288bd\",\"#e6f598\",\"#fc8d59\",\"#ffffbf\",\"#fc8d59\",\"#d53e4f\",\"#fee08b\",\"#fc8d59\",\"#3288bd\",\"#99d594\",\"#fc8d59\",\"#fee08b\"]},\"selected\":{\"id\":\"fdeff2d0-90ab-4562-b01a-79c9375b3de8\",\"type\":\"Selection\"},\"selection_policy\":{\"id\":\"0a4cb09e-e7c7-4538-82cb-8c29de2a116d\",\"type\":\"UnionRenderers\"}},\"id\":\"578fec81-a450-4b03-83d7-1fbca12d50c2\",\"type\":\"ColumnDataSource\"},{\"attributes\":{\"source\":{\"id\":\"04fc630e-9d66-48ab-a4bc-1d52a23046bc\",\"type\":\"ColumnDataSource\"}},\"id\":\"cbbece4e-3854-41e5-8360-1fef688d43b7\",\"type\":\"CDSView\"},{\"attributes\":{\"data_source\":{\"id\":\"a6dfa728-827e-4349-813e-2e79adcad7f2\",\"type\":\"ColumnDataSource\"},\"glyph\":{\"id\":\"6b51ee41-e199-46bb-8cef-1a51b9843d5c\",\"type\":\"Circle\"},\"hover_glyph\":null,\"muted_glyph\":null,\"view\":{\"id\":\"fa844226-43f0-4b60-9668-c3dc0ab4f8c0\",\"type\":\"CDSView\"}},\"id\":\"5b7250ea-826c-4197-bb70-cc7959d5ab6a\",\"type\":\"GlyphRenderer\"},{\"attributes\":{\"interval\":30},\"id\":\"4aafda9a-19cb-4c82-ad13-727e67056bf1\",\"type\":\"SingleIntervalTicker\"},{\"attributes\":{},\"id\":\"db25eed1-476f-4785-849a-74ae381799e5\",\"type\":\"UnionRenderers\"},{\"attributes\":{},\"id\":\"c6ecde3a-5d73-42f7-b65e-4eb68dc6c846\",\"type\":\"Selection\"},{\"attributes\":{},\"id\":\"d5072e35-422a-4b4e-8bea-b77bfcc65ff6\",\"type\":\"UnionRenderers\"},{\"attributes\":{\"axis_label\":\"Engine Size\",\"axis_label_text_font_size\":{\"value\":\"10pt\"},\"axis_line_cap\":\"round\",\"axis_line_color\":{\"value\":\"#AAAAAA\"},\"formatter\":{\"id\":\"c9058639-15e9-47de-b41c-7514fa87bd20\",\"type\":\"BasicTickFormatter\"},\"major_label_text_color\":{\"value\":\"#666666\"},\"major_label_text_font_size\":{\"value\":\"10pt\"},\"major_tick_in\":null,\"major_tick_line_cap\":\"round\",\"major_tick_line_color\":{\"value\":\"#AAAAAA\"},\"minor_tick_in\":null,\"minor_tick_out\":null,\"plot\":{\"id\":\"b64bb497-abdf-4eef-b3a7-036c16e3af7b\",\"type\":\"Plot\"},\"ticker\":{\"id\":\"991ba057-c7ca-4cd5-8551-a3d8c2167376\",\"type\":\"SingleIntervalTicker\"}},\"id\":\"5450d399-0403-4947-be19-4028c139ac7e\",\"type\":\"LinearAxis\"},{\"attributes\":{\"fill_alpha\":{\"value\":0.8},\"fill_color\":{\"value\":\"#e6f598\"},\"line_color\":{\"value\":null},\"size\":{\"units\":\"screen\",\"value\":10},\"x\":{\"value\":249.9},\"y\":{\"value\":32}},\"id\":\"c732dcbb-0a37-4176-a034-31bdc7cd50e7\",\"type\":\"Circle\"},{\"attributes\":{},\"id\":\"e4db4ff0-8a66-4a7e-a91a-20e7555e309d\",\"type\":\"UnionRenderers\"},{\"attributes\":{\"children\":[{\"id\":\"b64bb497-abdf-4eef-b3a7-036c16e3af7b\",\"type\":\"Plot\"}],\"sizing_mode\":\"scale_width\"},\"id\":\"a94fcab3-ff12-446d-af6b-8bc8b6f42e7b\",\"type\":\"Row\"},{\"attributes\":{\"callback\":null,\"data\":{},\"selected\":{\"id\":\"241f2404-7d4c-4494-a6aa-bd6463d65d62\",\"type\":\"Selection\"},\"selection_policy\":{\"id\":\"57821024-7de5-4f7d-82ec-6cb3ca6694c5\",\"type\":\"UnionRenderers\"}},\"id\":\"04fc630e-9d66-48ab-a4bc-1d52a23046bc\",\"type\":\"ColumnDataSource\"},{\"attributes\":{\"callback\":null,\"data\":{\"engine_size_ss_encoded\":{\"__ndarray__\":\"7MRO7MRONUBeLW7C/K41QAE1u15kbTRANvbhOS1ENEATseWh4Eo1QL2G8hrKazRAB2Bw3YpdNUD33Um8qDo1QK5jFOc6RjRAPDw8PDw8NUCxEzuxEzs2QH8B/QX0FzVAOKcOVyP/NECx5BdLfrE0QFhggQUW2DVAPqfM/d4QNUA3+kMhuQA1QDvLJf1bKTVAAvVM5brjNECD8zE4H4M1QFo3mCKfdTVAHLmRG7kBNUBmZmZmZgY2QDTRRBNNNDZAEtxHcB/BNEApznWM4lw0QAq1gDGJwzRAY8kvlvziNEBAYgF3+iM1QInalahdSTRA6m7V1NfINEAW8QmkkvM0QNFeQnsJ7TRAKlOmTJkyNUCysM4HY2E1QDbqOxv1XTVAnUxfJYxNNUBVVVVVVVU1QOoFV7eJMzVAm7KmrClrNkAcx3Ecx3E1QA==\",\"dtype\":\"float64\",\"shape\":[41]},\"index\":[\"AL\",\"AR\",\"AZ\",\"CA\",\"CO\",\"DE\",\"FL\",\"GA\",\"HI\",\"IA\",\"ID\",\"IL\",\"IN\",\"KS\",\"KY\",\"MD\",\"MI\",\"MN\",\"MO\",\"MS\",\"MT\",\"NC\",\"ND\",\"NE\",\"NM\",\"NV\",\"NY\",\"OH\",\"OK\",\"OR\",\"PA\",\"SC\",\"SD\",\"TN\",\"TX\",\"UT\",\"VA\",\"WA\",\"WI\",\"WV\",\"WY\"],\"miles_fs\":{\"__ndarray__\":\"ixQLp5nARUAPV9b83W9JQE/xA63Bc0VA1kwwt5SrRED6ki1y7yRDQJ/SstMMr0BA8w0dc2dcREBUXbvhNuJEQKQU4ZErXEBAFoKFIlmZRkCuR+F6FE5GQIEJGn6hnERAJ0htODViRUCbIxj0y91GQFdrrbXW8kZA/9d4NxuSQkBrZ647ApNDQFLbwtksHkRALlcKn6KXRUBmwGTTGDNIQPnazNutG0VAXLiJ8SYpRUDPItv5fhZDQGBS6/KBC0ZAU4h2KYZyREBnvHSTGOREQBTWGI2KB0NA6PJk+uSOQ0BNd04QQz5IQKf9og1jPUNAqaGsGWkRQkAetgs5gYdEQLWX0F5Ci0NAiOnK6bZjRUARccyruWVHQB9vTijROENANRgpB42WREAjlNHbsl1EQIvw2cTUQ0RAVg9Ca8zUSUDkXnMhaSpEQA==\",\"dtype\":\"float64\",\"shape\":[41]},\"price_fs\":{\"__ndarray__\":\"c2eq2c26ZkBicEsWTENnQLDxNrqgz2VAOezLpnKrZUAPzNZR8jFnQJuu9M6AO2VAyWPODMntZkDv6smBXfhlQDXJtM2SzGdAQH/DB0zgZkBkJ3ZiJ7RoQMpanH8fNmdAL5Q20UwEZ0BLxdmHz0hmQKSUUkop/WZAULjh591hZkBSxM66S49mQNlOnTvKamZAmqbsm2oNZ0Bx/bTWT7NmQHgmuf+0mmhAdWtGKQomZkBkZmZmZoRoQFWgEAUKaWhAzeEnArTGZkDboVYkt9tlQPHo0jBFHWZA93ZWY98DZkAWgaQkyuxlQLJOxepUkmZAF6KDtVVKZkDjrSUr0uplQI8EfPNqbmdAiNaibjmCZkDUu+uWrlZmQFA7kCYJWGVAZCHhvMFYZkD6iyW/WCtoQEZlbd3YMWdAZWH9yHxUaEAOU5fbH2xpQA==\",\"dtype\":\"float64\",\"shape\":[41]},\"region_color\":[\"#fc8d59\",\"#fc8d59\",\"#d53e4f\",\"#3288bd\",\"#fee08b\",\"#e6f598\",\"#fc8d59\",\"#fc8d59\",\"#3288bd\",\"#ffffbf\",\"#fee08b\",\"#99d594\",\"#99d594\",\"#ffffbf\",\"#fc8d59\",\"#e6f598\",\"#99d594\",\"#ffffbf\",\"#ffffbf\",\"#fc8d59\",\"#fee08b\",\"#fc8d59\",\"#ffffbf\",\"#ffffbf\",\"#d53e4f\",\"#3288bd\",\"#e6f598\",\"#99d594\",\"#d53e4f\",\"#3288bd\",\"#e6f598\",\"#fc8d59\",\"#ffffbf\",\"#fc8d59\",\"#d53e4f\",\"#fee08b\",\"#fc8d59\",\"#3288bd\",\"#99d594\",\"#fc8d59\",\"#fee08b\"]},\"selected\":{\"id\":\"a20091ea-a753-4e98-82ad-682c3045550e\",\"type\":\"Selection\"},\"selection_policy\":{\"id\":\"21b0a677-b64f-4c1b-be2c-acfbdbc50045\",\"type\":\"UnionRenderers\"}},\"id\":\"c967c845-389b-43bc-a2bc-3a8f5df3083d\",\"type\":\"ColumnDataSource\"},{\"attributes\":{\"source\":{\"id\":\"b6204c95-878f-43ce-9c3c-b3161ec00bdb\",\"type\":\"ColumnDataSource\"}},\"id\":\"8921486b-196a-481c-b360-7fdeca9f3bc6\",\"type\":\"CDSView\"},{\"attributes\":{\"callback\":null,\"data\":{\"engine_size_ss_encoded\":{\"__ndarray__\":\"7IMhB5qYNkCOefpoNQk3QLzIrFAb9zVAQ4UKFSqUNUAAAAAAAC02QC+66KKLrjVAezykDyZlNkBEY31orF82QLdt27ZtezZAwQILLLDANkBYObTIdr42QMGBAwcOHDZAWbrl2L+CNkDEoZP2QTI2QDBFPusG0zZA3/It3/KNNkDQFivDN6I2QNPS0tLSkjZAZHUZ9kp/NkDHcRzHcQw3QKuqqqqq6jVAjv/ADaFVNkCSJEmSJIk3QAbnY3A+BjdA/GpMpAcqNkCw8Wj+YOM1QMVPzKKwVjZAnGt49KlcNkAmtJfQXiI2QFVVVVVVoTVAJ0BoSdd9NkA6pn8ymGM2QERERERERDdAhpu2w6AoNkDzoUMAh3k2QKJva4AXJDdAJTIN283yNkCHOcxhDvM1QOYUvJyCFzZAjd8u9WT8NUByHMdxHMc2QA==\",\"dtype\":\"float64\",\"shape\":[41]},\"index\":[\"AL\",\"AR\",\"AZ\",\"CA\",\"CO\",\"DE\",\"FL\",\"GA\",\"HI\",\"IA\",\"ID\",\"IL\",\"IN\",\"KS\",\"KY\",\"MD\",\"MI\",\"MN\",\"MO\",\"MS\",\"MT\",\"NC\",\"ND\",\"NE\",\"NM\",\"NV\",\"NY\",\"OH\",\"OK\",\"OR\",\"PA\",\"SC\",\"SD\",\"TN\",\"TX\",\"UT\",\"VA\",\"WA\",\"WI\",\"WV\",\"WY\"],\"miles_fs\":{\"__ndarray__\":\"Mz7E4EhbQ0AHoXLkcWJEQMkAfNmM1EBAJZozroTYQUDxfD81Xso/QJHtfD81jkNAICZPNcLWPkABUN79nn5CQPh6U6jCIDpAJCFHEnJkQUA9EFmkiUdBQBeLiTTSrkBATYLS3GrfQUDRLJcA15hCQG6Ki7dMJkRAmJ016VX6QUCzVyEZHilDQF8cEjuXKkFAgZpJ90EKQkC7thnjEtBDQB2n6Egut0BAjtOz+KfcQUAaR2edMulBQAmoLBpkLEFAv28IdDTkQEBb1/YPrcdAQGIQWDm0GEFAWRa/AMnRQUCpmkew1BBDQFsdEzwYdD9Ax1vIeFcpQEDjQURTSGZCQISuV2s7wEFAeekmMQjcQUD1lWdJcTNCQIKL5+FJeT1AsDt5uoArQkDjMmzavP08QOVb7fWU6EBAvk4CEH9hQUDNWh0TPGBEQA==\",\"dtype\":\"float64\",\"shape\":[41]},\"price_fs\":{\"__ndarray__\":\"fRUSGrJUbEDSZ+WSsgBuQD1OO0bcUWtATOyhc336akC4HoXrke9rQKqzpTpbgmpA7cRTnrFqbECrZ5BlSvBrQAJiU2nIwGxAQr8b9LtRbkBD48KBkDxuQFGynqr1Rm1AXGVk3NKUbUCM5N5s8RdtQKOncVAotWxADVoH3Cbma0AZUzwRTl5sQBO5UuyFd2xAu2aIiaXabUDeYepyexptQOvfCGX0Sm1AkdOr3kU3bECAif5OVhBvQFn6a6W/Jm9AMe3QGx6RbUChwfxKDd9qQOr0EdVg/GtAJbQo7r7Ua0CuG93zX/1qQPz///9fNG1AbTQa1s3SbECUV2OPldlsQMaiSOSoAW9Ada6AtuIVbEB/HF113gVsQO8BlixQ5GtAT661vyj6a0CbJGIbsoBtQJZOSHZ6pGxA3loW637AbUDJL5b8YoltQA==\",\"dtype\":\"float64\",\"shape\":[41]},\"region_color\":[\"#fc8d59\",\"#fc8d59\",\"#d53e4f\",\"#3288bd\",\"#fee08b\",\"#e6f598\",\"#fc8d59\",\"#fc8d59\",\"#3288bd\",\"#ffffbf\",\"#fee08b\",\"#99d594\",\"#99d594\",\"#ffffbf\",\"#fc8d59\",\"#e6f598\",\"#99d594\",\"#ffffbf\",\"#ffffbf\",\"#fc8d59\",\"#fee08b\",\"#fc8d59\",\"#ffffbf\",\"#ffffbf\",\"#d53e4f\",\"#3288bd\",\"#e6f598\",\"#99d594\",\"#d53e4f\",\"#3288bd\",\"#e6f598\",\"#fc8d59\",\"#ffffbf\",\"#fc8d59\",\"#d53e4f\",\"#fee08b\",\"#fc8d59\",\"#3288bd\",\"#99d594\",\"#fc8d59\",\"#fee08b\"]},\"selected\":{\"id\":\"6189d8d4-c343-4ff6-895d-28880fe2a0b9\",\"type\":\"Selection\"},\"selection_policy\":{\"id\":\"b61f0208-e342-4d9f-ae33-ad24df00496e\",\"type\":\"UnionRenderers\"}},\"id\":\"ed8ba7a3-c719-4886-af41-10d340411577\",\"type\":\"ColumnDataSource\"},{\"attributes\":{},\"id\":\"d7667bc5-cb51-4cba-9163-0cd035ed11a8\",\"type\":\"UnionRenderers\"},{\"attributes\":{},\"id\":\"c5be7c0c-a29d-4dae-a883-ba15467d9cfd\",\"type\":\"Selection\"},{\"attributes\":{\"data_source\":{\"id\":\"a448a963-6436-4aa3-add7-d46850c913b0\",\"type\":\"ColumnDataSource\"},\"glyph\":{\"id\":\"18e00b5b-4e0c-4228-af86-8e68793756c6\",\"type\":\"Circle\"},\"hover_glyph\":null,\"muted_glyph\":null,\"view\":{\"id\":\"370515b1-19c5-49fe-984a-eadc176c623a\",\"type\":\"CDSView\"}},\"id\":\"b2c7d9f1-5f6e-43dd-a6a9-2a08eac39f0f\",\"type\":\"GlyphRenderer\"},{\"attributes\":{\"callback\":null,\"data\":{},\"selected\":{\"id\":\"0568263b-7308-4bdb-8266-8f470feb9974\",\"type\":\"Selection\"},\"selection_policy\":{\"id\":\"d8e22eb8-76e8-46a2-bacb-b7aa38b4417e\",\"type\":\"UnionRenderers\"}},\"id\":\"60f5a7b7-ac1d-49ff-bce2-3d695eade535\",\"type\":\"ColumnDataSource\"},{\"attributes\":{\"data_source\":{\"id\":\"cc4a3614-21f7-4763-9858-1e96c1546ba4\",\"type\":\"ColumnDataSource\"},\"glyph\":{\"id\":\"1301560b-2efb-4865-9ba4-65c27f5bc08a\",\"type\":\"Text\"},\"hover_glyph\":null,\"muted_glyph\":null,\"view\":{\"id\":\"9afb8ec1-aa8e-40a3-a99c-b8b7e60f5243\",\"type\":\"CDSView\"}},\"id\":\"e1ac78a4-fe29-4f91-b72e-ce639a015aa5\",\"type\":\"GlyphRenderer\"},{\"attributes\":{},\"id\":\"d8e22eb8-76e8-46a2-bacb-b7aa38b4417e\",\"type\":\"UnionRenderers\"},{\"attributes\":{},\"id\":\"6395e31e-650a-4aeb-88a2-0ebfcc052465\",\"type\":\"Selection\"},{\"attributes\":{},\"id\":\"18f9fd86-8f97-4caa-88fb-69d80b742b05\",\"type\":\"Selection\"},{\"attributes\":{},\"id\":\"e5966efb-9126-49d5-9696-83ee739f8ee1\",\"type\":\"Selection\"},{\"attributes\":{},\"id\":\"efafbdd4-7c7d-4935-8809-63c0c5bc7707\",\"type\":\"UnionRenderers\"},{\"attributes\":{},\"id\":\"8223342f-e2d2-43ae-9d69-5d9c336dffba\",\"type\":\"Selection\"},{\"attributes\":{\"active_drag\":\"auto\",\"active_inspect\":\"auto\",\"active_multi\":null,\"active_scroll\":\"auto\",\"active_tap\":\"auto\",\"tools\":[{\"id\":\"044a03cc-a19b-4035-bc9a-80698eb702a0\",\"type\":\"HoverTool\"}]},\"id\":\"cebb65cf-70e8-4553-b918-02d375c8b145\",\"type\":\"Toolbar\"},{\"attributes\":{},\"id\":\"13e2e778-881c-46ea-87bf-8d2320cca794\",\"type\":\"Selection\"},{\"attributes\":{\"fill_alpha\":{\"value\":0.8},\"fill_color\":{\"value\":\"#d53e4f\"},\"line_color\":{\"value\":null},\"size\":{\"units\":\"screen\",\"value\":10},\"x\":{\"value\":249.9},\"y\":{\"value\":12}},\"id\":\"2753a413-c094-4ed0-ae81-00c55f51460e\",\"type\":\"Circle\"},{\"attributes\":{},\"id\":\"b77f7254-f182-49a1-a6fc-931e566f7594\",\"type\":\"Selection\"},{\"attributes\":{},\"id\":\"8a12cbce-9818-4273-82c9-7fe7a556ba41\",\"type\":\"Selection\"},{\"attributes\":{\"fill_alpha\":{\"value\":0.8},\"fill_color\":{\"value\":\"#3288bd\"},\"line_color\":{\"value\":null},\"size\":{\"units\":\"screen\",\"value\":10},\"x\":{\"value\":249.9},\"y\":{\"value\":42}},\"id\":\"9250c5af-d26c-47a9-ab6b-3a09b9fbb01b\",\"type\":\"Circle\"},{\"attributes\":{},\"id\":\"96db602e-482f-47d7-81c0-54d3adf32f8b\",\"type\":\"Selection\"},{\"attributes\":{\"source\":{\"id\":\"60f5a7b7-ac1d-49ff-bce2-3d695eade535\",\"type\":\"ColumnDataSource\"}},\"id\":\"8cb9f328-06b6-4df1-a0c7-df61983b69b8\",\"type\":\"CDSView\"},{\"attributes\":{},\"id\":\"be2a566f-a71a-4b88-89e5-7856c5339dd4\",\"type\":\"UnionRenderers\"},{\"attributes\":{},\"id\":\"b35c8026-c3db-4dea-b7a5-f88980ec6942\",\"type\":\"Selection\"},{\"attributes\":{\"callback\":null,\"data\":{},\"selected\":{\"id\":\"bd295d95-932a-44c4-b364-ddfca99a364d\",\"type\":\"Selection\"},\"selection_policy\":{\"id\":\"be2a566f-a71a-4b88-89e5-7856c5339dd4\",\"type\":\"UnionRenderers\"}},\"id\":\"198ac148-bb19-4982-b76a-dbe0c8f5ebff\",\"type\":\"ColumnDataSource\"},{\"attributes\":{},\"id\":\"2945c1d7-837b-4056-b6e3-51d5c48b7330\",\"type\":\"UnionRenderers\"},{\"attributes\":{\"callback\":null,\"data\":{\"engine_size_ss_encoded\":{\"__ndarray__\":\"5DiO4ziONUAAAAAAAIA4QAAAAAAAADVAq6qqqqqqNEBVVVVVVVUyQAAAAAAA4DJA2FBeQ3kNM0AAAAAAAAAyQAAAAAAAADBAMzMzMzMzNUCSJEmSJEk0QAAAAAAAgDdAAAAAAAAANkAAAAAAAAA3QAAAAAAAAC5AAAAAAADANECamZmZmZk1QAAAAAAAAC5AHMdxHMfxM0AAAAAAAAA3QAAAAAAAAC5AAAAAAAAAOEAAAAAAAAA6QDuxEzuxEzZAAAAAAAAAM0DkOI7jOI4yQKuqqqqqKjJAZmZmZmZmNkByHMdxHMctQG7btm3btjNAq6qqqqoqNUCMLrrooos0QDMzMzMzszNAAAAAAACAOEA=\",\"dtype\":\"float64\",\"shape\":[34]},\"index\":[\"AL\",\"AR\",\"AZ\",\"CA\",\"CO\",\"FL\",\"GA\",\"HI\",\"IA\",\"IL\",\"IN\",\"KS\",\"KY\",\"MD\",\"MI\",\"MN\",\"MO\",\"MT\",\"NC\",\"NE\",\"NM\",\"NV\",\"NY\",\"OH\",\"OK\",\"OR\",\"PA\",\"SC\",\"TN\",\"TX\",\"UT\",\"VA\",\"WA\",\"WI\"],\"miles_fs\":{\"__ndarray__\":\"plScffgEZ0DIdr6fGvVpQPT91HjpBl9AvuZC0pRgYkDp3whl9IBlQF+6SQyCSmJAW2sE8ZxIYkCIFtnO92FWQPup8dJNgmdAZvfkYaF6ZkBZZDvfT51nQLpJDAIrR2xAcT0K16POZ0AAAAAAACBsQMuhRbbzyWJAsHJoke0HZkB1JJf/kPJjQJhuEoPApmZAhTccNH8JY0Ce76fGSxtpQOxRuB6Fc19AAAAAAAAAYkBmZmZmZtZRQFY8aQSESmhAXnZPHhbdZECoM1kYcRdjQLu7u7u7oWNAQFdbsb/UbUDLwogbe9NjQFK4HoXrlWdAF9nO91P/aUC/RvxrxANiQGLuWkI+DmJAqMZLN4kfbUA=\",\"dtype\":\"float64\",\"shape\":[34]},\"price_fs\":{\"__ndarray__\":\"i0YCvnmVQ0CamZmZmfk8QMlQ2WHqglRA5xdLfrGkTEBLfrHkF/tOQJuZmZmZ/UhAnlQZw6LWTECuR+F6FI5KQOm0gU4bqEBAZTvfT403Q0CbSkPOfTZCQAAAAAAA4ENANDMzMzMzPUBxPQrXo/A1QAAAAAAAAERA16NwPQoLQkCNl24Sg2BMQDMzMzMz8zNAPCsaCfh2RUAAAAAAAAA4QB+F61G4/kNAPQrXo3D9PUCPwvUoXD9QQDUZYM6yuT1A8KfGSzcJS0Bcj8L1KLxNQIwlv1jyy0pAtvP91HgpP0Bz+4MMlf1FQBpy7rMLaEFAbaDTBjqNOUDl814+7+VAQMHKoUW2c0JApHA9CtdzQ0A=\",\"dtype\":\"float64\",\"shape\":[34]},\"region_color\":[\"#fc8d59\",\"#fc8d59\",\"#d53e4f\",\"#3288bd\",\"#fee08b\",\"#fc8d59\",\"#fc8d59\",\"#3288bd\",\"#ffffbf\",\"#99d594\",\"#99d594\",\"#ffffbf\",\"#fc8d59\",\"#e6f598\",\"#99d594\",\"#ffffbf\",\"#ffffbf\",\"#fee08b\",\"#fc8d59\",\"#ffffbf\",\"#d53e4f\",\"#3288bd\",\"#e6f598\",\"#99d594\",\"#d53e4f\",\"#3288bd\",\"#e6f598\",\"#fc8d59\",\"#fc8d59\",\"#d53e4f\",\"#fee08b\",\"#fc8d59\",\"#3288bd\",\"#99d594\"]},\"selected\":{\"id\":\"815c593b-1a9d-4851-926b-c34726167e30\",\"type\":\"Selection\"},\"selection_policy\":{\"id\":\"e4db4ff0-8a66-4a7e-a91a-20e7555e309d\",\"type\":\"UnionRenderers\"}},\"id\":\"a6dfa728-827e-4349-813e-2e79adcad7f2\",\"type\":\"ColumnDataSource\"},{\"attributes\":{\"callback\":null,\"data\":{\"engine_size_ss_encoded\":{\"__ndarray__\":\"5DiO4ziONUAAAAAAAIA4QAAAAAAAADVAq6qqqqqqNEBVVVVVVVUyQAAAAAAA4DJA2FBeQ3kNM0AAAAAAAAAyQAAAAAAAADBAMzMzMzMzNUCSJEmSJEk0QAAAAAAAgDdAAAAAAAAANkAAAAAAAAA3QAAAAAAAAC5AAAAAAADANECamZmZmZk1QAAAAAAAAC5AHMdxHMfxM0AAAAAAAAA3QAAAAAAAAC5AAAAAAAAAOEAAAAAAAAA6QDuxEzuxEzZAAAAAAAAAM0DkOI7jOI4yQKuqqqqqKjJAZmZmZmZmNkByHMdxHMctQG7btm3btjNAq6qqqqoqNUCMLrrooos0QDMzMzMzszNAAAAAAACAOEA=\",\"dtype\":\"float64\",\"shape\":[34]},\"index\":[\"AL\",\"AR\",\"AZ\",\"CA\",\"CO\",\"FL\",\"GA\",\"HI\",\"IA\",\"IL\",\"IN\",\"KS\",\"KY\",\"MD\",\"MI\",\"MN\",\"MO\",\"MT\",\"NC\",\"NE\",\"NM\",\"NV\",\"NY\",\"OH\",\"OK\",\"OR\",\"PA\",\"SC\",\"TN\",\"TX\",\"UT\",\"VA\",\"WA\",\"WI\"],\"miles_fs\":{\"__ndarray__\":\"plScffgEZ0DIdr6fGvVpQPT91HjpBl9AvuZC0pRgYkDp3whl9IBlQF+6SQyCSmJAW2sE8ZxIYkCIFtnO92FWQPup8dJNgmdAZvfkYaF6ZkBZZDvfT51nQLpJDAIrR2xAcT0K16POZ0AAAAAAACBsQMuhRbbzyWJAsHJoke0HZkB1JJf/kPJjQJhuEoPApmZAhTccNH8JY0Ce76fGSxtpQOxRuB6Fc19AAAAAAAAAYkBmZmZmZtZRQFY8aQSESmhAXnZPHhbdZECoM1kYcRdjQLu7u7u7oWNAQFdbsb/UbUDLwogbe9NjQFK4HoXrlWdAF9nO91P/aUC/RvxrxANiQGLuWkI+DmJAqMZLN4kfbUA=\",\"dtype\":\"float64\",\"shape\":[34]},\"price_fs\":{\"__ndarray__\":\"i0YCvnmVQ0CamZmZmfk8QMlQ2WHqglRA5xdLfrGkTEBLfrHkF/tOQJuZmZmZ/UhAnlQZw6LWTECuR+F6FI5KQOm0gU4bqEBAZTvfT403Q0CbSkPOfTZCQAAAAAAA4ENANDMzMzMzPUBxPQrXo/A1QAAAAAAAAERA16NwPQoLQkCNl24Sg2BMQDMzMzMz8zNAPCsaCfh2RUAAAAAAAAA4QB+F61G4/kNAPQrXo3D9PUCPwvUoXD9QQDUZYM6yuT1A8KfGSzcJS0Bcj8L1KLxNQIwlv1jyy0pAtvP91HgpP0Bz+4MMlf1FQBpy7rMLaEFAbaDTBjqNOUDl814+7+VAQMHKoUW2c0JApHA9CtdzQ0A=\",\"dtype\":\"float64\",\"shape\":[34]},\"region_color\":[\"#fc8d59\",\"#fc8d59\",\"#d53e4f\",\"#3288bd\",\"#fee08b\",\"#fc8d59\",\"#fc8d59\",\"#3288bd\",\"#ffffbf\",\"#99d594\",\"#99d594\",\"#ffffbf\",\"#fc8d59\",\"#e6f598\",\"#99d594\",\"#ffffbf\",\"#ffffbf\",\"#fee08b\",\"#fc8d59\",\"#ffffbf\",\"#d53e4f\",\"#3288bd\",\"#e6f598\",\"#99d594\",\"#d53e4f\",\"#3288bd\",\"#e6f598\",\"#fc8d59\",\"#fc8d59\",\"#d53e4f\",\"#fee08b\",\"#fc8d59\",\"#3288bd\",\"#99d594\"]},\"selected\":{\"id\":\"c5be7c0c-a29d-4dae-a883-ba15467d9cfd\",\"type\":\"Selection\"},\"selection_policy\":{\"id\":\"d5072e35-422a-4b4e-8bea-b77bfcc65ff6\",\"type\":\"UnionRenderers\"}},\"id\":\"4310b64f-6f55-476e-9883-edd2091548e3\",\"type\":\"ColumnDataSource\"},{\"attributes\":{},\"id\":\"e83def2b-7bab-497e-ad4f-4217752dc17f\",\"type\":\"UnionRenderers\"},{\"attributes\":{\"data_source\":{\"id\":\"eec0c1a6-b0dc-4681-8b2d-75fb07bfe52e\",\"type\":\"ColumnDataSource\"},\"glyph\":{\"id\":\"207e6398-3121-4802-869f-bbf50ecae9f1\",\"type\":\"Text\"},\"hover_glyph\":null,\"muted_glyph\":null,\"view\":{\"id\":\"0f27505f-814b-44bc-b495-82dfc03726c6\",\"type\":\"CDSView\"}},\"id\":\"f632b181-3a4f-45e1-a315-2cda8a1c0c92\",\"type\":\"GlyphRenderer\"},{\"attributes\":{},\"id\":\"dcf649a9-9aba-4808-bd60-c5d9008c8cdd\",\"type\":\"UnionRenderers\"},{\"attributes\":{\"text\":{\"value\":\"Southwest Region\"},\"text_color\":{\"value\":\"#666666\"},\"text_font_size\":{\"value\":\"10pt\"},\"x\":{\"value\":250},\"y\":{\"value\":10}},\"id\":\"207e6398-3121-4802-869f-bbf50ecae9f1\",\"type\":\"Text\"},{\"attributes\":{\"source\":{\"id\":\"eec0c1a6-b0dc-4681-8b2d-75fb07bfe52e\",\"type\":\"ColumnDataSource\"}},\"id\":\"0f27505f-814b-44bc-b495-82dfc03726c6\",\"type\":\"CDSView\"},{\"attributes\":{},\"id\":\"bb8f6a79-e8cd-4e0b-af46-929b69988eae\",\"type\":\"Selection\"},{\"attributes\":{},\"id\":\"ce50f49d-59da-431b-b05c-2bed2e9b13cc\",\"type\":\"Selection\"},{\"attributes\":{\"callback\":{\"id\":\"12c71eed-d86b-47a6-838d-11a5104a63f6\",\"type\":\"CustomJS\"},\"end\":2018,\"sizing_mode\":\"scale_width\",\"start\":2000,\"title\":\"Year\",\"value\":1},\"id\":\"ccd3dd66-477d-466e-bd2a-f1e0c990f40d\",\"type\":\"Slider\"},{\"attributes\":{\"text\":{\"value\":\"Mideast Region\"},\"text_color\":{\"value\":\"#666666\"},\"text_font_size\":{\"value\":\"10pt\"},\"x\":{\"value\":250},\"y\":{\"value\":30}},\"id\":\"85d200a4-91c5-4838-b2de-05db7f334a48\",\"type\":\"Text\"},{\"attributes\":{},\"id\":\"7094253d-9bac-4083-aa53-7c587a862116\",\"type\":\"UnionRenderers\"},{\"attributes\":{\"callback\":null,\"data\":{},\"selected\":{\"id\":\"bb8f6a79-e8cd-4e0b-af46-929b69988eae\",\"type\":\"Selection\"},\"selection_policy\":{\"id\":\"db25eed1-476f-4785-849a-74ae381799e5\",\"type\":\"UnionRenderers\"}},\"id\":\"d2bce801-7cb7-4ff2-b354-529aa58aa871\",\"type\":\"ColumnDataSource\"},{\"attributes\":{\"callback\":null,\"data\":{},\"selected\":{\"id\":\"51c3cff2-b4a1-405e-9ddc-475317022912\",\"type\":\"Selection\"},\"selection_policy\":{\"id\":\"9a9f1e4f-22ef-4013-8cac-0d4d591250ce\",\"type\":\"UnionRenderers\"}},\"id\":\"b030bd5b-1b64-4e39-a496-f9345026bcca\",\"type\":\"ColumnDataSource\"},{\"attributes\":{\"callback\":null,\"end\":50,\"start\":1},\"id\":\"9ef62068-7844-43bc-b384-3297926c9848\",\"type\":\"Range1d\"},{\"attributes\":{},\"id\":\"0a4cb09e-e7c7-4538-82cb-8c29de2a116d\",\"type\":\"UnionRenderers\"},{\"attributes\":{\"below\":[{\"id\":\"ee05c7fb-e0b3-461c-bd55-b3dc0a059f65\",\"type\":\"LinearAxis\"}],\"left\":[{\"id\":\"5450d399-0403-4947-be19-4028c139ac7e\",\"type\":\"LinearAxis\"}],\"min_border\":20,\"outline_line_color\":{\"value\":null},\"plot_height\":400,\"plot_width\":800,\"renderers\":[{\"id\":\"ee05c7fb-e0b3-461c-bd55-b3dc0a059f65\",\"type\":\"LinearAxis\"},{\"id\":\"5450d399-0403-4947-be19-4028c139ac7e\",\"type\":\"LinearAxis\"},{\"id\":\"2de3ef90-40f6-4173-93d7-b0463cb63a19\",\"type\":\"GlyphRenderer\"},{\"id\":\"5b7250ea-826c-4197-bb70-cc7959d5ab6a\",\"type\":\"GlyphRenderer\"},{\"id\":\"4b984e69-755a-4d19-b5ed-c42ca1025f56\",\"type\":\"GlyphRenderer\"},{\"id\":\"823f5123-83e1-4c32-bf89-c4438eed52b0\",\"type\":\"GlyphRenderer\"},{\"id\":\"fdc25f1c-4bd7-4382-a3f3-3fdb30549c17\",\"type\":\"GlyphRenderer\"},{\"id\":\"495a09e1-7cf9-4663-a696-3d4660edb7f0\",\"type\":\"GlyphRenderer\"},{\"id\":\"468f6c36-4e64-4227-9953-6500cf924683\",\"type\":\"GlyphRenderer\"},{\"id\":\"6a933d84-b384-40a0-b977-43187b61906a\",\"type\":\"GlyphRenderer\"},{\"id\":\"557f1bbd-114d-4789-9a5c-9dc725bd5607\",\"type\":\"GlyphRenderer\"},{\"id\":\"b2c7d9f1-5f6e-43dd-a6a9-2a08eac39f0f\",\"type\":\"GlyphRenderer\"},{\"id\":\"e1ac78a4-fe29-4f91-b72e-ce639a015aa5\",\"type\":\"GlyphRenderer\"},{\"id\":\"db626231-04a5-42e2-8843-67cb3c62571c\",\"type\":\"GlyphRenderer\"},{\"id\":\"440cc9fb-1d3d-4f0b-bc66-5106bf50d07d\",\"type\":\"GlyphRenderer\"},{\"id\":\"4b929a3a-3f07-498b-86d0-6455494a5928\",\"type\":\"GlyphRenderer\"},{\"id\":\"f632b181-3a4f-45e1-a315-2cda8a1c0c92\",\"type\":\"GlyphRenderer\"},{\"id\":\"4d83daf3-c957-415b-97bb-a3b1925c25be\",\"type\":\"GlyphRenderer\"}],\"sizing_mode\":\"scale_width\",\"title\":{\"id\":\"5598ac9f-7085-4bac-b4b6-2b078990641d\",\"type\":\"Title\"},\"toolbar\":{\"id\":\"cebb65cf-70e8-4553-b918-02d375c8b145\",\"type\":\"Toolbar\"},\"toolbar_location\":null,\"x_range\":{\"id\":\"2d3594d7-3648-4089-a794-b7bcb1470656\",\"type\":\"Range1d\"},\"x_scale\":{\"id\":\"7c0f995d-68e5-4dec-853f-e56d9bd1090d\",\"type\":\"LinearScale\"},\"y_range\":{\"id\":\"9ef62068-7844-43bc-b384-3297926c9848\",\"type\":\"Range1d\"},\"y_scale\":{\"id\":\"3d8a550f-4816-4d3e-a9e0-9c39d57a9cfc\",\"type\":\"LinearScale\"}},\"id\":\"b64bb497-abdf-4eef-b3a7-036c16e3af7b\",\"type\":\"Plot\"},{\"attributes\":{},\"id\":\"c6caef64-8ac7-4bea-95c3-49196cde41c2\",\"type\":\"UnionRenderers\"},{\"attributes\":{},\"id\":\"c9058639-15e9-47de-b41c-7514fa87bd20\",\"type\":\"BasicTickFormatter\"},{\"attributes\":{},\"id\":\"b03eff98-29e5-48f0-be1a-e70b7bc5e182\",\"type\":\"UnionRenderers\"},{\"attributes\":{},\"id\":\"fdeff2d0-90ab-4562-b01a-79c9375b3de8\",\"type\":\"Selection\"},{\"attributes\":{},\"id\":\"9ae434d9-86f6-4429-a57f-7f2542643d73\",\"type\":\"Selection\"},{\"attributes\":{\"callback\":null,\"data\":{},\"selected\":{\"id\":\"18f9fd86-8f97-4caa-88fb-69d80b742b05\",\"type\":\"Selection\"},\"selection_policy\":{\"id\":\"a3cf5863-275e-4a9e-b888-389e2378dde0\",\"type\":\"UnionRenderers\"}},\"id\":\"eec0c1a6-b0dc-4681-8b2d-75fb07bfe52e\",\"type\":\"ColumnDataSource\"},{\"attributes\":{},\"id\":\"387c903e-5be9-4bc2-b60a-4d528ac709f1\",\"type\":\"UnionRenderers\"},{\"attributes\":{},\"id\":\"4c1e227e-fb3c-4d46-864e-c25292a9237d\",\"type\":\"UnionRenderers\"},{\"attributes\":{},\"id\":\"51c3cff2-b4a1-405e-9ddc-475317022912\",\"type\":\"Selection\"},{\"attributes\":{\"callback\":null,\"data\":{},\"selected\":{\"id\":\"1f35d245-cb9e-4b2d-b1a7-cdcfade4db8d\",\"type\":\"Selection\"},\"selection_policy\":{\"id\":\"efafbdd4-7c7d-4935-8809-63c0c5bc7707\",\"type\":\"UnionRenderers\"}},\"id\":\"4c303417-865b-4b4b-8c31-326267927bde\",\"type\":\"ColumnDataSource\"},{\"attributes\":{\"callback\":null,\"data\":{\"engine_size_ss_encoded\":{\"__ndarray__\":\"CCPtWIEwNkDkOI7jOA43QH9Hr4ztdzVA2GEJR/X3NED1pje96U02QAAAAAAA4DRADsgGZAOyNUCWQ4ts5/s1QHTRRRddNDJAaWlpaWlpNkAAAAAAAAA2QPgpLhmCdTVAaC+hvYT2NUBUgjwlyFM3QLW0tLS0tDVAZU1ZU9YUNkC+5Vu+5ds2QErdl8dWhDZAvJyCl1PwNUAq8lk3mCI2QAAAAAAAgDZAG5nqtXWXNUDRRRdddNE3QH1BX9AX9DRAAAAAAABgNUBVVVVVVdU0QH04DaGSbjVAzczMzMwwNkAfhetRuJ41QF/xFV/xlTRA9zTCck8jNkA4rH3D2jc2QAAAAAAAQDVAdw7WLDE+NkCDKfJZN/g1QCd2Yid2ojZAujU/LFIGNkAvp+DlFLw1QJBrIpBrIjVAZmZmZmbmNEAAAAAAAAA4QA==\",\"dtype\":\"float64\",\"shape\":[41]},\"index\":[\"AL\",\"AR\",\"AZ\",\"CA\",\"CO\",\"DE\",\"FL\",\"GA\",\"HI\",\"IA\",\"ID\",\"IL\",\"IN\",\"KS\",\"KY\",\"MD\",\"MI\",\"MN\",\"MO\",\"MS\",\"MT\",\"NC\",\"ND\",\"NE\",\"NM\",\"NV\",\"NY\",\"OH\",\"OK\",\"OR\",\"PA\",\"SC\",\"SD\",\"TN\",\"TX\",\"UT\",\"VA\",\"WA\",\"WI\",\"WV\",\"WY\"],\"miles_fs\":{\"__ndarray__\":\"QNr8xWD9UkBlGpzqBfhRQCHRY6pf/VNA30T4WvQNUkA2GV88bpxSQITAyqFF7ExAbv5KdJVGUUAffGEyVSRTQJGME8k4mUpAdQ+pQtyFU0DDndY5BYZUQMlnBeenX1JAtIFOG+g8VEDs/mY2UbFVQALZUTtiO1NASyYk90UpUkD8gDjk0lxUQILDAPbfSFNAsI4S1CYLVECs77anin9VQPSOU3QkT1BAJ5XFJJBFU0BZ4JUFXnlPQKaDzMZOTlNASeF6FG6LUkAb0jI+9JxQQNIn0zdS0VFAsdhfds/XU0C3BrZKsNxUQHpMY/m2Y1BAXOC/q4CpUkChugTTpzdTQH2GXQFyFFJAmxKYrdm3VEAXvBpNn2BTQBU4/Nct11JACfxQscf2UkBdSqEBHUJRQOHsdMJn+VJAku18PzUuUED6fmq8dD1TQA==\",\"dtype\":\"float64\",\"shape\":[41]},\"price_fs\":{\"__ndarray__\":\"XGsE8ZwgY0CW/GLJL9BjQIJhOb5ek2JA73VYwlH1YkB+HECQRIhkQK5H4XoUomFAxbHTx9iyYkAnUwWjkqJiQKjOlupsOWNACD1wo9ZZZECooNWXCkJjQCQTljo3E2NAArO4E8QhY0BYA9JoU5BkQLY8KHoy2WJABXjYweZFY0DKXrli+CpjQKKe+nRKKWRALvY2sTCXY0CQ7ooSoUJiQIps5/upe2VA9XAHopmSYkAoknEiGW9mQDM9BW4GJ2NAy8zMzIwCY0BLXW5/kN1iQHkzGlv9EmJAaRKDwGqKYkDa+X5qvMhhQNgdTh//JGRAOlGyaxMFY0Dzt1yy/mxjQML1KFyPtWJAUcczeUkyYkCNLCu0uVNiQAq90Au9wmNAFqOGv00xYkCwFDXyMWllQCWQayKQ42JAne+nxksTY0AAAAAAAMRmQA==\",\"dtype\":\"float64\",\"shape\":[41]},\"region_color\":[\"#fc8d59\",\"#fc8d59\",\"#d53e4f\",\"#3288bd\",\"#fee08b\",\"#e6f598\",\"#fc8d59\",\"#fc8d59\",\"#3288bd\",\"#ffffbf\",\"#fee08b\",\"#99d594\",\"#99d594\",\"#ffffbf\",\"#fc8d59\",\"#e6f598\",\"#99d594\",\"#ffffbf\",\"#ffffbf\",\"#fc8d59\",\"#fee08b\",\"#fc8d59\",\"#ffffbf\",\"#ffffbf\",\"#d53e4f\",\"#3288bd\",\"#e6f598\",\"#99d594\",\"#d53e4f\",\"#3288bd\",\"#e6f598\",\"#fc8d59\",\"#ffffbf\",\"#fc8d59\",\"#d53e4f\",\"#fee08b\",\"#fc8d59\",\"#3288bd\",\"#99d594\",\"#fc8d59\",\"#fee08b\"]},\"selected\":{\"id\":\"13e2e778-881c-46ea-87bf-8d2320cca794\",\"type\":\"Selection\"},\"selection_policy\":{\"id\":\"a2fbb9bf-f8de-44b0-9dd0-1441a6db82fe\",\"type\":\"UnionRenderers\"}},\"id\":\"2a01b774-8ccf-42b8-ae99-c7d91c7d5d45\",\"type\":\"ColumnDataSource\"},{\"attributes\":{},\"id\":\"fc822608-bdbc-46eb-bbd1-62f5dee375b4\",\"type\":\"UnionRenderers\"},{\"attributes\":{\"text\":{\"value\":\"Southeast Region\"},\"text_color\":{\"value\":\"#666666\"},\"text_font_size\":{\"value\":\"10pt\"},\"x\":{\"value\":250},\"y\":{\"value\":15}},\"id\":\"01f36349-a227-446a-a79e-65e63c3b9fd8\",\"type\":\"Text\"},{\"attributes\":{},\"id\":\"5a345695-82c2-4bed-9d3a-3ae35d7829a6\",\"type\":\"Selection\"},{\"attributes\":{\"source\":{\"id\":\"a448a963-6436-4aa3-add7-d46850c913b0\",\"type\":\"ColumnDataSource\"}},\"id\":\"370515b1-19c5-49fe-984a-eadc176c623a\",\"type\":\"CDSView\"},{\"attributes\":{},\"id\":\"ab4a68c8-5bad-4167-a4d5-a897110e0fc3\",\"type\":\"Selection\"},{\"attributes\":{\"callback\":null,\"data\":{},\"selected\":{\"id\":\"8a12cbce-9818-4273-82c9-7fe7a556ba41\",\"type\":\"Selection\"},\"selection_policy\":{\"id\":\"6db71310-dfda-4745-84e2-0f71bb3e7d4a\",\"type\":\"UnionRenderers\"}},\"id\":\"b840d88e-41e4-417b-a96d-d2619475e835\",\"type\":\"ColumnDataSource\"},{\"attributes\":{\"data_source\":{\"id\":\"d2bce801-7cb7-4ff2-b354-529aa58aa871\",\"type\":\"ColumnDataSource\"},\"glyph\":{\"id\":\"10cc4227-0e29-4ef7-b179-242e7825c53e\",\"type\":\"Text\"},\"hover_glyph\":null,\"muted_glyph\":null,\"view\":{\"id\":\"b7043e56-330b-4dbb-819f-46ab4d6bcb40\",\"type\":\"CDSView\"}},\"id\":\"fdc25f1c-4bd7-4382-a3f3-3fdb30549c17\",\"type\":\"GlyphRenderer\"},{\"attributes\":{},\"id\":\"b743f36b-8d78-475e-a364-afcd6367fec1\",\"type\":\"Selection\"},{\"attributes\":{\"fill_alpha\":{\"value\":0.8},\"fill_color\":{\"value\":\"#fc8d59\"},\"line_color\":{\"value\":null},\"size\":{\"units\":\"screen\",\"value\":10},\"x\":{\"value\":249.9},\"y\":{\"value\":17}},\"id\":\"350f841d-8789-4b7d-9a56-e41b93c5e5ba\",\"type\":\"Circle\"},{\"attributes\":{},\"id\":\"1bc4989b-034c-42c1-a4ab-ea87f176f73b\",\"type\":\"Selection\"},{\"attributes\":{\"callback\":null,\"data\":{\"engine_size_ss_encoded\":{\"__ndarray__\":\"AAAAAAAANUAAAAAAAIAzQFVVVVVVVTZASOF6FK5HM0CrqqqqqqoyQDmO4ziO4zFAG8prKK+hM0AAAAAAAIAyQAAAAAAAQDNAAAAAAAAANUCrqqqqqqoyQNu2bdu27TJAAAAAAAAANUAAAAAAACA1QKuqqqqqqjJAx3Ecx3EcNUDbtm3btm01QAAAAAAAADVAAAAAAABAM0DNzMzMzEwzQJqZmZmZmTFAAAAAAAAAM0AAAAAAAAA1QAAAAAAAgDFAAAAAAABAMkDi4eHh4eEyQIqd2Imd2DFAt23btm1bMkDbtm3btm0yQAAAAAAAADdAMzMzMzMzMkBJkiRJkqQzQAAAAAAAADNAAAAAAAAAM0B2Yid2YiczQAAAAAAAgDJAAAAAAAAAI0A=\",\"dtype\":\"float64\",\"shape\":[37]},\"index\":[\"AL\",\"AR\",\"AZ\",\"CA\",\"CO\",\"FL\",\"GA\",\"HI\",\"IA\",\"ID\",\"IL\",\"IN\",\"KY\",\"MD\",\"MI\",\"MN\",\"MO\",\"MS\",\"MT\",\"NC\",\"NE\",\"NM\",\"NV\",\"NY\",\"OH\",\"OK\",\"OR\",\"PA\",\"SC\",\"SD\",\"TN\",\"TX\",\"UT\",\"VA\",\"WA\",\"WI\",\"WV\"],\"miles_fs\":{\"__ndarray__\":\"j8L1KFxBcUAtsp3vpyxrQOIz7AqQ+WJAg2kYPiIyYkAFVg4tsuNjQKAaL90kXmBAyFIAm44nZUAqhxbZzrtXQI/C9ShcwmNAiIiIiIi8YkDX6pjgwUBmQMlqeWMEQWRAObTIdr7VY0BmZmZmZrBcQG1Zq2OCc2ZALkoy52hnaEBu27Zt23ZlQF66SQwC22ZAd76fGi+bY0CQEqjrdiVjQL99HThntGJAAAAAAACgVUAAAAAAAMBjQHSTGARWFl5A001iENgUY0CM8Ve+JHljQLpgKiueyGRAhWUvmhMtYkAvY0ckjDNoQCD0bFZ9GmpA7J48LNQqY0DaBcSm0lhjQP0boYzeGmhAEzyYJ+pzZEBG5C9Qu7NpQKuqqqqqaGJAYOXQItttX0A=\",\"dtype\":\"float64\",\"shape\":[37]},\"price_fs\":{\"__ndarray__\":\"MzMzMzPzPUCamZmZmflIQFK4HoXrAUNA3GgAb4GkSkCF61G4HlVJQEVlh6nLjUZA+II3m6DiQ0CF61G4HjVFQKNwPQrXG01A0WkDnTbQTUDe3d3d3T1AQJ9dQGwqjUZAFK5H4XqkTkA9CtejcPFLQCW/WPKLpUJAW9FIwDdvOUCZmZmZmXlFQAAAAAAAgEFAhetRuB4tSECEeaL+jVBJQGM730+NN0dAAAAAAAAQckA9CtejcP0zQFK4HoXryVdAwFjyiyUjSkDs6urq6jpKQKEXeqEXmkpAQLuA2FSaSEA9WS1vjIBCQBWuR+F6FD1Abef7qfHyQEAnq+WNEUxPQOxRuB6FCzdAaQOdNtCJPEDnEsgaRntDQKcNdNpAN0RAXI/C9Sg8QEA=\",\"dtype\":\"float64\",\"shape\":[37]},\"region_color\":[\"#fc8d59\",\"#fc8d59\",\"#d53e4f\",\"#3288bd\",\"#fee08b\",\"#fc8d59\",\"#fc8d59\",\"#3288bd\",\"#ffffbf\",\"#fee08b\",\"#99d594\",\"#99d594\",\"#fc8d59\",\"#e6f598\",\"#99d594\",\"#ffffbf\",\"#ffffbf\",\"#fc8d59\",\"#fee08b\",\"#fc8d59\",\"#ffffbf\",\"#d53e4f\",\"#3288bd\",\"#e6f598\",\"#99d594\",\"#d53e4f\",\"#3288bd\",\"#e6f598\",\"#fc8d59\",\"#ffffbf\",\"#fc8d59\",\"#d53e4f\",\"#fee08b\",\"#fc8d59\",\"#3288bd\",\"#99d594\",\"#fc8d59\"]},\"selected\":{\"id\":\"e5966efb-9126-49d5-9696-83ee739f8ee1\",\"type\":\"Selection\"},\"selection_policy\":{\"id\":\"d4bd76af-67ff-458f-913b-4429f6d63d89\",\"type\":\"UnionRenderers\"}},\"id\":\"70c5687a-35e5-42d5-9463-eb40ec734492\",\"type\":\"ColumnDataSource\"},{\"attributes\":{},\"id\":\"0568263b-7308-4bdb-8266-8f470feb9974\",\"type\":\"Selection\"},{\"attributes\":{\"source\":{\"id\":\"198ac148-bb19-4982-b76a-dbe0c8f5ebff\",\"type\":\"ColumnDataSource\"}},\"id\":\"01d7bae0-ab35-4d3f-ac38-c84d6d244237\",\"type\":\"CDSView\"},{\"attributes\":{},\"id\":\"8beca1e5-9ec3-4104-b8cc-c5bbefa89965\",\"type\":\"BasicTickFormatter\"},{\"attributes\":{},\"id\":\"d74a922a-cfd6-483a-ac7a-13e7da00ea20\",\"type\":\"UnionRenderers\"},{\"attributes\":{},\"id\":\"6db71310-dfda-4745-84e2-0f71bb3e7d4a\",\"type\":\"UnionRenderers\"},{\"attributes\":{},\"id\":\"a20091ea-a753-4e98-82ad-682c3045550e\",\"type\":\"Selection\"},{\"attributes\":{\"data_source\":{\"id\":\"b030bd5b-1b64-4e39-a496-f9345026bcca\",\"type\":\"ColumnDataSource\"},\"glyph\":{\"id\":\"0a44dad7-846b-4003-bfe8-610a9ea29d47\",\"type\":\"Circle\"},\"hover_glyph\":null,\"muted_glyph\":null,\"view\":{\"id\":\"95b35a67-c87a-4159-92f0-9e8d16615333\",\"type\":\"CDSView\"}},\"id\":\"db626231-04a5-42e2-8843-67cb3c62571c\",\"type\":\"GlyphRenderer\"},{\"attributes\":{},\"id\":\"3336fccc-2ec8-4510-8361-beaced6271a3\",\"type\":\"UnionRenderers\"},{\"attributes\":{\"text\":{\"value\":\"Rocky Mountain Region\"},\"text_color\":{\"value\":\"#666666\"},\"text_font_size\":{\"value\":\"10pt\"},\"x\":{\"value\":250},\"y\":{\"value\":20}},\"id\":\"1301560b-2efb-4865-9ba4-65c27f5bc08a\",\"type\":\"Text\"},{\"attributes\":{},\"id\":\"b61f0208-e342-4d9f-ae33-ad24df00496e\",\"type\":\"UnionRenderers\"},{\"attributes\":{\"indices\":[],\"line_indices\":[]},\"id\":\"ccf1a587-5187-4e6b-870a-85d644907f0c\",\"type\":\"Selection\"},{\"attributes\":{\"data_source\":{\"id\":\"b840d88e-41e4-417b-a96d-d2619475e835\",\"type\":\"ColumnDataSource\"},\"glyph\":{\"id\":\"01f36349-a227-446a-a79e-65e63c3b9fd8\",\"type\":\"Text\"},\"hover_glyph\":null,\"muted_glyph\":null,\"view\":{\"id\":\"913baaaf-f0dc-47f4-822f-649a8e68c620\",\"type\":\"CDSView\"}},\"id\":\"440cc9fb-1d3d-4f0b-bc66-5106bf50d07d\",\"type\":\"GlyphRenderer\"},{\"attributes\":{\"data_source\":{\"id\":\"60f5a7b7-ac1d-49ff-bce2-3d695eade535\",\"type\":\"ColumnDataSource\"},\"glyph\":{\"id\":\"2753a413-c094-4ed0-ae81-00c55f51460e\",\"type\":\"Circle\"},\"hover_glyph\":null,\"muted_glyph\":null,\"view\":{\"id\":\"8cb9f328-06b6-4df1-a0c7-df61983b69b8\",\"type\":\"CDSView\"}},\"id\":\"4d83daf3-c957-415b-97bb-a3b1925c25be\",\"type\":\"GlyphRenderer\"},{\"attributes\":{\"callback\":null,\"data\":{\"engine_size_ss_encoded\":{\"__ndarray__\":\"7+7u7u7uNUAzMzMzM7M2QGGkHSsQRjZAAcXnTC2XNUAcx3Ecx/E1QAAAAAAAADlALk/T4yUuNkAzfCMKTDo2QIuv+IqveDNAruxzSE0wNkBJkiRJkmQ3QD4DUenInjZAsfYNa9+wNkC9hvIayms2QAAAAAAAwDZAiB7fhYPoNUBJkiRJkqQ2QCrbuw7oxjZA7UrUrkRtNkCrqqqqqio2QJ7YiZ3YCTdA5OfRGFVINkAXXXTRRRc3QCEmVxCTKzZAVVVVVVVVNkDI4HwMzsc1QNl8N/yoLjZAfO+99977NUAzMzMzM7M2QMomm2yySTVAWuiOXQ1LNkAmtJfQXkI2QKuqqqqqqjZAddf+dNf+NUDBt/krzGo2QA9Uzm7hVzZAKCgoKCgoNkAJyz2NsFw1QLjaGJruYDZArkfhehSuNkCrqqqqqqo4QA==\",\"dtype\":\"float64\",\"shape\":[41]},\"index\":[\"AL\",\"AR\",\"AZ\",\"CA\",\"CO\",\"DE\",\"FL\",\"GA\",\"HI\",\"IA\",\"ID\",\"IL\",\"IN\",\"KS\",\"KY\",\"MD\",\"MI\",\"MN\",\"MO\",\"MS\",\"MT\",\"NC\",\"ND\",\"NE\",\"NM\",\"NV\",\"NY\",\"OH\",\"OK\",\"OR\",\"PA\",\"SC\",\"SD\",\"TN\",\"TX\",\"UT\",\"VA\",\"WA\",\"WI\",\"WV\",\"WY\"],\"miles_fs\":{\"__ndarray__\":\"s9sAxDPaUUADVg4tsrdOQFkFWM86wFBAcIcIFHF5TUCoDXTaQIdNQP7UeOkm51NAXh+otkKrTEC69PV5bBVOQNXnaiv2f0dAFvkStfJ3T0D4R55phahLQJsR47OnmVBAGFCbr/w6UUDjIuFuKtdPQEjtv1DEu09APxLdWvwRT0CYavtuDp5QQNkCobBU9E5AjNeheB1aTkB0JYBedyhTQCxWJUvbyExAkuazLeiaTkC5ZP2xPIJQQF0YKxEyeVBAZvMG0AjSUEAXpWtRumZHQM47amJ7Nk1A/beGlBnITkBH4XoUrg9RQM0c8P80AktAJfMxa/vYTEBxd/00UT1RQKtjggfzVFBAw+Ong9nAUEB5Sja5TTpPQC80U5IbFlBAVLkfhuzKTUAK8BEyw4xLQOtpkEPug0tAILByaJGFUUDZFSD3mktXQA==\",\"dtype\":\"float64\",\"shape\":[41]},\"price_fs\":{\"__ndarray__\":\"a8zQ4+BmZECC61G4HrhlQFQnVcawCGVAAu8IxDzGZECaMS6RWvZkQIbrUbge/WdAzbRRxZMVZUCEjyYteFxlQFYOLbKdN2VA+hxSE4xvZkApXI/C9RJqQDYXG0mUaGVA1tlSnS0pZkB2yolxCCFmQArXo3A9DmZADZmnaC6iZEAvgon+TlplQDQZ7iBbuWVAWZamZWl+ZkDgehSuR6FkQIIf+IEf1GhAskaD7O6pZUBEF1100UVmQN/eJx83fWVAXHTRRRc9ZUD+APwPwL9lQPdqaC74OGVAvtETHD21ZEAuCKwcWhNlQF1Q5QVVrmVAG78JI+ySZUCANHQ8jdZkQNijcD0KzWZAi7er7h2iZEBdMHp1lstkQAwDRCkWJWRAXFtbW1s3ZUCRY06an6BnQFwo9mzI6GZA2s73U+OVZUCQwvUoXENqQA==\",\"dtype\":\"float64\",\"shape\":[41]},\"region_color\":[\"#fc8d59\",\"#fc8d59\",\"#d53e4f\",\"#3288bd\",\"#fee08b\",\"#e6f598\",\"#fc8d59\",\"#fc8d59\",\"#3288bd\",\"#ffffbf\",\"#fee08b\",\"#99d594\",\"#99d594\",\"#ffffbf\",\"#fc8d59\",\"#e6f598\",\"#99d594\",\"#ffffbf\",\"#ffffbf\",\"#fc8d59\",\"#fee08b\",\"#fc8d59\",\"#ffffbf\",\"#ffffbf\",\"#d53e4f\",\"#3288bd\",\"#e6f598\",\"#99d594\",\"#d53e4f\",\"#3288bd\",\"#e6f598\",\"#fc8d59\",\"#ffffbf\",\"#fc8d59\",\"#d53e4f\",\"#fee08b\",\"#fc8d59\",\"#3288bd\",\"#99d594\",\"#fc8d59\",\"#fee08b\"]},\"selected\":{\"id\":\"6395e31e-650a-4aeb-88a2-0ebfcc052465\",\"type\":\"Selection\"},\"selection_policy\":{\"id\":\"08772a8d-9d84-4b61-802c-8c61dee3c2c4\",\"type\":\"UnionRenderers\"}},\"id\":\"6e892bb7-7187-49fe-bd99-413999ea5e49\",\"type\":\"ColumnDataSource\"},{\"attributes\":{},\"id\":\"2e10fd39-e26b-4eaa-8bd1-e785472102fe\",\"type\":\"UnionRenderers\"},{\"attributes\":{},\"id\":\"21b0a677-b64f-4c1b-be2c-acfbdbc50045\",\"type\":\"UnionRenderers\"},{\"attributes\":{\"data_source\":{\"id\":\"198ac148-bb19-4982-b76a-dbe0c8f5ebff\",\"type\":\"ColumnDataSource\"},\"glyph\":{\"id\":\"9b027aa2-12bb-4c9d-8846-c96c5024b546\",\"type\":\"Text\"},\"hover_glyph\":null,\"muted_glyph\":null,\"view\":{\"id\":\"01d7bae0-ab35-4d3f-ac38-c84d6d244237\",\"type\":\"CDSView\"}},\"id\":\"4b984e69-755a-4d19-b5ed-c42ca1025f56\",\"type\":\"GlyphRenderer\"},{\"attributes\":{\"callback\":null,\"data\":{},\"selected\":{\"id\":\"8223342f-e2d2-43ae-9d69-5d9c336dffba\",\"type\":\"Selection\"},\"selection_policy\":{\"id\":\"d4d3d5b0-7a3c-40d4-9630-4f9c3a20e610\",\"type\":\"UnionRenderers\"}},\"id\":\"cc4a3614-21f7-4763-9858-1e96c1546ba4\",\"type\":\"ColumnDataSource\"},{\"attributes\":{\"source\":{\"id\":\"b840d88e-41e4-417b-a96d-d2619475e835\",\"type\":\"ColumnDataSource\"}},\"id\":\"913baaaf-f0dc-47f4-822f-649a8e68c620\",\"type\":\"CDSView\"},{\"attributes\":{\"source\":{\"id\":\"fac9acc0-95f9-4865-b57b-6a0e786e8152\",\"type\":\"ColumnDataSource\"}},\"id\":\"47a6e63e-daac-4990-99d3-9c0dae3d5947\",\"type\":\"CDSView\"},{\"attributes\":{\"source\":{\"id\":\"cc4a3614-21f7-4763-9858-1e96c1546ba4\",\"type\":\"ColumnDataSource\"}},\"id\":\"9afb8ec1-aa8e-40a3-a99c-b8b7e60f5243\",\"type\":\"CDSView\"},{\"attributes\":{},\"id\":\"d4d3d5b0-7a3c-40d4-9630-4f9c3a20e610\",\"type\":\"UnionRenderers\"},{\"attributes\":{},\"id\":\"6189d8d4-c343-4ff6-895d-28880fe2a0b9\",\"type\":\"Selection\"},{\"attributes\":{\"source\":{\"id\":\"b030bd5b-1b64-4e39-a496-f9345026bcca\",\"type\":\"ColumnDataSource\"}},\"id\":\"95b35a67-c87a-4159-92f0-9e8d16615333\",\"type\":\"CDSView\"},{\"attributes\":{\"args\":{\"_2000\":{\"id\":\"4310b64f-6f55-476e-9883-edd2091548e3\",\"type\":\"ColumnDataSource\"},\"_2001\":{\"id\":\"70c5687a-35e5-42d5-9463-eb40ec734492\",\"type\":\"ColumnDataSource\"},\"_2002\":{\"id\":\"c1c57c2a-2f40-4205-8334-f3976ccb4df7\",\"type\":\"ColumnDataSource\"},\"_2003\":{\"id\":\"f43511c0-0f68-4cae-8863-3056a3cc0915\",\"type\":\"ColumnDataSource\"},\"_2004\":{\"id\":\"e89993f2-dee6-4106-9887-647eeec2d0a7\",\"type\":\"ColumnDataSource\"},\"_2005\":{\"id\":\"4dd7a857-6c5b-4899-8305-876f2111bc0e\",\"type\":\"ColumnDataSource\"},\"_2006\":{\"id\":\"894f1cc2-23eb-40fa-8844-6a99859a21c2\",\"type\":\"ColumnDataSource\"},\"_2007\":{\"id\":\"bae9da19-41ec-4c51-b75f-0f76f39587ff\",\"type\":\"ColumnDataSource\"},\"_2008\":{\"id\":\"578fec81-a450-4b03-83d7-1fbca12d50c2\",\"type\":\"ColumnDataSource\"},\"_2009\":{\"id\":\"ad1951dc-f78d-4819-8b89-e95dc8768cda\",\"type\":\"ColumnDataSource\"},\"_2010\":{\"id\":\"37003067-f0e7-4514-bf5b-a8adccf6322a\",\"type\":\"ColumnDataSource\"},\"_2011\":{\"id\":\"e42b6304-7b4f-41e6-8d3a-d9d7b5cd0ae8\",\"type\":\"ColumnDataSource\"},\"_2012\":{\"id\":\"ea6afb3e-1fc2-4391-a5d3-e6a865626893\",\"type\":\"ColumnDataSource\"},\"_2013\":{\"id\":\"2a01b774-8ccf-42b8-ae99-c7d91c7d5d45\",\"type\":\"ColumnDataSource\"},\"_2014\":{\"id\":\"6e892bb7-7187-49fe-bd99-413999ea5e49\",\"type\":\"ColumnDataSource\"},\"_2015\":{\"id\":\"c967c845-389b-43bc-a2bc-3a8f5df3083d\",\"type\":\"ColumnDataSource\"},\"_2016\":{\"id\":\"ed8ba7a3-c719-4886-af41-10d340411577\",\"type\":\"ColumnDataSource\"},\"_2017\":{\"id\":\"0971a5c3-5f47-44b3-b57f-4a0c0c3106fd\",\"type\":\"ColumnDataSource\"},\"_2018\":{\"id\":\"479bd025-f705-40be-bb59-942756616901\",\"type\":\"ColumnDataSource\"},\"renderer_source\":{\"id\":\"a6dfa728-827e-4349-813e-2e79adcad7f2\",\"type\":\"ColumnDataSource\"},\"slider\":{\"id\":\"ccd3dd66-477d-466e-bd2a-f1e0c990f40d\",\"type\":\"Slider\"},\"text_source\":{\"id\":\"b6204c95-878f-43ce-9c3c-b3161ec00bdb\",\"type\":\"ColumnDataSource\"}},\"code\":\"\\n    var year = slider.value,\\n        sources = {2000: _2000, 2001: _2001, 2002: _2002, 2003: _2003, 2004: _2004, 2005: _2005, 2006: _2006, 2007: _2007, 2008: _2008, 2009: _2009, 2010: _2010, 2011: _2011, 2012: _2012, 2013: _2013, 2014: _2014, 2015: _2015, 2016: _2016, 2017: _2017, 2018: _2018},\\n        new_source_data = sources[year].data;\\n    renderer_source.data = new_source_data;\\n    text_source.data = {'year': [String(year)]};\\n\"},\"id\":\"12c71eed-d86b-47a6-838d-11a5104a63f6\",\"type\":\"CustomJS\"},{\"attributes\":{},\"id\":\"a8d01102-4cf8-461a-b532-33e4207bed6a\",\"type\":\"Selection\"},{\"attributes\":{},\"id\":\"d658e179-d54d-4d3d-90d5-12aec76346fd\",\"type\":\"UnionRenderers\"},{\"attributes\":{},\"id\":\"ea857413-b3ce-4547-bdf1-c91eab66c70a\",\"type\":\"UnionRenderers\"},{\"attributes\":{\"source\":{\"id\":\"d2bce801-7cb7-4ff2-b354-529aa58aa871\",\"type\":\"ColumnDataSource\"}},\"id\":\"b7043e56-330b-4dbb-819f-46ab4d6bcb40\",\"type\":\"CDSView\"},{\"attributes\":{},\"id\":\"a2fbb9bf-f8de-44b0-9dd0-1441a6db82fe\",\"type\":\"UnionRenderers\"},{\"attributes\":{},\"id\":\"7c0f995d-68e5-4dec-853f-e56d9bd1090d\",\"type\":\"LinearScale\"},{\"attributes\":{\"fill_alpha\":{\"value\":0.8},\"fill_color\":{\"value\":\"#99d594\"},\"line_color\":{\"value\":null},\"size\":{\"units\":\"screen\",\"value\":10},\"x\":{\"value\":249.9},\"y\":{\"value\":37}},\"id\":\"c524ce4a-7501-419f-bb13-01df6621dcf6\",\"type\":\"Circle\"},{\"attributes\":{},\"id\":\"d4bd76af-67ff-458f-913b-4429f6d63d89\",\"type\":\"UnionRenderers\"},{\"attributes\":{},\"id\":\"a3cf5863-275e-4a9e-b888-389e2378dde0\",\"type\":\"UnionRenderers\"},{\"attributes\":{\"callback\":null,\"data\":{},\"selected\":{\"id\":\"fa7e952a-d4fb-48f9-be94-ed8085df2911\",\"type\":\"Selection\"},\"selection_policy\":{\"id\":\"387c903e-5be9-4bc2-b60a-4d528ac709f1\",\"type\":\"UnionRenderers\"}},\"id\":\"fac9acc0-95f9-4865-b57b-6a0e786e8152\",\"type\":\"ColumnDataSource\"},{\"attributes\":{},\"id\":\"86d9cf4e-2721-4f10-bea6-ff4d98086afa\",\"type\":\"Selection\"},{\"attributes\":{},\"id\":\"fa7e952a-d4fb-48f9-be94-ed8085df2911\",\"type\":\"Selection\"},{\"attributes\":{},\"id\":\"1f35d245-cb9e-4b2d-b1a7-cdcfade4db8d\",\"type\":\"Selection\"},{\"attributes\":{},\"id\":\"35567eeb-0633-45bf-add4-6a34eafec506\",\"type\":\"UnionRenderers\"},{\"attributes\":{},\"id\":\"9a9f1e4f-22ef-4013-8cac-0d4d591250ce\",\"type\":\"UnionRenderers\"},{\"attributes\":{\"plot\":null,\"text\":\"\"},\"id\":\"5598ac9f-7085-4bac-b4b6-2b078990641d\",\"type\":\"Title\"},{\"attributes\":{\"callback\":null,\"data\":{},\"selected\":{\"id\":\"9ae434d9-86f6-4429-a57f-7f2542643d73\",\"type\":\"Selection\"},\"selection_policy\":{\"id\":\"d658e179-d54d-4d3d-90d5-12aec76346fd\",\"type\":\"UnionRenderers\"}},\"id\":\"a448a963-6436-4aa3-add7-d46850c913b0\",\"type\":\"ColumnDataSource\"},{\"attributes\":{},\"id\":\"0279c7eb-ac35-43c8-93e1-d8e53a6ac071\",\"type\":\"Selection\"},{\"attributes\":{},\"id\":\"3d8a550f-4816-4d3e-a9e0-9c39d57a9cfc\",\"type\":\"LinearScale\"},{\"attributes\":{},\"id\":\"d9d99f25-1e70-4eeb-b9b9-4a3a6b627749\",\"type\":\"UnionRenderers\"},{\"attributes\":{\"source\":{\"id\":\"4c303417-865b-4b4b-8c31-326267927bde\",\"type\":\"ColumnDataSource\"}},\"id\":\"a1baa2fd-d3de-4feb-b4f2-0b59e0290eb4\",\"type\":\"CDSView\"},{\"attributes\":{\"data_source\":{\"id\":\"4c303417-865b-4b4b-8c31-326267927bde\",\"type\":\"ColumnDataSource\"},\"glyph\":{\"id\":\"350f841d-8789-4b7d-9a56-e41b93c5e5ba\",\"type\":\"Circle\"},\"hover_glyph\":null,\"muted_glyph\":null,\"view\":{\"id\":\"a1baa2fd-d3de-4feb-b4f2-0b59e0290eb4\",\"type\":\"CDSView\"}},\"id\":\"4b929a3a-3f07-498b-86d0-6455494a5928\",\"type\":\"GlyphRenderer\"},{\"attributes\":{\"text\":{\"value\":\"Great Lakes Region\"},\"text_color\":{\"value\":\"#666666\"},\"text_font_size\":{\"value\":\"10pt\"},\"x\":{\"value\":250},\"y\":{\"value\":35}},\"id\":\"10cc4227-0e29-4ef7-b179-242e7825c53e\",\"type\":\"Text\"},{\"attributes\":{\"callback\":null,\"end\":300,\"start\":1},\"id\":\"2d3594d7-3648-4089-a794-b7bcb1470656\",\"type\":\"Range1d\"},{\"attributes\":{\"data_source\":{\"id\":\"fac9acc0-95f9-4865-b57b-6a0e786e8152\",\"type\":\"ColumnDataSource\"},\"glyph\":{\"id\":\"9250c5af-d26c-47a9-ab6b-3a09b9fbb01b\",\"type\":\"Circle\"},\"hover_glyph\":null,\"muted_glyph\":null,\"view\":{\"id\":\"47a6e63e-daac-4990-99d3-9c0dae3d5947\",\"type\":\"CDSView\"}},\"id\":\"823f5123-83e1-4c32-bf89-c4438eed52b0\",\"type\":\"GlyphRenderer\"},{\"attributes\":{},\"id\":\"08772a8d-9d84-4b61-802c-8c61dee3c2c4\",\"type\":\"UnionRenderers\"},{\"attributes\":{},\"id\":\"702317d6-8d4a-4b01-b986-b1b84346c1a2\",\"type\":\"Selection\"},{\"attributes\":{\"source\":{\"id\":\"19dd40d6-33b8-45a5-b795-468638dac056\",\"type\":\"ColumnDataSource\"}},\"id\":\"9587e1d3-ae47-4dd6-9fbb-baa83b337fad\",\"type\":\"CDSView\"},{\"attributes\":{\"text\":{\"value\":\"Far West Region\"},\"text_color\":{\"value\":\"#666666\"},\"text_font_size\":{\"value\":\"10pt\"},\"x\":{\"value\":250},\"y\":{\"value\":40}},\"id\":\"9b027aa2-12bb-4c9d-8846-c96c5024b546\",\"type\":\"Text\"}],\"root_ids\":[\"f7084783-5d08-4d74-93b1-031f3f8ef27f\"]},\"title\":\"Bokeh Application\",\"version\":\"0.13.0\"}};\n",
       "  var render_items = [{\"docid\":\"3b1351bc-9ae5-473a-bff0-ad8d923e61f9\",\"roots\":{\"f7084783-5d08-4d74-93b1-031f3f8ef27f\":\"0d8e7aff-0c76-413f-b5a3-c2d844355ba8\"}}];\n",
       "  root.Bokeh.embed.embed_items_notebook(docs_json, render_items);\n",
       "\n",
       "  }\n",
       "  if (root.Bokeh !== undefined) {\n",
       "    embed_document(root);\n",
       "  } else {\n",
       "    var attempts = 0;\n",
       "    var timer = setInterval(function(root) {\n",
       "      if (root.Bokeh !== undefined) {\n",
       "        embed_document(root);\n",
       "        clearInterval(timer);\n",
       "      }\n",
       "      attempts++;\n",
       "      if (attempts > 100) {\n",
       "        console.log(\"Bokeh: ERROR: Unable to run BokehJS code because BokehJS library is missing\")\n",
       "        clearInterval(timer);\n",
       "      }\n",
       "    }, 10, root)\n",
       "  }\n",
       "})(window);"
      ],
      "application/vnd.bokehjs_exec.v0+json": ""
     },
     "metadata": {
      "application/vnd.bokehjs_exec.v0+json": {
       "id": "f7084783-5d08-4d74-93b1-031f3f8ef27f"
      }
     },
     "output_type": "display_data"
    }
   ],
   "source": [
    "show(layout([[plot], [slider]], sizing_mode='scale_width'))"
   ]
  },
  {
   "cell_type": "code",
   "execution_count": null,
   "metadata": {},
   "outputs": [],
   "source": []
  }
 ],
 "metadata": {
  "kernelspec": {
   "display_name": "Python 3",
   "language": "python",
   "name": "python3"
  },
  "language_info": {
   "codemirror_mode": {
    "name": "ipython",
    "version": 3
   },
   "file_extension": ".py",
   "mimetype": "text/x-python",
   "name": "python",
   "nbconvert_exporter": "python",
   "pygments_lexer": "ipython3",
   "version": "3.7.0"
  }
 },
 "nbformat": 4,
 "nbformat_minor": 1
}
